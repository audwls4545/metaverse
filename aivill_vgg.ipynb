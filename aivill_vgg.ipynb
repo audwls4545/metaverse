{
  "nbformat": 4,
  "nbformat_minor": 0,
  "metadata": {
    "colab": {
      "provenance": [],
      "gpuType": "T4",
      "authorship_tag": "ABX9TyPfI3SohPr0EcwSipLufzUz",
      "include_colab_link": true
    },
    "kernelspec": {
      "name": "python3",
      "display_name": "Python 3"
    },
    "language_info": {
      "name": "python"
    },
    "accelerator": "GPU"
  },
  "cells": [
    {
      "cell_type": "markdown",
      "metadata": {
        "id": "view-in-github",
        "colab_type": "text"
      },
      "source": [
        "<a href=\"https://colab.research.google.com/github/audwls4545/metaverse/blob/main/aivill_vgg.ipynb\" target=\"_parent\"><img src=\"https://colab.research.google.com/assets/colab-badge.svg\" alt=\"Open In Colab\"/></a>"
      ]
    },
    {
      "cell_type": "code",
      "execution_count": 2,
      "metadata": {
        "colab": {
          "base_uri": "https://localhost:8080/"
        },
        "id": "9yWoC6vnX_qZ",
        "outputId": "3f25b653-c01b-4d22-962b-3e9ef97fa08a"
      },
      "outputs": [
        {
          "output_type": "stream",
          "name": "stdout",
          "text": [
            "Mounted at /content/drive\n"
          ]
        }
      ],
      "source": [
        "# 모듈설치\n",
        "from google.colab import drive\n",
        "drive.mount('/content/drive')\n"
      ]
    },
    {
      "cell_type": "code",
      "source": [
        "from keras.applications.vgg16 import VGG16\n",
        "model = VGG16(weights='imagenet')\n",
        "model.summary()"
      ],
      "metadata": {
        "colab": {
          "base_uri": "https://localhost:8080/"
        },
        "id": "SpbAxxTcYFJK",
        "outputId": "4180dad2-2861-474c-b95b-812fded78b2b"
      },
      "execution_count": 3,
      "outputs": [
        {
          "output_type": "stream",
          "name": "stdout",
          "text": [
            "Downloading data from https://storage.googleapis.com/tensorflow/keras-applications/vgg16/vgg16_weights_tf_dim_ordering_tf_kernels.h5\n",
            "553467096/553467096 [==============================] - 6s 0us/step\n",
            "Model: \"vgg16\"\n",
            "_________________________________________________________________\n",
            " Layer (type)                Output Shape              Param #   \n",
            "=================================================================\n",
            " input_1 (InputLayer)        [(None, 224, 224, 3)]     0         \n",
            "                                                                 \n",
            " block1_conv1 (Conv2D)       (None, 224, 224, 64)      1792      \n",
            "                                                                 \n",
            " block1_conv2 (Conv2D)       (None, 224, 224, 64)      36928     \n",
            "                                                                 \n",
            " block1_pool (MaxPooling2D)  (None, 112, 112, 64)      0         \n",
            "                                                                 \n",
            " block2_conv1 (Conv2D)       (None, 112, 112, 128)     73856     \n",
            "                                                                 \n",
            " block2_conv2 (Conv2D)       (None, 112, 112, 128)     147584    \n",
            "                                                                 \n",
            " block2_pool (MaxPooling2D)  (None, 56, 56, 128)       0         \n",
            "                                                                 \n",
            " block3_conv1 (Conv2D)       (None, 56, 56, 256)       295168    \n",
            "                                                                 \n",
            " block3_conv2 (Conv2D)       (None, 56, 56, 256)       590080    \n",
            "                                                                 \n",
            " block3_conv3 (Conv2D)       (None, 56, 56, 256)       590080    \n",
            "                                                                 \n",
            " block3_pool (MaxPooling2D)  (None, 28, 28, 256)       0         \n",
            "                                                                 \n",
            " block4_conv1 (Conv2D)       (None, 28, 28, 512)       1180160   \n",
            "                                                                 \n",
            " block4_conv2 (Conv2D)       (None, 28, 28, 512)       2359808   \n",
            "                                                                 \n",
            " block4_conv3 (Conv2D)       (None, 28, 28, 512)       2359808   \n",
            "                                                                 \n",
            " block4_pool (MaxPooling2D)  (None, 14, 14, 512)       0         \n",
            "                                                                 \n",
            " block5_conv1 (Conv2D)       (None, 14, 14, 512)       2359808   \n",
            "                                                                 \n",
            " block5_conv2 (Conv2D)       (None, 14, 14, 512)       2359808   \n",
            "                                                                 \n",
            " block5_conv3 (Conv2D)       (None, 14, 14, 512)       2359808   \n",
            "                                                                 \n",
            " block5_pool (MaxPooling2D)  (None, 7, 7, 512)         0         \n",
            "                                                                 \n",
            " flatten (Flatten)           (None, 25088)             0         \n",
            "                                                                 \n",
            " fc1 (Dense)                 (None, 4096)              102764544 \n",
            "                                                                 \n",
            " fc2 (Dense)                 (None, 4096)              16781312  \n",
            "                                                                 \n",
            " predictions (Dense)         (None, 1000)              4097000   \n",
            "                                                                 \n",
            "=================================================================\n",
            "Total params: 138,357,544\n",
            "Trainable params: 138,357,544\n",
            "Non-trainable params: 0\n",
            "_________________________________________________________________\n"
          ]
        }
      ]
    },
    {
      "cell_type": "code",
      "source": [
        "# from keras.preprocessingimport image # 예전버전\n",
        "import keras.utils as image\n",
        "from keras.applications.vgg16 import preprocess_input, decode_predictions\n",
        "import numpy as np"
      ],
      "metadata": {
        "id": "K6RhXOV1YMlT"
      },
      "execution_count": 5,
      "outputs": []
    },
    {
      "cell_type": "code",
      "source": [
        "# The local path to our target image\n",
        "# img_path= '/content/creative_commons_elephant.jpg' #코랩에업로드한경우\n",
        "img_path= '/content/drive/MyDrive/aivill/creative_commons_elephant.jpg' #구글드라이브에업로드한경우"
      ],
      "metadata": {
        "id": "Koa7L5jlYWH2"
      },
      "execution_count": 6,
      "outputs": []
    },
    {
      "cell_type": "code",
      "source": [
        "# `img` is a PIL image of size 224x224\n",
        "img= image.load_img(img_path, target_size=(224, 224))\n",
        "# `x` is a float32 Numpyarray of shape (224, 224, 3)\n",
        "x = image.img_to_array(img)\n",
        "# We add a dimension to transform our array into a \"batch\"\n",
        "# of size (1, 224, 224, 3)\n",
        "x = np.expand_dims(x, axis=0)\n",
        "# Finally we preprocess the batch\n",
        "# (this does channel-wise color normalization)\n",
        "x = preprocess_input(x)"
      ],
      "metadata": {
        "id": "gBk6W9N0ZEfE"
      },
      "execution_count": 7,
      "outputs": []
    },
    {
      "cell_type": "code",
      "source": [
        "preds= model.predict(x)\n",
        "print('Predicted:', decode_predictions(preds, top=3)[0])\n",
        "np.argmax(preds[0])"
      ],
      "metadata": {
        "colab": {
          "base_uri": "https://localhost:8080/"
        },
        "id": "8Fuu4Z9DZHt3",
        "outputId": "d5cfeaa9-6b30-425e-e712-aa8652c23148"
      },
      "execution_count": 8,
      "outputs": [
        {
          "output_type": "stream",
          "name": "stdout",
          "text": [
            "1/1 [==============================] - 8s 8s/step\n",
            "Downloading data from https://storage.googleapis.com/download.tensorflow.org/data/imagenet_class_index.json\n",
            "35363/35363 [==============================] - 0s 0us/step\n",
            "Predicted: [('n02504458', 'African_elephant', 0.8220685), ('n01871265', 'tusker', 0.15688314), ('n02504013', 'Indian_elephant', 0.01920006)]\n"
          ]
        },
        {
          "output_type": "execute_result",
          "data": {
            "text/plain": [
              "386"
            ]
          },
          "metadata": {},
          "execution_count": 8
        }
      ]
    },
    {
      "cell_type": "code",
      "source": [
        "import keras\n",
        "import tensorflow as tf\n",
        "import tensorflow.keras.backend as K"
      ],
      "metadata": {
        "id": "xJDj6rGsZJDI"
      },
      "execution_count": 9,
      "outputs": []
    },
    {
      "cell_type": "code",
      "source": [
        "african_elephant_output= model.output[:, 386] # 예측벡터의아프리카코끼리항목\n",
        "last_conv_layer= model.get_layer('block5_conv3') # VGG16의마지막합성곱층인block5_conv3 층의특성맵\n"
      ],
      "metadata": {
        "id": "FWxwDC4aZNGg"
      },
      "execution_count": 10,
      "outputs": []
    },
    {
      "cell_type": "code",
      "source": [
        "grad_model= keras.models.Model(\n",
        "model.inputs, [last_conv_layer.output, model.output]\n",
        ")"
      ],
      "metadata": {
        "id": "b7WuDIJUZQXY"
      },
      "execution_count": 11,
      "outputs": []
    },
    {
      "cell_type": "code",
      "source": [
        "with tf.GradientTape() as tape:\n",
        "    last_conv_layer_output, preds= grad_model(x)\n",
        "    pred_index= tf.argmax(preds[0])\n",
        "    class_channel= preds[:, pred_index]"
      ],
      "metadata": {
        "id": "4X9RbdbqZRuK"
      },
      "execution_count": 13,
      "outputs": []
    },
    {
      "cell_type": "code",
      "source": [
        "# This is the gradient of the output neuron (top predicted or chosen)\n",
        "# with regard to the output feature map of the last conv layer\n",
        "grads = tape.gradient(class_channel, last_conv_layer_output)\n",
        "pooled_grads= K.mean(grads, axis=(0, 1, 2))\n",
        "last_conv_layer_output= last_conv_layer_output[0]\n",
        "heatmap= last_conv_layer_output@ pooled_grads[..., tf.newaxis]\n",
        "heatmap= tf.squeeze(heatmap)"
      ],
      "metadata": {
        "id": "-Q-UyGLRZTWm"
      },
      "execution_count": 14,
      "outputs": []
    },
    {
      "cell_type": "code",
      "source": [
        "# 히트맵후처리하기\n",
        "import matplotlib.pyplot as plt\n",
        "heatmap= np.maximum(heatmap, 0)\n",
        "heatmap/= np.max(heatmap)\n",
        "plt.matshow(heatmap)"
      ],
      "metadata": {
        "colab": {
          "base_uri": "https://localhost:8080/",
          "height": 455
        },
        "id": "q4_Z1TQtZXf_",
        "outputId": "231f7a19-d4f5-4434-aada-8b2c58a4e9fc"
      },
      "execution_count": 16,
      "outputs": [
        {
          "output_type": "execute_result",
          "data": {
            "text/plain": [
              "<matplotlib.image.AxesImage at 0x7d90a02c5a20>"
            ]
          },
          "metadata": {},
          "execution_count": 16
        },
        {
          "output_type": "display_data",
          "data": {
            "text/plain": [
              "<Figure size 480x480 with 1 Axes>"
            ],
            "image/png": "[encoded data removed]"
          },
          "metadata": {}
        }
      ]
    },
    {
      "cell_type": "code",
      "source": [
        "import cv2\n",
        "from IPython.display import Image, display"
      ],
      "metadata": {
        "id": "Om3HQgqwZasn"
      },
      "execution_count": 18,
      "outputs": []
    },
    {
      "cell_type": "code",
      "source": [
        "img= cv2.imread(img_path) # cv2 모듈을사용하여원본이미지로드"
      ],
      "metadata": {
        "id": "flY3i31mZcxa"
      },
      "execution_count": 19,
      "outputs": []
    },
    {
      "cell_type": "code",
      "source": [
        "heatmap= cv2.resize(heatmap, (img.shape[1], img.shape[0])) # heatmap을원본이미지크기에맞게변경"
      ],
      "metadata": {
        "id": "_EcCcGTGZhBy"
      },
      "execution_count": 20,
      "outputs": []
    },
    {
      "cell_type": "code",
      "source": [
        "heatmap= np.uint8(255 * heatmap) # heatmap을RGB 포맷으로변환"
      ],
      "metadata": {
        "id": "HLrphgqCZiWn"
      },
      "execution_count": 21,
      "outputs": []
    },
    {
      "cell_type": "code",
      "source": [
        "heatmap= cv2.applyColorMap(heatmap, cv2.COLORMAP_JET) # 히트맵으로변환"
      ],
      "metadata": {
        "id": "cnAmbxnZZjXp"
      },
      "execution_count": 22,
      "outputs": []
    },
    {
      "cell_type": "code",
      "source": [
        "superimposed_img= heatmap* 0.4 + img# 0.4는히트맵강도"
      ],
      "metadata": {
        "id": "wx9XY-gdZkbg"
      },
      "execution_count": 23,
      "outputs": []
    },
    {
      "cell_type": "code",
      "source": [
        "save_path= '/content/drive/MyDrive/aivill/creative_commons_elephant.jpg'\n",
        "cv2.imwrite(save_path, superimposed_img) # 이미지저장한\n",
        "display(Image(save_path))"
      ],
      "metadata": {
        "colab": {
          "base_uri": "https://localhost:8080/",
          "height": 282
        },
        "id": "qsxEKnihZlnL",
        "outputId": "fe966222-e59e-40b5-a508-38a44bc73903"
      },
      "execution_count": 24,
      "outputs": [
        {
          "output_type": "display_data",
          "data": {
            "image/jpeg": "[encoded data removed]",
            "text/plain": [
              "<IPython.core.display.Image object>"
            ]
          },
          "metadata": {}
        }
      ]
    },
    {
      "cell_type": "code",
      "source": [],
      "metadata": {
        "id": "wI3V00y2ZpEY"
      },
      "execution_count": null,
      "outputs": []
    }
  ]
}