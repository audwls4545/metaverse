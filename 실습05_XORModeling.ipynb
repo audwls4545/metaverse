{
  "nbformat": 4,
  "nbformat_minor": 0,
  "metadata": {
    "colab": {
      "provenance": [],
      "include_colab_link": true
    },
    "kernelspec": {
      "name": "python3",
      "display_name": "Python 3"
    },
    "language_info": {
      "name": "python"
    }
  },
  "cells": [
    {
      "cell_type": "markdown",
      "metadata": {
        "id": "view-in-github",
        "colab_type": "text"
      },
      "source": [
        "<a href=\"https://colab.research.google.com/github/audwls4545/metaverse/blob/main/%EC%8B%A4%EC%8A%B505_XORModeling.ipynb\" target=\"_parent\"><img src=\"https://colab.research.google.com/assets/colab-badge.svg\" alt=\"Open In Colab\"/></a>"
      ]
    },
    {
      "cell_type": "markdown",
      "source": [
        "## Deep Learning with PyTorch \n",
        "### 실습05. Perceptron Modeling : XOR Function\n",
        "\n",
        "1. Prepare Dataset \n",
        "2. Train Model\n",
        "3. Test Model\n",
        "\n",
        "<img src=\"https://dl.dropbox.com/s/90ym4l4c7falev8/xor.png\" width=\"400\"/>\n"
      ],
      "metadata": {
        "id": "XiIqfqju75-J"
      }
    },
    {
      "cell_type": "markdown",
      "source": [
        "#### 1. Prepare Data"
      ],
      "metadata": {
        "id": "mF786Lnk8IQb"
      }
    },
    {
      "cell_type": "code",
      "source": [
        "# 1-1. 데이터 준비\n",
        "\n",
        "import torch\n",
        "\n",
        "X = torch.FloatTensor([[0,0], [1,0], [0,1], [1,1]])\n",
        "y = torch.FloatTensor([[0], [1], [1], [0]])\n",
        "\n",
        "print(X)\n",
        "print(y)"
      ],
      "metadata": {
        "id": "xj2ZuvzW8G-M",
        "colab": {
          "base_uri": "https://localhost:8080/"
        },
        "outputId": "61107b18-83a0-497d-fc58-26fedf84a83b"
      },
      "execution_count": 1,
      "outputs": [
        {
          "output_type": "stream",
          "name": "stdout",
          "text": [
            "tensor([[0., 0.],\n",
            "        [1., 0.],\n",
            "        [0., 1.],\n",
            "        [1., 1.]])\n",
            "tensor([[0.],\n",
            "        [1.],\n",
            "        [1.],\n",
            "        [0.]])\n"
          ]
        }
      ]
    },
    {
      "cell_type": "code",
      "source": [
        "# 1-2. 데이터 확인\n",
        "\n",
        "print(X.shape)\n",
        "print(y.shape)"
      ],
      "metadata": {
        "id": "Ir9DSKL9qqR3",
        "colab": {
          "base_uri": "https://localhost:8080/"
        },
        "outputId": "4a3f8190-db8c-45b0-e26e-ec41958a9bf5"
      },
      "execution_count": 2,
      "outputs": [
        {
          "output_type": "stream",
          "name": "stdout",
          "text": [
            "torch.Size([4, 2])\n",
            "torch.Size([4, 1])\n"
          ]
        }
      ]
    },
    {
      "cell_type": "markdown",
      "source": [
        "#### 2. Train Model"
      ],
      "metadata": {
        "id": "sH8LJ5O6mgly"
      }
    },
    {
      "cell_type": "code",
      "source": [
        "# 2-1. Network\n",
        "\n",
        "import torch.nn as nn\n",
        "\n",
        "# 순차적 계층 MLP\n",
        "model = nn.Sequential(\n",
        "    nn.Linear(2, 8), \n",
        "    nn.ReLU(),\n",
        "    nn.Linear(8, 1),\n",
        "    nn.Sigmoid()\n",
        ")"
      ],
      "metadata": {
        "id": "q2rKRqIr9sRC"
      },
      "execution_count": 23,
      "outputs": []
    },
    {
      "cell_type": "code",
      "source": [
        "\n",
        "# Model Class\n",
        "\n",
        "import torch.nn.functional as F\n",
        "\n",
        "class XORModel(nn.Module): \n",
        "  # 모델 객체 생성할때 호출되는 method \n",
        "  def __init__(self):\n",
        "    # 모델에 사용할 구성요소 입력, layer, activation func\n",
        "    super().__init__()\n",
        "\n",
        "    self.linear1 = nn.Linear(2, 8)\n",
        "    self.linear2 = nn.Linear(8, 1)\n",
        "\n",
        "    # self.relu = nn.ReLU()\n",
        "    # self.sigmoid = nn.Sigmoid()\n",
        "    # print(\"Model Init\")\n",
        "\n",
        "  # 모델 객체를 데이터와 함께 호출하면 실행되는 method ex) model(x)/model.forward(x)\n",
        "  def forward(self, input): \n",
        "    # input을 받아서, 어떤 계산을 거쳐 output으로 나오는지 연산 흐름 작성\n",
        "    \n",
        "    # output = self.linear1(input)\n",
        "    # output = self.relu(output)\n",
        "    # output = self.linear2(output)\n",
        "    # output = self.sigmoid(output)\n",
        "    # print(\"Forward\")\n",
        "\n",
        "    output = F.relu(self.linear1(input)) #linear과 relu를 한번해 함\n",
        "    output = torch.sigmoid(self.linear2(output))\n",
        "    return output\n",
        "\n",
        "model = XORModel()"
      ],
      "metadata": {
        "id": "6MYEtoTQx5Z7"
      },
      "execution_count": 11,
      "outputs": []
    },
    {
      "cell_type": "code",
      "source": [
        "# 2-2. Loss Function & Optimizer\n",
        "\n",
        "loss_fn = nn.BCELoss()\n",
        "optimizer = torch.optim.SGD(model.parameters(), lr=1) \n"
      ],
      "metadata": {
        "id": "7rkWftFGiErd"
      },
      "execution_count": 24,
      "outputs": []
    },
    {
      "cell_type": "code",
      "source": [
        "# 2-3. Train\n",
        "\n",
        "losses = []\n",
        "\n",
        "for step in range(1000):\n",
        "    output = model(X) # forward\n",
        "    loss = loss_fn(output, y) # cost\n",
        "    losses.append(loss.detach().numpy())\n",
        "    optimizer.zero_grad() # gradient zero\n",
        "\n",
        "    loss.backward() # backward(gradient 계산)\n",
        "    optimizer.step() # paremeters update\n",
        "\n",
        "    if step % 100 == 0:\n",
        "      print(step, loss.item())"
      ],
      "metadata": {
        "id": "XU4BhZxvid5P",
        "colab": {
          "base_uri": "https://localhost:8080/"
        },
        "outputId": "000ec44b-7089-4aae-a85e-c7eebc5d6938"
      },
      "execution_count": 25,
      "outputs": [
        {
          "output_type": "stream",
          "name": "stdout",
          "text": [
            "0 0.6970720291137695\n",
            "100 0.015024854801595211\n",
            "200 0.004647926427423954\n",
            "300 0.002569803036749363\n",
            "400 0.0017299567116424441\n",
            "500 0.001289152423851192\n",
            "600 0.0010156924836337566\n",
            "700 0.0008345865062437952\n",
            "800 0.0007057781331241131\n",
            "900 0.000609743467066437\n"
          ]
        }
      ]
    },
    {
      "cell_type": "code",
      "source": [
        "# 2-4. Loss Graph\n",
        "\n",
        "import matplotlib.pyplot as plt\n",
        "\n",
        "plt.plot(range(1000), losses)\n",
        "plt.xlabel('Epoch')\n",
        "plt.ylabel('Loss')"
      ],
      "metadata": {
        "id": "yddS6RPZX5gg",
        "colab": {
          "base_uri": "https://localhost:8080/",
          "height": 467
        },
        "outputId": "3b737400-1e37-4e1a-bb60-104385263b6f"
      },
      "execution_count": 26,
      "outputs": [
        {
          "output_type": "execute_result",
          "data": {
            "text/plain": [
              "Text(0, 0.5, 'Loss')"
            ]
          },
          "metadata": {},
          "execution_count": 26
        },
        {
          "output_type": "display_data",
          "data": {
            "text/plain": [
              "<Figure size 640x480 with 1 Axes>"
            ],
            "image/png": "[encoded data removed]"
          },
          "metadata": {}
        }
      ]
    },
    {
      "cell_type": "markdown",
      "source": [
        "#### 3. Test Model"
      ],
      "metadata": {
        "id": "EF8HUZtmmcL1"
      }
    },
    {
      "cell_type": "code",
      "source": [
        "# 3. Test\n",
        "\n",
        "test_tensor = torch.FloatTensor([[0,1], [1,1], [0,0], [1,0]])\n",
        "\n",
        "with torch.no_grad(): # gradient 저장하지지 않음\n",
        "  output = model(test_tensor)\n",
        "  output[output >= 0.5] = 1\n",
        "  output[output < 0.5] = 0\n",
        "  print(output)"
      ],
      "metadata": {
        "id": "dcz7olzqieY4",
        "colab": {
          "base_uri": "https://localhost:8080/"
        },
        "outputId": "a5130496-5be8-4524-cc6b-442c17ed7154"
      },
      "execution_count": 22,
      "outputs": [
        {
          "output_type": "stream",
          "name": "stdout",
          "text": [
            "tensor([[1.],\n",
            "        [1.],\n",
            "        [1.],\n",
            "        [1.]])\n"
          ]
        }
      ]
    },
    {
      "cell_type": "markdown",
      "source": [
        "#### 4. Save Model"
      ],
      "metadata": {
        "id": "s5ksyA6OgNDi"
      }
    },
    {
      "cell_type": "code",
      "source": [
        "# weight 값만 저장\n",
        "torch.save(model.state_dict(), 'xor_model.pth')"
      ],
      "metadata": {
        "id": "4RAy5kzm7onj"
      },
      "execution_count": 27,
      "outputs": []
    },
    {
      "cell_type": "code",
      "source": [
        "# paremeter 값 저장(모델 구조 저장하지 않음)\n",
        "torch.save(model.state_dict(), 'xor_model.pth')"
      ],
      "metadata": {
        "id": "25gbhbVVwE3G"
      },
      "execution_count": null,
      "outputs": []
    },
    {
      "cell_type": "code",
      "source": [
        "# 모델의 구조와 paremeter 값 함께\n",
        "torch.save(model, 'model.pth')"
      ],
      "metadata": {
        "id": "Hb3EkS5B0q_T"
      },
      "execution_count": 28,
      "outputs": []
    },
    {
      "cell_type": "code",
      "source": [
        "# 모델 불러오기\n",
        "model_saved = torch.load('model.pth')\n",
        "print(model_saved)"
      ],
      "metadata": {
        "colab": {
          "base_uri": "https://localhost:8080/"
        },
        "id": "yKzQeTVJ0zDo",
        "outputId": "f7111820-f432-4cd9-8387-f2d5827c0ce3"
      },
      "execution_count": 29,
      "outputs": [
        {
          "output_type": "stream",
          "name": "stdout",
          "text": [
            "Sequential(\n",
            "  (0): Linear(in_features=2, out_features=8, bias=True)\n",
            "  (1): ReLU()\n",
            "  (2): Linear(in_features=8, out_features=1, bias=True)\n",
            "  (3): Sigmoid()\n",
            ")\n"
          ]
        }
      ]
    },
    {
      "cell_type": "code",
      "source": [],
      "metadata": {
        "id": "c-EmkKSj74Qx"
      },
      "execution_count": null,
      "outputs": []
    }
  ]
}