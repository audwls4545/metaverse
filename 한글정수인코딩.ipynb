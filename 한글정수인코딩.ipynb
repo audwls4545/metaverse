{
  "nbformat": 4,
  "nbformat_minor": 0,
  "metadata": {
    "colab": {
      "provenance": [],
      "authorship_tag": "ABX9TyMmi4U+5OBMonK5chMVznGN",
      "include_colab_link": true
    },
    "kernelspec": {
      "name": "python3",
      "display_name": "Python 3"
    },
    "language_info": {
      "name": "python"
    }
  },
  "cells": [
    {
      "cell_type": "markdown",
      "metadata": {
        "id": "view-in-github",
        "colab_type": "text"
      },
      "source": [
        "<a href=\"https://colab.research.google.com/github/audwls4545/metaverse/blob/main/%ED%95%9C%EA%B8%80%EC%A0%95%EC%88%98%EC%9D%B8%EC%BD%94%EB%94%A9.ipynb\" target=\"_parent\"><img src=\"https://colab.research.google.com/assets/colab-badge.svg\" alt=\"Open In Colab\"/></a>"
      ]
    },
    {
      "cell_type": "code",
      "source": [
        "!pip install konlpy"
      ],
      "metadata": {
        "colab": {
          "base_uri": "https://localhost:8080/"
        },
        "id": "q_ag_fxiReA2",
        "outputId": "2edd64ec-bee1-4b17-9122-2d4c9f8b7bff"
      },
      "execution_count": 1,
      "outputs": [
        {
          "output_type": "stream",
          "name": "stdout",
          "text": [
            "Collecting konlpy\n",
            "  Downloading konlpy-0.6.0-py2.py3-none-any.whl (19.4 MB)\n",
            "\u001b[2K     \u001b[90m━━━━━━━━━━━━━━━━━━━━━━━━━━━━━━━━━━━━━━━━\u001b[0m \u001b[32m19.4/19.4 MB\u001b[0m \u001b[31m58.7 MB/s\u001b[0m eta \u001b[36m0:00:00\u001b[0m\n",
            "\u001b[?25hCollecting JPype1>=0.7.0 (from konlpy)\n",
            "  Downloading JPype1-1.4.1-cp310-cp310-manylinux_2_12_x86_64.manylinux2010_x86_64.whl (465 kB)\n",
            "\u001b[2K     \u001b[90m━━━━━━━━━━━━━━━━━━━━━━━━━━━━━━━━━━━━━━\u001b[0m \u001b[32m465.3/465.3 kB\u001b[0m \u001b[31m30.3 MB/s\u001b[0m eta \u001b[36m0:00:00\u001b[0m\n",
            "\u001b[?25hRequirement already satisfied: lxml>=4.1.0 in /usr/local/lib/python3.10/dist-packages (from konlpy) (4.9.2)\n",
            "Requirement already satisfied: numpy>=1.6 in /usr/local/lib/python3.10/dist-packages (from konlpy) (1.22.4)\n",
            "Requirement already satisfied: packaging in /usr/local/lib/python3.10/dist-packages (from JPype1>=0.7.0->konlpy) (23.1)\n",
            "Installing collected packages: JPype1, konlpy\n",
            "Successfully installed JPype1-1.4.1 konlpy-0.6.0\n"
          ]
        }
      ]
    },
    {
      "cell_type": "code",
      "execution_count": 2,
      "metadata": {
        "id": "rkZg41TJOoxm"
      },
      "outputs": [],
      "source": [
        "from konlpy.tag import Okt\n",
        "from nltk.tokenize import word_tokenize\n",
        "from collections import Counter"
      ]
    },
    {
      "cell_type": "code",
      "source": [
        "okt = Okt()"
      ],
      "metadata": {
        "id": "9s9bLD1gPoug"
      },
      "execution_count": 3,
      "outputs": []
    },
    {
      "cell_type": "code",
      "source": [
        "text_data = '''\n",
        "김일두 카카오브레인 각자 대표는 “인체 비율 및 구도, 공간감과 입체감을 표현하는 투시도 등 다양한 이미지 데이터 학습 및 기술 고도화 과정을 거쳐 칼로 2.0을 선보이게 됐다”며 “많은 데이터와 사용자 피드백을 학습시켜 실사 수준의 이미지를 생성하는 동시에 보다 다양한 사용자의 니즈를 반영할 수 있는 이미지 생성 모델로 발전시켜 나갈 것”이라고 말했다\n",
        "'''"
      ],
      "metadata": {
        "id": "fTam51JTPs3Q"
      },
      "execution_count": 7,
      "outputs": []
    },
    {
      "cell_type": "code",
      "source": [
        "text = okt.nouns(text_data)\n",
        "text"
      ],
      "metadata": {
        "colab": {
          "base_uri": "https://localhost:8080/"
        },
        "id": "7JqiIpzYP4Sp",
        "outputId": "c8302b1e-0ccf-4f81-87c6-190225291ef8"
      },
      "execution_count": 8,
      "outputs": [
        {
          "output_type": "execute_result",
          "data": {
            "text/plain": [
              "['김일',\n",
              " '카카오',\n",
              " '브레인',\n",
              " '각자',\n",
              " '대표',\n",
              " '인체',\n",
              " '비율',\n",
              " '및',\n",
              " '구도',\n",
              " '공간',\n",
              " '감',\n",
              " '입',\n",
              " '체감',\n",
              " '표현',\n",
              " '투시도',\n",
              " '등',\n",
              " '이미지',\n",
              " '데이터',\n",
              " '학습',\n",
              " '및',\n",
              " '기술',\n",
              " '고도화',\n",
              " '과정',\n",
              " '칼',\n",
              " '며',\n",
              " '데이터',\n",
              " '사용자',\n",
              " '피드백',\n",
              " '학습',\n",
              " '실사',\n",
              " '수준',\n",
              " '이미지',\n",
              " '생',\n",
              " '동시',\n",
              " '사용자',\n",
              " '를',\n",
              " '반영',\n",
              " '수',\n",
              " '이미지',\n",
              " '생',\n",
              " '모델',\n",
              " '발전',\n",
              " '것',\n",
              " '말']"
            ]
          },
          "metadata": {},
          "execution_count": 8
        }
      ]
    },
    {
      "cell_type": "code",
      "source": [
        "words_freq = Counter(text)"
      ],
      "metadata": {
        "id": "GSiHcheFRfBc"
      },
      "execution_count": 9,
      "outputs": []
    },
    {
      "cell_type": "code",
      "source": [
        "for w,c in words_freq.items():\n",
        "    print(w,c)\n",
        "\n",
        "[('김일',1)]"
      ],
      "metadata": {
        "colab": {
          "base_uri": "https://localhost:8080/"
        },
        "id": "5h5Vwf0-RhJe",
        "outputId": "e53fdb0d-3441-4ce7-9f28-64770d06095e"
      },
      "execution_count": 10,
      "outputs": [
        {
          "output_type": "stream",
          "name": "stdout",
          "text": [
            "김일 1\n",
            "카카오 1\n",
            "브레인 1\n",
            "각자 1\n",
            "대표 1\n",
            "인체 1\n",
            "비율 1\n",
            "및 2\n",
            "구도 1\n",
            "공간 1\n",
            "감 1\n",
            "입 1\n",
            "체감 1\n",
            "표현 1\n",
            "투시도 1\n",
            "등 1\n",
            "이미지 3\n",
            "데이터 2\n",
            "학습 2\n",
            "기술 1\n",
            "고도화 1\n",
            "과정 1\n",
            "칼 1\n",
            "며 1\n",
            "사용자 2\n",
            "피드백 1\n",
            "실사 1\n",
            "수준 1\n",
            "생 2\n",
            "동시 1\n",
            "를 1\n",
            "반영 1\n",
            "수 1\n",
            "모델 1\n",
            "발전 1\n",
            "것 1\n",
            "말 1\n"
          ]
        },
        {
          "output_type": "execute_result",
          "data": {
            "text/plain": [
              "[('김일', 1)]"
            ]
          },
          "metadata": {},
          "execution_count": 10
        }
      ]
    },
    {
      "cell_type": "code",
      "source": [
        "words_cleaned = [ (w,c) for w,c in words_freq.items() if c >= 1]\n",
        "words_cleaned.sort(key=lambda x: x[1], reverse=True)"
      ],
      "metadata": {
        "id": "zy61X2ytRrAH"
      },
      "execution_count": 11,
      "outputs": []
    },
    {
      "cell_type": "code",
      "source": [
        "words_cleaned"
      ],
      "metadata": {
        "colab": {
          "base_uri": "https://localhost:8080/"
        },
        "id": "725Mz4_MRsbH",
        "outputId": "38a00144-ea78-469a-bd57-51bfc49b7e34"
      },
      "execution_count": 12,
      "outputs": [
        {
          "output_type": "execute_result",
          "data": {
            "text/plain": [
              "[('이미지', 3),\n",
              " ('및', 2),\n",
              " ('데이터', 2),\n",
              " ('학습', 2),\n",
              " ('사용자', 2),\n",
              " ('생', 2),\n",
              " ('김일', 1),\n",
              " ('카카오', 1),\n",
              " ('브레인', 1),\n",
              " ('각자', 1),\n",
              " ('대표', 1),\n",
              " ('인체', 1),\n",
              " ('비율', 1),\n",
              " ('구도', 1),\n",
              " ('공간', 1),\n",
              " ('감', 1),\n",
              " ('입', 1),\n",
              " ('체감', 1),\n",
              " ('표현', 1),\n",
              " ('투시도', 1),\n",
              " ('등', 1),\n",
              " ('기술', 1),\n",
              " ('고도화', 1),\n",
              " ('과정', 1),\n",
              " ('칼', 1),\n",
              " ('며', 1),\n",
              " ('피드백', 1),\n",
              " ('실사', 1),\n",
              " ('수준', 1),\n",
              " ('동시', 1),\n",
              " ('를', 1),\n",
              " ('반영', 1),\n",
              " ('수', 1),\n",
              " ('모델', 1),\n",
              " ('발전', 1),\n",
              " ('것', 1),\n",
              " ('말', 1)]"
            ]
          },
          "metadata": {},
          "execution_count": 12
        }
      ]
    },
    {
      "cell_type": "code",
      "source": [
        "word_to_index = { word[0] : index+1 for index,word in enumerate(words_cleaned)}\n",
        "word_to_index"
      ],
      "metadata": {
        "colab": {
          "base_uri": "https://localhost:8080/"
        },
        "id": "f9koLT_kRtmg",
        "outputId": "ac605847-1ebb-40ae-f604-0c383189d5af"
      },
      "execution_count": 13,
      "outputs": [
        {
          "output_type": "execute_result",
          "data": {
            "text/plain": [
              "{'이미지': 1,\n",
              " '및': 2,\n",
              " '데이터': 3,\n",
              " '학습': 4,\n",
              " '사용자': 5,\n",
              " '생': 6,\n",
              " '김일': 7,\n",
              " '카카오': 8,\n",
              " '브레인': 9,\n",
              " '각자': 10,\n",
              " '대표': 11,\n",
              " '인체': 12,\n",
              " '비율': 13,\n",
              " '구도': 14,\n",
              " '공간': 15,\n",
              " '감': 16,\n",
              " '입': 17,\n",
              " '체감': 18,\n",
              " '표현': 19,\n",
              " '투시도': 20,\n",
              " '등': 21,\n",
              " '기술': 22,\n",
              " '고도화': 23,\n",
              " '과정': 24,\n",
              " '칼': 25,\n",
              " '며': 26,\n",
              " '피드백': 27,\n",
              " '실사': 28,\n",
              " '수준': 29,\n",
              " '동시': 30,\n",
              " '를': 31,\n",
              " '반영': 32,\n",
              " '수': 33,\n",
              " '모델': 34,\n",
              " '발전': 35,\n",
              " '것': 36,\n",
              " '말': 37}"
            ]
          },
          "metadata": {},
          "execution_count": 13
        }
      ]
    },
    {
      "cell_type": "code",
      "source": [
        "sentence = '카카오브레인은 고도화된 기술모델을 가지고 있다.'\n",
        "\n",
        "sentence_to_index = [word_to_index[word] for word in okt.nouns(sentence) if word in word_to_index]\n",
        "sentence_to_index"
      ],
      "metadata": {
        "colab": {
          "base_uri": "https://localhost:8080/"
        },
        "id": "VXWDnPITRvTQ",
        "outputId": "4c25d7df-c39b-4f7e-94e3-078cb77a9795"
      },
      "execution_count": 14,
      "outputs": [
        {
          "output_type": "execute_result",
          "data": {
            "text/plain": [
              "[8, 9, 23, 22, 34]"
            ]
          },
          "metadata": {},
          "execution_count": 14
        }
      ]
    },
    {
      "cell_type": "code",
      "source": [
        "#keras를 사용한 정수인코딩\n",
        "from keras.preprocessing.text import Tokenizer\n"
      ],
      "metadata": {
        "id": "41D3eX3OSFQ4"
      },
      "execution_count": 15,
      "outputs": []
    },
    {
      "cell_type": "code",
      "source": [
        "text_data = '''\n",
        "김일두 카카오브레인 각자 대표는 “인체 비율 및 구도, 공간감과 입체감을 표현하는 투시도 등 다양한 이미지 데이터 학습 및 기술 고도화 과정을 거쳐 칼로 2.0을 선보이게 됐다”며 “많은 데이터와 사용자 피드백을 학습시켜 실사 수준의 이미지를 생성하는 동시에 보다 다양한 사용자의 니즈를 반영할 수 있는 이미지 생성 모델로 발전시켜 나갈 것”이라고 말했다\n",
        "'''\n",
        "text = okt.nouns(text_data)\n",
        "text\n"
      ],
      "metadata": {
        "colab": {
          "base_uri": "https://localhost:8080/"
        },
        "id": "JZuZfTpvXNyl",
        "outputId": "b57a3a87-ef58-452e-e931-a209ea4f5179"
      },
      "execution_count": 18,
      "outputs": [
        {
          "output_type": "execute_result",
          "data": {
            "text/plain": [
              "['김일',\n",
              " '카카오',\n",
              " '브레인',\n",
              " '각자',\n",
              " '대표',\n",
              " '인체',\n",
              " '비율',\n",
              " '및',\n",
              " '구도',\n",
              " '공간',\n",
              " '감',\n",
              " '입',\n",
              " '체감',\n",
              " '표현',\n",
              " '투시도',\n",
              " '등',\n",
              " '이미지',\n",
              " '데이터',\n",
              " '학습',\n",
              " '및',\n",
              " '기술',\n",
              " '고도화',\n",
              " '과정',\n",
              " '칼',\n",
              " '며',\n",
              " '데이터',\n",
              " '사용자',\n",
              " '피드백',\n",
              " '학습',\n",
              " '실사',\n",
              " '수준',\n",
              " '이미지',\n",
              " '생',\n",
              " '동시',\n",
              " '사용자',\n",
              " '를',\n",
              " '반영',\n",
              " '수',\n",
              " '이미지',\n",
              " '생',\n",
              " '모델',\n",
              " '발전',\n",
              " '것',\n",
              " '말']"
            ]
          },
          "metadata": {},
          "execution_count": 18
        }
      ]
    },
    {
      "cell_type": "code",
      "source": [
        "tokenizer = Tokenizer()\n",
        "tokenizer.fit_on_texts(text_data)"
      ],
      "metadata": {
        "id": "vEYaHUx7VyES"
      },
      "execution_count": 19,
      "outputs": []
    },
    {
      "cell_type": "code",
      "source": [
        "print(tokenizer.word_index)"
      ],
      "metadata": {
        "colab": {
          "base_uri": "https://localhost:8080/"
        },
        "id": "qwqGCfY-V7qS",
        "outputId": "0d96c071-d100-4611-948e-1abcb2fc4274"
      },
      "execution_count": 20,
      "outputs": [
        {
          "output_type": "stream",
          "name": "stdout",
          "text": [
            "{'이': 1, '다': 2, '는': 3, '을': 4, '시': 5, '자': 6, '도': 7, '미': 8, '지': 9, '사': 10, '카': 11, '인': 12, '표': 13, '“': 14, '체': 15, '및': 16, '감': 17, '과': 18, '하': 19, '양': 20, '한': 21, '데': 22, '터': 23, '학': 24, '습': 25, '고': 26, '로': 27, '보': 28, '”': 29, '용': 30, '켜': 31, '수': 32, '의': 33, '를': 34, '생': 35, '성': 36, '김': 37, '일': 38, '두': 39, '오': 40, '브': 41, '레': 42, '각': 43, '대': 44, '비': 45, '율': 46, '구': 47, '공': 48, '간': 49, '입': 50, '현': 51, '투': 52, '등': 53, '기': 54, '술': 55, '화': 56, '정': 57, '거': 58, '쳐': 59, '칼': 60, '2': 61, '0': 62, '선': 63, '게': 64, '됐': 65, '며': 66, '많': 67, '은': 68, '와': 69, '피': 70, '드': 71, '백': 72, '실': 73, '준': 74, '동': 75, '에': 76, '니': 77, '즈': 78, '반': 79, '영': 80, '할': 81, '있': 82, '모': 83, '델': 84, '발': 85, '전': 86, '나': 87, '갈': 88, '것': 89, '라': 90, '말': 91, '했': 92}\n"
          ]
        }
      ]
    },
    {
      "cell_type": "code",
      "source": [
        "sentence = '카카오브레인은 고도화된 기술모델을 가지고 있다.'\n",
        "st = okt.nouns(sentence)\n",
        "print(st)\n",
        "print(tokenizer.texts_to_sequences([st]))"
      ],
      "metadata": {
        "colab": {
          "base_uri": "https://localhost:8080/"
        },
        "id": "MlcF-RaQV-Ed",
        "outputId": "2fc6493c-8c1c-4039-873e-096b03d0a301"
      },
      "execution_count": 21,
      "outputs": [
        {
          "output_type": "stream",
          "name": "stdout",
          "text": [
            "['카카오', '브레인', '고도화', '기술', '모델', '가지']\n",
            "[[]]\n"
          ]
        }
      ]
    },
    {
      "cell_type": "code",
      "source": [
        "#패딩\n",
        "\n",
        "import numpy as np\n",
        "from keras.preprocessing.text import Tokenizer"
      ],
      "metadata": {
        "id": "jRmIYh3UX209"
      },
      "execution_count": 22,
      "outputs": []
    },
    {
      "cell_type": "code",
      "source": [
        "#정수인코딩 과정을 거침\n",
        "text_data = '''\n",
        "과학기술정보통신부는 충청권 4개 지자체와 디지털 기술을 활용한 재난안전관리 시스템을 구축하는 '인공지능(AI)·메타버스 기반 재난안전관리체계 강화' 사업을 추진한다고 9일 밝혔다.\n",
        "\n",
        "시스템은 메타버스 환경을 통해 사고 징후를 실시간 모니터링 하고, AI 기술로 사고 예방 및 사후 대응을 위한 최적의 의사결정을 지원해 피해규모를 최소화한다.\n",
        "\n",
        "과기정통부는 디지털 기반의 사고 예방·대응 시스템 개발과 실증을 2025년까지 3년간 지원한다. 올해는 국비 80억원, 지방비 40억원 등 총 120억원을 투입한다.\n",
        "\n",
        "충청북도에서는 산업단지를 중심으로 화재·폭발 등 대규모 사고 위험이 높은 산업 현장의 안전 강화를 추진한다. 기업별 제조 환경에 따른 맞춤형 고위험 사고 예방·관리 AI 솔루션과 생산 공정 전주기 안전관리 시스템 등을 개발 지원한다.\n",
        "\n",
        "충청남도에서는 교통사고 다발구역을 대상으로 사고 유발요소를 탐지하는 도로안전 관리 AI 솔루션을 개발한다. 또 인파사고 등을 예방·관리하는 생활안전 관리 AI 솔루션, 공공데이터와 연계한 도로·생활안전 통합관제시스템을 마련한다.\n",
        "'''\n",
        "text = okt.nouns(text_data)\n",
        "tokenizer = Tokenizer()\n",
        "tokenizer.fit_on_texts(text)"
      ],
      "metadata": {
        "id": "lv_yOHzkZq2m"
      },
      "execution_count": 23,
      "outputs": []
    },
    {
      "cell_type": "code",
      "source": [
        "text_data = text_data.replace('\\n','')\n",
        "text_result = text_data.split('.')\n",
        "\n",
        "text_result"
      ],
      "metadata": {
        "colab": {
          "base_uri": "https://localhost:8080/"
        },
        "id": "K-wSF4JZanld",
        "outputId": "320f8e16-6c92-411b-cd64-8fb797dae288"
      },
      "execution_count": 24,
      "outputs": [
        {
          "output_type": "execute_result",
          "data": {
            "text/plain": [
              "[\"과학기술정보통신부는 충청권 4개 지자체와 디지털 기술을 활용한 재난안전관리 시스템을 구축하는 '인공지능(AI)·메타버스 기반 재난안전관리체계 강화' 사업을 추진한다고 9일 밝혔다\",\n",
              " '시스템은 메타버스 환경을 통해 사고 징후를 실시간 모니터링 하고, AI 기술로 사고 예방 및 사후 대응을 위한 최적의 의사결정을 지원해 피해규모를 최소화한다',\n",
              " '과기정통부는 디지털 기반의 사고 예방·대응 시스템 개발과 실증을 2025년까지 3년간 지원한다',\n",
              " ' 올해는 국비 80억원, 지방비 40억원 등 총 120억원을 투입한다',\n",
              " '충청북도에서는 산업단지를 중심으로 화재·폭발 등 대규모 사고 위험이 높은 산업 현장의 안전 강화를 추진한다',\n",
              " ' 기업별 제조 환경에 따른 맞춤형 고위험 사고 예방·관리 AI 솔루션과 생산 공정 전주기 안전관리 시스템 등을 개발 지원한다',\n",
              " '충청남도에서는 교통사고 다발구역을 대상으로 사고 유발요소를 탐지하는 도로안전 관리 AI 솔루션을 개발한다',\n",
              " ' 또 인파사고 등을 예방·관리하는 생활안전 관리 AI 솔루션, 공공데이터와 연계한 도로·생활안전 통합관제시스템을 마련한다',\n",
              " '']"
            ]
          },
          "metadata": {},
          "execution_count": 24
        }
      ]
    },
    {
      "cell_type": "code",
      "source": [
        "encoding_data = []\n",
        "for temp in text_result:\n",
        "    temp = temp.strip()\n",
        "    st = okt.nouns(temp)\n",
        "    encoding_data.append(tokenizer.texts_to_sequences([st])[0])\n",
        "\n",
        "print(encoding_data)"
      ],
      "metadata": {
        "colab": {
          "base_uri": "https://localhost:8080/"
        },
        "id": "EWvQ3eyWaob_",
        "outputId": "f5633838-cff7-4e7a-ae8c-aef4e2254905"
      },
      "execution_count": 26,
      "outputs": [
        {
          "output_type": "stream",
          "name": "stdout",
          "text": [
            "[[24, 25, 26, 27, 28, 10, 11, 29, 12, 1, 2, 4, 30, 31, 32, 13, 14, 15, 12, 1, 2, 33, 16, 34, 17, 35], [4, 13, 14, 18, 36, 3, 37, 38, 39, 11, 3, 5, 40, 41, 19, 42, 43, 44, 7, 45, 46, 47], [48, 49, 10, 15, 3, 5, 19, 4, 8, 50, 7], [51, 52, 53, 6, 54, 55], [56, 20, 57, 58, 59, 60, 6, 61, 3, 21, 20, 62, 1, 16, 17], [63, 64, 65, 18, 66, 21, 3, 5, 2, 9, 67, 68, 69, 1, 2, 4, 6, 8, 7], [70, 71, 72, 73, 74, 3, 75, 76, 77, 22, 1, 2, 9, 8], [78, 79, 3, 6, 5, 2, 23, 1, 2, 9, 80, 81, 22, 23, 1, 82, 83, 4, 84], []]\n"
          ]
        }
      ]
    },
    {
      "cell_type": "code",
      "source": [
        "max_len = max(len(item) for item in encoding_data)\n",
        "print(max_len)"
      ],
      "metadata": {
        "colab": {
          "base_uri": "https://localhost:8080/"
        },
        "id": "HK5rD6n4apUi",
        "outputId": "22640f04-e794-496c-fa14-6c6ee3a78246"
      },
      "execution_count": 27,
      "outputs": [
        {
          "output_type": "stream",
          "name": "stdout",
          "text": [
            "26\n"
          ]
        }
      ]
    },
    {
      "cell_type": "code",
      "source": [
        "for sentence in encoding_data:\n",
        "    while len(sentence) < max_len:\n",
        "        sentence.append(0)\n",
        "print(encoding_data)"
      ],
      "metadata": {
        "colab": {
          "base_uri": "https://localhost:8080/"
        },
        "id": "RqZxjwe6bd8J",
        "outputId": "5ad949a0-4ee6-45fb-fd43-88c06a91590b"
      },
      "execution_count": 29,
      "outputs": [
        {
          "output_type": "stream",
          "name": "stdout",
          "text": [
            "[[24, 25, 26, 27, 28, 10, 11, 29, 12, 1, 2, 4, 30, 31, 32, 13, 14, 15, 12, 1, 2, 33, 16, 34, 17, 35], [4, 13, 14, 18, 36, 3, 37, 38, 39, 11, 3, 5, 40, 41, 19, 42, 43, 44, 7, 45, 46, 47, 0, 0, 0, 0], [48, 49, 10, 15, 3, 5, 19, 4, 8, 50, 7, 0, 0, 0, 0, 0, 0, 0, 0, 0, 0, 0, 0, 0, 0, 0], [51, 52, 53, 6, 54, 55, 0, 0, 0, 0, 0, 0, 0, 0, 0, 0, 0, 0, 0, 0, 0, 0, 0, 0, 0, 0], [56, 20, 57, 58, 59, 60, 6, 61, 3, 21, 20, 62, 1, 16, 17, 0, 0, 0, 0, 0, 0, 0, 0, 0, 0, 0], [63, 64, 65, 18, 66, 21, 3, 5, 2, 9, 67, 68, 69, 1, 2, 4, 6, 8, 7, 0, 0, 0, 0, 0, 0, 0], [70, 71, 72, 73, 74, 3, 75, 76, 77, 22, 1, 2, 9, 8, 0, 0, 0, 0, 0, 0, 0, 0, 0, 0, 0, 0], [78, 79, 3, 6, 5, 2, 23, 1, 2, 9, 80, 81, 22, 23, 1, 82, 83, 4, 84, 0, 0, 0, 0, 0, 0, 0], [0, 0, 0, 0, 0, 0, 0, 0, 0, 0, 0, 0, 0, 0, 0, 0, 0, 0, 0, 0, 0, 0, 0, 0, 0, 0]]\n"
          ]
        }
      ]
    },
    {
      "cell_type": "code",
      "source": [
        "#제로페딩\n",
        "for sentence in encoding_data:\n",
        "    print(sentence)"
      ],
      "metadata": {
        "colab": {
          "base_uri": "https://localhost:8080/"
        },
        "id": "Y_SrYK3Ubeuu",
        "outputId": "70dd2e46-ad70-4edf-cdfa-11dd07fa1205"
      },
      "execution_count": 30,
      "outputs": [
        {
          "output_type": "stream",
          "name": "stdout",
          "text": [
            "[24, 25, 26, 27, 28, 10, 11, 29, 12, 1, 2, 4, 30, 31, 32, 13, 14, 15, 12, 1, 2, 33, 16, 34, 17, 35]\n",
            "[4, 13, 14, 18, 36, 3, 37, 38, 39, 11, 3, 5, 40, 41, 19, 42, 43, 44, 7, 45, 46, 47, 0, 0, 0, 0]\n",
            "[48, 49, 10, 15, 3, 5, 19, 4, 8, 50, 7, 0, 0, 0, 0, 0, 0, 0, 0, 0, 0, 0, 0, 0, 0, 0]\n",
            "[51, 52, 53, 6, 54, 55, 0, 0, 0, 0, 0, 0, 0, 0, 0, 0, 0, 0, 0, 0, 0, 0, 0, 0, 0, 0]\n",
            "[56, 20, 57, 58, 59, 60, 6, 61, 3, 21, 20, 62, 1, 16, 17, 0, 0, 0, 0, 0, 0, 0, 0, 0, 0, 0]\n",
            "[63, 64, 65, 18, 66, 21, 3, 5, 2, 9, 67, 68, 69, 1, 2, 4, 6, 8, 7, 0, 0, 0, 0, 0, 0, 0]\n",
            "[70, 71, 72, 73, 74, 3, 75, 76, 77, 22, 1, 2, 9, 8, 0, 0, 0, 0, 0, 0, 0, 0, 0, 0, 0, 0]\n",
            "[78, 79, 3, 6, 5, 2, 23, 1, 2, 9, 80, 81, 22, 23, 1, 82, 83, 4, 84, 0, 0, 0, 0, 0, 0, 0]\n",
            "[0, 0, 0, 0, 0, 0, 0, 0, 0, 0, 0, 0, 0, 0, 0, 0, 0, 0, 0, 0, 0, 0, 0, 0, 0, 0]\n"
          ]
        }
      ]
    },
    {
      "cell_type": "code",
      "source": [
        "#keras - 패딩\n",
        "from tensorflow.keras.preprocessing.sequence import pad_sequences"
      ],
      "metadata": {
        "id": "q3Mn6TagcGOk"
      },
      "execution_count": 31,
      "outputs": []
    },
    {
      "cell_type": "code",
      "source": [
        "text_data = '''\n",
        "과학기술정보통신부는 충청권 4개 지자체와 디지털 기술을 활용한 재난안전관리 시스템을 구축하는 '인공지능(AI)·메타버스 기반 재난안전관리체계 강화' 사업을 추진한다고 9일 밝혔다.\n",
        "\n",
        "시스템은 메타버스 환경을 통해 사고 징후를 실시간 모니터링 하고, AI 기술로 사고 예방 및 사후 대응을 위한 최적의 의사결정을 지원해 피해규모를 최소화한다.\n",
        "\n",
        "과기정통부는 디지털 기반의 사고 예방·대응 시스템 개발과 실증을 2025년까지 3년간 지원한다. 올해는 국비 80억원, 지방비 40억원 등 총 120억원을 투입한다.\n",
        "\n",
        "충청북도에서는 산업단지를 중심으로 화재·폭발 등 대규모 사고 위험이 높은 산업 현장의 안전 강화를 추진한다. 기업별 제조 환경에 따른 맞춤형 고위험 사고 예방·관리 AI 솔루션과 생산 공정 전주기 안전관리 시스템 등을 개발 지원한다.\n",
        "\n",
        "충청남도에서는 교통사고 다발구역을 대상으로 사고 유발요소를 탐지하는 도로안전 관리 AI 솔루션을 개발한다. 또 인파사고 등을 예방·관리하는 생활안전 관리 AI 솔루션, 공공데이터와 연계한 도로·생활안전 통합관제시스템을 마련한다.\n",
        "'''"
      ],
      "metadata": {
        "id": "5rrbmVlOdbZR"
      },
      "execution_count": 32,
      "outputs": []
    },
    {
      "cell_type": "code",
      "source": [
        "text = okt.nouns(text_data)"
      ],
      "metadata": {
        "id": "F2NsjVm1dcQ7"
      },
      "execution_count": 33,
      "outputs": []
    },
    {
      "cell_type": "code",
      "source": [
        "tokenizer = Tokenizer()\n",
        "tokenizer.fit_on_texts(text)"
      ],
      "metadata": {
        "id": "y021giFEddOK"
      },
      "execution_count": 34,
      "outputs": []
    },
    {
      "cell_type": "code",
      "source": [
        "encoding_data = []\n",
        "for temp in text_result:\n",
        "    temp = temp.strip()\n",
        "    st = okt.nouns(temp)\n",
        "    encoding_data.append(tokenizer.texts_to_sequences([st])[0])\n",
        "\n",
        "print(encoding_data)"
      ],
      "metadata": {
        "colab": {
          "base_uri": "https://localhost:8080/"
        },
        "id": "SRUbzIeFdeEw",
        "outputId": "5221ed5d-450d-4534-90fd-43fd2e074184"
      },
      "execution_count": 35,
      "outputs": [
        {
          "output_type": "stream",
          "name": "stdout",
          "text": [
            "[[24, 25, 26, 27, 28, 10, 11, 29, 12, 1, 2, 4, 30, 31, 32, 13, 14, 15, 12, 1, 2, 33, 16, 34, 17, 35], [4, 13, 14, 18, 36, 3, 37, 38, 39, 11, 3, 5, 40, 41, 19, 42, 43, 44, 7, 45, 46, 47], [48, 49, 10, 15, 3, 5, 19, 4, 8, 50, 7], [51, 52, 53, 6, 54, 55], [56, 20, 57, 58, 59, 60, 6, 61, 3, 21, 20, 62, 1, 16, 17], [63, 64, 65, 18, 66, 21, 3, 5, 2, 9, 67, 68, 69, 1, 2, 4, 6, 8, 7], [70, 71, 72, 73, 74, 3, 75, 76, 77, 22, 1, 2, 9, 8], [78, 79, 3, 6, 5, 2, 23, 1, 2, 9, 80, 81, 22, 23, 1, 82, 83, 4, 84], []]\n"
          ]
        }
      ]
    },
    {
      "cell_type": "code",
      "source": [
        "padding = pad_sequences(encoding_data , padding='post',maxlen=10, truncation='post') #truncation하면 maxlen보다 클시 앞부분을 살리고 뒷부분의 데이터를 날림\n",
        "padding"
      ],
      "metadata": {
        "colab": {
          "base_uri": "https://localhost:8080/"
        },
        "id": "K1W_HNNDdezb",
        "outputId": "ae861a52-6b25-47fd-f273-b076ed10ffe6"
      },
      "execution_count": 36,
      "outputs": [
        {
          "output_type": "execute_result",
          "data": {
            "text/plain": [
              "array([[14, 15, 12,  1,  2, 33, 16, 34, 17, 35],\n",
              "       [40, 41, 19, 42, 43, 44,  7, 45, 46, 47],\n",
              "       [49, 10, 15,  3,  5, 19,  4,  8, 50,  7],\n",
              "       [51, 52, 53,  6, 54, 55,  0,  0,  0,  0],\n",
              "       [60,  6, 61,  3, 21, 20, 62,  1, 16, 17],\n",
              "       [ 9, 67, 68, 69,  1,  2,  4,  6,  8,  7],\n",
              "       [74,  3, 75, 76, 77, 22,  1,  2,  9,  8],\n",
              "       [ 9, 80, 81, 22, 23,  1, 82, 83,  4, 84],\n",
              "       [ 0,  0,  0,  0,  0,  0,  0,  0,  0,  0]], dtype=int32)"
            ]
          },
          "metadata": {},
          "execution_count": 36
        }
      ]
    },
    {
      "cell_type": "code",
      "source": [
        "last_value = len(tokenizer.word_index) + 1\n",
        "last_value"
      ],
      "metadata": {
        "colab": {
          "base_uri": "https://localhost:8080/"
        },
        "id": "kiZU_Yu1dghM",
        "outputId": "b08736ef-4aa8-4fa1-95fb-11c134d256ba"
      },
      "execution_count": 37,
      "outputs": [
        {
          "output_type": "execute_result",
          "data": {
            "text/plain": [
              "85"
            ]
          },
          "metadata": {},
          "execution_count": 37
        }
      ]
    },
    {
      "cell_type": "code",
      "source": [
        "padding = pad_sequences(encoding_data, truncating = 'post', padding = 'post', maxlen = 10, value = last_value)\n",
        "padding"
      ],
      "metadata": {
        "colab": {
          "base_uri": "https://localhost:8080/"
        },
        "id": "9CecWRjHe0sK",
        "outputId": "d29582e1-619c-4c77-8a1b-cfb1fb61ea03"
      },
      "execution_count": 38,
      "outputs": [
        {
          "output_type": "execute_result",
          "data": {
            "text/plain": [
              "array([[24, 25, 26, 27, 28, 10, 11, 29, 12,  1],\n",
              "       [ 4, 13, 14, 18, 36,  3, 37, 38, 39, 11],\n",
              "       [48, 49, 10, 15,  3,  5, 19,  4,  8, 50],\n",
              "       [51, 52, 53,  6, 54, 55, 85, 85, 85, 85],\n",
              "       [56, 20, 57, 58, 59, 60,  6, 61,  3, 21],\n",
              "       [63, 64, 65, 18, 66, 21,  3,  5,  2,  9],\n",
              "       [70, 71, 72, 73, 74,  3, 75, 76, 77, 22],\n",
              "       [78, 79,  3,  6,  5,  2, 23,  1,  2,  9],\n",
              "       [85, 85, 85, 85, 85, 85, 85, 85, 85, 85]], dtype=int32)"
            ]
          },
          "metadata": {},
          "execution_count": 38
        }
      ]
    },
    {
      "cell_type": "code",
      "source": [
        "#원핫인코딩\n",
        "# 5  : 0,1,2,3,4\n",
        "#[ [1,0,0,0,0],[0,0,0,0,1] ]"
      ],
      "metadata": {
        "id": "xPk6WKdifDVj"
      },
      "execution_count": 39,
      "outputs": []
    },
    {
      "cell_type": "code",
      "source": [
        "from konlpy.tag import Okt\n",
        "okt = Okt()\n",
        "text_data = okt.morphs('나는 오늘 파이썬을 공부하고 있습니다')\n",
        "text_data"
      ],
      "metadata": {
        "colab": {
          "base_uri": "https://localhost:8080/"
        },
        "id": "FWHYooxZkCIh",
        "outputId": "9a1a82dd-e0f2-49a9-8645-800653c1c15f"
      },
      "execution_count": 40,
      "outputs": [
        {
          "output_type": "execute_result",
          "data": {
            "text/plain": [
              "['나', '는', '오늘', '파이썬', '을', '공부', '하고', '있습니다']"
            ]
          },
          "metadata": {},
          "execution_count": 40
        }
      ]
    },
    {
      "cell_type": "code",
      "source": [
        "word_encoding = {word : index for index,word in enumerate(text_data)}\n",
        "print(word_encoding)"
      ],
      "metadata": {
        "colab": {
          "base_uri": "https://localhost:8080/"
        },
        "id": "5yooE-vnkDDD",
        "outputId": "dde051cb-a310-4565-880e-cc846bb9e163"
      },
      "execution_count": 41,
      "outputs": [
        {
          "output_type": "stream",
          "name": "stdout",
          "text": [
            "{'나': 0, '는': 1, '오늘': 2, '파이썬': 3, '을': 4, '공부': 5, '하고': 6, '있습니다': 7}\n"
          ]
        }
      ]
    },
    {
      "cell_type": "code",
      "source": [
        "one_hot_vector = [0] * (len(word_encoding))\n",
        "one_hot_vector"
      ],
      "metadata": {
        "colab": {
          "base_uri": "https://localhost:8080/"
        },
        "id": "xN7LOVSpkD2Q",
        "outputId": "c9330941-5994-4298-da93-a8372cb57238"
      },
      "execution_count": 42,
      "outputs": [
        {
          "output_type": "execute_result",
          "data": {
            "text/plain": [
              "[0, 0, 0, 0, 0, 0, 0, 0]"
            ]
          },
          "metadata": {},
          "execution_count": 42
        }
      ]
    },
    {
      "cell_type": "code",
      "source": [
        "index = word_encoding['파이썬']\n",
        "index"
      ],
      "metadata": {
        "colab": {
          "base_uri": "https://localhost:8080/"
        },
        "id": "ofRXdGg_kE6P",
        "outputId": "a846bf3e-fe8d-42ed-a162-f95e3b5200de"
      },
      "execution_count": 43,
      "outputs": [
        {
          "output_type": "execute_result",
          "data": {
            "text/plain": [
              "3"
            ]
          },
          "metadata": {},
          "execution_count": 43
        }
      ]
    },
    {
      "cell_type": "code",
      "source": [
        "one_hot_vector[index] = 1\n",
        "one_hot_vector"
      ],
      "metadata": {
        "colab": {
          "base_uri": "https://localhost:8080/"
        },
        "id": "BlDq3AvbkF1O",
        "outputId": "91468080-58f0-42e7-dc21-44033478a6f3"
      },
      "execution_count": 44,
      "outputs": [
        {
          "output_type": "execute_result",
          "data": {
            "text/plain": [
              "[0, 0, 0, 1, 0, 0, 0, 0]"
            ]
          },
          "metadata": {},
          "execution_count": 44
        }
      ]
    },
    {
      "cell_type": "code",
      "source": [
        "#one-hot encoding keras\n",
        "from tensorflow.keras.preprocessing.text import Tokenizer\n",
        "from tensorflow.keras.utils import to_categorical"
      ],
      "metadata": {
        "id": "qHI8MKaCkGmQ"
      },
      "execution_count": 45,
      "outputs": []
    },
    {
      "cell_type": "code",
      "source": [
        "text = '나는 오늘 파이썬을 공부하고 있습니다.'\n",
        "\n",
        "tokenizer = Tokenizer()\n",
        "tokenizer.fit_on_texts([text])\n",
        "tokenizer.word_index"
      ],
      "metadata": {
        "colab": {
          "base_uri": "https://localhost:8080/"
        },
        "id": "q0MOMCdhkHVi",
        "outputId": "b9ef61cb-a29c-422e-aa19-1081df57af76"
      },
      "execution_count": 46,
      "outputs": [
        {
          "output_type": "execute_result",
          "data": {
            "text/plain": [
              "{'나는': 1, '오늘': 2, '파이썬을': 3, '공부하고': 4, '있습니다': 5}"
            ]
          },
          "metadata": {},
          "execution_count": 46
        }
      ]
    },
    {
      "cell_type": "code",
      "source": [
        "sentence = '나는 오늘 파이썬을 공부하고 있습니다.'\n",
        "encoded = tokenizer.texts_to_sequences([sentence])[0]\n",
        "encoded"
      ],
      "metadata": {
        "colab": {
          "base_uri": "https://localhost:8080/"
        },
        "id": "Z9-8mmqGkODV",
        "outputId": "2b000f8f-84a4-40b1-9dbe-804a2b96d211"
      },
      "execution_count": 47,
      "outputs": [
        {
          "output_type": "execute_result",
          "data": {
            "text/plain": [
              "[1, 2, 3, 4, 5]"
            ]
          },
          "metadata": {},
          "execution_count": 47
        }
      ]
    },
    {
      "cell_type": "code",
      "source": [
        "one_hot = to_categorical(encoded)\n",
        "print(one_hot)"
      ],
      "metadata": {
        "colab": {
          "base_uri": "https://localhost:8080/"
        },
        "id": "CAhuyLRMkY1Y",
        "outputId": "a4f6dce7-e829-4e3d-a19e-dbfdf0c6dcb6"
      },
      "execution_count": 48,
      "outputs": [
        {
          "output_type": "stream",
          "name": "stdout",
          "text": [
            "[[0. 1. 0. 0. 0. 0.]\n",
            " [0. 0. 1. 0. 0. 0.]\n",
            " [0. 0. 0. 1. 0. 0.]\n",
            " [0. 0. 0. 0. 1. 0.]\n",
            " [0. 0. 0. 0. 0. 1.]]\n"
          ]
        }
      ]
    },
    {
      "cell_type": "code",
      "source": [],
      "metadata": {
        "id": "2wHyw7yPkmGD"
      },
      "execution_count": null,
      "outputs": []
    }
  ]
}