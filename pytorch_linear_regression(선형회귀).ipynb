{
  "nbformat": 4,
  "nbformat_minor": 0,
  "metadata": {
    "colab": {
      "provenance": [],
      "authorship_tag": "ABX9TyMHdl9DEP7loIELCtghqZJR",
      "include_colab_link": true
    },
    "kernelspec": {
      "name": "python3",
      "display_name": "Python 3"
    },
    "language_info": {
      "name": "python"
    }
  },
  "cells": [
    {
      "cell_type": "markdown",
      "metadata": {
        "id": "view-in-github",
        "colab_type": "text"
      },
      "source": [
        "<a href=\"https://colab.research.google.com/github/audwls4545/metaverse/blob/main/pytorch_linear_regression(%EC%84%A0%ED%98%95%ED%9A%8C%EA%B7%80).ipynb\" target=\"_parent\"><img src=\"https://colab.research.google.com/assets/colab-badge.svg\" alt=\"Open In Colab\"/></a>"
      ]
    },
    {
      "cell_type": "code",
      "execution_count": 1,
      "metadata": {
        "colab": {
          "base_uri": "https://localhost:8080/"
        },
        "id": "8TGlje3dD_Tb",
        "outputId": "f370e83f-91cd-4e6f-e24f-d65793c00df4"
      },
      "outputs": [
        {
          "output_type": "stream",
          "name": "stdout",
          "text": [
            "Looking in indexes: https://pypi.org/simple, https://us-python.pkg.dev/colab-wheels/public/simple/\n",
            "Collecting torchmetrics\n",
            "  Downloading torchmetrics-0.11.4-py3-none-any.whl (519 kB)\n",
            "\u001b[2K     \u001b[90m━━━━━━━━━━━━━━━━━━━━━━━━━━━━━━━━━━━━━━━\u001b[0m \u001b[32m519.2/519.2 kB\u001b[0m \u001b[31m9.7 MB/s\u001b[0m eta \u001b[36m0:00:00\u001b[0m\n",
            "\u001b[?25hRequirement already satisfied: numpy>=1.17.2 in /usr/local/lib/python3.10/dist-packages (from torchmetrics) (1.22.4)\n",
            "Requirement already satisfied: torch>=1.8.1 in /usr/local/lib/python3.10/dist-packages (from torchmetrics) (2.0.0+cu118)\n",
            "Requirement already satisfied: packaging in /usr/local/lib/python3.10/dist-packages (from torchmetrics) (23.1)\n",
            "Requirement already satisfied: filelock in /usr/local/lib/python3.10/dist-packages (from torch>=1.8.1->torchmetrics) (3.12.0)\n",
            "Requirement already satisfied: typing-extensions in /usr/local/lib/python3.10/dist-packages (from torch>=1.8.1->torchmetrics) (4.5.0)\n",
            "Requirement already satisfied: sympy in /usr/local/lib/python3.10/dist-packages (from torch>=1.8.1->torchmetrics) (1.11.1)\n",
            "Requirement already satisfied: networkx in /usr/local/lib/python3.10/dist-packages (from torch>=1.8.1->torchmetrics) (3.1)\n",
            "Requirement already satisfied: jinja2 in /usr/local/lib/python3.10/dist-packages (from torch>=1.8.1->torchmetrics) (3.1.2)\n",
            "Requirement already satisfied: triton==2.0.0 in /usr/local/lib/python3.10/dist-packages (from torch>=1.8.1->torchmetrics) (2.0.0)\n",
            "Requirement already satisfied: cmake in /usr/local/lib/python3.10/dist-packages (from triton==2.0.0->torch>=1.8.1->torchmetrics) (3.25.2)\n",
            "Requirement already satisfied: lit in /usr/local/lib/python3.10/dist-packages (from triton==2.0.0->torch>=1.8.1->torchmetrics) (16.0.3)\n",
            "Requirement already satisfied: MarkupSafe>=2.0 in /usr/local/lib/python3.10/dist-packages (from jinja2->torch>=1.8.1->torchmetrics) (2.1.2)\n",
            "Requirement already satisfied: mpmath>=0.19 in /usr/local/lib/python3.10/dist-packages (from sympy->torch>=1.8.1->torchmetrics) (1.3.0)\n",
            "Installing collected packages: torchmetrics\n",
            "Successfully installed torchmetrics-0.11.4\n"
          ]
        }
      ],
      "source": [
        "!pip install torchmetrics"
      ]
    },
    {
      "cell_type": "code",
      "source": [
        "import torchmetrics\n",
        "import torch"
      ],
      "metadata": {
        "id": "3frFs5qjEG6J"
      },
      "execution_count": 2,
      "outputs": []
    },
    {
      "cell_type": "code",
      "source": [
        "preds = torch.tensor([0,0,1,1,3,2,1])\n",
        "targets = torch.tensor([0,0,2,1,2,2,1])\n",
        "\n",
        "accuracy = torchmetrics.Accuracy(task='multiclass',num_classes=4)\n",
        "accuracy(preds, targets)"
      ],
      "metadata": {
        "colab": {
          "base_uri": "https://localhost:8080/"
        },
        "id": "oj00hX06ESqa",
        "outputId": "624051f9-f8a4-44bc-ae18-0b4e369f85d3"
      },
      "execution_count": 3,
      "outputs": [
        {
          "output_type": "execute_result",
          "data": {
            "text/plain": [
              "tensor(0.7143)"
            ]
          },
          "metadata": {},
          "execution_count": 3
        }
      ]
    },
    {
      "cell_type": "code",
      "source": [
        "x = torch.randn(100,1)\n",
        "x = x*10\n",
        "x"
      ],
      "metadata": {
        "colab": {
          "base_uri": "https://localhost:8080/"
        },
        "id": "7rGOypQUEteX",
        "outputId": "a4939f5c-7987-45e0-e1d5-a09650df2c5c"
      },
      "execution_count": 4,
      "outputs": [
        {
          "output_type": "execute_result",
          "data": {
            "text/plain": [
              "tensor([[ 1.4114e+00],\n",
              "        [-1.5876e+00],\n",
              "        [ 6.4063e+00],\n",
              "        [ 2.0685e+01],\n",
              "        [-8.4433e-01],\n",
              "        [ 8.9478e-03],\n",
              "        [-4.6079e-01],\n",
              "        [-8.6387e+00],\n",
              "        [-1.5828e+01],\n",
              "        [ 9.3021e+00],\n",
              "        [-1.5255e+01],\n",
              "        [ 6.8116e+00],\n",
              "        [-1.4451e+01],\n",
              "        [-1.5997e+01],\n",
              "        [ 1.0232e+01],\n",
              "        [ 1.0348e+01],\n",
              "        [ 7.7747e+00],\n",
              "        [-2.5303e+01],\n",
              "        [-4.6527e+00],\n",
              "        [-1.3733e+01],\n",
              "        [-4.0460e+00],\n",
              "        [-7.3464e+00],\n",
              "        [ 7.2053e-01],\n",
              "        [-1.1997e+01],\n",
              "        [ 2.4547e+00],\n",
              "        [ 3.1903e+00],\n",
              "        [ 4.9517e+00],\n",
              "        [ 1.4857e+01],\n",
              "        [-5.0318e+00],\n",
              "        [-2.5456e+01],\n",
              "        [-1.8612e+00],\n",
              "        [-6.1585e+00],\n",
              "        [-1.7211e+01],\n",
              "        [-5.9294e+00],\n",
              "        [-9.1061e+00],\n",
              "        [-1.6792e+00],\n",
              "        [-4.6002e+00],\n",
              "        [ 9.3846e+00],\n",
              "        [-9.6374e+00],\n",
              "        [-2.2019e+00],\n",
              "        [-4.0211e+01],\n",
              "        [ 2.2600e+00],\n",
              "        [-9.8746e+00],\n",
              "        [ 2.1912e+00],\n",
              "        [-6.5048e-01],\n",
              "        [-3.1236e+00],\n",
              "        [-1.2815e+01],\n",
              "        [ 2.8096e+00],\n",
              "        [-1.6862e+00],\n",
              "        [-1.2808e+01],\n",
              "        [ 1.1084e-01],\n",
              "        [-3.6756e+00],\n",
              "        [-1.3716e+00],\n",
              "        [ 3.4502e-01],\n",
              "        [-2.0482e+01],\n",
              "        [ 9.4673e+00],\n",
              "        [ 4.5245e+00],\n",
              "        [ 2.3804e+00],\n",
              "        [ 2.0848e-01],\n",
              "        [ 8.5289e+00],\n",
              "        [ 2.9385e+00],\n",
              "        [-7.9319e-02],\n",
              "        [-8.0377e+00],\n",
              "        [-1.7228e+01],\n",
              "        [-1.2698e+01],\n",
              "        [-1.8273e+01],\n",
              "        [-1.1793e+01],\n",
              "        [-9.9447e+00],\n",
              "        [-6.3113e+00],\n",
              "        [ 6.6158e-01],\n",
              "        [-4.7114e+00],\n",
              "        [-6.5346e+00],\n",
              "        [-9.4934e+00],\n",
              "        [ 1.0645e+00],\n",
              "        [-5.2461e+00],\n",
              "        [ 1.2490e+01],\n",
              "        [-7.3004e-02],\n",
              "        [-1.2696e+01],\n",
              "        [ 7.4371e+00],\n",
              "        [-7.8289e+00],\n",
              "        [ 1.2442e+00],\n",
              "        [ 1.2366e+01],\n",
              "        [-1.3867e+01],\n",
              "        [-1.1730e+01],\n",
              "        [ 1.7189e-01],\n",
              "        [-9.9129e+00],\n",
              "        [-2.3074e+01],\n",
              "        [-1.0755e+01],\n",
              "        [-2.1687e+00],\n",
              "        [-1.3322e+01],\n",
              "        [-1.0488e+01],\n",
              "        [ 1.2203e+01],\n",
              "        [-1.2641e+00],\n",
              "        [-8.4049e+00],\n",
              "        [ 8.3755e-01],\n",
              "        [-1.2468e+01],\n",
              "        [-5.3187e+00],\n",
              "        [ 2.6841e+00],\n",
              "        [-1.5261e+01],\n",
              "        [ 6.0068e+00]])"
            ]
          },
          "metadata": {},
          "execution_count": 4
        }
      ]
    },
    {
      "cell_type": "code",
      "source": [
        "y = x + torch.randn(100,1)\n",
        "y"
      ],
      "metadata": {
        "colab": {
          "base_uri": "https://localhost:8080/"
        },
        "id": "exvuUfhIFAkX",
        "outputId": "30d8ab72-d0b2-4bbb-c205-3fdddad3ae12"
      },
      "execution_count": 5,
      "outputs": [
        {
          "output_type": "execute_result",
          "data": {
            "text/plain": [
              "tensor([[ 3.3494e-01],\n",
              "        [-1.0810e+00],\n",
              "        [ 5.3286e+00],\n",
              "        [ 1.9215e+01],\n",
              "        [-1.0296e+00],\n",
              "        [-8.4118e-01],\n",
              "        [-1.4556e+00],\n",
              "        [-8.3481e+00],\n",
              "        [-1.5426e+01],\n",
              "        [ 8.4729e+00],\n",
              "        [-1.5109e+01],\n",
              "        [ 7.2185e+00],\n",
              "        [-1.3593e+01],\n",
              "        [-1.6842e+01],\n",
              "        [ 1.0703e+01],\n",
              "        [ 9.6747e+00],\n",
              "        [ 7.6532e+00],\n",
              "        [-2.5896e+01],\n",
              "        [-5.0114e+00],\n",
              "        [-1.3092e+01],\n",
              "        [-2.3603e+00],\n",
              "        [-6.7548e+00],\n",
              "        [ 6.6131e-01],\n",
              "        [-1.1457e+01],\n",
              "        [ 3.2448e+00],\n",
              "        [ 4.3381e+00],\n",
              "        [ 6.1419e+00],\n",
              "        [ 1.4682e+01],\n",
              "        [-6.7735e+00],\n",
              "        [-2.5138e+01],\n",
              "        [-6.4662e-01],\n",
              "        [-7.2845e+00],\n",
              "        [-1.8280e+01],\n",
              "        [-6.8086e+00],\n",
              "        [-9.2156e+00],\n",
              "        [-1.9214e+00],\n",
              "        [-3.1186e+00],\n",
              "        [ 1.1622e+01],\n",
              "        [-1.0465e+01],\n",
              "        [-6.9820e-01],\n",
              "        [-4.0620e+01],\n",
              "        [ 1.4847e+00],\n",
              "        [-9.5170e+00],\n",
              "        [ 1.4921e+00],\n",
              "        [-4.3238e-01],\n",
              "        [-1.6278e+00],\n",
              "        [-1.2970e+01],\n",
              "        [ 2.6722e+00],\n",
              "        [-8.9882e-01],\n",
              "        [-1.5724e+01],\n",
              "        [ 1.5135e-01],\n",
              "        [-3.7111e+00],\n",
              "        [ 8.5725e-01],\n",
              "        [ 1.2195e+00],\n",
              "        [-1.9092e+01],\n",
              "        [ 8.4980e+00],\n",
              "        [ 3.0337e+00],\n",
              "        [ 3.3033e+00],\n",
              "        [ 1.0226e-02],\n",
              "        [ 8.2982e+00],\n",
              "        [ 2.6870e+00],\n",
              "        [-1.8090e+00],\n",
              "        [-7.0862e+00],\n",
              "        [-1.7177e+01],\n",
              "        [-1.2638e+01],\n",
              "        [-1.9300e+01],\n",
              "        [-1.1357e+01],\n",
              "        [-9.1930e+00],\n",
              "        [-6.4591e+00],\n",
              "        [-6.5772e-01],\n",
              "        [-5.6726e+00],\n",
              "        [-7.9313e+00],\n",
              "        [-9.1031e+00],\n",
              "        [ 1.5006e+00],\n",
              "        [-7.2171e+00],\n",
              "        [ 1.2099e+01],\n",
              "        [ 4.2247e-02],\n",
              "        [-1.3538e+01],\n",
              "        [ 6.9228e+00],\n",
              "        [-6.5105e+00],\n",
              "        [-7.5382e-01],\n",
              "        [ 1.2365e+01],\n",
              "        [-1.6176e+01],\n",
              "        [-1.1957e+01],\n",
              "        [ 1.7434e+00],\n",
              "        [-9.9951e+00],\n",
              "        [-2.1112e+01],\n",
              "        [-1.1051e+01],\n",
              "        [-3.0385e+00],\n",
              "        [-1.1552e+01],\n",
              "        [-9.9717e+00],\n",
              "        [ 1.3685e+01],\n",
              "        [ 4.8403e-01],\n",
              "        [-7.2646e+00],\n",
              "        [-5.4740e-01],\n",
              "        [-1.1115e+01],\n",
              "        [-5.4159e+00],\n",
              "        [ 1.7209e+00],\n",
              "        [-1.4657e+01],\n",
              "        [ 7.4196e+00]])"
            ]
          },
          "metadata": {},
          "execution_count": 5
        }
      ]
    },
    {
      "cell_type": "code",
      "source": [
        "import matplotlib.pyplot as plt\n",
        "plt.scatter(x,y)\n",
        "plt.show()"
      ],
      "metadata": {
        "colab": {
          "base_uri": "https://localhost:8080/",
          "height": 430
        },
        "id": "9-8gNOz-FFeP",
        "outputId": "ba1fb135-93a8-4d59-8486-6c6d73e5788a"
      },
      "execution_count": 7,
      "outputs": [
        {
          "output_type": "display_data",
          "data": {
            "text/plain": [
              "<Figure size 640x480 with 1 Axes>"
            ],
            "image/png": "[encoded data removed]"
          },
          "metadata": {}
        }
      ]
    },
    {
      "cell_type": "code",
      "source": [
        "import torch.nn as nn\n",
        "\n",
        "class LRModel(nn.Module):\n",
        "    def __init__(self):\n",
        "        super(LRModel,self).__init__()\n",
        "        self.layer = nn.Linear(1,1)\n",
        "\n",
        "    def forward(self,x):\n",
        "        x = self.layer(x)\n",
        "        return x\n",
        "\n",
        "model = LRModel()\n",
        "model"
      ],
      "metadata": {
        "colab": {
          "base_uri": "https://localhost:8080/"
        },
        "id": "gtHCe5sXFQh_",
        "outputId": "90f43a49-67ef-4e14-ce94-00062169dfd9"
      },
      "execution_count": 8,
      "outputs": [
        {
          "output_type": "execute_result",
          "data": {
            "text/plain": [
              "LRModel(\n",
              "  (layer): Linear(in_features=1, out_features=1, bias=True)\n",
              ")"
            ]
          },
          "metadata": {},
          "execution_count": 8
        }
      ]
    },
    {
      "cell_type": "code",
      "source": [
        "w,b = model.parameters()\n",
        "w"
      ],
      "metadata": {
        "colab": {
          "base_uri": "https://localhost:8080/"
        },
        "id": "zoUlDrCZF2SC",
        "outputId": "dafae82f-30df-445e-931a-7afad6b15fec"
      },
      "execution_count": 9,
      "outputs": [
        {
          "output_type": "execute_result",
          "data": {
            "text/plain": [
              "Parameter containing:\n",
              "tensor([[0.1706]], requires_grad=True)"
            ]
          },
          "metadata": {},
          "execution_count": 9
        }
      ]
    },
    {
      "cell_type": "code",
      "source": [
        "import numpy as np\n",
        "\n",
        "w1 = w[0][0].item()\n",
        "b1 = b[0].item()\n",
        "\n",
        "x1 = np.array([-30,30])\n",
        "y1 = w1 * x1 + b1\n",
        "\n",
        "plt.scatter(x,y)\n",
        "plt.plot(x1,y1,'r')\n",
        "plt.show()"
      ],
      "metadata": {
        "colab": {
          "base_uri": "https://localhost:8080/",
          "height": 430
        },
        "id": "-reUotkGMbEN",
        "outputId": "a965976c-cef0-4d69-9d44-4951f2c784e5"
      },
      "execution_count": 10,
      "outputs": [
        {
          "output_type": "display_data",
          "data": {
            "text/plain": [
              "<Figure size 640x480 with 1 Axes>"
            ],
            "image/png": "[encoded data removed]"
          },
          "metadata": {}
        }
      ]
    },
    {
      "cell_type": "code",
      "source": [
        "import torch.optim as optim\n",
        "criterion = nn.MSELoss()\n",
        "optimizer = optim.SGD(model.parameters(),lr=0.001)\n",
        "\n",
        "epochs = 20\n",
        "cri_list = []\n",
        "\n",
        "for epoch in range(epochs):\n",
        "    optimizer.zero_grad()\n",
        "\n",
        "    out = model(x)\n",
        "    loss = criterion(out,y)\n",
        "    cri_list.append(loss.item())\n",
        "    loss.backward()\n",
        "\n",
        "    optimizer.step()"
      ],
      "metadata": {
        "id": "g69vfyJuM8WV"
      },
      "execution_count": 31,
      "outputs": []
    },
    {
      "cell_type": "code",
      "source": [
        "plt.plot(range(epochs),cri_list)\n",
        "plt.show()"
      ],
      "metadata": {
        "colab": {
          "base_uri": "https://localhost:8080/",
          "height": 430
        },
        "id": "8uep5GWzQAFH",
        "outputId": "44fe411f-e4d8-49ec-d7da-02a3a237a932"
      },
      "execution_count": 32,
      "outputs": [
        {
          "output_type": "display_data",
          "data": {
            "text/plain": [
              "<Figure size 640x480 with 1 Axes>"
            ],
            "image/png": "[encoded data removed]"
          },
          "metadata": {}
        }
      ]
    },
    {
      "cell_type": "code",
      "source": [
        "v,b = model.parameters()\n",
        "\n",
        "w1 = w[0][0].item()\n",
        "b1 = b[0].item()\n",
        "\n",
        "x1 = np.array([-30,30])\n",
        "y1 = w1 * x1 + b1\n",
        "\n",
        "plt.scatter(x,y)\n",
        "plt.plot(x1,y1,'r')\n",
        "plt.show()"
      ],
      "metadata": {
        "colab": {
          "base_uri": "https://localhost:8080/",
          "height": 430
        },
        "id": "__BTl1e8QUZE",
        "outputId": "c5df6921-f4d4-45d2-ee4a-9a7d46a5da92"
      },
      "execution_count": 33,
      "outputs": [
        {
          "output_type": "display_data",
          "data": {
            "text/plain": [
              "<Figure size 640x480 with 1 Axes>"
            ],
            "image/png": "[encoded data removed]"
          },
          "metadata": {}
        }
      ]
    },
    {
      "cell_type": "code",
      "source": [
        "model.state_dict()"
      ],
      "metadata": {
        "colab": {
          "base_uri": "https://localhost:8080/"
        },
        "id": "XNP-oNyATHbe",
        "outputId": "28049024-8e81-4a51-b448-9dbecaebe624"
      },
      "execution_count": 34,
      "outputs": [
        {
          "output_type": "execute_result",
          "data": {
            "text/plain": [
              "OrderedDict([('layer.weight', tensor([[0.9977]])),\n",
              "             ('layer.bias', tensor([0.0723]))])"
            ]
          },
          "metadata": {},
          "execution_count": 34
        }
      ]
    },
    {
      "cell_type": "code",
      "source": [
        "torch.save(model.state_dict(),'LRmodel.pth')"
      ],
      "metadata": {
        "id": "nHa_myTEScOU"
      },
      "execution_count": 35,
      "outputs": []
    },
    {
      "cell_type": "code",
      "source": [
        "model_lr = LRModel() #새로운 파일에서 열때는 class 객체를 만들어야함\n",
        "print(model_lr.state_dict())\n",
        "\n",
        "model_lr.load_state_dict(torch.load('LRmodel.pth'))\n",
        "print(model_lr.state_dict())"
      ],
      "metadata": {
        "colab": {
          "base_uri": "https://localhost:8080/"
        },
        "id": "rqMs-RdfTOxT",
        "outputId": "cab050db-5613-42da-b989-fa47be97256c"
      },
      "execution_count": 37,
      "outputs": [
        {
          "output_type": "stream",
          "name": "stdout",
          "text": [
            "OrderedDict([('layer.weight', tensor([[-0.0412]])), ('layer.bias', tensor([0.0644]))])\n",
            "OrderedDict([('layer.weight', tensor([[0.9977]])), ('layer.bias', tensor([0.0723]))])\n"
          ]
        }
      ]
    },
    {
      "cell_type": "code",
      "source": [
        "model_lr(torch.tensor([-30.]))"
      ],
      "metadata": {
        "colab": {
          "base_uri": "https://localhost:8080/"
        },
        "id": "ZOEN36pKTuKL",
        "outputId": "3f4e9f8e-eed9-425e-f5d6-feb8408d3718"
      },
      "execution_count": 38,
      "outputs": [
        {
          "output_type": "execute_result",
          "data": {
            "text/plain": [
              "tensor([-29.8597], grad_fn=<AddBackward0>)"
            ]
          },
          "metadata": {},
          "execution_count": 38
        }
      ]
    },
    {
      "cell_type": "code",
      "source": [],
      "metadata": {
        "id": "g0KyPF3qUDGL"
      },
      "execution_count": null,
      "outputs": []
    }
  ]
}