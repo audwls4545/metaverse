{
  "nbformat": 4,
  "nbformat_minor": 0,
  "metadata": {
    "colab": {
      "provenance": [],
      "mount_file_id": "1f_inZwu1H9BFscJA9I8aS36dLWN6CVj2",
      "authorship_tag": "ABX9TyNfBz2Yg7RGRHANe8Sk70CO",
      "include_colab_link": true
    },
    "kernelspec": {
      "name": "python3",
      "display_name": "Python 3"
    },
    "language_info": {
      "name": "python"
    }
  },
  "cells": [
    {
      "cell_type": "markdown",
      "metadata": {
        "id": "view-in-github",
        "colab_type": "text"
      },
      "source": [
        "<a href=\"https://colab.research.google.com/github/audwls4545/metaverse/blob/main/LDA_%EB%84%A4%EC%9D%B4%EB%B2%84%EC%A7%80%EB%8F%84.ipynb\" target=\"_parent\"><img src=\"https://colab.research.google.com/assets/colab-badge.svg\" alt=\"Open In Colab\"/></a>"
      ]
    },
    {
      "cell_type": "code",
      "execution_count": 1,
      "metadata": {
        "colab": {
          "base_uri": "https://localhost:8080/"
        },
        "id": "xIF6hEJPxhwh",
        "outputId": "4eef57dd-4f7d-4118-ef20-5f23b5cd30b3"
      },
      "outputs": [
        {
          "output_type": "stream",
          "name": "stdout",
          "text": [
            "Requirement already satisfied: konlpy in /usr/local/lib/python3.10/dist-packages (0.6.0)\n",
            "Requirement already satisfied: JPype1>=0.7.0 in /usr/local/lib/python3.10/dist-packages (from konlpy) (1.4.1)\n",
            "Requirement already satisfied: lxml>=4.1.0 in /usr/local/lib/python3.10/dist-packages (from konlpy) (4.9.2)\n",
            "Requirement already satisfied: numpy>=1.6 in /usr/local/lib/python3.10/dist-packages (from konlpy) (1.25.1)\n",
            "Requirement already satisfied: packaging in /usr/local/lib/python3.10/dist-packages (from JPype1>=0.7.0->konlpy) (23.1)\n"
          ]
        }
      ],
      "source": [
        "!pip install konlpy"
      ]
    },
    {
      "cell_type": "code",
      "source": [
        "!pip install -U pyLDAvis"
      ],
      "metadata": {
        "colab": {
          "base_uri": "https://localhost:8080/"
        },
        "id": "6RO3d6TDxljK",
        "outputId": "1d3176cd-c1ef-4a84-a674-eeca42c04e2a"
      },
      "execution_count": 2,
      "outputs": [
        {
          "output_type": "stream",
          "name": "stdout",
          "text": [
            "Requirement already satisfied: pyLDAvis in /usr/local/lib/python3.10/dist-packages (3.4.1)\n",
            "Requirement already satisfied: numpy>=1.24.2 in /usr/local/lib/python3.10/dist-packages (from pyLDAvis) (1.25.1)\n",
            "Requirement already satisfied: scipy in /usr/local/lib/python3.10/dist-packages (from pyLDAvis) (1.10.1)\n",
            "Requirement already satisfied: pandas>=2.0.0 in /usr/local/lib/python3.10/dist-packages (from pyLDAvis) (2.0.3)\n",
            "Requirement already satisfied: joblib>=1.2.0 in /usr/local/lib/python3.10/dist-packages (from pyLDAvis) (1.2.0)\n",
            "Requirement already satisfied: jinja2 in /usr/local/lib/python3.10/dist-packages (from pyLDAvis) (3.1.2)\n",
            "Requirement already satisfied: numexpr in /usr/local/lib/python3.10/dist-packages (from pyLDAvis) (2.8.4)\n",
            "Requirement already satisfied: funcy in /usr/local/lib/python3.10/dist-packages (from pyLDAvis) (2.0)\n",
            "Requirement already satisfied: scikit-learn>=1.0.0 in /usr/local/lib/python3.10/dist-packages (from pyLDAvis) (1.2.2)\n",
            "Requirement already satisfied: gensim in /usr/local/lib/python3.10/dist-packages (from pyLDAvis) (4.3.1)\n",
            "Requirement already satisfied: setuptools in /usr/local/lib/python3.10/dist-packages (from pyLDAvis) (67.7.2)\n",
            "Requirement already satisfied: python-dateutil>=2.8.2 in /usr/local/lib/python3.10/dist-packages (from pandas>=2.0.0->pyLDAvis) (2.8.2)\n",
            "Requirement already satisfied: pytz>=2020.1 in /usr/local/lib/python3.10/dist-packages (from pandas>=2.0.0->pyLDAvis) (2022.7.1)\n",
            "Requirement already satisfied: tzdata>=2022.1 in /usr/local/lib/python3.10/dist-packages (from pandas>=2.0.0->pyLDAvis) (2023.3)\n",
            "Requirement already satisfied: threadpoolctl>=2.0.0 in /usr/local/lib/python3.10/dist-packages (from scikit-learn>=1.0.0->pyLDAvis) (3.1.0)\n",
            "Requirement already satisfied: smart-open>=1.8.1 in /usr/local/lib/python3.10/dist-packages (from gensim->pyLDAvis) (6.3.0)\n",
            "Requirement already satisfied: MarkupSafe>=2.0 in /usr/local/lib/python3.10/dist-packages (from jinja2->pyLDAvis) (2.1.3)\n",
            "Requirement already satisfied: six>=1.5 in /usr/local/lib/python3.10/dist-packages (from python-dateutil>=2.8.2->pandas>=2.0.0->pyLDAvis) (1.16.0)\n"
          ]
        }
      ]
    },
    {
      "cell_type": "code",
      "source": [
        "import pandas as pd\n",
        "\n",
        "df = pd.read_csv('/content/drive/MyDrive/colab_data_file/appreply_nmap.csv')\n",
        "df = df.iloc[3:]\n",
        "df = df.reset_index()\n",
        "df = df.drop(columns=['index','Unnamed: 0'])\n",
        "df.head()"
      ],
      "metadata": {
        "colab": {
          "base_uri": "https://localhost:8080/",
          "height": 206
        },
        "id": "FP2O0e3BxmxY",
        "outputId": "6a477173-c774-4607-e80d-2fec216d8484"
      },
      "execution_count": 3,
      "outputs": [
        {
          "output_type": "execute_result",
          "data": {
            "text/plain": [
              "                                                text  score\n",
              "0  1. 과속단속 카메라 안내지점을 고속도로와 일반도로로 나눠서 각각 몇미터 전부터 안...      5\n",
              "1  길 찾을 때나 버스정보 볼때 유용하게 사용하고 있습니다. 이번에 업데이트를 했는데 ...      4\n",
              "2  타 네비에서 네이버지도 네비로 잘정착했습니다. 하지만 블루투스 연동 관련 버그가있습...      5\n",
              "3  하아... 네이버지도 어플 자체 오류가 너무 많네요 백지로 뜨거나 일시적인 네트워크...      2\n",
              "4  타맵보다 인터페이스도 좋구 안정적이어서 자주 사용합니다 . 아쉬운점은 구간 단속시 ...      4"
            ],
            "text/html": [
              "\n",
              "\n",
              "  <div id=\"df-e1aa6afe-5d80-4282-8581-1efb3c98c22a\">\n",
              "    <div class=\"colab-df-container\">\n",
              "      <div>\n",
              "<style scoped>\n",
              "    .dataframe tbody tr th:only-of-type {\n",
              "        vertical-align: middle;\n",
              "    }\n",
              "\n",
              "    .dataframe tbody tr th {\n",
              "        vertical-align: top;\n",
              "    }\n",
              "\n",
              "    .dataframe thead th {\n",
              "        text-align: right;\n",
              "    }\n",
              "</style>\n",
              "<table border=\"1\" class=\"dataframe\">\n",
              "  <thead>\n",
              "    <tr style=\"text-align: right;\">\n",
              "      <th></th>\n",
              "      <th>text</th>\n",
              "      <th>score</th>\n",
              "    </tr>\n",
              "  </thead>\n",
              "  <tbody>\n",
              "    <tr>\n",
              "      <th>0</th>\n",
              "      <td>1. 과속단속 카메라 안내지점을 고속도로와 일반도로로 나눠서 각각 몇미터 전부터 안...</td>\n",
              "      <td>5</td>\n",
              "    </tr>\n",
              "    <tr>\n",
              "      <th>1</th>\n",
              "      <td>길 찾을 때나 버스정보 볼때 유용하게 사용하고 있습니다. 이번에 업데이트를 했는데 ...</td>\n",
              "      <td>4</td>\n",
              "    </tr>\n",
              "    <tr>\n",
              "      <th>2</th>\n",
              "      <td>타 네비에서 네이버지도 네비로 잘정착했습니다. 하지만 블루투스 연동 관련 버그가있습...</td>\n",
              "      <td>5</td>\n",
              "    </tr>\n",
              "    <tr>\n",
              "      <th>3</th>\n",
              "      <td>하아... 네이버지도 어플 자체 오류가 너무 많네요 백지로 뜨거나 일시적인 네트워크...</td>\n",
              "      <td>2</td>\n",
              "    </tr>\n",
              "    <tr>\n",
              "      <th>4</th>\n",
              "      <td>타맵보다 인터페이스도 좋구 안정적이어서 자주 사용합니다 . 아쉬운점은 구간 단속시 ...</td>\n",
              "      <td>4</td>\n",
              "    </tr>\n",
              "  </tbody>\n",
              "</table>\n",
              "</div>\n",
              "      <button class=\"colab-df-convert\" onclick=\"convertToInteractive('df-e1aa6afe-5d80-4282-8581-1efb3c98c22a')\"\n",
              "              title=\"Convert this dataframe to an interactive table.\"\n",
              "              style=\"display:none;\">\n",
              "\n",
              "  <svg xmlns=\"http://www.w3.org/2000/svg\" height=\"24px\"viewBox=\"0 0 24 24\"\n",
              "       width=\"24px\">\n",
              "    <path d=\"M0 0h24v24H0V0z\" fill=\"none\"/>\n",
              "    <path d=\"M18.56 5.44l.94 2.06.94-2.06 2.06-.94-2.06-.94-.94-2.06-.94 2.06-2.06.94zm-11 1L8.5 8.5l.94-2.06 2.06-.94-2.06-.94L8.5 2.5l-.94 2.06-2.06.94zm10 10l.94 2.06.94-2.06 2.06-.94-2.06-.94-.94-2.06-.94 2.06-2.06.94z\"/><path d=\"M17.41 7.96l-1.37-1.37c-.4-.4-.92-.59-1.43-.59-.52 0-1.04.2-1.43.59L10.3 9.45l-7.72 7.72c-.78.78-.78 2.05 0 2.83L4 21.41c.39.39.9.59 1.41.59.51 0 1.02-.2 1.41-.59l7.78-7.78 2.81-2.81c.8-.78.8-2.07 0-2.86zM5.41 20L4 18.59l7.72-7.72 1.47 1.35L5.41 20z\"/>\n",
              "  </svg>\n",
              "      </button>\n",
              "\n",
              "\n",
              "\n",
              "    <div id=\"df-d25de663-5c47-47e3-aa73-c61f38685456\">\n",
              "      <button class=\"colab-df-quickchart\" onclick=\"quickchart('df-d25de663-5c47-47e3-aa73-c61f38685456')\"\n",
              "              title=\"Suggest charts.\"\n",
              "              style=\"display:none;\">\n",
              "\n",
              "<svg xmlns=\"http://www.w3.org/2000/svg\" height=\"24px\"viewBox=\"0 0 24 24\"\n",
              "     width=\"24px\">\n",
              "    <g>\n",
              "        <path d=\"M19 3H5c-1.1 0-2 .9-2 2v14c0 1.1.9 2 2 2h14c1.1 0 2-.9 2-2V5c0-1.1-.9-2-2-2zM9 17H7v-7h2v7zm4 0h-2V7h2v10zm4 0h-2v-4h2v4z\"/>\n",
              "    </g>\n",
              "</svg>\n",
              "      </button>\n",
              "    </div>\n",
              "\n",
              "<style>\n",
              "  .colab-df-quickchart {\n",
              "    background-color: #E8F0FE;\n",
              "    border: none;\n",
              "    border-radius: 50%;\n",
              "    cursor: pointer;\n",
              "    display: none;\n",
              "    fill: #1967D2;\n",
              "    height: 32px;\n",
              "    padding: 0 0 0 0;\n",
              "    width: 32px;\n",
              "  }\n",
              "\n",
              "  .colab-df-quickchart:hover {\n",
              "    background-color: #E2EBFA;\n",
              "    box-shadow: 0px 1px 2px rgba(60, 64, 67, 0.3), 0px 1px 3px 1px rgba(60, 64, 67, 0.15);\n",
              "    fill: #174EA6;\n",
              "  }\n",
              "\n",
              "  [theme=dark] .colab-df-quickchart {\n",
              "    background-color: #3B4455;\n",
              "    fill: #D2E3FC;\n",
              "  }\n",
              "\n",
              "  [theme=dark] .colab-df-quickchart:hover {\n",
              "    background-color: #434B5C;\n",
              "    box-shadow: 0px 1px 3px 1px rgba(0, 0, 0, 0.15);\n",
              "    filter: drop-shadow(0px 1px 2px rgba(0, 0, 0, 0.3));\n",
              "    fill: #FFFFFF;\n",
              "  }\n",
              "</style>\n",
              "\n",
              "    <script>\n",
              "      async function quickchart(key) {\n",
              "        const containerElement = document.querySelector('#' + key);\n",
              "        const charts = await google.colab.kernel.invokeFunction(\n",
              "            'suggestCharts', [key], {});\n",
              "      }\n",
              "    </script>\n",
              "\n",
              "      <script>\n",
              "\n",
              "function displayQuickchartButton(domScope) {\n",
              "  let quickchartButtonEl =\n",
              "    domScope.querySelector('#df-d25de663-5c47-47e3-aa73-c61f38685456 button.colab-df-quickchart');\n",
              "  quickchartButtonEl.style.display =\n",
              "    google.colab.kernel.accessAllowed ? 'block' : 'none';\n",
              "}\n",
              "\n",
              "        displayQuickchartButton(document);\n",
              "      </script>\n",
              "      <style>\n",
              "    .colab-df-container {\n",
              "      display:flex;\n",
              "      flex-wrap:wrap;\n",
              "      gap: 12px;\n",
              "    }\n",
              "\n",
              "    .colab-df-convert {\n",
              "      background-color: #E8F0FE;\n",
              "      border: none;\n",
              "      border-radius: 50%;\n",
              "      cursor: pointer;\n",
              "      display: none;\n",
              "      fill: #1967D2;\n",
              "      height: 32px;\n",
              "      padding: 0 0 0 0;\n",
              "      width: 32px;\n",
              "    }\n",
              "\n",
              "    .colab-df-convert:hover {\n",
              "      background-color: #E2EBFA;\n",
              "      box-shadow: 0px 1px 2px rgba(60, 64, 67, 0.3), 0px 1px 3px 1px rgba(60, 64, 67, 0.15);\n",
              "      fill: #174EA6;\n",
              "    }\n",
              "\n",
              "    [theme=dark] .colab-df-convert {\n",
              "      background-color: #3B4455;\n",
              "      fill: #D2E3FC;\n",
              "    }\n",
              "\n",
              "    [theme=dark] .colab-df-convert:hover {\n",
              "      background-color: #434B5C;\n",
              "      box-shadow: 0px 1px 3px 1px rgba(0, 0, 0, 0.15);\n",
              "      filter: drop-shadow(0px 1px 2px rgba(0, 0, 0, 0.3));\n",
              "      fill: #FFFFFF;\n",
              "    }\n",
              "  </style>\n",
              "\n",
              "      <script>\n",
              "        const buttonEl =\n",
              "          document.querySelector('#df-e1aa6afe-5d80-4282-8581-1efb3c98c22a button.colab-df-convert');\n",
              "        buttonEl.style.display =\n",
              "          google.colab.kernel.accessAllowed ? 'block' : 'none';\n",
              "\n",
              "        async function convertToInteractive(key) {\n",
              "          const element = document.querySelector('#df-e1aa6afe-5d80-4282-8581-1efb3c98c22a');\n",
              "          const dataTable =\n",
              "            await google.colab.kernel.invokeFunction('convertToInteractive',\n",
              "                                                     [key], {});\n",
              "          if (!dataTable) return;\n",
              "\n",
              "          const docLinkHtml = 'Like what you see? Visit the ' +\n",
              "            '<a target=\"_blank\" href=https://colab.research.google.com/notebooks/data_table.ipynb>data table notebook</a>'\n",
              "            + ' to learn more about interactive tables.';\n",
              "          element.innerHTML = '';\n",
              "          dataTable['output_type'] = 'display_data';\n",
              "          await google.colab.output.renderOutput(dataTable, element);\n",
              "          const docLink = document.createElement('div');\n",
              "          docLink.innerHTML = docLinkHtml;\n",
              "          element.appendChild(docLink);\n",
              "        }\n",
              "      </script>\n",
              "    </div>\n",
              "  </div>\n"
            ]
          },
          "metadata": {},
          "execution_count": 3
        }
      ]
    },
    {
      "cell_type": "code",
      "source": [
        "import konlpy\n",
        "import re\n",
        "from tqdm import tqdm"
      ],
      "metadata": {
        "id": "yE2vikZxx_fA"
      },
      "execution_count": 4,
      "outputs": []
    },
    {
      "cell_type": "code",
      "source": [
        "def tokenize_text(text):\n",
        "    text = re.sub(r'[^ㄱ-ㅣ가-힣\\s]','',text)\n",
        "\n",
        "    okt = konlpy.tag.Okt()\n",
        "    okt_morphs = okt.pos(text)\n",
        "\n",
        "    words = []\n",
        "    for word, pos in okt_morphs:\n",
        "        if pos in ['Adjective','Verb','Noun']:\n",
        "            words.append(word)\n",
        "\n",
        "    word_str = ' '.join(words)\n",
        "    return word_str\n",
        "\n",
        "tokenize_text('길 찾을 때나 버스정보 볼때 유용하게 사용하고 있습니다.')"
      ],
      "metadata": {
        "colab": {
          "base_uri": "https://localhost:8080/",
          "height": 35
        },
        "id": "hwHd6yiMyAyB",
        "outputId": "e07d0a29-adea-4d2d-c099-fe0649efd578"
      },
      "execution_count": 5,
      "outputs": [
        {
          "output_type": "execute_result",
          "data": {
            "text/plain": [
              "'길 찾을 때 버스 정보 볼때 유용하게 사용 있습니다'"
            ],
            "application/vnd.google.colaboratory.intrinsic+json": {
              "type": "string"
            }
          },
          "metadata": {},
          "execution_count": 5
        }
      ]
    },
    {
      "cell_type": "code",
      "source": [
        "token_list = []\n",
        "for text in tqdm(df['text']):\n",
        "    token_list.append(tokenize_text(text))"
      ],
      "metadata": {
        "colab": {
          "base_uri": "https://localhost:8080/"
        },
        "id": "x8gIRsk6yJT1",
        "outputId": "c4491f44-71e8-4bce-db45-015c9d51ef1f"
      },
      "execution_count": 6,
      "outputs": [
        {
          "output_type": "stream",
          "name": "stderr",
          "text": [
            "100%|██████████| 1000/1000 [00:45<00:00, 21.93it/s]\n"
          ]
        }
      ]
    },
    {
      "cell_type": "code",
      "source": [
        "token_list[1]"
      ],
      "metadata": {
        "colab": {
          "base_uri": "https://localhost:8080/",
          "height": 53
        },
        "id": "Rxrhvi1xyLVt",
        "outputId": "6ff2e380-3376-4eda-c592-7db1da041fd4"
      },
      "execution_count": 7,
      "outputs": [
        {
          "output_type": "execute_result",
          "data": {
            "text/plain": [
              "'길 찾을 때 버스 정보 볼때 유용하게 사용 있습니다 이번 업데이트 했는데 지도 확대 축소 버튼 사라졌더라구요 보통 손 조작 하게 되는데 확대 할 때 더블 탭 하는게 번거롭고 손가락 축소 하기도 힘들어요 도화면 크기 설정 있으면 좋겠습니다'"
            ],
            "application/vnd.google.colaboratory.intrinsic+json": {
              "type": "string"
            }
          },
          "metadata": {},
          "execution_count": 7
        }
      ]
    },
    {
      "cell_type": "code",
      "source": [
        "corpus_list = []\n",
        "\n",
        "for index in range(len(token_list)):\n",
        "    corpus = token_list[index]\n",
        "    if len(set(corpus.split())) < 3:\n",
        "        corpus_list.append(corpus)\n",
        "\n",
        "for corpus in corpus_list:\n",
        "    token_list.remove(corpus)"
      ],
      "metadata": {
        "id": "3bRXzczIyMkC"
      },
      "execution_count": 8,
      "outputs": []
    },
    {
      "cell_type": "code",
      "source": [
        "from sklearn.feature_extraction.text import CountVectorizer\n",
        "from sklearn.decomposition import LatentDirichletAllocation"
      ],
      "metadata": {
        "id": "FGJTtZnFyNcX"
      },
      "execution_count": 9,
      "outputs": []
    },
    {
      "cell_type": "code",
      "source": [
        "#LDA는 count기반의 vectorizer만 사용\n",
        "count_vectorizer = CountVectorizer(max_df=0.1 , min_df = 2, max_features=1000, ngram_range=(1,2))\n",
        "\n",
        "feat_vect = count_vectorizer.fit_transform(token_list)\n",
        "feat_vect.shape"
      ],
      "metadata": {
        "colab": {
          "base_uri": "https://localhost:8080/"
        },
        "id": "EYEvEFTOyP2u",
        "outputId": "b248b63a-72cd-4f04-d7f0-7822164ca467"
      },
      "execution_count": 10,
      "outputs": [
        {
          "output_type": "execute_result",
          "data": {
            "text/plain": [
              "(1000, 1000)"
            ]
          },
          "metadata": {},
          "execution_count": 10
        }
      ]
    },
    {
      "cell_type": "code",
      "source": [
        "lda = LatentDirichletAllocation(n_components=5)\n",
        "lda.fit(feat_vect)"
      ],
      "metadata": {
        "colab": {
          "base_uri": "https://localhost:8080/",
          "height": 74
        },
        "id": "4l1jmfhtyQmT",
        "outputId": "45f1d486-b2a3-4810-89bc-0cce4ce12112"
      },
      "execution_count": 11,
      "outputs": [
        {
          "output_type": "execute_result",
          "data": {
            "text/plain": [
              "LatentDirichletAllocation(n_components=5)"
            ],
            "text/html": [
              "<style>#sk-container-id-1 {color: black;background-color: white;}#sk-container-id-1 pre{padding: 0;}#sk-container-id-1 div.sk-toggleable {background-color: white;}#sk-container-id-1 label.sk-toggleable__label {cursor: pointer;display: block;width: 100%;margin-bottom: 0;padding: 0.3em;box-sizing: border-box;text-align: center;}#sk-container-id-1 label.sk-toggleable__label-arrow:before {content: \"▸\";float: left;margin-right: 0.25em;color: #696969;}#sk-container-id-1 label.sk-toggleable__label-arrow:hover:before {color: black;}#sk-container-id-1 div.sk-estimator:hover label.sk-toggleable__label-arrow:before {color: black;}#sk-container-id-1 div.sk-toggleable__content {max-height: 0;max-width: 0;overflow: hidden;text-align: left;background-color: #f0f8ff;}#sk-container-id-1 div.sk-toggleable__content pre {margin: 0.2em;color: black;border-radius: 0.25em;background-color: #f0f8ff;}#sk-container-id-1 input.sk-toggleable__control:checked~div.sk-toggleable__content {max-height: 200px;max-width: 100%;overflow: auto;}#sk-container-id-1 input.sk-toggleable__control:checked~label.sk-toggleable__label-arrow:before {content: \"▾\";}#sk-container-id-1 div.sk-estimator input.sk-toggleable__control:checked~label.sk-toggleable__label {background-color: #d4ebff;}#sk-container-id-1 div.sk-label input.sk-toggleable__control:checked~label.sk-toggleable__label {background-color: #d4ebff;}#sk-container-id-1 input.sk-hidden--visually {border: 0;clip: rect(1px 1px 1px 1px);clip: rect(1px, 1px, 1px, 1px);height: 1px;margin: -1px;overflow: hidden;padding: 0;position: absolute;width: 1px;}#sk-container-id-1 div.sk-estimator {font-family: monospace;background-color: #f0f8ff;border: 1px dotted black;border-radius: 0.25em;box-sizing: border-box;margin-bottom: 0.5em;}#sk-container-id-1 div.sk-estimator:hover {background-color: #d4ebff;}#sk-container-id-1 div.sk-parallel-item::after {content: \"\";width: 100%;border-bottom: 1px solid gray;flex-grow: 1;}#sk-container-id-1 div.sk-label:hover label.sk-toggleable__label {background-color: #d4ebff;}#sk-container-id-1 div.sk-serial::before {content: \"\";position: absolute;border-left: 1px solid gray;box-sizing: border-box;top: 0;bottom: 0;left: 50%;z-index: 0;}#sk-container-id-1 div.sk-serial {display: flex;flex-direction: column;align-items: center;background-color: white;padding-right: 0.2em;padding-left: 0.2em;position: relative;}#sk-container-id-1 div.sk-item {position: relative;z-index: 1;}#sk-container-id-1 div.sk-parallel {display: flex;align-items: stretch;justify-content: center;background-color: white;position: relative;}#sk-container-id-1 div.sk-item::before, #sk-container-id-1 div.sk-parallel-item::before {content: \"\";position: absolute;border-left: 1px solid gray;box-sizing: border-box;top: 0;bottom: 0;left: 50%;z-index: -1;}#sk-container-id-1 div.sk-parallel-item {display: flex;flex-direction: column;z-index: 1;position: relative;background-color: white;}#sk-container-id-1 div.sk-parallel-item:first-child::after {align-self: flex-end;width: 50%;}#sk-container-id-1 div.sk-parallel-item:last-child::after {align-self: flex-start;width: 50%;}#sk-container-id-1 div.sk-parallel-item:only-child::after {width: 0;}#sk-container-id-1 div.sk-dashed-wrapped {border: 1px dashed gray;margin: 0 0.4em 0.5em 0.4em;box-sizing: border-box;padding-bottom: 0.4em;background-color: white;}#sk-container-id-1 div.sk-label label {font-family: monospace;font-weight: bold;display: inline-block;line-height: 1.2em;}#sk-container-id-1 div.sk-label-container {text-align: center;}#sk-container-id-1 div.sk-container {/* jupyter's `normalize.less` sets `[hidden] { display: none; }` but bootstrap.min.css set `[hidden] { display: none !important; }` so we also need the `!important` here to be able to override the default hidden behavior on the sphinx rendered scikit-learn.org. See: https://github.com/scikit-learn/scikit-learn/issues/21755 */display: inline-block !important;position: relative;}#sk-container-id-1 div.sk-text-repr-fallback {display: none;}</style><div id=\"sk-container-id-1\" class=\"sk-top-container\"><div class=\"sk-text-repr-fallback\"><pre>LatentDirichletAllocation(n_components=5)</pre><b>In a Jupyter environment, please rerun this cell to show the HTML representation or trust the notebook. <br />On GitHub, the HTML representation is unable to render, please try loading this page with nbviewer.org.</b></div><div class=\"sk-container\" hidden><div class=\"sk-item\"><div class=\"sk-estimator sk-toggleable\"><input class=\"sk-toggleable__control sk-hidden--visually\" id=\"sk-estimator-id-1\" type=\"checkbox\" checked><label for=\"sk-estimator-id-1\" class=\"sk-toggleable__label sk-toggleable__label-arrow\">LatentDirichletAllocation</label><div class=\"sk-toggleable__content\"><pre>LatentDirichletAllocation(n_components=5)</pre></div></div></div></div></div>"
            ]
          },
          "metadata": {},
          "execution_count": 11
        }
      ]
    },
    {
      "cell_type": "code",
      "source": [
        "lda.components_"
      ],
      "metadata": {
        "colab": {
          "base_uri": "https://localhost:8080/"
        },
        "id": "YlaHJD_3yRfh",
        "outputId": "ebdc4358-1030-4c97-c2de-36cb5ef54c78"
      },
      "execution_count": 12,
      "outputs": [
        {
          "output_type": "execute_result",
          "data": {
            "text/plain": [
              "array([[22.12337114, 10.94262101,  0.20111002, ...,  6.38417694,\n",
              "         0.20077183,  0.20391062],\n",
              "       [ 3.41557756,  0.20176882,  1.73869635, ...,  1.19854714,\n",
              "         5.80959402,  0.20266603],\n",
              "       [ 5.01674252,  0.47277063,  6.71272047, ...,  2.59307417,\n",
              "         0.20756386,  5.94077796],\n",
              "       [13.14239185,  1.81451139,  6.52059617, ...,  0.20032707,\n",
              "         5.57918589, 10.1953302 ],\n",
              "       [ 4.30191693, 11.56832815,  3.82687699, ...,  1.62387468,\n",
              "         0.2028844 , 21.45731519]])"
            ]
          },
          "metadata": {},
          "execution_count": 12
        }
      ]
    },
    {
      "cell_type": "code",
      "source": [
        "feature_names = count_vectorizer.get_feature_names_out()\n",
        "\n",
        "def display_topics(model, feature_names, num_top_words=10):\n",
        "    for topic_index, topic in enumerate(model.components_):\n",
        "        print('Topic #',topic_index)\n",
        "        topic_word_indexes = topic.argsort()[::-1]\n",
        "        top_indexes = topic_word_indexes[:num_top_words]\n",
        "\n",
        "        print(top_indexes)\n",
        "        feature_concat = ' '.join([feature_names[i] for i in top_indexes])\n",
        "        print(feature_concat)\n",
        "\n",
        "display_topics(lda,feature_names,10)"
      ],
      "metadata": {
        "colab": {
          "base_uri": "https://localhost:8080/"
        },
        "id": "bijqKQyEySWC",
        "outputId": "da9c21a0-e7da-4ec9-c8eb-16e78e29fcb2"
      },
      "execution_count": 13,
      "outputs": [
        {
          "output_type": "stream",
          "name": "stdout",
          "text": [
            "Topic # 0\n",
            "[813 189 770  42 629 732 154 584 860 670]\n",
            "지하철 대중교통 주변 거리 이동 정말 노선 오류 출발 있는데\n",
            "Topic # 1\n",
            "[782 715 754 810 440 865 505 963 453 693]\n",
            "즐겨찾기 저장 좋겠습니다 지점 선택 카카오 아이콘 해주세요 수정 자동\n",
            "Topic # 2\n",
            "[344 989 864 348 857 621 517 650 445 474]\n",
            "버전 확대 카메라 버튼 축소 음성 안드로이드 이후 소리 실행\n",
            "Topic # 3\n",
            "[782 715 424 913 482 636 261 963 453 440]\n",
            "즐겨찾기 저장 삭제 하나 쓰고 이번 리스트 해주세요 수정 선택\n",
            "Topic # 4\n",
            "[142 199 697 299 632 332  70 144 888 825]\n",
            "내비 도로 자전거 목적지 이륜차 방향 고속도로 내비게이션 티맵 차선\n"
          ]
        }
      ]
    },
    {
      "cell_type": "code",
      "source": [
        "import pyLDAvis.lda_model\n",
        "\n",
        "pyLDAvis.enable_notebook()\n",
        "vis = pyLDAvis.lda_model.prepare(lda, feat_vect, count_vectorizer)\n",
        "pyLDAvis.display(vis)"
      ],
      "metadata": {
        "colab": {
          "base_uri": "https://localhost:8080/",
          "height": 880
        },
        "id": "MPHsgdctyTOD",
        "outputId": "5b01f0ed-3889-4db0-e106-51d9a463d2e2"
      },
      "execution_count": 14,
      "outputs": [
        {
          "output_type": "execute_result",
          "data": {
            "text/plain": [
              "<IPython.core.display.HTML object>"
            ],
            "text/html": [
              "\n",
              "<link rel=\"stylesheet\" type=\"text/css\" href=\"https://cdn.jsdelivr.net/gh/bmabey/pyLDAvis@3.4.0/pyLDAvis/js/ldavis.v1.0.0.css\">\n",
              "\n",
              "\n",
              "<div id=\"ldavis_el16231402318227289283888957389\" style=\"background-color:white;\"></div>\n",
              "<script type=\"text/javascript\">\n",
              "\n",
              "var ldavis_el16231402318227289283888957389_data = {\"mdsDat\": {\"x\": [-0.0698647037641524, -0.0076142684366672314, -0.1482760905508836, 0.10899684259463677, 0.11675822015706681], \"y\": [0.15997456258862627, -0.09993479346064912, -0.06479868345031818, -0.032456514122876715, 0.03721542844521758], \"topics\": [1, 2, 3, 4, 5], \"cluster\": [1, 1, 1, 1, 1], \"Freq\": [24.229162186282448, 20.440139979079706, 19.426219360562875, 18.746634639060794, 17.15784383501418]}, \"tinfo\": {\"Term\": [\"\\uc990\\uaca8\\ucc3e\\uae30\", \"\\ub0b4\\ube44\", \"\\uc9c0\\ud558\\ucca0\", \"\\ub3c4\\ub85c\", \"\\uc800\\uc7a5\", \"\\uce74\\uba54\\ub77c\", \"\\ud655\\ub300\", \"\\ubc84\\uc804\", \"\\ub300\\uc911\\uad50\\ud1b5\", \"\\uc790\\uc804\\uac70\", \"\\ucd95\\uc18c\", \"\\uc774\\ub95c\\ucc28\", \"\\uacfc\\uc18d\", \"\\uc548\\ub4dc\\ub85c\\uc774\\ub4dc\", \"\\ub9ac\\uc2a4\\ud2b8\", \"\\uc74c\\uc545\", \"\\ubc84\\ud2bc\", \"\\uc8fc\\ubcc0\", \"\\uc74c\\uc131\", \"\\uc0ad\\uc81c\", \"\\uc2e4\\ud589\", \"\\ud655\\ub300 \\ucd95\\uc18c\", \"\\ucc28\\uc120\", \"\\uc774\\ub3d9\", \"\\ud558\\ub098\", \"\\uc9c0\\uc810\", \"\\uc18c\\ub9ac\", \"\\ub178\\uc120\", \"\\uace0\\uc18d\\ub3c4\\ub85c\", \"\\ubc29\\ud5a5\", \"\\uce74\\uba54\\ub77c\", \"\\uacfc\\uc18d\", \"\\uc74c\\uc545\", \"\\ud655\\ub300 \\ucd95\\uc18c\", \"\\uc624\\ud1a0\", \"\\uc548\\uc804 \\uc6b4\\ud589\", \"\\uc548\\ub4dc\\ub85c\\uc774\\ub4dc \\uc624\\ud1a0\", \"\\uacfc\\uc18d \\uce74\\uba54\\ub77c\", \"\\ucd95\\uc18c \\ubc84\\ud2bc\", \"\\ubcfc\\ub968\", \"\\uc190\\uac00\\ub77d\", \"\\uc74c\\ub7c9\", \"\\uc548\\ub4dc\\ub85c\\uc774\\ub4dc\", \"\\ub2e8\\uc18d \\uce74\\uba54\\ub77c\", \"\\uc548\\ub0b4 \\uc74c\\uc131\", \"\\uc6b4\\ud589 \\ubaa8\\ub4dc\", \"\\uc9c0\\ub3c4 \\ud655\\ub300\", \"\\uc7ac\\uc0dd\", \"\\uacfc\\uc18d \\ub2e8\\uc18d\", \"\\ub3d9\\uc791\", \"\\ubbf8\\ub514\\uc5b4\", \"\\ubd80\\ud0c1 \\ud569\\ub2c8\\ub2e4\", \"\\ub178\\ub798\", \"\\uc9c0\\ub3c4 \\ub0b4\\ube44\\uac8c\\uc774\\uc158\", \"\\ubc84\\uc804 \\uc0ac\\uc6a9\", \"\\ucd95\\uc18c\", \"\\ucef4\\ud4e8\\ud130\", \"\\ube14\\ub8e8\\ud22c\\uc2a4\", \"\\uc548\\uc804\", \"\\uace0\\uc74c\", \"\\ud655\\ub300\", \"\\ubc84\\uc804\", \"\\uc18c\\ub9ac\", \"\\uc74c\\uc131\", \"\\uc774\\uc804 \\ubc84\\uc804\", \"\\uc870\\uc808\", \"\\uc2e4\\ud589\", \"\\ubc84\\ud2bc\", \"\\ub2e8\\uc18d\", \"\\uc18d\\ub3c4\", \"\\uc774\\ud6c4\", \"\\uc5f0\\uacb0\", \"\\uc6b4\\uc804\", \"\\ud574\\ub3c4\", \"\\uc5c5\\ub370\\uc774\\ud2b8 \\uc774\\ud6c4\", \"\\uce74\\uce74\\uc624\", \"\\uc6b4\\ud589\", \"\\uc2dc\\uc791\", \"\\ubd88\\ud3b8\\ud569\\ub2c8\\ub2e4\", \"\\uc608\\uc804\", \"\\ub418\\ub294\\ub370\", \"\\ud655\\uc778\", \"\\ubaa8\\ub4dc\", \"\\uc9c0\\uae08\", \"\\uadf8\\ub0e5\", \"\\ubc14\\ub85c\", \"\\uc774\\uc804\", \"\\uc9c0\\ud558\\ucca0\", \"\\ubc84\\uc2a4 \\uc9c0\\ud558\\ucca0\", \"\\uc608\\uc0c1\", \"\\uc218\\ub2e8\", \"\\uc5b4\\ud50c \\uc0ac\\uc6a9\", \"\\uc694\\uae08\", \"\\uc608\\uc0c1 \\uc2dc\\uac04\", \"\\uc9c0\\ub3c4 \\uc815\\ub9d0\", \"\\ub9c8\\uc9c0\\ub9c9\", \"\\uad50\\ud1b5 \\uc218\\ub2e8\", \"\\ubc29\\uba74\", \"\\ubd88\\uad6c\", \"\\uc8fc\\ubcc0 \\uac80\\uc0c9\", \"\\ubc84\\uc2a4 \\ubc88\\ud638\", \"\\ub300\\uc911\\uad50\\ud1b5 \\uc815\\ubcf4\", \"\\uc788\\uc5c8\\uc2b5\\ub2c8\\ub2e4\", \"\\ud0dd\\uc2dc\", \"\\ub300\\uc911\\uad50\\ud1b5 \\uae38\\ucc3e\\uae30\", \"\\uc11c\\uc6b8\", \"\\uc2dc\\uac01\", \"\\uc5f4\\ucc28\", \"\\ub9e4\\uc7a5\", \"\\ud558\\uc2dc\\ub294\", \"\\ubd80\\uc0b0\", \"\\ucc28\\uc774\", \"\\ub300\\uc911\\uad50\\ud1b5\", \"\\ub300\\uc911\\uad50\\ud1b5 \\uc774\\uc6a9\", \"\\uc778\\ud574\", \"\\ub178\\uc120\", \"\\uc774\\ub3d9\", \"\\uad50\\ud1b5\", \"\\uac00\\uae4c\\uc6b4\", \"\\uc8fc\\ubcc0\", \"\\uc804\\ud600\", \"\\uc815\\ub958\\uc7a5\", \"\\uadfc\\ucc98\", \"\\uc7a5\\uc18c \\uac80\\uc0c9\", \"\\uae38\\ucc3e\\uae30 \\uae30\\ub2a5\", \"\\uac00\\ub294\", \"\\uac70\\ub9ac\", \"\\ud658\\uc2b9\", \"\\ub2f5\\ubcc0\", \"\\ubcf4\\uace0\", \"\\uc81c\\uacf5\", \"\\uc815\\ub9d0\", \"\\uc624\\ub958\", \"\\ucd9c\\ubc1c\", \"\\ube60\\ub978\", \"\\uc54a\\uace0\", \"\\uc9c0\\uc5ed\", \"\\uc788\\ub294\\ub370\", \"\\ud558\\uc9c0\", \"\\uac19\\uc740\", \"\\ub418\\ub294\", \"\\ud604\\uc7ac\", \"\\uc774\\ub7f0\", \"\\ubc14\\ub85c\", \"\\ub429\\ub2c8\\ub2e4\", \"\\uc774\\uc804\", \"\\uc608\\uc804\", \"\\ub9ac\\ubdf0\", \"\\uc790\\uc804\\uac70\", \"\\uc774\\ub95c\\ucc28\", \"\\ucc28\\uc120\", \"\\uc804\\uc6a9\", \"\\ub3c4\\ub85c\", \"\\uc774\\ud0c8\", \"\\uac00\\ub2e4\\uac00\", \"\\uad50\\ucc28\\ub85c\", \"\\ub124\\uc774\\ubc84 \\ub0b4\\ube44\", \"\\ucc28\\uc885\", \"\\uc9c1\\uc9c4\", \"\\uacbd\\ub85c \\uc774\\ud0c8\", \"\\ub124\\uc774\\ubc84 \\ub3c4\\ub85c\", \"\\uc790\\ub3d9\\ucc28 \\uc804\\uc6a9\", \"\\uac00\\ub77c\", \"\\uc804\\uc6a9 \\ub3c4\\ub85c\", \"\\uc2dc\\ud5d8\", \"\\uc774\\ub95c\\ucc28 \\uacbd\\ub85c\", \"\\uc9c0\\ub3c4 \\uc911\\uc2ec\", \"\\uc798\\ubabb\", \"\\ud070\\uae38\", \"\\ud0d0\\uc0c9\", \"\\uacbd\\ub85c \\ud0d0\\uc0c9\", \"\\ub0b4\\ube44\", \"\\ubaa8\\ubc14\\uc77c\", \"\\uc81c\\uc678\", \"\\ub290\\ub08c\", \"\\ucd5c\\uc545\", \"\\uc624\\ub978\\ucabd\", \"\\uc6b0\\ud68c\", \"\\uace0\\uc18d\\ub3c4\\ub85c\", \"\\uc790\\ub3d9\\ucc28\", \"\\uae38\\uc774\", \"\\ub0b4\\ube44\\uac8c\\uc774\\uc158\", \"\\ubc29\\ud5a5\", \"\\uac00\\uba74\", \"\\ud2f0\\ub9f5\", \"\\ubaa9\\uc801\\uc9c0\", \"\\uc0ac\\uc9c4\", \"\\ucc28\\ub7c9\", \"\\ucd94\\ucc9c\", \"\\uc88c\\ud68c\\uc804\", \"\\uacbd\\ub85c \\uc548\\ub0b4\", \"\\ubcc0\\uacbd\", \"\\uc8fc\\ud589\", \"\\ud588\\ub294\\ub370\", \"\\uc9c4\\uc9dc\", \"\\uc120\\ud0dd\", \"\\uac11\\uc790\\uae30\", \"\\uce74\\uce74\\uc624\", \"\\uac19\\uc2b5\\ub2c8\\ub2e4\", \"\\uc815\\ub9d0\", \"\\uc0dd\\uac01\", \"\\uac70\\ub9ac\", \"\\uac19\\uc740\", \"\\ub8e8\\ud2b8\", \"\\uc8fc\\ucc28\\uc7a5\", \"\\uc2dd\\ub2f9\", \"\\ub3c4\\ucc29 \\uc9c0\\uc810\", \"\\uc788\\uc73c\\uba74 \\uc88b\\uaca0\\uc2b5\\ub2c8\\ub2e4\", \"\\ub178\\uc120\\ub3c4\", \"\\ucd5c\\uc18c \\uc2dc\\uac04\", \"\\uc990\\uaca8\\ucc3e\\uae30 \\uc800\\uc7a5\", \"\\uc9dc\\uc99d\", \"\\ub204\\ub974\\uae30\", \"\\ucd5c\\ub2e8 \\uac70\\ub9ac\", \"\\ucd9c\\ubc1c \\ub3c4\\ucc29\", \"\\uc694\\uccad\", \"\\ud130\\ubbf8\\ub110\", \"\\ubaa8\\uc758\", \"\\ubaa8\\uc758 \\uc8fc\\ud589\", \"\\uc601\\uc5c5\", \"\\uc720\\uc9c0\", \"\\uc544\\uc774\\ucf58\", \"\\uba54\\ubaa8\", \"\\uc9c0\\uc810\", \"\\uc5c5\\uccb4\", \"\\ub300\\ud574\", \"\\ucd5c\\uc18c\", \"\\ub9ce\\uc544\\uc11c\", \"\\uc608\\uc57d\", \"\\ucda9\\ubd84\\ud788\", \"\\ub124\\ud2b8\\uc6cc\\ud06c\", \"\\uc8fc\\ubcc0 \\uc800\\uc7a5\", \"\\uacbd\\uc720\", \"\\ubaa8\\ub450\", \"\\ub9e4\\ubc88\", \"\\uc800\\uc7a5\", \"\\uc990\\uaca8\\ucc3e\\uae30\", \"\\uc0ac\\ud56d\", \"\\uc88b\\uaca0\\uc2b5\\ub2c8\\ub2e4\", \"\\uc790\\ub3d9\", \"\\ubaa9\\ub85d\", \"\\uc788\\uc73c\\uba74\", \"\\uc800\\uc7a5 \\uc7a5\\uc18c\", \"\\ubcf4\\uae30\", \"\\uc120\\ud0dd\", \"\\ucd9c\\ubc1c\", \"\\ub418\\uc5b4\", \"\\ud655\\uc778\", \"\\ud574\\uc8fc\\uc138\\uc694\", \"\\uc218\\uc815\", \"\\uce74\\uce74\\uc624\", \"\\uac19\\uc2b5\\ub2c8\\ub2e4\", \"\\uac00\\uc9c0\", \"\\uc0dd\\uac01\", \"\\ubd80\\ubd84\", \"\\uac70\\ub9ac\", \"\\ubc14\\ub85c\", \"\\ubd88\\ud3b8\\ud569\\ub2c8\\ub2e4\", \"\\ud574\\ub3c4\", \"\\uc704\\uc82f\", \"\\ud30c\\uc545\", \"\\uad6c\\uac04 \\ub2e8\\uc18d\", \"\\ud558\\ub098 \\ud558\\ub098\", \"\\ub3c4\\ub85c\\ub85c\", \"\\ubc30\\ud130\\ub9ac\", \"\\ubb38\\uad6c\", \"\\uc800\\uc7a5 \\uae30\\ub2a5\", \"\\uc9c0\\ub3c4 \\ud45c\\uc2dc\", \"\\uacf5\\uc720\", \"\\ubcc4\\uba85\", \"\\uc218\\uc2e0\", \"\\uae30\\ub85d\", \"\\uac1c\\uc120 \\ud574\\uc8fc\\uc138\\uc694\", \"\\ud560\\uc9c0\", \"\\ud3d0\\uc5c5\", \"\\ubaa9\\uc801\\uc9c0 \\uac80\\uc0c9\", \"\\uae30\\ub2a5 \\uc788\\uc5c8\\uc73c\\uba74\", \"\\uba54\\uc778\", \"\\uc4f0\\uace0 \\uc788\\uc5c8\\ub294\\ub370\", \"\\ucc3e\\uc740\", \"\\uc788\\ub294\\ub370\\uc694\", \"\\ubaa8\\uc591\", \"\\uc544\\ub798\", \"\\ube68\\uac04\\uc0c9\", \"\\uc2f6\\uc740\\ub370\", \"\\uc798\\uc4f0\\uace0 \\uc788\\uc2b5\\ub2c8\\ub2e4\", \"\\uc0ad\\uc81c\", \"\\uc788\\uac8c \\ud574\\uc8fc\\uc138\\uc694\", \"\\uc0ac\\uc6a9 \\ud558\\ub2e4\\uac00\", \"\\ud560\\uc218\", \"\\uc774\\ubc88 \\uc5c5\\ub370\\uc774\\ud2b8\", \"\\ub9ac\\uc2a4\\ud2b8\", \"\\ub4f1\\ub85d\", \"\\ud558\\ub098\", \"\\uc788\\uc5c8\\uc73c\\uba74\", \"\\uc990\\uaca8\\ucc3e\\uae30\", \"\\ubcc4\\ub85c\", \"\\uc88b\\uaca0\\uc5b4\\uc694\", \"\\uc774\\ubc88\", \"\\uc800\\uc7a5\", \"\\ub3d9\\uc548\", \"\\uc4f0\\uace0\", \"\\ud604\\uc7ac \\uc704\\uce58\", \"\\ud574\\uc8fc\\uc138\\uc694\", \"\\ubc29\\ubc95\", \"\\uc8fc\\uc18c\", \"\\uc218\\uc815\", \"\\uc81c\\ubc1c\", \"\\ud604\\uc7ac\", \"\\uc0ac\\uc6a9\\uc790\", \"\\uc120\\ud0dd\", \"\\uc624\\ub958\", \"\\uc810\\uc810\", \"\\ud639\\uc2dc\", \"\\ud55c\\ubc88\", \"\\uba54\\ub274\", \"\\ubaa9\\uc801\\uc9c0\", \"\\ubd80\\ubd84\", \"\\uc774\\ud6c4\", \"\\ub54c\\ubb38\", \"\\uac19\\uc2b5\\ub2c8\\ub2e4\", \"\\uc788\\uc73c\\uba74\"], \"Freq\": [197.0, 135.0, 89.0, 86.0, 133.0, 82.0, 106.0, 118.0, 96.0, 53.0, 75.0, 46.0, 48.0, 53.0, 56.0, 45.0, 113.0, 79.0, 67.0, 68.0, 65.0, 41.0, 34.0, 61.0, 75.0, 51.0, 59.0, 48.0, 57.0, 71.0, 81.2641634260101, 47.90342464428522, 45.037977964501955, 40.26995396020993, 27.86327671696133, 26.90834859235402, 25.95463651795313, 25.954317032132455, 22.138939283659482, 17.36526020378336, 16.411782032995255, 15.458977713165982, 50.919491672743085, 15.456104765830535, 19.910085902732508, 13.548369399351724, 21.635429068828632, 11.640507988082428, 11.639931815581336, 10.685277357033353, 9.73252252277928, 9.729497049264344, 9.72775910933979, 9.726685268538768, 9.722307699754879, 69.35535191119071, 8.774550040713192, 12.2451350624994, 30.197197631131438, 15.461498519516192, 94.95109204861664, 98.1839306410858, 50.17896380033649, 56.31207819432139, 17.560251440497048, 20.566511140926433, 49.788231849023454, 73.06746784477446, 34.284002134535314, 37.20351237006614, 50.19270149318648, 24.478426745042757, 35.11064764185686, 40.14367826490088, 31.779637962010508, 47.76103934745443, 30.141446671517933, 25.502867537454634, 35.44050134088133, 34.00525988496312, 27.16130905220421, 32.74674491641329, 28.577786576784597, 28.955385631104004, 28.80655639565532, 28.655999955114254, 27.682444901563507, 88.1392266343119, 22.30324234999804, 20.377049847774455, 11.726300126340034, 11.722407672776125, 11.707633105723351, 10.766629983746329, 10.752045197570657, 11.631491371807082, 9.804809629762493, 9.800723872930698, 8.841831526300979, 10.561178090502384, 8.614512827291676, 8.562715331843712, 10.067089902990517, 11.718674508258358, 11.713212940836673, 15.86873561791631, 9.806885733805403, 12.11257904893567, 7.887328504903656, 7.765551742371298, 10.087906659575719, 13.78593321619042, 76.01088962439688, 12.007197241670049, 7.4774279390194005, 36.75817121950582, 46.926959527055175, 27.830613820642544, 24.479241204623662, 53.10935282282001, 28.74492760285446, 26.91799190304492, 24.01226331470391, 19.290830568407323, 16.17085696283976, 31.664043147458163, 49.49357892631807, 25.157844766284267, 20.768149974531337, 26.182312136655614, 18.822456136416438, 37.78352331208281, 36.70224032833922, 36.04734880833808, 26.55653450912951, 26.61234766721679, 19.998252884706705, 32.99734610153897, 26.89256590050572, 30.590990972174694, 26.7731111768614, 28.001981105308143, 23.826883915467022, 27.064224722063578, 24.32796071244193, 23.54214368780287, 24.149080580094306, 23.655825589468876, 52.34443186786643, 45.585072841227934, 33.99394731703185, 26.26858515253814, 83.9255789802792, 16.577047975850668, 15.629313588965822, 14.654815444984681, 15.542957331490056, 11.781030775037015, 11.779187310099337, 12.684609325545315, 11.77085853395982, 10.816131563852878, 10.812285317427685, 9.84990121144425, 9.84680773865779, 8.883861627288828, 8.858489039247916, 15.6360224878088, 12.699596254594766, 28.648618502664544, 12.324365678044206, 108.25973058492401, 20.734050794619577, 14.583650690597256, 22.036439569923576, 15.150252315392036, 17.415676461810563, 26.267787000424082, 42.8357014423499, 28.440699716810876, 25.63616318075274, 41.58889078731207, 44.339401924637954, 19.35507491183305, 38.39305296428879, 49.44409325929489, 23.11260852804343, 28.664891573314787, 33.4698290853415, 21.745333588734926, 19.192832029976564, 30.022418924828926, 31.100905902301403, 29.854757524488953, 27.103746265989788, 32.88302831309154, 29.509813886362497, 31.04808722712488, 27.86371249495533, 27.26857198757105, 25.616132739202556, 25.64513040872759, 24.79960650534331, 21.3169163174734, 15.530780552155052, 13.636629763356392, 11.714267525057359, 11.71274837017457, 10.747971457616663, 9.794384662419333, 9.787859889522382, 8.829812935164778, 7.872439699113721, 11.325525237536432, 18.23020711707774, 27.739444525577685, 10.757339577927835, 9.440074011676156, 9.439572770704372, 6.909915102189679, 30.992851861524127, 33.93746697331005, 16.418057495680863, 39.663544631825395, 10.245005144007017, 7.863258094305399, 14.9948289634007, 7.829418447285283, 7.762184605174406, 6.899615319732183, 10.328620967309273, 7.5329811573218155, 12.919395688418632, 22.011248587549762, 21.870720629686552, 77.15693576113628, 97.42662627677393, 29.836349932579783, 47.16073969512529, 31.93886214445736, 27.301619658385587, 28.56441808289599, 20.81122240228529, 27.058428990580012, 36.005519788687785, 31.61822213071331, 28.204991661534716, 31.889351404886956, 33.35919922403176, 32.49295715974412, 34.147903094384, 28.70264656624974, 22.433936038225575, 26.228415996833363, 24.627253548380114, 27.541429997308263, 25.866481068495954, 23.12890588167928, 22.454353180168226, 24.26261497210512, 15.576550609060767, 13.667100837210295, 10.78209259731876, 9.806280104426426, 8.857507872930455, 8.85565840728237, 7.888662371878932, 17.009149046720214, 11.25302125706271, 7.822548587870167, 8.589461914236622, 11.420733665841563, 10.561713869997977, 7.497088409557918, 11.436694069904412, 8.350035162595828, 8.251538175354865, 7.557363438063646, 12.307807907991277, 7.5230227367415505, 10.138453169671111, 6.546901552640105, 18.296223393873277, 7.82421145771553, 9.746310556689652, 6.4858630581475065, 45.99725912230567, 10.309614900285506, 6.338391449431927, 22.060128146486836, 26.370240626928453, 36.45475067963478, 22.53220654980205, 45.490401712561535, 13.73278137995135, 99.1688928069969, 21.26426113734723, 26.878249118015958, 36.49907984454566, 53.787124020231694, 15.242817035686159, 38.60865772268281, 18.442490446464568, 35.6083791498329, 22.558683879736027, 24.543734791937283, 31.855099478269416, 20.863579352665997, 29.493585351383807, 26.694760561494586, 31.524456989142053, 27.633212763648245, 15.194363089680692, 16.376637258354638, 20.914922138980387, 18.563805447420584, 23.841349372768462, 20.555704786411063, 21.194885477102986, 19.683867521032454, 19.41122603137326, 18.65608346964724], \"Total\": [197.0, 135.0, 89.0, 86.0, 133.0, 82.0, 106.0, 118.0, 96.0, 53.0, 75.0, 46.0, 48.0, 53.0, 56.0, 45.0, 113.0, 79.0, 67.0, 68.0, 65.0, 41.0, 34.0, 61.0, 75.0, 51.0, 59.0, 48.0, 57.0, 71.0, 82.07685275612012, 48.67601976821319, 45.81314810012012, 41.04161958358273, 28.63574246729253, 27.681449564315447, 26.727145151497822, 26.727148786789435, 22.909934570267634, 18.138464589853218, 17.18415022557182, 16.229842479934586, 53.463830079896255, 16.229869167073964, 21.004318325444284, 14.321261119496182, 22.91601099742141, 12.412659382397788, 12.41266083949478, 11.458362812077628, 10.504050147104197, 10.504079074905128, 10.504107182484937, 10.504117252940844, 10.50413322647982, 75.43609968696325, 9.549781493746524, 13.369593247719145, 33.43484485453862, 17.19564962545478, 106.0189988179381, 118.4846325288349, 59.247477949670646, 67.8874073257355, 20.05996896572537, 23.894762223882726, 65.95225297837061, 113.9014494064289, 45.91634188566288, 56.49699925321777, 88.1445025352925, 34.42583544246854, 61.31426984206002, 87.19212040469715, 57.49977852823162, 124.75741713340737, 54.62034041363557, 39.27079061285687, 93.03526423394895, 91.16293426628413, 48.837943589924734, 96.86992827668242, 62.359562617430065, 83.50105987372389, 96.98849634768281, 106.5567971168673, 68.08865937141452, 89.4176707988286, 23.075344514840985, 21.15236391969031, 12.498934604951305, 12.49892371594013, 12.49902576693048, 11.537452235696733, 11.537457678903717, 12.498843671355715, 10.575966781604217, 10.57597145553621, 9.614474008296881, 11.537512662631213, 9.612859788850123, 9.614960970568408, 11.532244183852816, 13.462132455476539, 13.464753582691385, 18.275138678350352, 11.54179598593504, 14.42028419766662, 9.618777725009345, 9.6132408946677, 12.497206275001567, 17.31384396956542, 96.18858252023739, 15.395147107000005, 9.613092631868154, 48.05906774283247, 61.483746559427544, 37.520337241423576, 33.67828118583395, 79.74842225512064, 41.35424577832945, 40.37014955281704, 36.57136908499716, 27.896821201393013, 22.134062769431576, 60.677527171879035, 119.22541641310298, 46.135205964699956, 34.53422487366607, 50.06731495702756, 29.800870107634104, 96.17099747937841, 94.15837734390627, 93.06991158789693, 56.735719944998145, 61.39060831506855, 35.55758190363243, 97.08853455100234, 71.10980417856219, 95.20787620653893, 79.78935115188136, 97.0259139900513, 61.521645009850104, 106.5567971168673, 75.79050571388822, 68.08865937141452, 91.16293426628413, 77.744419694221, 53.11626715626373, 46.35540977945774, 34.7653443921609, 27.03865538484808, 86.91157048318613, 17.379881370111303, 16.414278418745493, 15.448480861474371, 16.413247799553623, 12.551093101518116, 12.551075983398599, 13.516181982090552, 12.551050071012623, 11.585260184802786, 11.585240022876382, 10.61941909937862, 10.619400494664943, 9.65358030286918, 9.653446843702001, 17.377540987375315, 14.477126046758029, 32.8159335874603, 14.47516184722292, 135.8565061349839, 26.053783620596743, 18.33090094982109, 27.98811760389841, 19.29118275394439, 22.177689112816715, 33.718753823374335, 57.83924820403512, 38.5857755038504, 34.72637020862039, 63.5444708630328, 71.36650147821705, 26.046052068344594, 68.31374732376479, 117.35575153329592, 36.63117033241961, 51.87909877717721, 66.48172655707621, 33.66488595655111, 27.94101374599507, 59.74168930479894, 68.2848914491444, 77.87468625250443, 67.31423516856712, 112.61880007634404, 87.48325509531705, 124.75741713340737, 91.41603672542908, 96.17099747937841, 81.71527729985056, 119.22541641310298, 95.20787620653893, 22.091335376659153, 16.3286806456516, 14.407593134231547, 12.486653843155187, 12.48666831241722, 11.526198623701656, 10.565729142943411, 10.565730205968876, 9.605281704650613, 8.644780832059567, 12.48881295289706, 20.171322426539106, 31.691293730284706, 12.48935942599967, 11.52760535996346, 11.527605878622534, 8.647498574978835, 39.36987660510634, 43.20971873755231, 21.14195756790209, 51.84084821831964, 13.453950477189087, 10.553422241343396, 20.180106601087807, 10.572916313600338, 10.571443615925524, 9.592970925889633, 14.416894686600092, 10.568127496429677, 18.26895657880585, 32.62069024623638, 32.69153037317701, 133.65810507275836, 197.17394449408812, 50.921175190660215, 90.32787820614057, 62.29294375621642, 51.839576340411554, 58.61303448239978, 38.46341177302071, 62.53211265249165, 112.61880007634404, 93.06991158789693, 76.77058374847869, 96.86992827668242, 107.52764779439781, 102.82587267136745, 124.75741713340737, 91.41603672542908, 54.8576156007947, 81.71527729985056, 72.0674887704372, 119.22541641310298, 106.5567971168673, 93.03526423394895, 87.19212040469715, 25.04022450020797, 16.37158439795394, 14.445341131158271, 11.555897482275018, 10.592747616925996, 9.629547610143764, 9.629551236147886, 8.666383628602608, 20.21755917882385, 13.478149024054211, 9.626654740379752, 10.581552944676016, 14.4414851404143, 13.467279238341991, 9.61706745873346, 15.416443231625653, 11.534237640168651, 11.550063207571508, 10.583767191972282, 17.31046859595694, 10.599014451781024, 14.436694678676814, 9.608294895521869, 26.927648117307562, 11.539258686685749, 14.436779535712024, 9.624235995397598, 68.25686080487696, 15.396432874407507, 9.625176917387096, 33.658088819701405, 40.34287232977417, 56.76984601227021, 34.65213208158087, 75.0849674333534, 21.171663905536104, 197.17394449408812, 35.60694365343561, 49.08952478640157, 73.97322061706205, 133.65810507275836, 25.009580016166353, 94.27061517156355, 36.51515085635352, 107.52764779439781, 50.91982183519052, 59.57202393926692, 102.82587267136745, 47.06234176818448, 97.0259139900513, 79.84000272873719, 112.61880007634404, 94.15837734390627, 26.905607662489768, 33.64520598231888, 65.41450164543477, 50.04837509969279, 117.35575153329592, 72.0674887704372, 88.1445025352925, 68.21344130624867, 91.41603672542908, 58.61303448239978], \"Category\": [\"Default\", \"Default\", \"Default\", \"Default\", \"Default\", \"Default\", \"Default\", \"Default\", \"Default\", \"Default\", \"Default\", \"Default\", \"Default\", \"Default\", \"Default\", \"Default\", \"Default\", \"Default\", \"Default\", \"Default\", \"Default\", \"Default\", \"Default\", \"Default\", \"Default\", \"Default\", \"Default\", \"Default\", \"Default\", \"Default\", \"Topic1\", \"Topic1\", \"Topic1\", \"Topic1\", \"Topic1\", \"Topic1\", \"Topic1\", \"Topic1\", \"Topic1\", \"Topic1\", \"Topic1\", \"Topic1\", \"Topic1\", \"Topic1\", \"Topic1\", \"Topic1\", \"Topic1\", \"Topic1\", \"Topic1\", \"Topic1\", \"Topic1\", \"Topic1\", \"Topic1\", \"Topic1\", \"Topic1\", \"Topic1\", \"Topic1\", \"Topic1\", \"Topic1\", \"Topic1\", \"Topic1\", \"Topic1\", \"Topic1\", \"Topic1\", \"Topic1\", \"Topic1\", \"Topic1\", \"Topic1\", \"Topic1\", \"Topic1\", \"Topic1\", \"Topic1\", \"Topic1\", \"Topic1\", \"Topic1\", \"Topic1\", \"Topic1\", \"Topic1\", \"Topic1\", \"Topic1\", \"Topic1\", \"Topic1\", \"Topic1\", \"Topic1\", \"Topic1\", \"Topic1\", \"Topic1\", \"Topic2\", \"Topic2\", \"Topic2\", \"Topic2\", \"Topic2\", \"Topic2\", \"Topic2\", \"Topic2\", \"Topic2\", \"Topic2\", \"Topic2\", \"Topic2\", \"Topic2\", \"Topic2\", \"Topic2\", \"Topic2\", \"Topic2\", \"Topic2\", \"Topic2\", \"Topic2\", \"Topic2\", \"Topic2\", \"Topic2\", \"Topic2\", \"Topic2\", \"Topic2\", \"Topic2\", \"Topic2\", \"Topic2\", \"Topic2\", \"Topic2\", \"Topic2\", \"Topic2\", \"Topic2\", \"Topic2\", \"Topic2\", \"Topic2\", \"Topic2\", \"Topic2\", \"Topic2\", \"Topic2\", \"Topic2\", \"Topic2\", \"Topic2\", \"Topic2\", \"Topic2\", \"Topic2\", \"Topic2\", \"Topic2\", \"Topic2\", \"Topic2\", \"Topic2\", \"Topic2\", \"Topic2\", \"Topic2\", \"Topic2\", \"Topic2\", \"Topic2\", \"Topic2\", \"Topic2\", \"Topic2\", \"Topic3\", \"Topic3\", \"Topic3\", \"Topic3\", \"Topic3\", \"Topic3\", \"Topic3\", \"Topic3\", \"Topic3\", \"Topic3\", \"Topic3\", \"Topic3\", \"Topic3\", \"Topic3\", \"Topic3\", \"Topic3\", \"Topic3\", \"Topic3\", \"Topic3\", \"Topic3\", \"Topic3\", \"Topic3\", \"Topic3\", \"Topic3\", \"Topic3\", \"Topic3\", \"Topic3\", \"Topic3\", \"Topic3\", \"Topic3\", \"Topic3\", \"Topic3\", \"Topic3\", \"Topic3\", \"Topic3\", \"Topic3\", \"Topic3\", \"Topic3\", \"Topic3\", \"Topic3\", \"Topic3\", \"Topic3\", \"Topic3\", \"Topic3\", \"Topic3\", \"Topic3\", \"Topic3\", \"Topic3\", \"Topic3\", \"Topic3\", \"Topic3\", \"Topic3\", \"Topic3\", \"Topic3\", \"Topic3\", \"Topic4\", \"Topic4\", \"Topic4\", \"Topic4\", \"Topic4\", \"Topic4\", \"Topic4\", \"Topic4\", \"Topic4\", \"Topic4\", \"Topic4\", \"Topic4\", \"Topic4\", \"Topic4\", \"Topic4\", \"Topic4\", \"Topic4\", \"Topic4\", \"Topic4\", \"Topic4\", \"Topic4\", \"Topic4\", \"Topic4\", \"Topic4\", \"Topic4\", \"Topic4\", \"Topic4\", \"Topic4\", \"Topic4\", \"Topic4\", \"Topic4\", \"Topic4\", \"Topic4\", \"Topic4\", \"Topic4\", \"Topic4\", \"Topic4\", \"Topic4\", \"Topic4\", \"Topic4\", \"Topic4\", \"Topic4\", \"Topic4\", \"Topic4\", \"Topic4\", \"Topic4\", \"Topic4\", \"Topic4\", \"Topic4\", \"Topic4\", \"Topic4\", \"Topic4\", \"Topic4\", \"Topic4\", \"Topic4\", \"Topic4\", \"Topic5\", \"Topic5\", \"Topic5\", \"Topic5\", \"Topic5\", \"Topic5\", \"Topic5\", \"Topic5\", \"Topic5\", \"Topic5\", \"Topic5\", \"Topic5\", \"Topic5\", \"Topic5\", \"Topic5\", \"Topic5\", \"Topic5\", \"Topic5\", \"Topic5\", \"Topic5\", \"Topic5\", \"Topic5\", \"Topic5\", \"Topic5\", \"Topic5\", \"Topic5\", \"Topic5\", \"Topic5\", \"Topic5\", \"Topic5\", \"Topic5\", \"Topic5\", \"Topic5\", \"Topic5\", \"Topic5\", \"Topic5\", \"Topic5\", \"Topic5\", \"Topic5\", \"Topic5\", \"Topic5\", \"Topic5\", \"Topic5\", \"Topic5\", \"Topic5\", \"Topic5\", \"Topic5\", \"Topic5\", \"Topic5\", \"Topic5\", \"Topic5\", \"Topic5\", \"Topic5\", \"Topic5\", \"Topic5\", \"Topic5\", \"Topic5\", \"Topic5\", \"Topic5\", \"Topic5\", \"Topic5\", \"Topic5\", \"Topic5\"], \"logprob\": [30.0, 29.0, 28.0, 27.0, 26.0, 25.0, 24.0, 23.0, 22.0, 21.0, 20.0, 19.0, 18.0, 17.0, 16.0, 15.0, 14.0, 13.0, 12.0, 11.0, 10.0, 9.0, 8.0, 7.0, 6.0, 5.0, 4.0, 3.0, 2.0, 1.0, -4.2881, -4.8166, -4.8783, -4.9902, -5.3585, -5.3934, -5.4295, -5.4295, -5.5885, -5.8314, -5.8878, -5.9476, -4.7556, -5.9478, -5.6946, -6.0796, -5.6115, -6.2313, -6.2314, -6.317, -6.4104, -6.4107, -6.4108, -6.411, -6.4114, -4.4466, -6.514, -6.1807, -5.2781, -5.9475, -4.1325, -4.099, -4.7702, -4.6549, -5.8202, -5.6622, -4.7781, -4.3944, -5.1512, -5.0694, -4.77, -5.488, -5.1273, -4.9934, -5.227, -4.8196, -5.2799, -5.447, -5.118, -5.1593, -5.384, -5.197, -5.3332, -5.3201, -5.3252, -5.3305, -5.365, -4.0369, -5.411, -5.5014, -6.0539, -6.0543, -6.0555, -6.1393, -6.1407, -6.0621, -6.2329, -6.2333, -6.3363, -6.1586, -6.3623, -6.3684, -6.2065, -6.0546, -6.0551, -5.7514, -6.2327, -6.0215, -6.4505, -6.4661, -6.2044, -5.8921, -4.1849, -6.0303, -6.5039, -4.9114, -4.6672, -5.1896, -5.3179, -4.5434, -5.1573, -5.223, -5.3372, -5.5561, -5.7326, -5.0606, -4.6139, -5.2906, -5.4824, -5.2507, -5.5807, -4.8839, -4.9129, -4.9309, -5.2365, -5.2344, -5.5201, -5.0193, -5.2239, -5.0951, -5.2284, -5.1835, -5.345, -5.2176, -5.3241, -5.357, -5.3315, -5.3522, -4.5071, -4.6453, -4.9387, -5.1965, -4.035, -5.6569, -5.7157, -5.7801, -5.7213, -5.9984, -5.9986, -5.9245, -5.9993, -6.0839, -6.0842, -6.1774, -6.1778, -6.2807, -6.2835, -5.7153, -5.9233, -5.1098, -5.9533, -3.7804, -5.4331, -5.785, -5.3722, -5.7469, -5.6075, -5.1966, -4.7075, -5.1171, -5.2209, -4.7371, -4.673, -5.5019, -4.817, -4.5641, -5.3245, -5.1092, -4.9543, -5.3855, -5.5104, -5.063, -5.0277, -5.0686, -5.1652, -4.9719, -5.0802, -5.0294, -5.1376, -5.1592, -5.2217, -5.2205, -5.2541, -5.3698, -5.6865, -5.8165, -5.9685, -5.9686, -6.0546, -6.1475, -6.1481, -6.2512, -6.3659, -6.0022, -5.5262, -5.1064, -6.0537, -6.1843, -6.1844, -6.4963, -4.9955, -4.9048, -5.6309, -4.7489, -6.1025, -6.3671, -5.7216, -6.3714, -6.38, -6.4978, -6.0944, -6.41, -5.8706, -5.3377, -5.3441, -4.0834, -3.8502, -5.0336, -4.5757, -4.9655, -5.1223, -5.0771, -5.3938, -5.1313, -4.8456, -4.9756, -5.0898, -4.967, -4.922, -4.9483, -4.8986, -5.0723, -5.3187, -5.1624, -5.2254, -5.1136, -5.1763, -5.2882, -5.3178, -5.1518, -5.595, -5.7257, -5.9628, -6.0577, -6.1595, -6.1597, -6.2753, -5.507, -5.9201, -6.2837, -6.1902, -5.9053, -5.9835, -6.3262, -5.9039, -6.2185, -6.2303, -6.3182, -5.8305, -6.3228, -6.0244, -6.4617, -5.434, -6.2835, -6.0638, -6.4711, -4.5121, -6.0077, -6.4941, -5.247, -5.0685, -4.7447, -5.2258, -4.5232, -5.7209, -3.7439, -5.2837, -5.0494, -4.7434, -4.3557, -5.6166, -4.6873, -5.4261, -4.7681, -5.2246, -5.1403, -4.8795, -5.3027, -4.9566, -5.0563, -4.89, -5.0217, -5.6198, -5.5449, -5.3003, -5.4195, -5.1693, -5.3176, -5.287, -5.3609, -5.3749, -5.4146], \"loglift\": [30.0, 29.0, 28.0, 27.0, 26.0, 25.0, 24.0, 23.0, 22.0, 21.0, 20.0, 19.0, 18.0, 17.0, 16.0, 15.0, 14.0, 13.0, 12.0, 11.0, 10.0, 9.0, 8.0, 7.0, 6.0, 5.0, 4.0, 3.0, 2.0, 1.0, 1.4077, 1.4016, 1.4005, 1.3986, 1.3903, 1.3893, 1.3883, 1.3883, 1.3834, 1.3741, 1.3716, 1.369, 1.3689, 1.3688, 1.3641, 1.3621, 1.3601, 1.3534, 1.3533, 1.3478, 1.3413, 1.341, 1.3408, 1.3407, 1.3403, 1.3336, 1.333, 1.3298, 1.3158, 1.3113, 1.3074, 1.2297, 1.2515, 1.2307, 1.2845, 1.2676, 1.1365, 0.9737, 1.1255, 0.9998, 0.8545, 1.0766, 0.8601, 0.642, 0.8247, 0.4575, 0.8231, 0.9859, 0.4525, 0.4315, 0.8309, 0.333, 0.6373, 0.3585, 0.2036, 0.1043, 0.5176, 1.5733, 1.5536, 1.5503, 1.5239, 1.5235, 1.5223, 1.5185, 1.5172, 1.5157, 1.512, 1.5115, 1.5039, 1.4993, 1.478, 1.4718, 1.4518, 1.449, 1.4483, 1.4465, 1.4248, 1.4133, 1.3892, 1.3742, 1.3735, 1.3598, 1.3522, 1.3391, 1.3364, 1.3196, 1.3175, 1.2889, 1.2686, 1.1811, 1.224, 1.1824, 1.167, 1.2188, 1.2738, 0.9373, 0.7085, 0.9813, 1.0791, 0.9394, 1.1282, 0.6534, 0.6455, 0.6392, 0.8285, 0.7518, 1.0122, 0.5085, 0.6153, 0.4523, 0.4957, 0.345, 0.6391, 0.2172, 0.4513, 0.5257, 0.2593, 0.3979, 1.6239, 1.6218, 1.6161, 1.6097, 1.6036, 1.5913, 1.5895, 1.5858, 1.5841, 1.5752, 1.5751, 1.575, 1.5744, 1.5699, 1.5695, 1.5633, 1.563, 1.5555, 1.5526, 1.5329, 1.5075, 1.5027, 1.4777, 1.4115, 1.4102, 1.4099, 1.3995, 1.3969, 1.3968, 1.3888, 1.3383, 1.3335, 1.3351, 1.2146, 1.1626, 1.3416, 1.0623, 0.7742, 1.178, 1.0453, 0.9523, 1.2015, 1.263, 0.9505, 0.8521, 0.6798, 0.7288, 0.4075, 0.5518, 0.2477, 0.4505, 0.3782, 0.4785, 0.1019, 0.2933, 1.6385, 1.6241, 1.6192, 1.6103, 1.6102, 1.6043, 1.5983, 1.5977, 1.59, 1.5806, 1.5764, 1.573, 1.541, 1.5249, 1.4744, 1.4743, 1.4498, 1.4349, 1.4326, 1.4213, 1.4064, 1.4017, 1.3799, 1.3772, 1.3737, 1.3653, 1.3446, 1.3407, 1.3356, 1.3277, 1.2808, 1.2722, 1.1247, 0.9692, 1.1396, 1.0243, 1.0061, 1.0329, 0.9554, 1.0599, 0.8365, 0.5338, 0.5945, 0.6728, 0.5631, 0.5037, 0.5221, 0.3785, 0.5157, 0.78, 0.5378, 0.6004, 0.2088, 0.2584, 0.2823, 0.3175, 1.7312, 1.7129, 1.7073, 1.6934, 1.6856, 1.6791, 1.6789, 1.6687, 1.5899, 1.5823, 1.5552, 1.5541, 1.528, 1.5197, 1.5137, 1.4641, 1.4397, 1.4264, 1.4259, 1.4216, 1.4199, 1.4093, 1.3791, 1.3763, 1.3742, 1.3698, 1.3681, 1.368, 1.3617, 1.345, 1.3402, 1.3375, 1.3198, 1.3323, 1.2616, 1.3298, 1.0755, 1.2472, 1.1604, 1.0563, 0.8525, 1.2676, 0.87, 1.0796, 0.6575, 0.9486, 0.876, 0.5909, 0.9492, 0.5719, 0.6672, 0.4895, 0.5368, 1.1913, 1.0427, 0.6224, 0.7709, 0.1689, 0.5083, 0.3375, 0.5199, 0.2131, 0.6179]}, \"token.table\": {\"Topic\": [2, 3, 4, 5, 2, 3, 4, 5, 3, 3, 2, 3, 2, 3, 4, 5, 1, 2, 3, 5, 1, 2, 3, 4, 5, 1, 2, 3, 4, 5, 1, 2, 5, 1, 2, 3, 4, 5, 1, 2, 3, 4, 3, 3, 4, 1, 3, 4, 1, 2, 3, 4, 1, 3, 4, 5, 1, 1, 1, 3, 2, 3, 5, 2, 5, 1, 2, 3, 4, 5, 2, 3, 4, 5, 2, 4, 5, 2, 5, 2, 3, 4, 2, 3, 5, 1, 3, 1, 2, 3, 5, 3, 3, 4, 5, 1, 1, 2, 4, 4, 4, 3, 5, 1, 3, 5, 1, 1, 2, 4, 2, 3, 4, 2, 3, 2, 3, 2, 1, 4, 2, 3, 5, 5, 4, 1, 3, 5, 1, 1, 2, 3, 4, 5, 1, 2, 3, 4, 5, 1, 2, 3, 4, 1, 2, 3, 4, 5, 3, 4, 5, 1, 2, 3, 4, 5, 4, 1, 2, 3, 4, 5, 4, 5, 2, 3, 4, 5, 2, 3, 4, 5, 2, 3, 1, 3, 4, 5, 4, 5, 1, 3, 5, 1, 2, 4, 5, 1, 2, 3, 4, 5, 3, 4, 5, 1, 5, 2, 4, 2, 4, 1, 4, 5, 1, 2, 3, 4, 5, 1, 5, 5, 1, 1, 2, 3, 4, 5, 2, 1, 2, 4, 5, 2, 3, 4, 5, 5, 2, 2, 1, 2, 4, 5, 1, 1, 2, 3, 5, 1, 2, 3, 4, 5, 2, 4, 5, 4, 5, 2, 3, 4, 5, 2, 3, 4, 5, 1, 1, 2, 3, 4, 5, 2, 4, 1, 2, 1, 2, 3, 4, 5, 1, 2, 1, 2, 3, 4, 5, 1, 2, 5, 2, 5, 1, 2, 3, 4, 5, 2, 3, 4, 1, 2, 3, 4, 5, 1, 2, 4, 5, 1, 2, 3, 4, 5, 2, 3, 1, 2, 3, 4, 5, 1, 2, 3, 4, 1, 2, 3, 4, 5, 1, 2, 1, 5, 1, 2, 3, 4, 5, 2, 3, 1, 3, 4, 5, 3, 4, 1, 4, 2, 4, 5, 1, 2, 3, 4, 5, 1, 2, 5, 1, 4, 5, 1, 4, 5, 1, 5, 1, 5, 1, 1, 3, 5, 1, 1, 2, 3, 4, 5, 2, 1, 3, 4, 5, 4, 5, 1, 2, 4, 2, 4, 4, 5, 2, 2, 4, 5, 1, 2, 3, 4, 5, 1, 2, 4, 5, 1, 2, 3, 1, 2, 1, 4, 5, 1, 3, 1, 2, 3, 4, 1, 2, 3, 4, 5, 1, 5, 1, 2, 4, 5, 1, 1, 3, 5, 1, 1, 2, 3, 5, 1, 2, 3, 4, 5, 3, 3, 1, 2, 3, 5, 1, 2, 3, 5, 1, 2, 3, 5, 1, 2, 3, 1, 3, 4, 5, 2, 4, 4, 5, 1, 2, 3, 4, 5, 2, 4, 5, 1, 2, 2, 4, 5, 1, 2, 3, 4, 5, 4, 1, 2, 4, 5, 1, 2, 3, 4, 5, 3, 3, 3, 5, 2, 4, 5, 2, 5, 1, 2, 4, 5, 5, 2, 4, 5, 3, 3, 1, 2, 3, 1, 4, 5, 2, 4, 1, 2, 3, 4, 5, 2, 3, 4, 5, 1, 2, 3, 5, 2, 3, 4, 1, 3, 1, 2, 3, 4, 5, 2, 3, 4, 5, 1, 3, 1, 2, 3, 4, 2, 2, 4, 1, 2, 3, 4, 5, 4, 1, 2, 3, 4, 4, 5, 4, 1, 2, 3, 4, 5, 1, 2, 3, 4, 5, 1, 3, 1, 2, 3, 5, 1, 3, 4, 5, 2, 4, 3, 1, 2, 3, 4, 5, 4, 1, 3, 3, 1, 2, 3, 3, 3, 5, 3, 4, 2, 4, 5, 4, 1, 3, 5, 2, 3, 4, 1, 2, 1, 1, 2, 4, 5, 2, 4, 1, 4, 1, 1, 3, 4, 5, 1, 3, 4, 2, 3, 4, 2, 5, 4, 5, 1, 2, 3, 4, 5, 3, 5, 1, 2, 3, 4, 5, 5, 2, 4, 1, 2, 3, 4, 5, 1, 2, 3, 4, 5, 1, 4, 5, 1, 5, 1, 2, 3, 4, 5, 1, 2, 3, 4, 5, 1, 3, 4, 5, 1, 2, 3, 4, 5, 1, 2, 4, 5, 1, 3, 4, 5, 1, 2, 3, 5, 1, 1, 2, 3, 4, 5, 2, 3, 4], \"Freq\": [0.7126254415292157, 0.17815636038230392, 0.05938545346076798, 0.05938545346076798, 0.5273781166024574, 0.3460918890203627, 0.016480566143826793, 0.09888339686296077, 0.9747610946898295, 0.9494839967302569, 0.23036120730527823, 0.7294771564667144, 0.09114504787057436, 0.2005191053152636, 0.4010382106305272, 0.29166415318583794, 0.2629074555460978, 0.24004593767252408, 0.34292276810360584, 0.16003062511501603, 0.07657299802905171, 0.08751199774748768, 0.30629199211620683, 0.3172309918346428, 0.20784099465028322, 0.1365433251740485, 0.3256033138765772, 0.26258331764240095, 0.14704665787974455, 0.1365433251740485, 0.14850809614951058, 0.07425404807475529, 0.8167945288223082, 0.1006496799174206, 0.41098619299613415, 0.21807430648774465, 0.23484925314064808, 0.03354989330580687, 0.14315872846858826, 0.10736904635144119, 0.6800039602257942, 0.07157936423429413, 0.9618100745628823, 0.8290062747935504, 0.06908385623279586, 0.054737663625525186, 0.21895065450210074, 0.7115896271318275, 0.08644649014734562, 0.10373578817681474, 0.7434398152671723, 0.05186789408840737, 0.8723136564608439, 0.05815424376405626, 0.14838832813249325, 0.8161358047287129, 0.9861118519666917, 0.966754844522798, 0.9727936267130429, 0.970969258045767, 0.7462619490820344, 0.07995663740164655, 0.1865654872705086, 0.9455400349208688, 0.9691706047565966, 0.299004532414249, 0.18558902011918907, 0.19589952123692178, 0.16496801788372362, 0.16496801788372362, 0.6562510674462453, 0.1914065613384882, 0.054687588953853776, 0.08203138343078066, 0.08657961277168265, 0.1731592255433653, 0.6926369021734612, 0.1384899115675456, 0.7616945136215006, 0.20157591933585783, 0.7487105575331863, 0.02879655990512255, 0.7228677431102675, 0.18071693577756687, 0.04517923394439172, 0.19873910177826465, 0.7949564071130586, 0.23605515627522988, 0.03147402083669732, 0.6609544375706436, 0.0786850520917433, 0.9748223018015446, 0.9560953013576684, 0.6936306477493095, 0.2774522590997238, 0.9520085644855653, 0.020807727801776598, 0.7698859286657341, 0.20807727801776596, 0.9543476005506604, 0.925413860156134, 0.7860478618589077, 0.17864724133156992, 0.7404771069233699, 0.021778738438922644, 0.21778738438922643, 0.9242218680623109, 0.2895678138595043, 0.6080924091049591, 0.08687034415785129, 0.7901145646263177, 0.11435868698538809, 0.09356619844259026, 0.8912157156314922, 0.07426797630262434, 0.7794664069525995, 0.19486660173814987, 0.936041241098033, 0.1895119852368771, 0.7580479409475084, 0.023011895756583058, 0.9664996217764884, 0.011505947878291529, 0.944042127844257, 0.9610260803840609, 0.19992338922796657, 0.19992338922796657, 0.5997701676838997, 0.9599975302235593, 0.20052801243543805, 0.3383910209848017, 0.27572601709872735, 0.06266500388607439, 0.12533000777214878, 0.5528488305467902, 0.10237941306422041, 0.06142764783853225, 0.2252347087412849, 0.08190353045137633, 0.3386713859723025, 0.0781549352243775, 0.20841316059834, 0.364723031047095, 0.34305088421168345, 0.31666235465693854, 0.03958279433211732, 0.09235985344160708, 0.19791397166058658, 0.057716506311687746, 0.2597242784025949, 0.6637398225844091, 0.2638776120264602, 0.1612585406828368, 0.19057827535244348, 0.10261907134362341, 0.2931973466960669, 0.9505989403514187, 0.2701158498911659, 0.30870382844704675, 0.07717595711176169, 0.244390530853912, 0.11576393566764252, 0.3522997049468341, 0.6341394689043014, 0.9600888142557585, 0.0945812839465742, 0.7566502715725936, 0.1891625678931484, 0.030588962602389743, 0.09176688780716924, 0.6729571772525744, 0.18353377561433848, 0.8317065045800534, 0.10396331307250667, 0.11988401197937852, 0.31969069861167604, 0.19980668663229753, 0.3796327046013653, 0.756788956207695, 0.18919723905192376, 0.09448431563748809, 0.09448431563748809, 0.7558745250999047, 0.21458773395537292, 0.030655390565053273, 0.674418592431172, 0.061310781130106545, 0.4650449551404364, 0.08018016467938559, 0.272612559909911, 0.11225223055113982, 0.08018016467938559, 0.806024963813644, 0.0767642822679661, 0.11514642340194914, 0.20815347798412584, 0.7285371729444404, 0.17349657084429715, 0.7807345687993372, 0.17349656303820352, 0.7807345336719158, 0.19290281105566245, 0.5208375898502886, 0.27006393547792745, 0.23859077747932875, 0.11929538873966437, 0.4175338605888253, 0.02556329758707094, 0.2045063806965675, 0.17339680890871226, 0.693587235634849, 0.9346229932517888, 0.9520137337460107, 0.2721553273433504, 0.2533859944231194, 0.10323133106127086, 0.24400132796300383, 0.13138533044161746, 0.945539617050053, 0.19638717575184117, 0.23566461090220941, 0.11783230545110471, 0.4516905042292347, 0.18215829178578896, 0.6165357568134395, 0.028024352582429073, 0.16814611549457442, 0.9346233451838798, 0.9362458412676554, 0.953398549948003, 0.8271114819565342, 0.1434785223802151, 0.016879826162378247, 0.008439913081189123, 0.9520062040712743, 0.6409049259726074, 0.19314942974516935, 0.008779519533871334, 0.158031351609684, 0.06695491953018287, 0.06695491953018287, 0.5021618964763715, 0.06695491953018287, 0.28455840800327725, 0.28084409876148214, 0.11233763950459286, 0.5897726073991125, 0.10387824503619333, 0.8310259602895467, 0.5193008656908329, 0.27962354306429466, 0.059919330656634566, 0.13981177153214733, 0.20789318397484213, 0.15991783382680164, 0.43177815133236447, 0.19190140059216199, 0.9372347871996793, 0.1665105889595326, 0.11100705930635507, 0.11100705930635507, 0.3468970603323596, 0.29139353067918206, 0.8001788383699177, 0.16003576767398353, 0.9520111119394176, 0.9360886505318319, 0.37620143596290617, 0.13973196192907944, 0.09673751210474729, 0.24721808648990976, 0.1289833494729964, 0.8975590938076745, 0.07479659115063954, 0.08812790257790327, 0.47589067392067763, 0.1586302246402259, 0.1586302246402259, 0.12337906360906457, 0.17332135922281075, 0.17332135922281075, 0.693285436891243, 0.3116825826422728, 0.6233651652845456, 0.16282564573762032, 0.18787574508186958, 0.2630260431146174, 0.06262524836062319, 0.3381763411473652, 0.13649577544550523, 0.627880567049324, 0.21839324071280838, 0.07855278251185503, 0.23565834753556508, 0.07855278251185503, 0.5891458688389127, 0.039276391255927516, 0.16115596103145208, 0.04395162573585056, 0.11720433529560151, 0.6739249279497086, 0.1835642060536388, 0.11013852363218328, 0.3181779571596406, 0.3181779571596406, 0.07342568242145552, 0.8755063521873245, 0.10943829402341557, 0.04439756059033226, 0.06215658482646516, 0.29302389989619293, 0.31966243625039226, 0.28414438777812645, 0.8439177789554829, 0.06751342231643863, 0.050635066737328975, 0.016878355579109657, 0.6549020388528454, 0.03540011020826191, 0.1593004959371786, 0.03540011020826191, 0.10620033062478573, 0.9310905567032532, 0.9600818293141834, 0.09450408699255607, 0.8505367829330046, 0.1361525036091271, 0.17505321892602055, 0.06807625180456355, 0.31120572253514767, 0.31120572253514767, 0.8664162849686574, 0.08664162849686574, 0.6620696857446984, 0.2291779681423956, 0.0763926560474652, 0.0509284373649768, 0.9416727436754907, 0.9717098386639521, 0.7581242147466557, 0.2425997487189298, 0.13853505174423653, 0.13853505174423653, 0.6926752587211825, 0.10607759355129859, 0.19093966839233745, 0.14850863097181802, 0.14850863097181802, 0.4137026148500645, 0.11553702251983652, 0.11553702251983652, 0.6932221351190191, 0.11140965549352119, 0.18568275915586865, 0.6684579329611271, 0.0925717666503512, 0.7868600165279852, 0.115714708312939, 0.9521851502208634, 0.04760925751104317, 0.953915945112531, 0.03740846843578553, 0.9727937590275304, 0.8972675103030319, 0.059817834020202125, 0.029908917010101062, 0.9753824465466608, 0.3257827304358365, 0.4398066860883793, 0.03257827304358365, 0.16289136521791825, 0.048867409565375476, 0.960082665733543, 0.5565238826839729, 0.10434822800324492, 0.06956548533549661, 0.27826194134198645, 0.7432761118717366, 0.222982833561521, 0.6971508371992339, 0.14523975774984038, 0.14523975774984038, 0.8321611304957324, 0.13869352174928873, 0.8094826427903902, 0.1156403775414843, 0.9455207973886268, 0.9534167314657336, 0.7567556797964915, 0.18918891994912287, 0.3729585963159879, 0.2632648915171679, 0.17550992767811194, 0.08775496383905597, 0.09872433431893797, 0.13806525098152972, 0.3929549451012769, 0.1699264627464981, 0.2973713098063717, 0.09018072125666958, 0.09018072125666958, 0.7665361306816915, 0.9777989878202505, 0.9600748269316489, 0.06310881521661478, 0.883523413032607, 0.06310881521661478, 0.2075996057466245, 0.7710842499160339, 0.5708295979085589, 0.04892825124930505, 0.1957130049972202, 0.1794035879141185, 0.5492459360892361, 0.14646558295712964, 0.18308197869641202, 0.09154098934820601, 0.018308197869641205, 0.9775675398405498, 0.958457860463698, 0.07620039123035745, 0.025400130410119147, 0.7874040427136936, 0.10160052164047659, 0.9242233877836414, 0.8248952523890378, 0.1473027236408996, 0.014730272364089962, 0.9822507700552894, 0.14638014928548615, 0.7644296684908721, 0.06505784412688274, 0.03252892206344137, 0.17879886011238505, 0.39010660388156737, 0.26007106925437823, 0.13003553462718911, 0.04876332548519592, 0.992332938460718, 0.9322965902428006, 0.29740492324766593, 0.0811104336129998, 0.1216656504194997, 0.4866626016779988, 0.29745031295512553, 0.024787526079593794, 0.024787526079593794, 0.6444756780694386, 0.4112285402369835, 0.3524816059174144, 0.014686733579892268, 0.2349877372782763, 0.8973094639754902, 0.09970105155283224, 0.9781424647256456, 0.5672503509788409, 0.09076005615661453, 0.09076005615661453, 0.23824514741111316, 0.7281735720297183, 0.20804959200849096, 0.3247505471420706, 0.6495010942841412, 0.15449816056416252, 0.33989595324115757, 0.17509791530605084, 0.15449816056416252, 0.17509791530605084, 0.06926793301772968, 0.20780379905318905, 0.6926793301772968, 0.08671339108481392, 0.8671339108481393, 0.14169882978425424, 0.18893177304567235, 0.6612612056598532, 0.10236630901274475, 0.0682442060084965, 0.017061051502124124, 0.49477049356159963, 0.3241599785403584, 0.9610249667692975, 0.3692231995009026, 0.06421273034798307, 0.5137018427838645, 0.0481595477609873, 0.02591628616872588, 0.1554977170123553, 0.7256560127243247, 0.02591628616872588, 0.07774885850617765, 0.949482344335217, 0.9789844577560437, 0.920728658423186, 0.05754554115144912, 0.10390435152236599, 0.10390435152236599, 0.6234261091341959, 0.6810811835095837, 0.2867710246356142, 0.9667549580081949, 0.0149635519590172, 0.5760967504221621, 0.4040159028934644, 0.9231070701274671, 0.025998733703114382, 0.545973407765402, 0.4159797392498301, 0.961586278235192, 0.9416710939099424, 0.0967252557679601, 0.7012581043177107, 0.1934505115359202, 0.18583486620042813, 0.22300183944051377, 0.5575045986012844, 0.6688109977069909, 0.3220201100070697, 0.1247777429216445, 0.39512951925187423, 0.2807499215737001, 0.17676846913899635, 0.031194435730411123, 0.6375652768317245, 0.03355606720166971, 0.3020046048150274, 0.03355606720166971, 0.29747775979699353, 0.14873887989849677, 0.10624205707035483, 0.4462166396954903, 0.10910538469848205, 0.8182903852386154, 0.10910538469848205, 0.8788536920032868, 0.12555052742904096, 0.08856623402293261, 0.15499090954013206, 0.09963701327579919, 0.5203266248847291, 0.13284935103439893, 0.16296755845182073, 0.08148377922591037, 0.2037094480647759, 0.550015509774895, 0.3267499558500487, 0.6534999117000974, 0.07523659817125398, 0.6645899505127435, 0.025078866057084658, 0.23824922754230426, 0.9534117380107273, 0.1892482845873763, 0.7569931383495052, 0.25179604465499356, 0.10071841786199744, 0.15107762679299616, 0.10071841786199744, 0.4196600744249893, 0.9798709612378188, 0.20502339101507672, 0.07322263964824169, 0.45398036581909845, 0.26360150273367006, 0.4919514099537039, 0.5020947379939864, 0.9464561185132969, 0.3473009808960008, 0.19161433428744873, 0.17963843839448318, 0.16766254250151763, 0.1077830630366899, 0.9520076517805715, 0.9534162816574001, 0.9323094792687115, 0.14838586465680986, 0.8408532330552559, 0.9600274673666161, 0.043637612153028006, 0.16874038331012217, 0.5624679443670739, 0.08437019165506109, 0.19686378052847586, 0.13502865482679977, 0.057869423497199896, 0.7715923132959986, 0.03857961566479993, 0.984145518596452, 0.011183471802232411, 0.956093327446387, 0.20797978265580003, 0.20797978265580003, 0.4011038665504715, 0.1634126863724143, 0.029711397522257144, 0.936984492151068, 0.44333846466350374, 0.5589919771844177, 0.9779854218175537, 0.057757249156098305, 0.8086014881853762, 0.11551449831219661, 0.956092023454797, 0.18869678960235087, 0.7547871584094035, 0.08007166123566832, 0.8807882735923516, 0.09910750421368884, 0.7433062816026663, 0.14866125632053326, 0.9464562137369149, 0.05183715341639869, 0.7775573012459804, 0.10367430683279738, 0.34595972744862347, 0.4963770002523728, 0.15041727280374934, 0.9146814361602589, 0.06628126348987383, 0.9602820965081, 0.23638144298893846, 0.38680599761826295, 0.34382755343845595, 0.03223383313485524, 0.049575331693886115, 0.8923559704899501, 0.2084859857755197, 0.7297009502143189, 0.9868799458073784, 0.384746663588522, 0.24848222023425381, 0.2725288867085364, 0.0961866658971305, 0.942429939982759, 0.8979682816888361, 0.06907448320683354, 0.030473001700068114, 0.8837170493019753, 0.06094600340013623, 0.891389238643115, 0.07428243655359291, 0.8807497346181581, 0.08006815769255983, 0.21957513074065904, 0.04391502614813181, 0.5562569978763362, 0.17566010459252723, 0.9773030887590588, 0.19459741491122476, 0.7135238546744909, 0.06659122552644214, 0.17313718636874958, 0.1465006961581727, 0.026636490210576857, 0.5993210297379793, 0.951894910531382, 0.832185533230262, 0.10402319165378275, 0.16875310146920217, 0.37969447830570485, 0.18281585992496902, 0.18281585992496902, 0.07031379227883423, 0.1681584315909511, 0.13758417130168726, 0.2904554727480064, 0.06114852057852767, 0.3210297330372703, 0.0891316205168483, 0.23768432137826212, 0.6536318837902209, 0.20796360310270653, 0.7278726108594729, 0.4587570506869466, 0.14909604147325764, 0.011468926267173664, 0.25231637787782063, 0.11468926267173665, 0.2603981447965683, 0.0557996024564075, 0.04649966871367291, 0.3068978135102412, 0.334797614738445, 0.2696640077869289, 0.3852342968384699, 0.11557028905154096, 0.21829943487513292, 0.22674354814380626, 0.2885826976375716, 0.08245219932502046, 0.10306524915627557, 0.29888922255319916, 0.191701248271908, 0.191701248271908, 0.10954357044109028, 0.49294606698490623, 0.17833149849500404, 0.11888766566333603, 0.17833149849500404, 0.4755506626533441, 0.8960658095172116, 0.07545817343302834, 0.018864543358257085, 0.009432271679128542, 0.9746204074266261, 0.340662996113144, 0.21678554298109165, 0.07226184766036388, 0.3303398750188063, 0.04129248437735079, 0.5418855183854296, 0.021675420735417183, 0.4118329939729265], \"Term\": [\"\\uac00\\uae4c\\uc6b4\", \"\\uac00\\uae4c\\uc6b4\", \"\\uac00\\uae4c\\uc6b4\", \"\\uac00\\uae4c\\uc6b4\", \"\\uac00\\ub294\", \"\\uac00\\ub294\", \"\\uac00\\ub294\", \"\\uac00\\ub294\", \"\\uac00\\ub2e4\\uac00\", \"\\uac00\\ub77c\", \"\\uac00\\uba74\", \"\\uac00\\uba74\", \"\\uac00\\uc9c0\", \"\\uac00\\uc9c0\", \"\\uac00\\uc9c0\", \"\\uac00\\uc9c0\", \"\\uac11\\uc790\\uae30\", \"\\uac11\\uc790\\uae30\", \"\\uac11\\uc790\\uae30\", \"\\uac11\\uc790\\uae30\", \"\\uac19\\uc2b5\\ub2c8\\ub2e4\", \"\\uac19\\uc2b5\\ub2c8\\ub2e4\", \"\\uac19\\uc2b5\\ub2c8\\ub2e4\", \"\\uac19\\uc2b5\\ub2c8\\ub2e4\", \"\\uac19\\uc2b5\\ub2c8\\ub2e4\", \"\\uac19\\uc740\", \"\\uac19\\uc740\", \"\\uac19\\uc740\", \"\\uac19\\uc740\", \"\\uac19\\uc740\", \"\\uac1c\\uc120 \\ud574\\uc8fc\\uc138\\uc694\", \"\\uac1c\\uc120 \\ud574\\uc8fc\\uc138\\uc694\", \"\\uac1c\\uc120 \\ud574\\uc8fc\\uc138\\uc694\", \"\\uac70\\ub9ac\", \"\\uac70\\ub9ac\", \"\\uac70\\ub9ac\", \"\\uac70\\ub9ac\", \"\\uac70\\ub9ac\", \"\\uacbd\\ub85c \\uc548\\ub0b4\", \"\\uacbd\\ub85c \\uc548\\ub0b4\", \"\\uacbd\\ub85c \\uc548\\ub0b4\", \"\\uacbd\\ub85c \\uc548\\ub0b4\", \"\\uacbd\\ub85c \\uc774\\ud0c8\", \"\\uacbd\\ub85c \\ud0d0\\uc0c9\", \"\\uacbd\\ub85c \\ud0d0\\uc0c9\", \"\\uacbd\\uc720\", \"\\uacbd\\uc720\", \"\\uacbd\\uc720\", \"\\uace0\\uc18d\\ub3c4\\ub85c\", \"\\uace0\\uc18d\\ub3c4\\ub85c\", \"\\uace0\\uc18d\\ub3c4\\ub85c\", \"\\uace0\\uc18d\\ub3c4\\ub85c\", \"\\uace0\\uc74c\", \"\\uace0\\uc74c\", \"\\uacf5\\uc720\", \"\\uacf5\\uc720\", \"\\uacfc\\uc18d\", \"\\uacfc\\uc18d \\ub2e8\\uc18d\", \"\\uacfc\\uc18d \\uce74\\uba54\\ub77c\", \"\\uad50\\ucc28\\ub85c\", \"\\uad50\\ud1b5\", \"\\uad50\\ud1b5\", \"\\uad50\\ud1b5\", \"\\uad50\\ud1b5 \\uc218\\ub2e8\", \"\\uad6c\\uac04 \\ub2e8\\uc18d\", \"\\uadf8\\ub0e5\", \"\\uadf8\\ub0e5\", \"\\uadf8\\ub0e5\", \"\\uadf8\\ub0e5\", \"\\uadf8\\ub0e5\", \"\\uadfc\\ucc98\", \"\\uadfc\\ucc98\", \"\\uadfc\\ucc98\", \"\\uadfc\\ucc98\", \"\\uae30\\ub2a5 \\uc788\\uc5c8\\uc73c\\uba74\", \"\\uae30\\ub2a5 \\uc788\\uc5c8\\uc73c\\uba74\", \"\\uae30\\ub2a5 \\uc788\\uc5c8\\uc73c\\uba74\", \"\\uae30\\ub85d\", \"\\uae30\\ub85d\", \"\\uae38\\uc774\", \"\\uae38\\uc774\", \"\\uae38\\uc774\", \"\\uae38\\ucc3e\\uae30 \\uae30\\ub2a5\", \"\\uae38\\ucc3e\\uae30 \\uae30\\ub2a5\", \"\\uae38\\ucc3e\\uae30 \\uae30\\ub2a5\", \"\\ub0b4\\ube44\", \"\\ub0b4\\ube44\", \"\\ub0b4\\ube44\\uac8c\\uc774\\uc158\", \"\\ub0b4\\ube44\\uac8c\\uc774\\uc158\", \"\\ub0b4\\ube44\\uac8c\\uc774\\uc158\", \"\\ub0b4\\ube44\\uac8c\\uc774\\uc158\", \"\\ub124\\uc774\\ubc84 \\ub0b4\\ube44\", \"\\ub124\\uc774\\ubc84 \\ub3c4\\ub85c\", \"\\ub124\\ud2b8\\uc6cc\\ud06c\", \"\\ub124\\ud2b8\\uc6cc\\ud06c\", \"\\ub178\\ub798\", \"\\ub178\\uc120\", \"\\ub178\\uc120\", \"\\ub178\\uc120\", \"\\ub178\\uc120\\ub3c4\", \"\\ub204\\ub974\\uae30\", \"\\ub290\\ub08c\", \"\\ub290\\ub08c\", \"\\ub2e8\\uc18d\", \"\\ub2e8\\uc18d\", \"\\ub2e8\\uc18d\", \"\\ub2e8\\uc18d \\uce74\\uba54\\ub77c\", \"\\ub2f5\\ubcc0\", \"\\ub2f5\\ubcc0\", \"\\ub2f5\\ubcc0\", \"\\ub300\\uc911\\uad50\\ud1b5\", \"\\ub300\\uc911\\uad50\\ud1b5\", \"\\ub300\\uc911\\uad50\\ud1b5\", \"\\ub300\\uc911\\uad50\\ud1b5 \\uae38\\ucc3e\\uae30\", \"\\ub300\\uc911\\uad50\\ud1b5 \\uae38\\ucc3e\\uae30\", \"\\ub300\\uc911\\uad50\\ud1b5 \\uc774\\uc6a9\", \"\\ub300\\uc911\\uad50\\ud1b5 \\uc774\\uc6a9\", \"\\ub300\\uc911\\uad50\\ud1b5 \\uc815\\ubcf4\", \"\\ub300\\ud574\", \"\\ub300\\ud574\", \"\\ub3c4\\ub85c\", \"\\ub3c4\\ub85c\", \"\\ub3c4\\ub85c\", \"\\ub3c4\\ub85c\\ub85c\", \"\\ub3c4\\ucc29 \\uc9c0\\uc810\", \"\\ub3d9\\uc548\", \"\\ub3d9\\uc548\", \"\\ub3d9\\uc548\", \"\\ub3d9\\uc791\", \"\\ub418\\ub294\", \"\\ub418\\ub294\", \"\\ub418\\ub294\", \"\\ub418\\ub294\", \"\\ub418\\ub294\", \"\\ub418\\ub294\\ub370\", \"\\ub418\\ub294\\ub370\", \"\\ub418\\ub294\\ub370\", \"\\ub418\\ub294\\ub370\", \"\\ub418\\ub294\\ub370\", \"\\ub418\\uc5b4\", \"\\ub418\\uc5b4\", \"\\ub418\\uc5b4\", \"\\ub418\\uc5b4\", \"\\ub429\\ub2c8\\ub2e4\", \"\\ub429\\ub2c8\\ub2e4\", \"\\ub429\\ub2c8\\ub2e4\", \"\\ub429\\ub2c8\\ub2e4\", \"\\ub429\\ub2c8\\ub2e4\", \"\\ub4f1\\ub85d\", \"\\ub4f1\\ub85d\", \"\\ub4f1\\ub85d\", \"\\ub54c\\ubb38\", \"\\ub54c\\ubb38\", \"\\ub54c\\ubb38\", \"\\ub54c\\ubb38\", \"\\ub54c\\ubb38\", \"\\ub8e8\\ud2b8\", \"\\ub9ac\\ubdf0\", \"\\ub9ac\\ubdf0\", \"\\ub9ac\\ubdf0\", \"\\ub9ac\\ubdf0\", \"\\ub9ac\\ubdf0\", \"\\ub9ac\\uc2a4\\ud2b8\", \"\\ub9ac\\uc2a4\\ud2b8\", \"\\ub9c8\\uc9c0\\ub9c9\", \"\\ub9ce\\uc544\\uc11c\", \"\\ub9ce\\uc544\\uc11c\", \"\\ub9ce\\uc544\\uc11c\", \"\\ub9e4\\ubc88\", \"\\ub9e4\\ubc88\", \"\\ub9e4\\ubc88\", \"\\ub9e4\\ubc88\", \"\\ub9e4\\uc7a5\", \"\\ub9e4\\uc7a5\", \"\\uba54\\ub274\", \"\\uba54\\ub274\", \"\\uba54\\ub274\", \"\\uba54\\ub274\", \"\\uba54\\ubaa8\", \"\\uba54\\ubaa8\", \"\\uba54\\uc778\", \"\\uba54\\uc778\", \"\\uba54\\uc778\", \"\\ubaa8\\ub450\", \"\\ubaa8\\ub450\", \"\\ubaa8\\ub450\", \"\\ubaa8\\ub450\", \"\\ubaa8\\ub4dc\", \"\\ubaa8\\ub4dc\", \"\\ubaa8\\ub4dc\", \"\\ubaa8\\ub4dc\", \"\\ubaa8\\ub4dc\", \"\\ubaa8\\ubc14\\uc77c\", \"\\ubaa8\\ubc14\\uc77c\", \"\\ubaa8\\ubc14\\uc77c\", \"\\ubaa8\\uc591\", \"\\ubaa8\\uc591\", \"\\ubaa8\\uc758\", \"\\ubaa8\\uc758\", \"\\ubaa8\\uc758 \\uc8fc\\ud589\", \"\\ubaa8\\uc758 \\uc8fc\\ud589\", \"\\ubaa9\\ub85d\", \"\\ubaa9\\ub85d\", \"\\ubaa9\\ub85d\", \"\\ubaa9\\uc801\\uc9c0\", \"\\ubaa9\\uc801\\uc9c0\", \"\\ubaa9\\uc801\\uc9c0\", \"\\ubaa9\\uc801\\uc9c0\", \"\\ubaa9\\uc801\\uc9c0\", \"\\ubaa9\\uc801\\uc9c0 \\uac80\\uc0c9\", \"\\ubaa9\\uc801\\uc9c0 \\uac80\\uc0c9\", \"\\ubb38\\uad6c\", \"\\ubbf8\\ub514\\uc5b4\", \"\\ubc14\\ub85c\", \"\\ubc14\\ub85c\", \"\\ubc14\\ub85c\", \"\\ubc14\\ub85c\", \"\\ubc14\\ub85c\", \"\\ubc29\\uba74\", \"\\ubc29\\ubc95\", \"\\ubc29\\ubc95\", \"\\ubc29\\ubc95\", \"\\ubc29\\ubc95\", \"\\ubc29\\ud5a5\", \"\\ubc29\\ud5a5\", \"\\ubc29\\ud5a5\", \"\\ubc29\\ud5a5\", \"\\ubc30\\ud130\\ub9ac\", \"\\ubc84\\uc2a4 \\ubc88\\ud638\", \"\\ubc84\\uc2a4 \\uc9c0\\ud558\\ucca0\", \"\\ubc84\\uc804\", \"\\ubc84\\uc804\", \"\\ubc84\\uc804\", \"\\ubc84\\uc804\", \"\\ubc84\\uc804 \\uc0ac\\uc6a9\", \"\\ubc84\\ud2bc\", \"\\ubc84\\ud2bc\", \"\\ubc84\\ud2bc\", \"\\ubc84\\ud2bc\", \"\\ubcc0\\uacbd\", \"\\ubcc0\\uacbd\", \"\\ubcc0\\uacbd\", \"\\ubcc0\\uacbd\", \"\\ubcc0\\uacbd\", \"\\ubcc4\\ub85c\", \"\\ubcc4\\ub85c\", \"\\ubcc4\\ub85c\", \"\\ubcc4\\uba85\", \"\\ubcc4\\uba85\", \"\\ubcf4\\uace0\", \"\\ubcf4\\uace0\", \"\\ubcf4\\uace0\", \"\\ubcf4\\uace0\", \"\\ubcf4\\uae30\", \"\\ubcf4\\uae30\", \"\\ubcf4\\uae30\", \"\\ubcf4\\uae30\", \"\\ubcfc\\ub968\", \"\\ubd80\\ubd84\", \"\\ubd80\\ubd84\", \"\\ubd80\\ubd84\", \"\\ubd80\\ubd84\", \"\\ubd80\\ubd84\", \"\\ubd80\\uc0b0\", \"\\ubd80\\uc0b0\", \"\\ubd80\\ud0c1 \\ud569\\ub2c8\\ub2e4\", \"\\ubd88\\uad6c\", \"\\ubd88\\ud3b8\\ud569\\ub2c8\\ub2e4\", \"\\ubd88\\ud3b8\\ud569\\ub2c8\\ub2e4\", \"\\ubd88\\ud3b8\\ud569\\ub2c8\\ub2e4\", \"\\ubd88\\ud3b8\\ud569\\ub2c8\\ub2e4\", \"\\ubd88\\ud3b8\\ud569\\ub2c8\\ub2e4\", \"\\ube14\\ub8e8\\ud22c\\uc2a4\", \"\\ube14\\ub8e8\\ud22c\\uc2a4\", \"\\ube60\\ub978\", \"\\ube60\\ub978\", \"\\ube60\\ub978\", \"\\ube60\\ub978\", \"\\ube60\\ub978\", \"\\ube68\\uac04\\uc0c9\", \"\\ube68\\uac04\\uc0c9\", \"\\ube68\\uac04\\uc0c9\", \"\\uc0ac\\uc6a9 \\ud558\\ub2e4\\uac00\", \"\\uc0ac\\uc6a9 \\ud558\\ub2e4\\uac00\", \"\\uc0ac\\uc6a9\\uc790\", \"\\uc0ac\\uc6a9\\uc790\", \"\\uc0ac\\uc6a9\\uc790\", \"\\uc0ac\\uc6a9\\uc790\", \"\\uc0ac\\uc6a9\\uc790\", \"\\uc0ac\\uc9c4\", \"\\uc0ac\\uc9c4\", \"\\uc0ac\\uc9c4\", \"\\uc0ac\\ud56d\", \"\\uc0ac\\ud56d\", \"\\uc0ac\\ud56d\", \"\\uc0ac\\ud56d\", \"\\uc0ac\\ud56d\", \"\\uc0ad\\uc81c\", \"\\uc0ad\\uc81c\", \"\\uc0ad\\uc81c\", \"\\uc0ad\\uc81c\", \"\\uc0dd\\uac01\", \"\\uc0dd\\uac01\", \"\\uc0dd\\uac01\", \"\\uc0dd\\uac01\", \"\\uc0dd\\uac01\", \"\\uc11c\\uc6b8\", \"\\uc11c\\uc6b8\", \"\\uc120\\ud0dd\", \"\\uc120\\ud0dd\", \"\\uc120\\ud0dd\", \"\\uc120\\ud0dd\", \"\\uc120\\ud0dd\", \"\\uc18c\\ub9ac\", \"\\uc18c\\ub9ac\", \"\\uc18c\\ub9ac\", \"\\uc18c\\ub9ac\", \"\\uc18d\\ub3c4\", \"\\uc18d\\ub3c4\", \"\\uc18d\\ub3c4\", \"\\uc18d\\ub3c4\", \"\\uc18d\\ub3c4\", \"\\uc190\\uac00\\ub77d\", \"\\uc218\\ub2e8\", \"\\uc218\\uc2e0\", \"\\uc218\\uc2e0\", \"\\uc218\\uc815\", \"\\uc218\\uc815\", \"\\uc218\\uc815\", \"\\uc218\\uc815\", \"\\uc218\\uc815\", \"\\uc2dc\\uac01\", \"\\uc2dc\\uac01\", \"\\uc2dc\\uc791\", \"\\uc2dc\\uc791\", \"\\uc2dc\\uc791\", \"\\uc2dc\\uc791\", \"\\uc2dc\\ud5d8\", \"\\uc2dd\\ub2f9\", \"\\uc2e4\\ud589\", \"\\uc2e4\\ud589\", \"\\uc2f6\\uc740\\ub370\", \"\\uc2f6\\uc740\\ub370\", \"\\uc2f6\\uc740\\ub370\", \"\\uc4f0\\uace0\", \"\\uc4f0\\uace0\", \"\\uc4f0\\uace0\", \"\\uc4f0\\uace0\", \"\\uc4f0\\uace0\", \"\\uc4f0\\uace0 \\uc788\\uc5c8\\ub294\\ub370\", \"\\uc4f0\\uace0 \\uc788\\uc5c8\\ub294\\ub370\", \"\\uc4f0\\uace0 \\uc788\\uc5c8\\ub294\\ub370\", \"\\uc544\\ub798\", \"\\uc544\\ub798\", \"\\uc544\\ub798\", \"\\uc544\\uc774\\ucf58\", \"\\uc544\\uc774\\ucf58\", \"\\uc544\\uc774\\ucf58\", \"\\uc548\\ub0b4 \\uc74c\\uc131\", \"\\uc548\\ub0b4 \\uc74c\\uc131\", \"\\uc548\\ub4dc\\ub85c\\uc774\\ub4dc\", \"\\uc548\\ub4dc\\ub85c\\uc774\\ub4dc\", \"\\uc548\\ub4dc\\ub85c\\uc774\\ub4dc \\uc624\\ud1a0\", \"\\uc548\\uc804\", \"\\uc548\\uc804\", \"\\uc548\\uc804\", \"\\uc548\\uc804 \\uc6b4\\ud589\", \"\\uc54a\\uace0\", \"\\uc54a\\uace0\", \"\\uc54a\\uace0\", \"\\uc54a\\uace0\", \"\\uc54a\\uace0\", \"\\uc5b4\\ud50c \\uc0ac\\uc6a9\", \"\\uc5c5\\ub370\\uc774\\ud2b8 \\uc774\\ud6c4\", \"\\uc5c5\\ub370\\uc774\\ud2b8 \\uc774\\ud6c4\", \"\\uc5c5\\ub370\\uc774\\ud2b8 \\uc774\\ud6c4\", \"\\uc5c5\\ub370\\uc774\\ud2b8 \\uc774\\ud6c4\", \"\\uc5c5\\uccb4\", \"\\uc5c5\\uccb4\", \"\\uc5f0\\uacb0\", \"\\uc5f0\\uacb0\", \"\\uc5f0\\uacb0\", \"\\uc5f4\\ucc28\", \"\\uc5f4\\ucc28\", \"\\uc601\\uc5c5\", \"\\uc601\\uc5c5\", \"\\uc608\\uc0c1\", \"\\uc608\\uc0c1 \\uc2dc\\uac04\", \"\\uc608\\uc57d\", \"\\uc608\\uc57d\", \"\\uc608\\uc804\", \"\\uc608\\uc804\", \"\\uc608\\uc804\", \"\\uc608\\uc804\", \"\\uc608\\uc804\", \"\\uc624\\ub958\", \"\\uc624\\ub958\", \"\\uc624\\ub958\", \"\\uc624\\ub958\", \"\\uc624\\ub978\\ucabd\", \"\\uc624\\ub978\\ucabd\", \"\\uc624\\ub978\\ucabd\", \"\\uc624\\ud1a0\", \"\\uc694\\uae08\", \"\\uc694\\uccad\", \"\\uc694\\uccad\", \"\\uc694\\uccad\", \"\\uc6b0\\ud68c\", \"\\uc6b0\\ud68c\", \"\\uc6b4\\uc804\", \"\\uc6b4\\uc804\", \"\\uc6b4\\uc804\", \"\\uc6b4\\uc804\", \"\\uc6b4\\ud589\", \"\\uc6b4\\ud589\", \"\\uc6b4\\ud589\", \"\\uc6b4\\ud589\", \"\\uc6b4\\ud589\", \"\\uc6b4\\ud589 \\ubaa8\\ub4dc\", \"\\uc704\\uc82f\", \"\\uc720\\uc9c0\", \"\\uc720\\uc9c0\", \"\\uc720\\uc9c0\", \"\\uc720\\uc9c0\", \"\\uc74c\\ub7c9\", \"\\uc74c\\uc131\", \"\\uc74c\\uc131\", \"\\uc74c\\uc131\", \"\\uc74c\\uc545\", \"\\uc774\\ub3d9\", \"\\uc774\\ub3d9\", \"\\uc774\\ub3d9\", \"\\uc774\\ub3d9\", \"\\uc774\\ub7f0\", \"\\uc774\\ub7f0\", \"\\uc774\\ub7f0\", \"\\uc774\\ub7f0\", \"\\uc774\\ub7f0\", \"\\uc774\\ub95c\\ucc28\", \"\\uc774\\ub95c\\ucc28 \\uacbd\\ub85c\", \"\\uc774\\ubc88\", \"\\uc774\\ubc88\", \"\\uc774\\ubc88\", \"\\uc774\\ubc88\", \"\\uc774\\ubc88 \\uc5c5\\ub370\\uc774\\ud2b8\", \"\\uc774\\ubc88 \\uc5c5\\ub370\\uc774\\ud2b8\", \"\\uc774\\ubc88 \\uc5c5\\ub370\\uc774\\ud2b8\", \"\\uc774\\ubc88 \\uc5c5\\ub370\\uc774\\ud2b8\", \"\\uc774\\uc804\", \"\\uc774\\uc804\", \"\\uc774\\uc804\", \"\\uc774\\uc804\", \"\\uc774\\uc804 \\ubc84\\uc804\", \"\\uc774\\uc804 \\ubc84\\uc804\", \"\\uc774\\ud0c8\", \"\\uc774\\ud6c4\", \"\\uc774\\ud6c4\", \"\\uc774\\ud6c4\", \"\\uc774\\ud6c4\", \"\\uc778\\ud574\", \"\\uc778\\ud574\", \"\\uc788\\uac8c \\ud574\\uc8fc\\uc138\\uc694\", \"\\uc788\\uac8c \\ud574\\uc8fc\\uc138\\uc694\", \"\\uc788\\ub294\\ub370\", \"\\uc788\\ub294\\ub370\", \"\\uc788\\ub294\\ub370\", \"\\uc788\\ub294\\ub370\", \"\\uc788\\ub294\\ub370\", \"\\uc788\\ub294\\ub370\\uc694\", \"\\uc788\\ub294\\ub370\\uc694\", \"\\uc788\\ub294\\ub370\\uc694\", \"\\uc788\\uc5c8\\uc2b5\\ub2c8\\ub2e4\", \"\\uc788\\uc5c8\\uc2b5\\ub2c8\\ub2e4\", \"\\uc788\\uc5c8\\uc73c\\uba74\", \"\\uc788\\uc5c8\\uc73c\\uba74\", \"\\uc788\\uc5c8\\uc73c\\uba74\", \"\\uc788\\uc73c\\uba74\", \"\\uc788\\uc73c\\uba74\", \"\\uc788\\uc73c\\uba74\", \"\\uc788\\uc73c\\uba74\", \"\\uc788\\uc73c\\uba74\", \"\\uc788\\uc73c\\uba74 \\uc88b\\uaca0\\uc2b5\\ub2c8\\ub2e4\", \"\\uc790\\ub3d9\", \"\\uc790\\ub3d9\", \"\\uc790\\ub3d9\", \"\\uc790\\ub3d9\", \"\\uc790\\ub3d9\\ucc28\", \"\\uc790\\ub3d9\\ucc28\", \"\\uc790\\ub3d9\\ucc28\", \"\\uc790\\ub3d9\\ucc28\", \"\\uc790\\ub3d9\\ucc28\", \"\\uc790\\ub3d9\\ucc28 \\uc804\\uc6a9\", \"\\uc790\\uc804\\uac70\", \"\\uc798\\ubabb\", \"\\uc798\\ubabb\", \"\\uc798\\uc4f0\\uace0 \\uc788\\uc2b5\\ub2c8\\ub2e4\", \"\\uc798\\uc4f0\\uace0 \\uc788\\uc2b5\\ub2c8\\ub2e4\", \"\\uc798\\uc4f0\\uace0 \\uc788\\uc2b5\\ub2c8\\ub2e4\", \"\\uc7a5\\uc18c \\uac80\\uc0c9\", \"\\uc7a5\\uc18c \\uac80\\uc0c9\", \"\\uc7ac\\uc0dd\", \"\\uc800\\uc7a5\", \"\\uc800\\uc7a5\", \"\\uc800\\uc7a5\", \"\\uc800\\uc7a5 \\uae30\\ub2a5\", \"\\uc800\\uc7a5 \\uc7a5\\uc18c\", \"\\uc800\\uc7a5 \\uc7a5\\uc18c\", \"\\uc800\\uc7a5 \\uc7a5\\uc18c\", \"\\uc804\\uc6a9\", \"\\uc804\\uc6a9 \\ub3c4\\ub85c\", \"\\uc804\\ud600\", \"\\uc804\\ud600\", \"\\uc804\\ud600\", \"\\uc810\\uc810\", \"\\uc810\\uc810\", \"\\uc810\\uc810\", \"\\uc815\\ub958\\uc7a5\", \"\\uc815\\ub958\\uc7a5\", \"\\uc815\\ub9d0\", \"\\uc815\\ub9d0\", \"\\uc815\\ub9d0\", \"\\uc815\\ub9d0\", \"\\uc815\\ub9d0\", \"\\uc81c\\uacf5\", \"\\uc81c\\uacf5\", \"\\uc81c\\uacf5\", \"\\uc81c\\uacf5\", \"\\uc81c\\ubc1c\", \"\\uc81c\\ubc1c\", \"\\uc81c\\ubc1c\", \"\\uc81c\\ubc1c\", \"\\uc81c\\uc678\", \"\\uc81c\\uc678\", \"\\uc81c\\uc678\", \"\\uc870\\uc808\", \"\\uc870\\uc808\", \"\\uc88b\\uaca0\\uc2b5\\ub2c8\\ub2e4\", \"\\uc88b\\uaca0\\uc2b5\\ub2c8\\ub2e4\", \"\\uc88b\\uaca0\\uc2b5\\ub2c8\\ub2e4\", \"\\uc88b\\uaca0\\uc2b5\\ub2c8\\ub2e4\", \"\\uc88b\\uaca0\\uc2b5\\ub2c8\\ub2e4\", \"\\uc88b\\uaca0\\uc5b4\\uc694\", \"\\uc88b\\uaca0\\uc5b4\\uc694\", \"\\uc88b\\uaca0\\uc5b4\\uc694\", \"\\uc88b\\uaca0\\uc5b4\\uc694\", \"\\uc88c\\ud68c\\uc804\", \"\\uc88c\\ud68c\\uc804\", \"\\uc8fc\\ubcc0\", \"\\uc8fc\\ubcc0\", \"\\uc8fc\\ubcc0\", \"\\uc8fc\\ubcc0\", \"\\uc8fc\\ubcc0 \\uac80\\uc0c9\", \"\\uc8fc\\ubcc0 \\uc800\\uc7a5\", \"\\uc8fc\\ubcc0 \\uc800\\uc7a5\", \"\\uc8fc\\uc18c\", \"\\uc8fc\\uc18c\", \"\\uc8fc\\uc18c\", \"\\uc8fc\\uc18c\", \"\\uc8fc\\uc18c\", \"\\uc8fc\\ucc28\\uc7a5\", \"\\uc8fc\\ud589\", \"\\uc8fc\\ud589\", \"\\uc8fc\\ud589\", \"\\uc8fc\\ud589\", \"\\uc990\\uaca8\\ucc3e\\uae30\", \"\\uc990\\uaca8\\ucc3e\\uae30\", \"\\uc990\\uaca8\\ucc3e\\uae30 \\uc800\\uc7a5\", \"\\uc9c0\\uae08\", \"\\uc9c0\\uae08\", \"\\uc9c0\\uae08\", \"\\uc9c0\\uae08\", \"\\uc9c0\\uae08\", \"\\uc9c0\\ub3c4 \\ub0b4\\ube44\\uac8c\\uc774\\uc158\", \"\\uc9c0\\ub3c4 \\uc815\\ub9d0\", \"\\uc9c0\\ub3c4 \\uc911\\uc2ec\", \"\\uc9c0\\ub3c4 \\ud45c\\uc2dc\", \"\\uc9c0\\ub3c4 \\ud45c\\uc2dc\", \"\\uc9c0\\ub3c4 \\ud655\\ub300\", \"\\uc9c0\\ub3c4 \\ud655\\ub300\", \"\\uc9c0\\uc5ed\", \"\\uc9c0\\uc5ed\", \"\\uc9c0\\uc5ed\", \"\\uc9c0\\uc5ed\", \"\\uc9c0\\uc810\", \"\\uc9c0\\uc810\", \"\\uc9c0\\uc810\", \"\\uc9c0\\uc810\", \"\\uc9c0\\ud558\\ucca0\", \"\\uc9c0\\ud558\\ucca0\", \"\\uc9c1\\uc9c4\", \"\\uc9c4\\uc9dc\", \"\\uc9c4\\uc9dc\", \"\\uc9c4\\uc9dc\", \"\\uc9c4\\uc9dc\", \"\\uc9c4\\uc9dc\", \"\\uc9dc\\uc99d\", \"\\ucc28\\ub7c9\", \"\\ucc28\\ub7c9\", \"\\ucc28\\uc120\", \"\\ucc28\\uc774\", \"\\ucc28\\uc774\", \"\\ucc28\\uc774\", \"\\ucc28\\uc885\", \"\\ucc3e\\uc740\", \"\\ucc3e\\uc740\", \"\\ucd5c\\ub2e8 \\uac70\\ub9ac\", \"\\ucd5c\\ub2e8 \\uac70\\ub9ac\", \"\\ucd5c\\uc18c\", \"\\ucd5c\\uc18c\", \"\\ucd5c\\uc18c\", \"\\ucd5c\\uc18c \\uc2dc\\uac04\", \"\\ucd5c\\uc545\", \"\\ucd5c\\uc545\", \"\\ucd5c\\uc545\", \"\\ucd94\\ucc9c\", \"\\ucd94\\ucc9c\", \"\\ucd94\\ucc9c\", \"\\ucd95\\uc18c\", \"\\ucd95\\uc18c\", \"\\ucd95\\uc18c \\ubc84\\ud2bc\", \"\\ucd9c\\ubc1c\", \"\\ucd9c\\ubc1c\", \"\\ucd9c\\ubc1c\", \"\\ucd9c\\ubc1c\", \"\\ucd9c\\ubc1c \\ub3c4\\ucc29\", \"\\ucd9c\\ubc1c \\ub3c4\\ucc29\", \"\\ucda9\\ubd84\\ud788\", \"\\ucda9\\ubd84\\ud788\", \"\\uce74\\uba54\\ub77c\", \"\\uce74\\uce74\\uc624\", \"\\uce74\\uce74\\uc624\", \"\\uce74\\uce74\\uc624\", \"\\uce74\\uce74\\uc624\", \"\\ucef4\\ud4e8\\ud130\", \"\\ud070\\uae38\", \"\\ud070\\uae38\", \"\\ud0d0\\uc0c9\", \"\\ud0d0\\uc0c9\", \"\\ud0d0\\uc0c9\", \"\\ud0dd\\uc2dc\", \"\\ud0dd\\uc2dc\", \"\\ud130\\ubbf8\\ub110\", \"\\ud130\\ubbf8\\ub110\", \"\\ud2f0\\ub9f5\", \"\\ud2f0\\ub9f5\", \"\\ud2f0\\ub9f5\", \"\\ud2f0\\ub9f5\", \"\\ud30c\\uc545\", \"\\ud3d0\\uc5c5\", \"\\ud3d0\\uc5c5\", \"\\ud558\\ub098\", \"\\ud558\\ub098\", \"\\ud558\\ub098\", \"\\ud558\\ub098\", \"\\ud558\\ub098\", \"\\ud558\\ub098 \\ud558\\ub098\", \"\\ud558\\uc2dc\\ub294\", \"\\ud558\\uc2dc\\ub294\", \"\\ud558\\uc9c0\", \"\\ud558\\uc9c0\", \"\\ud558\\uc9c0\", \"\\ud558\\uc9c0\", \"\\ud558\\uc9c0\", \"\\ud55c\\ubc88\", \"\\ud55c\\ubc88\", \"\\ud55c\\ubc88\", \"\\ud55c\\ubc88\", \"\\ud55c\\ubc88\", \"\\ud560\\uc218\", \"\\ud560\\uc218\", \"\\ud560\\uc218\", \"\\ud560\\uc9c0\", \"\\ud560\\uc9c0\", \"\\ud574\\ub3c4\", \"\\ud574\\ub3c4\", \"\\ud574\\ub3c4\", \"\\ud574\\ub3c4\", \"\\ud574\\ub3c4\", \"\\ud574\\uc8fc\\uc138\\uc694\", \"\\ud574\\uc8fc\\uc138\\uc694\", \"\\ud574\\uc8fc\\uc138\\uc694\", \"\\ud574\\uc8fc\\uc138\\uc694\", \"\\ud574\\uc8fc\\uc138\\uc694\", \"\\ud588\\ub294\\ub370\", \"\\ud588\\ub294\\ub370\", \"\\ud588\\ub294\\ub370\", \"\\ud588\\ub294\\ub370\", \"\\ud604\\uc7ac\", \"\\ud604\\uc7ac\", \"\\ud604\\uc7ac\", \"\\ud604\\uc7ac\", \"\\ud604\\uc7ac\", \"\\ud604\\uc7ac \\uc704\\uce58\", \"\\ud604\\uc7ac \\uc704\\uce58\", \"\\ud604\\uc7ac \\uc704\\uce58\", \"\\ud604\\uc7ac \\uc704\\uce58\", \"\\ud639\\uc2dc\", \"\\ud639\\uc2dc\", \"\\ud639\\uc2dc\", \"\\ud639\\uc2dc\", \"\\ud655\\ub300\", \"\\ud655\\ub300\", \"\\ud655\\ub300\", \"\\ud655\\ub300\", \"\\ud655\\ub300 \\ucd95\\uc18c\", \"\\ud655\\uc778\", \"\\ud655\\uc778\", \"\\ud655\\uc778\", \"\\ud655\\uc778\", \"\\ud655\\uc778\", \"\\ud658\\uc2b9\", \"\\ud658\\uc2b9\", \"\\ud658\\uc2b9\"]}, \"R\": 30, \"lambda.step\": 0.01, \"plot.opts\": {\"xlab\": \"PC1\", \"ylab\": \"PC2\"}, \"topic.order\": [3, 1, 5, 2, 4]};\n",
              "\n",
              "function LDAvis_load_lib(url, callback){\n",
              "  var s = document.createElement('script');\n",
              "  s.src = url;\n",
              "  s.async = true;\n",
              "  s.onreadystatechange = s.onload = callback;\n",
              "  s.onerror = function(){console.warn(\"failed to load library \" + url);};\n",
              "  document.getElementsByTagName(\"head\")[0].appendChild(s);\n",
              "}\n",
              "\n",
              "if(typeof(LDAvis) !== \"undefined\"){\n",
              "   // already loaded: just create the visualization\n",
              "   !function(LDAvis){\n",
              "       new LDAvis(\"#\" + \"ldavis_el16231402318227289283888957389\", ldavis_el16231402318227289283888957389_data);\n",
              "   }(LDAvis);\n",
              "}else if(typeof define === \"function\" && define.amd){\n",
              "   // require.js is available: use it to load d3/LDAvis\n",
              "   require.config({paths: {d3: \"https://d3js.org/d3.v5\"}});\n",
              "   require([\"d3\"], function(d3){\n",
              "      window.d3 = d3;\n",
              "      LDAvis_load_lib(\"https://cdn.jsdelivr.net/gh/bmabey/pyLDAvis@3.4.0/pyLDAvis/js/ldavis.v3.0.0.js\", function(){\n",
              "        new LDAvis(\"#\" + \"ldavis_el16231402318227289283888957389\", ldavis_el16231402318227289283888957389_data);\n",
              "      });\n",
              "    });\n",
              "}else{\n",
              "    // require.js not available: dynamically load d3 & LDAvis\n",
              "    LDAvis_load_lib(\"https://d3js.org/d3.v5.js\", function(){\n",
              "         LDAvis_load_lib(\"https://cdn.jsdelivr.net/gh/bmabey/pyLDAvis@3.4.0/pyLDAvis/js/ldavis.v3.0.0.js\", function(){\n",
              "                 new LDAvis(\"#\" + \"ldavis_el16231402318227289283888957389\", ldavis_el16231402318227289283888957389_data);\n",
              "            })\n",
              "         });\n",
              "}\n",
              "</script>"
            ]
          },
          "metadata": {},
          "execution_count": 14
        }
      ]
    },
    {
      "cell_type": "code",
      "source": [
        "#각 문서별 높은 확률의 토픽\n",
        "sent_topic = lda.transform(feat_vect)\n",
        "sent_topic.shape\n",
        "sent_topic[0]"
      ],
      "metadata": {
        "colab": {
          "base_uri": "https://localhost:8080/"
        },
        "id": "soXqxei2yUvy",
        "outputId": "d2d81b90-e71e-4c25-9c32-e715d137c46f"
      },
      "execution_count": 15,
      "outputs": [
        {
          "output_type": "stream",
          "name": "stderr",
          "text": [
            "/usr/local/lib/python3.10/dist-packages/ipykernel/ipkernel.py:283: DeprecationWarning: `should_run_async` will not call `transform_cell` automatically in the future. Please pass the result to `transformed_cell` argument and any exception that happen during thetransform in `preprocessing_exc_tuple` in IPython 7.17 and above.\n",
            "  and should_run_async(code)\n"
          ]
        },
        {
          "output_type": "execute_result",
          "data": {
            "text/plain": [
              "array([0.00593707, 0.00607254, 0.50038296, 0.34148514, 0.14612228])"
            ]
          },
          "metadata": {},
          "execution_count": 15
        }
      ]
    },
    {
      "cell_type": "code",
      "source": [
        "sent_topic_per_list = []\n",
        "\n",
        "for n in range(sent_topic.shape[0]):\n",
        "    sent_topic_list = sent_topic[n].argmax()\n",
        "    topic_per = sent_topic[n].max()\n",
        "    sent_topic_per_list.append([n,sent_topic_list,topic_per])\n",
        "\n",
        "topic_per_df = pd.DataFrame(sent_topic_per_list,columns=['no','토픽번호','확률'])\n",
        "topic_per_df"
      ],
      "metadata": {
        "colab": {
          "base_uri": "https://localhost:8080/",
          "height": 480
        },
        "id": "1ELquQ5OzB1s",
        "outputId": "9045c44d-c257-4901-a9eb-1352908be420"
      },
      "execution_count": 16,
      "outputs": [
        {
          "output_type": "stream",
          "name": "stderr",
          "text": [
            "/usr/local/lib/python3.10/dist-packages/ipykernel/ipkernel.py:283: DeprecationWarning: `should_run_async` will not call `transform_cell` automatically in the future. Please pass the result to `transformed_cell` argument and any exception that happen during thetransform in `preprocessing_exc_tuple` in IPython 7.17 and above.\n",
            "  and should_run_async(code)\n"
          ]
        },
        {
          "output_type": "execute_result",
          "data": {
            "text/plain": [
              "      no  토픽번호        확률\n",
              "0      0     2  0.500383\n",
              "1      1     2  0.651843\n",
              "2      2     2  0.591875\n",
              "3      3     1  0.975942\n",
              "4      4     2  0.511377\n",
              "..   ...   ...       ...\n",
              "995  995     3  0.513120\n",
              "996  996     0  0.967388\n",
              "997  997     1  0.961298\n",
              "998  998     2  0.932258\n",
              "999  999     1  0.941733\n",
              "\n",
              "[1000 rows x 3 columns]"
            ],
            "text/html": [
              "\n",
              "\n",
              "  <div id=\"df-d07ac1cf-0ea1-47b0-a436-37f2b6a79010\">\n",
              "    <div class=\"colab-df-container\">\n",
              "      <div>\n",
              "<style scoped>\n",
              "    .dataframe tbody tr th:only-of-type {\n",
              "        vertical-align: middle;\n",
              "    }\n",
              "\n",
              "    .dataframe tbody tr th {\n",
              "        vertical-align: top;\n",
              "    }\n",
              "\n",
              "    .dataframe thead th {\n",
              "        text-align: right;\n",
              "    }\n",
              "</style>\n",
              "<table border=\"1\" class=\"dataframe\">\n",
              "  <thead>\n",
              "    <tr style=\"text-align: right;\">\n",
              "      <th></th>\n",
              "      <th>no</th>\n",
              "      <th>토픽번호</th>\n",
              "      <th>확률</th>\n",
              "    </tr>\n",
              "  </thead>\n",
              "  <tbody>\n",
              "    <tr>\n",
              "      <th>0</th>\n",
              "      <td>0</td>\n",
              "      <td>2</td>\n",
              "      <td>0.500383</td>\n",
              "    </tr>\n",
              "    <tr>\n",
              "      <th>1</th>\n",
              "      <td>1</td>\n",
              "      <td>2</td>\n",
              "      <td>0.651843</td>\n",
              "    </tr>\n",
              "    <tr>\n",
              "      <th>2</th>\n",
              "      <td>2</td>\n",
              "      <td>2</td>\n",
              "      <td>0.591875</td>\n",
              "    </tr>\n",
              "    <tr>\n",
              "      <th>3</th>\n",
              "      <td>3</td>\n",
              "      <td>1</td>\n",
              "      <td>0.975942</td>\n",
              "    </tr>\n",
              "    <tr>\n",
              "      <th>4</th>\n",
              "      <td>4</td>\n",
              "      <td>2</td>\n",
              "      <td>0.511377</td>\n",
              "    </tr>\n",
              "    <tr>\n",
              "      <th>...</th>\n",
              "      <td>...</td>\n",
              "      <td>...</td>\n",
              "      <td>...</td>\n",
              "    </tr>\n",
              "    <tr>\n",
              "      <th>995</th>\n",
              "      <td>995</td>\n",
              "      <td>3</td>\n",
              "      <td>0.513120</td>\n",
              "    </tr>\n",
              "    <tr>\n",
              "      <th>996</th>\n",
              "      <td>996</td>\n",
              "      <td>0</td>\n",
              "      <td>0.967388</td>\n",
              "    </tr>\n",
              "    <tr>\n",
              "      <th>997</th>\n",
              "      <td>997</td>\n",
              "      <td>1</td>\n",
              "      <td>0.961298</td>\n",
              "    </tr>\n",
              "    <tr>\n",
              "      <th>998</th>\n",
              "      <td>998</td>\n",
              "      <td>2</td>\n",
              "      <td>0.932258</td>\n",
              "    </tr>\n",
              "    <tr>\n",
              "      <th>999</th>\n",
              "      <td>999</td>\n",
              "      <td>1</td>\n",
              "      <td>0.941733</td>\n",
              "    </tr>\n",
              "  </tbody>\n",
              "</table>\n",
              "<p>1000 rows × 3 columns</p>\n",
              "</div>\n",
              "      <button class=\"colab-df-convert\" onclick=\"convertToInteractive('df-d07ac1cf-0ea1-47b0-a436-37f2b6a79010')\"\n",
              "              title=\"Convert this dataframe to an interactive table.\"\n",
              "              style=\"display:none;\">\n",
              "\n",
              "  <svg xmlns=\"http://www.w3.org/2000/svg\" height=\"24px\"viewBox=\"0 0 24 24\"\n",
              "       width=\"24px\">\n",
              "    <path d=\"M0 0h24v24H0V0z\" fill=\"none\"/>\n",
              "    <path d=\"M18.56 5.44l.94 2.06.94-2.06 2.06-.94-2.06-.94-.94-2.06-.94 2.06-2.06.94zm-11 1L8.5 8.5l.94-2.06 2.06-.94-2.06-.94L8.5 2.5l-.94 2.06-2.06.94zm10 10l.94 2.06.94-2.06 2.06-.94-2.06-.94-.94-2.06-.94 2.06-2.06.94z\"/><path d=\"M17.41 7.96l-1.37-1.37c-.4-.4-.92-.59-1.43-.59-.52 0-1.04.2-1.43.59L10.3 9.45l-7.72 7.72c-.78.78-.78 2.05 0 2.83L4 21.41c.39.39.9.59 1.41.59.51 0 1.02-.2 1.41-.59l7.78-7.78 2.81-2.81c.8-.78.8-2.07 0-2.86zM5.41 20L4 18.59l7.72-7.72 1.47 1.35L5.41 20z\"/>\n",
              "  </svg>\n",
              "      </button>\n",
              "\n",
              "\n",
              "\n",
              "    <div id=\"df-b31e01f8-d6a2-4214-8a32-72fb81ba9b40\">\n",
              "      <button class=\"colab-df-quickchart\" onclick=\"quickchart('df-b31e01f8-d6a2-4214-8a32-72fb81ba9b40')\"\n",
              "              title=\"Suggest charts.\"\n",
              "              style=\"display:none;\">\n",
              "\n",
              "<svg xmlns=\"http://www.w3.org/2000/svg\" height=\"24px\"viewBox=\"0 0 24 24\"\n",
              "     width=\"24px\">\n",
              "    <g>\n",
              "        <path d=\"M19 3H5c-1.1 0-2 .9-2 2v14c0 1.1.9 2 2 2h14c1.1 0 2-.9 2-2V5c0-1.1-.9-2-2-2zM9 17H7v-7h2v7zm4 0h-2V7h2v10zm4 0h-2v-4h2v4z\"/>\n",
              "    </g>\n",
              "</svg>\n",
              "      </button>\n",
              "    </div>\n",
              "\n",
              "<style>\n",
              "  .colab-df-quickchart {\n",
              "    background-color: #E8F0FE;\n",
              "    border: none;\n",
              "    border-radius: 50%;\n",
              "    cursor: pointer;\n",
              "    display: none;\n",
              "    fill: #1967D2;\n",
              "    height: 32px;\n",
              "    padding: 0 0 0 0;\n",
              "    width: 32px;\n",
              "  }\n",
              "\n",
              "  .colab-df-quickchart:hover {\n",
              "    background-color: #E2EBFA;\n",
              "    box-shadow: 0px 1px 2px rgba(60, 64, 67, 0.3), 0px 1px 3px 1px rgba(60, 64, 67, 0.15);\n",
              "    fill: #174EA6;\n",
              "  }\n",
              "\n",
              "  [theme=dark] .colab-df-quickchart {\n",
              "    background-color: #3B4455;\n",
              "    fill: #D2E3FC;\n",
              "  }\n",
              "\n",
              "  [theme=dark] .colab-df-quickchart:hover {\n",
              "    background-color: #434B5C;\n",
              "    box-shadow: 0px 1px 3px 1px rgba(0, 0, 0, 0.15);\n",
              "    filter: drop-shadow(0px 1px 2px rgba(0, 0, 0, 0.3));\n",
              "    fill: #FFFFFF;\n",
              "  }\n",
              "</style>\n",
              "\n",
              "    <script>\n",
              "      async function quickchart(key) {\n",
              "        const containerElement = document.querySelector('#' + key);\n",
              "        const charts = await google.colab.kernel.invokeFunction(\n",
              "            'suggestCharts', [key], {});\n",
              "      }\n",
              "    </script>\n",
              "\n",
              "      <script>\n",
              "\n",
              "function displayQuickchartButton(domScope) {\n",
              "  let quickchartButtonEl =\n",
              "    domScope.querySelector('#df-b31e01f8-d6a2-4214-8a32-72fb81ba9b40 button.colab-df-quickchart');\n",
              "  quickchartButtonEl.style.display =\n",
              "    google.colab.kernel.accessAllowed ? 'block' : 'none';\n",
              "}\n",
              "\n",
              "        displayQuickchartButton(document);\n",
              "      </script>\n",
              "      <style>\n",
              "    .colab-df-container {\n",
              "      display:flex;\n",
              "      flex-wrap:wrap;\n",
              "      gap: 12px;\n",
              "    }\n",
              "\n",
              "    .colab-df-convert {\n",
              "      background-color: #E8F0FE;\n",
              "      border: none;\n",
              "      border-radius: 50%;\n",
              "      cursor: pointer;\n",
              "      display: none;\n",
              "      fill: #1967D2;\n",
              "      height: 32px;\n",
              "      padding: 0 0 0 0;\n",
              "      width: 32px;\n",
              "    }\n",
              "\n",
              "    .colab-df-convert:hover {\n",
              "      background-color: #E2EBFA;\n",
              "      box-shadow: 0px 1px 2px rgba(60, 64, 67, 0.3), 0px 1px 3px 1px rgba(60, 64, 67, 0.15);\n",
              "      fill: #174EA6;\n",
              "    }\n",
              "\n",
              "    [theme=dark] .colab-df-convert {\n",
              "      background-color: #3B4455;\n",
              "      fill: #D2E3FC;\n",
              "    }\n",
              "\n",
              "    [theme=dark] .colab-df-convert:hover {\n",
              "      background-color: #434B5C;\n",
              "      box-shadow: 0px 1px 3px 1px rgba(0, 0, 0, 0.15);\n",
              "      filter: drop-shadow(0px 1px 2px rgba(0, 0, 0, 0.3));\n",
              "      fill: #FFFFFF;\n",
              "    }\n",
              "  </style>\n",
              "\n",
              "      <script>\n",
              "        const buttonEl =\n",
              "          document.querySelector('#df-d07ac1cf-0ea1-47b0-a436-37f2b6a79010 button.colab-df-convert');\n",
              "        buttonEl.style.display =\n",
              "          google.colab.kernel.accessAllowed ? 'block' : 'none';\n",
              "\n",
              "        async function convertToInteractive(key) {\n",
              "          const element = document.querySelector('#df-d07ac1cf-0ea1-47b0-a436-37f2b6a79010');\n",
              "          const dataTable =\n",
              "            await google.colab.kernel.invokeFunction('convertToInteractive',\n",
              "                                                     [key], {});\n",
              "          if (!dataTable) return;\n",
              "\n",
              "          const docLinkHtml = 'Like what you see? Visit the ' +\n",
              "            '<a target=\"_blank\" href=https://colab.research.google.com/notebooks/data_table.ipynb>data table notebook</a>'\n",
              "            + ' to learn more about interactive tables.';\n",
              "          element.innerHTML = '';\n",
              "          dataTable['output_type'] = 'display_data';\n",
              "          await google.colab.output.renderOutput(dataTable, element);\n",
              "          const docLink = document.createElement('div');\n",
              "          docLink.innerHTML = docLinkHtml;\n",
              "          element.appendChild(docLink);\n",
              "        }\n",
              "      </script>\n",
              "    </div>\n",
              "  </div>\n"
            ]
          },
          "metadata": {},
          "execution_count": 16
        }
      ]
    },
    {
      "cell_type": "code",
      "source": [
        "doc_topic_df = topic_per_df.join(df)\n",
        "doc_topic_df"
      ],
      "metadata": {
        "colab": {
          "base_uri": "https://localhost:8080/",
          "height": 524
        },
        "id": "klm38rpVzCxL",
        "outputId": "435f1b2e-2476-4daa-fb89-7ff13df59b23"
      },
      "execution_count": 17,
      "outputs": [
        {
          "output_type": "stream",
          "name": "stderr",
          "text": [
            "/usr/local/lib/python3.10/dist-packages/ipykernel/ipkernel.py:283: DeprecationWarning: `should_run_async` will not call `transform_cell` automatically in the future. Please pass the result to `transformed_cell` argument and any exception that happen during thetransform in `preprocessing_exc_tuple` in IPython 7.17 and above.\n",
            "  and should_run_async(code)\n"
          ]
        },
        {
          "output_type": "execute_result",
          "data": {
            "text/plain": [
              "      no  토픽번호        확률                                               text  \\\n",
              "0      0     2  0.500383  1. 과속단속 카메라 안내지점을 고속도로와 일반도로로 나눠서 각각 몇미터 전부터 안...   \n",
              "1      1     2  0.651843  길 찾을 때나 버스정보 볼때 유용하게 사용하고 있습니다. 이번에 업데이트를 했는데 ...   \n",
              "2      2     2  0.591875  타 네비에서 네이버지도 네비로 잘정착했습니다. 하지만 블루투스 연동 관련 버그가있습...   \n",
              "3      3     1  0.975942  하아... 네이버지도 어플 자체 오류가 너무 많네요 백지로 뜨거나 일시적인 네트워크...   \n",
              "4      4     2  0.511377  타맵보다 인터페이스도 좋구 안정적이어서 자주 사용합니다 . 아쉬운점은 구간 단속시 ...   \n",
              "..   ...   ...       ...                                                ...   \n",
              "995  995     3  0.513120  좋습니다! 다만 저장된 곳을 리스트별로 지도에 표시할지 온/오프 기능이 있었으면 좋...   \n",
              "996  996     0  0.967388  저 학원 가느라 정말 맨날 사용하는데 길도 빠르게 검색 할 수 있고 보기가 쉬워서 ...   \n",
              "997  997     1  0.961298  어째서 대중교통이용하려고 지도를 보톨 쓰는데 뚜벅이들 힘들게 경유지 추가를 없앤거에...   \n",
              "998  998     2  0.932258  리뉴얼 되고나서 완전 구려졌음. 행정구역 경계 표시 안되고 지도 검색하면서 무슨시 ...   \n",
              "999  999     1  0.941733  업데이트되고 문제점이 많아서 잠시 다음지도 옮겼다가 안정화되면 오겠습니다. 1. 검...   \n",
              "\n",
              "     score  \n",
              "0        5  \n",
              "1        4  \n",
              "2        5  \n",
              "3        2  \n",
              "4        4  \n",
              "..     ...  \n",
              "995      5  \n",
              "996      5  \n",
              "997      1  \n",
              "998      1  \n",
              "999      3  \n",
              "\n",
              "[1000 rows x 5 columns]"
            ],
            "text/html": [
              "\n",
              "\n",
              "  <div id=\"df-aff75882-35f4-4708-9180-01a5dd35f3b5\">\n",
              "    <div class=\"colab-df-container\">\n",
              "      <div>\n",
              "<style scoped>\n",
              "    .dataframe tbody tr th:only-of-type {\n",
              "        vertical-align: middle;\n",
              "    }\n",
              "\n",
              "    .dataframe tbody tr th {\n",
              "        vertical-align: top;\n",
              "    }\n",
              "\n",
              "    .dataframe thead th {\n",
              "        text-align: right;\n",
              "    }\n",
              "</style>\n",
              "<table border=\"1\" class=\"dataframe\">\n",
              "  <thead>\n",
              "    <tr style=\"text-align: right;\">\n",
              "      <th></th>\n",
              "      <th>no</th>\n",
              "      <th>토픽번호</th>\n",
              "      <th>확률</th>\n",
              "      <th>text</th>\n",
              "      <th>score</th>\n",
              "    </tr>\n",
              "  </thead>\n",
              "  <tbody>\n",
              "    <tr>\n",
              "      <th>0</th>\n",
              "      <td>0</td>\n",
              "      <td>2</td>\n",
              "      <td>0.500383</td>\n",
              "      <td>1. 과속단속 카메라 안내지점을 고속도로와 일반도로로 나눠서 각각 몇미터 전부터 안...</td>\n",
              "      <td>5</td>\n",
              "    </tr>\n",
              "    <tr>\n",
              "      <th>1</th>\n",
              "      <td>1</td>\n",
              "      <td>2</td>\n",
              "      <td>0.651843</td>\n",
              "      <td>길 찾을 때나 버스정보 볼때 유용하게 사용하고 있습니다. 이번에 업데이트를 했는데 ...</td>\n",
              "      <td>4</td>\n",
              "    </tr>\n",
              "    <tr>\n",
              "      <th>2</th>\n",
              "      <td>2</td>\n",
              "      <td>2</td>\n",
              "      <td>0.591875</td>\n",
              "      <td>타 네비에서 네이버지도 네비로 잘정착했습니다. 하지만 블루투스 연동 관련 버그가있습...</td>\n",
              "      <td>5</td>\n",
              "    </tr>\n",
              "    <tr>\n",
              "      <th>3</th>\n",
              "      <td>3</td>\n",
              "      <td>1</td>\n",
              "      <td>0.975942</td>\n",
              "      <td>하아... 네이버지도 어플 자체 오류가 너무 많네요 백지로 뜨거나 일시적인 네트워크...</td>\n",
              "      <td>2</td>\n",
              "    </tr>\n",
              "    <tr>\n",
              "      <th>4</th>\n",
              "      <td>4</td>\n",
              "      <td>2</td>\n",
              "      <td>0.511377</td>\n",
              "      <td>타맵보다 인터페이스도 좋구 안정적이어서 자주 사용합니다 . 아쉬운점은 구간 단속시 ...</td>\n",
              "      <td>4</td>\n",
              "    </tr>\n",
              "    <tr>\n",
              "      <th>...</th>\n",
              "      <td>...</td>\n",
              "      <td>...</td>\n",
              "      <td>...</td>\n",
              "      <td>...</td>\n",
              "      <td>...</td>\n",
              "    </tr>\n",
              "    <tr>\n",
              "      <th>995</th>\n",
              "      <td>995</td>\n",
              "      <td>3</td>\n",
              "      <td>0.513120</td>\n",
              "      <td>좋습니다! 다만 저장된 곳을 리스트별로 지도에 표시할지 온/오프 기능이 있었으면 좋...</td>\n",
              "      <td>5</td>\n",
              "    </tr>\n",
              "    <tr>\n",
              "      <th>996</th>\n",
              "      <td>996</td>\n",
              "      <td>0</td>\n",
              "      <td>0.967388</td>\n",
              "      <td>저 학원 가느라 정말 맨날 사용하는데 길도 빠르게 검색 할 수 있고 보기가 쉬워서 ...</td>\n",
              "      <td>5</td>\n",
              "    </tr>\n",
              "    <tr>\n",
              "      <th>997</th>\n",
              "      <td>997</td>\n",
              "      <td>1</td>\n",
              "      <td>0.961298</td>\n",
              "      <td>어째서 대중교통이용하려고 지도를 보톨 쓰는데 뚜벅이들 힘들게 경유지 추가를 없앤거에...</td>\n",
              "      <td>1</td>\n",
              "    </tr>\n",
              "    <tr>\n",
              "      <th>998</th>\n",
              "      <td>998</td>\n",
              "      <td>2</td>\n",
              "      <td>0.932258</td>\n",
              "      <td>리뉴얼 되고나서 완전 구려졌음. 행정구역 경계 표시 안되고 지도 검색하면서 무슨시 ...</td>\n",
              "      <td>1</td>\n",
              "    </tr>\n",
              "    <tr>\n",
              "      <th>999</th>\n",
              "      <td>999</td>\n",
              "      <td>1</td>\n",
              "      <td>0.941733</td>\n",
              "      <td>업데이트되고 문제점이 많아서 잠시 다음지도 옮겼다가 안정화되면 오겠습니다. 1. 검...</td>\n",
              "      <td>3</td>\n",
              "    </tr>\n",
              "  </tbody>\n",
              "</table>\n",
              "<p>1000 rows × 5 columns</p>\n",
              "</div>\n",
              "      <button class=\"colab-df-convert\" onclick=\"convertToInteractive('df-aff75882-35f4-4708-9180-01a5dd35f3b5')\"\n",
              "              title=\"Convert this dataframe to an interactive table.\"\n",
              "              style=\"display:none;\">\n",
              "\n",
              "  <svg xmlns=\"http://www.w3.org/2000/svg\" height=\"24px\"viewBox=\"0 0 24 24\"\n",
              "       width=\"24px\">\n",
              "    <path d=\"M0 0h24v24H0V0z\" fill=\"none\"/>\n",
              "    <path d=\"M18.56 5.44l.94 2.06.94-2.06 2.06-.94-2.06-.94-.94-2.06-.94 2.06-2.06.94zm-11 1L8.5 8.5l.94-2.06 2.06-.94-2.06-.94L8.5 2.5l-.94 2.06-2.06.94zm10 10l.94 2.06.94-2.06 2.06-.94-2.06-.94-.94-2.06-.94 2.06-2.06.94z\"/><path d=\"M17.41 7.96l-1.37-1.37c-.4-.4-.92-.59-1.43-.59-.52 0-1.04.2-1.43.59L10.3 9.45l-7.72 7.72c-.78.78-.78 2.05 0 2.83L4 21.41c.39.39.9.59 1.41.59.51 0 1.02-.2 1.41-.59l7.78-7.78 2.81-2.81c.8-.78.8-2.07 0-2.86zM5.41 20L4 18.59l7.72-7.72 1.47 1.35L5.41 20z\"/>\n",
              "  </svg>\n",
              "      </button>\n",
              "\n",
              "\n",
              "\n",
              "    <div id=\"df-ed6ddea5-bd90-499b-a6a1-2e422d54c169\">\n",
              "      <button class=\"colab-df-quickchart\" onclick=\"quickchart('df-ed6ddea5-bd90-499b-a6a1-2e422d54c169')\"\n",
              "              title=\"Suggest charts.\"\n",
              "              style=\"display:none;\">\n",
              "\n",
              "<svg xmlns=\"http://www.w3.org/2000/svg\" height=\"24px\"viewBox=\"0 0 24 24\"\n",
              "     width=\"24px\">\n",
              "    <g>\n",
              "        <path d=\"M19 3H5c-1.1 0-2 .9-2 2v14c0 1.1.9 2 2 2h14c1.1 0 2-.9 2-2V5c0-1.1-.9-2-2-2zM9 17H7v-7h2v7zm4 0h-2V7h2v10zm4 0h-2v-4h2v4z\"/>\n",
              "    </g>\n",
              "</svg>\n",
              "      </button>\n",
              "    </div>\n",
              "\n",
              "<style>\n",
              "  .colab-df-quickchart {\n",
              "    background-color: #E8F0FE;\n",
              "    border: none;\n",
              "    border-radius: 50%;\n",
              "    cursor: pointer;\n",
              "    display: none;\n",
              "    fill: #1967D2;\n",
              "    height: 32px;\n",
              "    padding: 0 0 0 0;\n",
              "    width: 32px;\n",
              "  }\n",
              "\n",
              "  .colab-df-quickchart:hover {\n",
              "    background-color: #E2EBFA;\n",
              "    box-shadow: 0px 1px 2px rgba(60, 64, 67, 0.3), 0px 1px 3px 1px rgba(60, 64, 67, 0.15);\n",
              "    fill: #174EA6;\n",
              "  }\n",
              "\n",
              "  [theme=dark] .colab-df-quickchart {\n",
              "    background-color: #3B4455;\n",
              "    fill: #D2E3FC;\n",
              "  }\n",
              "\n",
              "  [theme=dark] .colab-df-quickchart:hover {\n",
              "    background-color: #434B5C;\n",
              "    box-shadow: 0px 1px 3px 1px rgba(0, 0, 0, 0.15);\n",
              "    filter: drop-shadow(0px 1px 2px rgba(0, 0, 0, 0.3));\n",
              "    fill: #FFFFFF;\n",
              "  }\n",
              "</style>\n",
              "\n",
              "    <script>\n",
              "      async function quickchart(key) {\n",
              "        const containerElement = document.querySelector('#' + key);\n",
              "        const charts = await google.colab.kernel.invokeFunction(\n",
              "            'suggestCharts', [key], {});\n",
              "      }\n",
              "    </script>\n",
              "\n",
              "      <script>\n",
              "\n",
              "function displayQuickchartButton(domScope) {\n",
              "  let quickchartButtonEl =\n",
              "    domScope.querySelector('#df-ed6ddea5-bd90-499b-a6a1-2e422d54c169 button.colab-df-quickchart');\n",
              "  quickchartButtonEl.style.display =\n",
              "    google.colab.kernel.accessAllowed ? 'block' : 'none';\n",
              "}\n",
              "\n",
              "        displayQuickchartButton(document);\n",
              "      </script>\n",
              "      <style>\n",
              "    .colab-df-container {\n",
              "      display:flex;\n",
              "      flex-wrap:wrap;\n",
              "      gap: 12px;\n",
              "    }\n",
              "\n",
              "    .colab-df-convert {\n",
              "      background-color: #E8F0FE;\n",
              "      border: none;\n",
              "      border-radius: 50%;\n",
              "      cursor: pointer;\n",
              "      display: none;\n",
              "      fill: #1967D2;\n",
              "      height: 32px;\n",
              "      padding: 0 0 0 0;\n",
              "      width: 32px;\n",
              "    }\n",
              "\n",
              "    .colab-df-convert:hover {\n",
              "      background-color: #E2EBFA;\n",
              "      box-shadow: 0px 1px 2px rgba(60, 64, 67, 0.3), 0px 1px 3px 1px rgba(60, 64, 67, 0.15);\n",
              "      fill: #174EA6;\n",
              "    }\n",
              "\n",
              "    [theme=dark] .colab-df-convert {\n",
              "      background-color: #3B4455;\n",
              "      fill: #D2E3FC;\n",
              "    }\n",
              "\n",
              "    [theme=dark] .colab-df-convert:hover {\n",
              "      background-color: #434B5C;\n",
              "      box-shadow: 0px 1px 3px 1px rgba(0, 0, 0, 0.15);\n",
              "      filter: drop-shadow(0px 1px 2px rgba(0, 0, 0, 0.3));\n",
              "      fill: #FFFFFF;\n",
              "    }\n",
              "  </style>\n",
              "\n",
              "      <script>\n",
              "        const buttonEl =\n",
              "          document.querySelector('#df-aff75882-35f4-4708-9180-01a5dd35f3b5 button.colab-df-convert');\n",
              "        buttonEl.style.display =\n",
              "          google.colab.kernel.accessAllowed ? 'block' : 'none';\n",
              "\n",
              "        async function convertToInteractive(key) {\n",
              "          const element = document.querySelector('#df-aff75882-35f4-4708-9180-01a5dd35f3b5');\n",
              "          const dataTable =\n",
              "            await google.colab.kernel.invokeFunction('convertToInteractive',\n",
              "                                                     [key], {});\n",
              "          if (!dataTable) return;\n",
              "\n",
              "          const docLinkHtml = 'Like what you see? Visit the ' +\n",
              "            '<a target=\"_blank\" href=https://colab.research.google.com/notebooks/data_table.ipynb>data table notebook</a>'\n",
              "            + ' to learn more about interactive tables.';\n",
              "          element.innerHTML = '';\n",
              "          dataTable['output_type'] = 'display_data';\n",
              "          await google.colab.output.renderOutput(dataTable, element);\n",
              "          const docLink = document.createElement('div');\n",
              "          docLink.innerHTML = docLinkHtml;\n",
              "          element.appendChild(docLink);\n",
              "        }\n",
              "      </script>\n",
              "    </div>\n",
              "  </div>\n"
            ]
          },
          "metadata": {},
          "execution_count": 17
        }
      ]
    },
    {
      "cell_type": "code",
      "source": [
        "doc_topic_df['토픽번호'].value_counts()"
      ],
      "metadata": {
        "colab": {
          "base_uri": "https://localhost:8080/"
        },
        "id": "VS_EUHOgzEFw",
        "outputId": "4b5f6c06-4e30-441d-d238-eded78bfed1d"
      },
      "execution_count": 18,
      "outputs": [
        {
          "output_type": "stream",
          "name": "stderr",
          "text": [
            "/usr/local/lib/python3.10/dist-packages/ipykernel/ipkernel.py:283: DeprecationWarning: `should_run_async` will not call `transform_cell` automatically in the future. Please pass the result to `transformed_cell` argument and any exception that happen during thetransform in `preprocessing_exc_tuple` in IPython 7.17 and above.\n",
            "  and should_run_async(code)\n"
          ]
        },
        {
          "output_type": "execute_result",
          "data": {
            "text/plain": [
              "토픽번호\n",
              "2    240\n",
              "4    207\n",
              "0    204\n",
              "1    180\n",
              "3    169\n",
              "Name: count, dtype: int64"
            ]
          },
          "metadata": {},
          "execution_count": 18
        }
      ]
    },
    {
      "cell_type": "code",
      "source": [
        "for topic in range(len(doc_topic_df['토픽번호'].unique())):\n",
        "    print('Topic No : ',topic)\n",
        "    top_per_topics = doc_topic_df[doc_topic_df['토픽번호']==topic].sort_values(by='확률',ascending=False)\n",
        "    print(top_per_topics['text'].iloc[0])\n",
        "    print(top_per_topics['text'].iloc[1])\n",
        "    print(top_per_topics['text'].iloc[2])\n"
      ],
      "metadata": {
        "colab": {
          "base_uri": "https://localhost:8080/"
        },
        "id": "6SJAoNvUzFEK",
        "outputId": "a2a1231c-5813-4088-c957-12a5175403a5"
      },
      "execution_count": 19,
      "outputs": [
        {
          "output_type": "stream",
          "name": "stdout",
          "text": [
            "Topic No :  0\n",
            "검색하면 위치가 뜨는데 지도만 봤을때는 안나오는 장소들이 너무 많아 불편해요..ㅜㅜ 최대 확대했을때 장소들이 자세히 나오면 훨씬 좋을거 같습니다. 그리고 택시요금은 실제요금보다 항상 적게, 대중교통 예상시간은 실제 걸리는 시간보다 짧게, 도보시간은 길게 나오는 경향이 있습니다. 또 검색하면 그쪽으로 위치가 이동하는데..갑자기 이상한 곳으로 이동할때가 많아요.. 위치가 바로 이동하지 않고 검색하고 하단에 뜨는 내역에 장소를 눌렀을 때 위치가 이동되면 좋을거같아요.. 아님 또 위치를 직접 이동해야돼서 너무 불편해요..ㅜㅜ 이런 점을 제외하고 장점도 많아 잘 쓰고 있습니다. 하지만 한국 최고의 지도어플인 만큼 이런점 개선해주면 더 좋을거 같아요\n",
            "먼저, 네이버 지도 서비스에서 일하시는분들 대단하세요. 덕분에 좋은 정보 잘 사용하고 있습니다. 긍지를 가지셔도될 듯 합니다. 감사합니다.^^ 그런데...아싑게도 불편한 사항이 있어요. 간혹 대중교통 정보에서 주말과 특정 시간대에만 운영되는 교통수단이 있습니다. 해당 버스나 지하철 등 운행정보를 별도 확인하지 않아도 해당 정보 이용시 운행접보, 특히 주말에는 운영하지 않는다. 또는 주말에만 운영한다. 또는 조회하는 해당시간에는 운영하지 않는다를 제공해 주시면 어떨까요...추가로 해당 교통수단 이용이 불가시 대체 교통수단, 예를 들어 택시 콜 정보 또는 대리기사 연락처 연계 서비스를 제공해 준다면 위치서비스 동의를 통한 광고수입도 되고 네이버지도 서비스 이용자에게 유효하고 실질적인 할인도 제공해 준다면 더욱 더 좋을것 같아요. 고맙게 잘 사용하고 있습니다.\n",
            "별 한개도 아깝네요. 갤러시 노트10씁니다. 얼마전부터 네비게이션 gps를 못잡고 길안내도 못하네요. 네비게이션 용도로 전혀못쓰는 어플입니다. 언제고칠지도 모르겠고 사람들이 불편하다고 문의남기는데 답변 다른거는 달면서 gps문제는 전혀 답변 안다시네요. 주위에서 티맵 쓰라고해도 계속 네이버 썼는데 실망입니다. ㅋㅋㅋ밑에 답변에 오류사진 보내달라해서 떠나기전에 마지막 정으로. 무슨 오류인지 알려주고 고쳐서 남은 이용자들 놓치지 말라고 열심히 썼더니 앱화면에서는 사진 첨부버튼이 없고ㅋ 웹화면에서는 개인정보 동의하고 보내기 누르면 보내기 버튼이 안눌러지네요. 잘있어라 네이버지도. 그동안 고마웠고 마지막이 참 아쉽네. 고객의 소리를 듣기싫으면 고객센터에 오류 신고하기는 왜만들었니. 왜 거기를 이용하라고 했니.\n",
            "Topic No :  1\n",
            "노트3 사용하고 있습니다.(킷캣 4.4.2) 위치 서비스는 항상 켜놓고 사용중이고, 높은 정확도(GPS+네트워크)로 해 놓고 있습니다. 평소때는 상태바에 GPS아이콘이 안뜨지만 GPS 사용하는 앱을 실행하면 상태바에 GPS아이콘이 깜빡이면서 수초~수분 후 GPS가 잡히면 GPS아이콘이 깜빡이지 않고 고정됩니다. 가령 티맵키면 상태바에 GPS아이콘이 떠서 깜빡거리고 잠시 후 GPS가 잡히면 아이콘이 고정되어 티맵을 잘 사용하고 있습니다. 그런데 네이버지도와 카카오맵.. 요 두 앱은 실행해서 내위치 누르면 상태바에 GPS아이콘 자체가 뜨질 않네요... 위치도 당연히 네트워크로 잡아서 대략적인 위치만 뜹니다. 어플도 지웠다 다시 깔아보고해도 똑같네요. GPS 사용하는 다른 어플들 (티맵, 구글맵, GPS Test 등등) 실행하면 상태바에 GPS아이콘 뜨면서 잘 되는데 왜 유독 카카오맵과 네이버지도는 앱을 실행해도 상태바에 GPS아이콘 자체가 뜨질 않는걸까요. 노트3라 따로 앱권한 설정같은것도 없거든요... 네이버검색, 구글링해봐도 이렇다할 답변이 없네요..\n",
            "1. 프랜차이즈 검색하면 '지도'에서 여러 지점을 볼 수 있게 하던 기능 돌려주세요 2. 출발할 곳을 선택하고 도착할지점을 검색할때 '검색'하는 곳 기준으로 지도를 옮겨서 검색할 수 있도록 해주세요 3. 지도로 검색할 수 있게 해주세요(지금은 텍스트 검색만 되어서 지도에서 위치 잡는게 불가능 하네요) 셋 다 원래 있던 기능같은데 사라진거같네요 너무 불편해요.. 4 저장한 곳을 출발 및 도착지점으로 설정할 수 있게 해주세요. 기존엔 자동으로 지도에 떠서 a곳과 b곳을 그저 출발-도착 지정만 하면 됐는데 지금은 출발지 지정하고 따로 검색해야 하네요 왜 자꾸 업데이트를 불편하게 하죠ㅠ 기존게 좋았기에 불만이 없던건데 지금은 업데이트를 위한 업데이트를 하는 거 같아요...\n",
            "네이버 앱에서는 즐겨찾기 등록시 메모를 적을 수 있는데 네이버 지도에서는 즐겨찾기 메모 수정이 안 되더라구요 이게 진짜 불편하고 별로더라구요 그래서 1점 드립니다 혹시 네이버 지도 관리자님이 이걸 보신다면 즐겨찾기 메모 수정 지원 부탁드립니다 -수정- 친절한 답변 감사합니다 수정 방법 알려주셔서 감사합니다 근데 즐겨찾기에 들어가서 우측 점 세개를 통해 수정할 경우 지도에서 위치를 확인한 후 가게 이름을 찾아 수정해야하는 부분을 그냥 지도에서 선택 후 바로 수정 가능하게 개선해주시면 정말 좋을 것 같습니다\n",
            "Topic No :  2\n",
            "며칠전 별4개로 리뷰로 문의달았는데 답변이 제대로 문의를 읽지않고 실사용을 안해본사람만 할수있는 답변이라 별1개로 수정합니다. 지난문의내용 ㅡ 과속카메라에 대한 경고음 및 카메라 지나가고나서 소리울리는거 조절하게해주세요. 운전할때 미디어와 함께 틀어놓는경우가 많이 있는데 미디어를 주로듣고 경고음은 작게듣고싶은데 조절이 안되니 개선해주세요. 지난답변 ㅡ 내비게이션[^]메뉴 선택시 네비게이션 음량외 핸드폰 음량 조절가능합니다. ㅡㅡㅡㅡㅡㅡㅡㅡㅡㅡㅡㅡㅡㅡ 이 답변이 말이 안되는건 미디어음량은 그대로 빵빵하게 유지한체 네비게이션 경고음만 조절하고싶다고했는데 미디어음량을 어플자체에서 조절하는방법을 알려줌. 즉 저걸로 조절시 음악소리도 줄어들기때문에 아무의미없음. 제대로 질문을 읽지않음.\n",
            "솔직히 한말씀 드립니다. 4.4.8 버전을 사용해왔고 워낙 V4 버전이 시인성도 좋고 인터페이스나 모든면에서 완성도 높은 버전이라 일부러 업데이트도 안했습니다. PC에서도 마찬가지로 새지도가 아닌 이전 버전을 일부러 사용해왔구요. 따로 네비게이션 기능은 사용할 필요도 없이 경로만 띄워놓고 GPS 만으로 수월하게 길찾을 정도로 너무 시인성이 좋아서 매일 이용하는 앱이었습니다. 근데 갑자기 지도이미지가 계속 안뜨기 시작해서 다시 깔았는데 V5 버전으로 깔려서 더이상은 안되는구나 하고 새버전을 사용해봤습니다. 도대체 V4버전 보다 나아진게 뭔지 어이가 없습니다. 시인성은 너무 단순, 조잡하고 구려서 마치 고화질 영화보다가 저화질 보는거 같고 전체적인 인터페이스나 기능도 난잡하기만 합니다. 길찾기도 구체적이면서 직관적이었던 구버전보다 훨씬 어설퍼졌고..이건 너무 아니네요. 10년동안 애용했던 앱인데 처음으로 삭제할까 생각중입니다. 주변에서도 다 같은 얘기합니다. 다시 되돌아가길 조언드립니다\n",
            "인터넷에 연결이 되어있고 인터넷 사용에 문제가 없는데도 앱이 실행이 안되고 자꾸 \"네이버 지도를 이용하려면 인터넷 연결이 필요합니다. 데이터 또는 wifi 연결 상태 확인 후 앱을 실행해주세요\" 라고 에러메시지가 뜨면서 실행이 전혀 안됩니다. 핸드폰 기종은 v20이고 안드로이드 버전 8.0.0 이고 네이버 지도앱은 버전 5.8.4 입니다. 참고로 또다른 핸드폰이 있는데(이것도 기종은 v20, 안드로이드 버전 7.0, 네이버지도앱 버전 5.3.0인데 이건 잘 실행됩니다) 혹시 네이버지도앱을 최신버전으로 업데이트하면서 예전 안드로이드 버전에서는 작동이 안되게 된것 아닌지 확인 부탁드립니다.\n",
            "Topic No :  3\n",
            "안녕하세요! 다시 여쭤볼 게 있어서 기존 리뷰 삭제하고 다시 답니다! 영업 일 특성상 즐겨찾기로 업체 지정을 지도로 체크해놓는데. 최대 제한인 2000개가 다 채워지다보니. 해놓았던 곳을 지우고 다시 새로운 곳을 체크해나가는 과정에서. 즐겨찾기를 지우고 다시 설정하는데에 밑에 \"즐겨찾기로 설정되었다\"는 문구가 뜨고 없어질 때까지 몇 초 기다려야하는 딜레이 때문에 업무 속도에 많은 차질이 생겼었는데. 그 딜레이가 없어져서 너무 편해졌습니 감사드려요! 그리고 현재 사용해보니 2000개를 초과했는데도 계속 등록이 되고 있고 있네요! 이것도 너무 좋아요. 근데 \"새 리스트 만들기\"는 있으나, 만든 리스트를 다시 삭제할 수 없는 게 아쉽습니다. 그리고 거리뷰 볼 때 현재보다 실선이었을 때 선 따라서 쭉쭉 움직일 때가 더 정확하고 신속하게 사용이 가능했던 것 같습니다~ㅠ 즐겨찾기 현재 최대 몇개 까지 등록 가능한지 알 수 있을까욥??\n",
            "그동안 잘 쓰고 있었는데 업데이트 이후 목적지를 찾으면 그냥 네이버 검색결과 처럼 나오네요... 굳이 지도 앱을 따로 만드셨고 그걸 다운받아 쓰는 사람들은 지도와 네비 기능 때문에 앱 하나 더 받아 쓰는게 클탠데... 그냥 네이버 검색결과 처럼 ui가 바뀔거면 걍 네이버 앱을 쓰지 네이버지도를 쓸 이유가 없잖아요... 적응하기도 힘들고 목적지 검색 후 바로 길찾기나 네비로 전환이 되지 않아 이전 보다 불편해 졌어요... 서비스 제공자 입장에서 이렇게 하는 걸로 검색광고 수익이 더 생기는 건지는 알지 못하지만 사용자 입장에선 많이 불편하네요... (라고 썼지만 실무자 분들 화이팅~!)\n",
            "지역마다 편차는 있겠지만 카카오맵에 비해 최신화나 실시간 교통상황, 기타 검색량이 보다 자세하고 많으나 정작 손이 가는 건 카카오맵임 네이버 지도는 카카오맵에서 나오지 않거나 정보가 부족 할때만 이용하게 되는데 가장 큰 이유가 UI 때문임 전반적인 지도의 그림체부터해서 색상이나 폰트 등 뭐라 형용할 수는 없지만 전체적으로 가독성 최악임 거기다 검색할 때마다 아래에서 나오는 팝업목록 매번 일일히 다시 내리는 것도 불편하고 그 와중에 (내위치), (목록보기), (+-) 등등 마치 파워포인트로 만든 것 같은 무식하게 생긴 버튼들이 안그래도 가독성 떨어지는 지도를 다 가려버리면서 난잡한 느낌까지 줌 아마도 구글지도 인터페이스를 많이 참고 한 거 같은데 카카오맵에 비해 사용자친화적인 면에서 너무 뒤떨어져서 아쉬움 개발자분들에겐 죄송하지만 하루 빨리 싹 갈아엎어줬으면 좋겠음 그러나 그럴리가 없겠지\n",
            "Topic No :  4\n",
            "왠만한 서비스는 네이버로 통일하여 사용중인데 네이버 내비는 도저히 사용을 못하겠네요. 내비가 내 위치를 못잡고 헤매는게 다반사입니다. 골목길에 들어서면 엉뚱하게 한참 벗어난 옆 골목길을 보여주고 안내 경로를 벗어나면 바로 재검색을 못하고 50미터는 벗어나야 인식하여 재검색을 해줍니다. 네이버 내비가 예전에는 이 정도는 아니었던 것 같은데 왜 이렇게 망가졌을까요? 휴대폰 GPS 타령은 그만 하세요. 같은 휴대폰으로 그 자리에서 티맵, 카카오내비, 카카오맵(예전 다음지도) 설치해서 재차 운행했는데 100% 안내 성공합니다. 오로지 네이버 내비만 내위치도 잘 못잡고 경로 이탈시 인식속도도 개판입니다. 화면 캡쳐해서 올리란 말씀도 하지 마세요. 똑같은 휴대폰 4개에 네이버 내비와 위 3개 내비앱 설치해서 직접 운행하며 경로 이탈도 해보시고 골목길도 들어가 보시길 강력히 권해드립니다. 아울러 휴대폰은 최신폰만 시험하지 마시고 철지난 보급형 휴대폰도 시험 좀 해보시구요.\n",
            "보행자를 위한 내비가 혹시 없나 싶어서 내비게이션이나 기타 지도를 여러 가지로 살펴보기 시작했다 차량용 내비를 써서 내비를 입력을 해 놓고 임도길로 걸어가면서 차가 갈 수 있는 방향으로 걸어가면서 목적지를 입력을 하고 길 찾기를 등록을 하면은 차가 갈 수 있는 방향 애인도 길로 걸어 가면서 오른쪽으로 가시오 왼쪽으로 가시오라고 안내 멘트가 안내가 되는 것을 여러가지 내비를 사용을 해서 확인을 해 바꿔 네이버지도 내비는 이거 플레이스토어에서 받은 것과 원스토어에서 받은 것과의 두 개를 가지고 실험을 해 봤지만 플레이 스토어에서 받은 것은 로그인을 하지 않으면은 내비 자체를 이용할 수 없다는 것이 단점이라고 보여진다 시각 장애인 입장에서 무작정 길을 가다가 보면은 간혹 모르는 길을 가다가 보면 골목을 놓치는 경우가 있다 이런 때 보행자전용 내비가 오른쪽으로 가시오 왼쪽으로 가시오 라고 안내를 해주고 10미터 전방에 좌측 편 교통안내표지판 오 m 전당 우측의 낭떠러지 등이 있고 100미터\n",
            "리뷰 재작성합니다. 몇년째 좀 불편한점이있어도 편의성이 다른 네비에 비해 월등하다 생각되어 쓰고있었는데 요즘 너무 이상해졌습니다. 현위치 못잡는것과 미니모드시 작동이 제대로 되지않믄것이 이번에 압데이트 되었길래 개선되었나하고 사용해봤으나 오히려 커브길에서 아직 커브하기 10~40m 남았는데 미리 커브한걸로안내되어 길안내가 헤끌리는 현상이 더 심해졌습니다. 이점이 큰도로에서는 문제없지만 커브가 잦은 도로에서큰 굉장이 불편합니다. 또한 위치를 잘못잡는것또한 여전합니다. 빠른개선되었으면 좋겠습니다. ㅡㅡㅡㅡㅡㅡㅡㅡㅡㅡㅡ 지도 및 내비를 주로 사용하고있습니다. 내비 편의성 좋으며 바로앞 차선 표시는 매우 좋고, 전체적으로 간단히 편히쓸때는 매우 좋다고 느낍니다. 다만 단점으로는 좀 더 세세히 보기를 원할때 거리뷰 및 항공뷰는 아직좀 부족해보이며 지방 골목길같은경우는 길안내 안되는곳이많아 그때는 다른어플을 씁니다. 주로쓰는 어플이니만큼 앞으로 개선되어나갔으면합니다.\n"
          ]
        },
        {
          "output_type": "stream",
          "name": "stderr",
          "text": [
            "/usr/local/lib/python3.10/dist-packages/ipykernel/ipkernel.py:283: DeprecationWarning: `should_run_async` will not call `transform_cell` automatically in the future. Please pass the result to `transformed_cell` argument and any exception that happen during thetransform in `preprocessing_exc_tuple` in IPython 7.17 and above.\n",
            "  and should_run_async(code)\n"
          ]
        }
      ]
    },
    {
      "cell_type": "code",
      "source": [],
      "metadata": {
        "id": "4GTyiL5tzGDY"
      },
      "execution_count": null,
      "outputs": []
    }
  ]
}