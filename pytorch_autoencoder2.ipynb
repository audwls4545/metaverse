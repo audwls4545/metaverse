{
  "nbformat": 4,
  "nbformat_minor": 0,
  "metadata": {
    "colab": {
      "provenance": [],
      "authorship_tag": "ABX9TyP0nkZL8hDgI01bZOCrlDwU",
      "include_colab_link": true
    },
    "kernelspec": {
      "name": "python3",
      "display_name": "Python 3"
    },
    "language_info": {
      "name": "python"
    }
  },
  "cells": [
    {
      "cell_type": "markdown",
      "metadata": {
        "id": "view-in-github",
        "colab_type": "text"
      },
      "source": [
        "<a href=\"https://colab.research.google.com/github/audwls4545/metaverse/blob/main/pytorch_autoencoder2.ipynb\" target=\"_parent\"><img src=\"https://colab.research.google.com/assets/colab-badge.svg\" alt=\"Open In Colab\"/></a>"
      ]
    },
    {
      "cell_type": "code",
      "execution_count": 2,
      "metadata": {
        "id": "-biVSy9T4a9C"
      },
      "outputs": [],
      "source": [
        "import matplotlib.pyplot as plt\n",
        "import numpy as np\n",
        "import torch\n",
        "from torchvision.datasets.mnist import MNIST\n",
        "from torchvision.transforms import ToTensor"
      ]
    },
    {
      "cell_type": "code",
      "source": [
        "#이미지 가우스 노이즈를 더해주는 함수\n",
        "def gaussian_noise(x, scale = 0.8):\n",
        "    gaussian_data_x = x + np.random.normal(loc = 0, scale = scale, size = x.shape)\n",
        "    gaussian_data_x = np.clip(gaussian_data_x,0,1)\n",
        "    gaussian_data_x = torch.tensor(gaussian_data_x)\n",
        "    gaussian_data_x = gaussian_data_x.type(torch.FloatTensor)\n",
        "    return gaussian_data_x\n",
        "\n",
        "train_data = MNIST(root='./',train=True,download=True,transform=ToTensor())\n",
        "test_data = MNIST(root='./',train=False,download=True,transform=ToTensor())"
      ],
      "metadata": {
        "colab": {
          "base_uri": "https://localhost:8080/"
        },
        "id": "gM6m2pl64xu7",
        "outputId": "6a7cdb3b-6f36-4764-d727-7e4aac656a74"
      },
      "execution_count": 3,
      "outputs": [
        {
          "output_type": "stream",
          "name": "stdout",
          "text": [
            "Downloading http://yann.lecun.com/exdb/mnist/train-images-idx3-ubyte.gz\n",
            "Downloading http://yann.lecun.com/exdb/mnist/train-images-idx3-ubyte.gz to ./MNIST/raw/train-images-idx3-ubyte.gz\n"
          ]
        },
        {
          "output_type": "stream",
          "name": "stderr",
          "text": [
            "100%|██████████| 9912422/9912422 [00:00<00:00, 65178563.86it/s]\n"
          ]
        },
        {
          "output_type": "stream",
          "name": "stdout",
          "text": [
            "Extracting ./MNIST/raw/train-images-idx3-ubyte.gz to ./MNIST/raw\n",
            "\n",
            "Downloading http://yann.lecun.com/exdb/mnist/train-labels-idx1-ubyte.gz\n",
            "Downloading http://yann.lecun.com/exdb/mnist/train-labels-idx1-ubyte.gz to ./MNIST/raw/train-labels-idx1-ubyte.gz\n"
          ]
        },
        {
          "output_type": "stream",
          "name": "stderr",
          "text": [
            "100%|██████████| 28881/28881 [00:00<00:00, 62667198.05it/s]\n"
          ]
        },
        {
          "output_type": "stream",
          "name": "stdout",
          "text": [
            "Extracting ./MNIST/raw/train-labels-idx1-ubyte.gz to ./MNIST/raw\n",
            "\n",
            "Downloading http://yann.lecun.com/exdb/mnist/t10k-images-idx3-ubyte.gz\n",
            "Downloading http://yann.lecun.com/exdb/mnist/t10k-images-idx3-ubyte.gz to ./MNIST/raw/t10k-images-idx3-ubyte.gz\n"
          ]
        },
        {
          "output_type": "stream",
          "name": "stderr",
          "text": [
            "100%|██████████| 1648877/1648877 [00:00<00:00, 34076152.21it/s]\n"
          ]
        },
        {
          "output_type": "stream",
          "name": "stdout",
          "text": [
            "Extracting ./MNIST/raw/t10k-images-idx3-ubyte.gz to ./MNIST/raw\n",
            "\n",
            "Downloading http://yann.lecun.com/exdb/mnist/t10k-labels-idx1-ubyte.gz\n",
            "Downloading http://yann.lecun.com/exdb/mnist/t10k-labels-idx1-ubyte.gz to ./MNIST/raw/t10k-labels-idx1-ubyte.gz\n"
          ]
        },
        {
          "output_type": "stream",
          "name": "stderr",
          "text": [
            "100%|██████████| 4542/4542 [00:00<00:00, 5398279.62it/s]\n"
          ]
        },
        {
          "output_type": "stream",
          "name": "stdout",
          "text": [
            "Extracting ./MNIST/raw/t10k-labels-idx1-ubyte.gz to ./MNIST/raw\n",
            "\n"
          ]
        }
      ]
    },
    {
      "cell_type": "code",
      "source": [
        "img = train_data.data[0]\n",
        "noise_img = gaussian_noise(img)\n",
        "\n",
        "plt.subplot(1, 2, 1)\n",
        "plt.imshow(img)\n",
        "plt.subplot(1, 2, 2)\n",
        "plt.imshow(noise_img)"
      ],
      "metadata": {
        "colab": {
          "base_uri": "https://localhost:8080/",
          "height": 361
        },
        "id": "hw0texuG6nXm",
        "outputId": "4a7f120d-812c-4139-f60e-911aac99031b"
      },
      "execution_count": 5,
      "outputs": [
        {
          "output_type": "stream",
          "name": "stderr",
          "text": [
            "<ipython-input-3-612d56948bcf>:5: UserWarning: To copy construct from a tensor, it is recommended to use sourceTensor.clone().detach() or sourceTensor.clone().detach().requires_grad_(True), rather than torch.tensor(sourceTensor).\n",
            "  gaussian_data_x = torch.tensor(gaussian_data_x)\n"
          ]
        },
        {
          "output_type": "execute_result",
          "data": {
            "text/plain": [
              "<matplotlib.image.AxesImage at 0x7f619d894cd0>"
            ]
          },
          "metadata": {},
          "execution_count": 5
        },
        {
          "output_type": "display_data",
          "data": {
            "text/plain": [
              "<Figure size 640x480 with 2 Axes>"
            ],
            "image/png": "[encoded data removed]"
          },
          "metadata": {}
        }
      ]
    },
    {
      "cell_type": "code",
      "source": [
        "from torch.utils.data.dataset import Dataset\n",
        "\n",
        "class Denoising(Dataset):\n",
        "    def __init__(self):\n",
        "\n",
        "        self.mnist = MNIST(root='./',train=True,download=True,transform=ToTensor())\n",
        "        self.data = []\n",
        "\n",
        "        for temp in range(len(self.mnist)):\n",
        "            noise_input = gaussian_noise(self.mnist.data[temp])\n",
        "            input_tensor = torch.tensor(noise_input)\n",
        "            self.data.append(torch.unsqueeze(input_tensor, dim = 0))\n",
        "\n",
        "    def __len__(self):\n",
        "        return len(self.data)\n",
        "\n",
        "    def __getitem__(self, i):\n",
        "        data = self.data[i]\n",
        "        label = self.mnist.data[i]/255\n",
        "        return data, label"
      ],
      "metadata": {
        "id": "WW3KZqxz60uD"
      },
      "execution_count": 6,
      "outputs": []
    },
    {
      "cell_type": "code",
      "source": [
        "import torch.nn as nn\n",
        "\n",
        "class BasicBlock(nn.Module):\n",
        "    def __init__(self,in_channel, out_channel, hidden_dim):\n",
        "        super(BasicBlock,self).__init__()\n",
        "\n",
        "        self.conv1 = nn.Conv2d(in_channel,\n",
        "                               hidden_dim,\n",
        "                               kernel_size=3,\n",
        "                               padding=1\n",
        "                               )\n",
        "\n",
        "        self.conv2 = nn.Conv2d(hidden_dim,\n",
        "                               out_channel,\n",
        "                               kernel_size=3,\n",
        "                               padding=1\n",
        "                               )\n",
        "\n",
        "        self.relu = nn.ReLU()\n",
        "\n",
        "    def forward(self,x):\n",
        "        x = self.conv1(x)\n",
        "        x = self.relu(x)\n",
        "        x = self.conv2(x)\n",
        "        x = self.relu(x)\n",
        "\n",
        "        return x\n"
      ],
      "metadata": {
        "id": "fELOzN7U8w38"
      },
      "execution_count": 7,
      "outputs": []
    },
    {
      "cell_type": "code",
      "source": [
        "class Encoder(nn.Module):\n",
        "    def __init__(self):\n",
        "        super(Encoder,self).__init__()\n",
        "\n",
        "        self.conv1 = BasicBlock(1,16,16)\n",
        "        self.conv2 = BasicBlock(16,8,8)\n",
        "\n",
        "        self.pool = nn.AvgPool2d(kernel_size = 2, stride = 2)\n",
        "\n",
        "    def forward(self, x):\n",
        "        x = self.conv1(x)\n",
        "        x = self.pool(x)\n",
        "        x = self.conv2(x)\n",
        "        x = self.pool(x)\n",
        "\n",
        "        return x"
      ],
      "metadata": {
        "id": "FsbyJ7mQ_dRg"
      },
      "execution_count": 12,
      "outputs": []
    },
    {
      "cell_type": "code",
      "source": [
        "from torchsummary import summary"
      ],
      "metadata": {
        "id": "E2sTi7A1_e_X"
      },
      "execution_count": 13,
      "outputs": []
    },
    {
      "cell_type": "code",
      "source": [
        "encoder = Encoder()"
      ],
      "metadata": {
        "id": "mrcEa9B6DoVS"
      },
      "execution_count": 14,
      "outputs": []
    },
    {
      "cell_type": "code",
      "source": [
        "summary(encoder,input_size=(1,28,28))"
      ],
      "metadata": {
        "colab": {
          "base_uri": "https://localhost:8080/"
        },
        "id": "juSIWhwoDpGs",
        "outputId": "6277814b-0dbe-4da4-ad02-f15bc16a4d8b"
      },
      "execution_count": 15,
      "outputs": [
        {
          "output_type": "stream",
          "name": "stdout",
          "text": [
            "----------------------------------------------------------------\n",
            "        Layer (type)               Output Shape         Param #\n",
            "================================================================\n",
            "            Conv2d-1           [-1, 16, 28, 28]             160\n",
            "              ReLU-2           [-1, 16, 28, 28]               0\n",
            "            Conv2d-3           [-1, 16, 28, 28]           2,320\n",
            "              ReLU-4           [-1, 16, 28, 28]               0\n",
            "        BasicBlock-5           [-1, 16, 28, 28]               0\n",
            "         AvgPool2d-6           [-1, 16, 14, 14]               0\n",
            "            Conv2d-7            [-1, 8, 14, 14]           1,160\n",
            "              ReLU-8            [-1, 8, 14, 14]               0\n",
            "            Conv2d-9            [-1, 8, 14, 14]             584\n",
            "             ReLU-10            [-1, 8, 14, 14]               0\n",
            "       BasicBlock-11            [-1, 8, 14, 14]               0\n",
            "        AvgPool2d-12              [-1, 8, 7, 7]               0\n",
            "================================================================\n",
            "Total params: 4,224\n",
            "Trainable params: 4,224\n",
            "Non-trainable params: 0\n",
            "----------------------------------------------------------------\n",
            "Input size (MB): 0.00\n",
            "Forward/backward pass size (MB): 0.57\n",
            "Params size (MB): 0.02\n",
            "Estimated Total Size (MB): 0.58\n",
            "----------------------------------------------------------------\n"
          ]
        }
      ]
    },
    {
      "cell_type": "code",
      "source": [
        "#nn.ConvTranspose2d (kernerl = 2, stride=2)\n",
        "\n",
        "#(SIZE - 1) * stride - 2*padding + kernel_size\n",
        "\n",
        "#(7-1) * 2 - 2*0 + 2 = 14"
      ],
      "metadata": {
        "id": "gS2YAVGGDp4R"
      },
      "execution_count": null,
      "outputs": []
    },
    {
      "cell_type": "code",
      "source": [
        "class Decoder(nn.Module):\n",
        "    def __init__(self):\n",
        "        super(Decoder, self).__init__()\n",
        "\n",
        "        self.conv1 = BasicBlock(8,8,8)\n",
        "        self.conv2 = BasicBlock(8,16,16)\n",
        "        self.conv3 = nn.Conv2d(16,1,kernel_size=3,padding=1)\n",
        "\n",
        "        self.upsample1= nn.ConvTranspose2d(8,8,kernel_size=2,stride=2)\n",
        "        self.upsample2= nn.ConvTranspose2d(16,16,kernel_size=2,stride=2)\n",
        "\n",
        "    def forward(self, x):\n",
        "        x = self.conv1(x) # 8,7,7\n",
        "        x = self.upsample1(x)\n",
        "        x = self.conv2(x)\n",
        "        x = self.upsample2(x)\n",
        "        x = self.conv3(x) # 1,28,28\n",
        "\n",
        "        return x"
      ],
      "metadata": {
        "id": "NQ3MBRIiEayb"
      },
      "execution_count": 16,
      "outputs": []
    },
    {
      "cell_type": "code",
      "source": [
        "decoder = Decoder()\n",
        "summary(decoder,input_size=(8,7,7))"
      ],
      "metadata": {
        "colab": {
          "base_uri": "https://localhost:8080/"
        },
        "id": "i9N-v5f2FTYf",
        "outputId": "8b11e041-0be8-4258-a04d-99ec39b7ac62"
      },
      "execution_count": 17,
      "outputs": [
        {
          "output_type": "stream",
          "name": "stdout",
          "text": [
            "----------------------------------------------------------------\n",
            "        Layer (type)               Output Shape         Param #\n",
            "================================================================\n",
            "            Conv2d-1              [-1, 8, 7, 7]             584\n",
            "              ReLU-2              [-1, 8, 7, 7]               0\n",
            "            Conv2d-3              [-1, 8, 7, 7]             584\n",
            "              ReLU-4              [-1, 8, 7, 7]               0\n",
            "        BasicBlock-5              [-1, 8, 7, 7]               0\n",
            "   ConvTranspose2d-6            [-1, 8, 14, 14]             264\n",
            "            Conv2d-7           [-1, 16, 14, 14]           1,168\n",
            "              ReLU-8           [-1, 16, 14, 14]               0\n",
            "            Conv2d-9           [-1, 16, 14, 14]           2,320\n",
            "             ReLU-10           [-1, 16, 14, 14]               0\n",
            "       BasicBlock-11           [-1, 16, 14, 14]               0\n",
            "  ConvTranspose2d-12           [-1, 16, 28, 28]           1,040\n",
            "           Conv2d-13            [-1, 1, 28, 28]             145\n",
            "================================================================\n",
            "Total params: 6,105\n",
            "Trainable params: 6,105\n",
            "Non-trainable params: 0\n",
            "----------------------------------------------------------------\n",
            "Input size (MB): 0.00\n",
            "Forward/backward pass size (MB): 0.25\n",
            "Params size (MB): 0.02\n",
            "Estimated Total Size (MB): 0.27\n",
            "----------------------------------------------------------------\n"
          ]
        }
      ]
    },
    {
      "cell_type": "code",
      "source": [
        "class Model(nn.Module):\n",
        "    def __init__(self):\n",
        "        super(Model, self).__init__()\n",
        "\n",
        "        self.encoder = Encoder()\n",
        "        self.decoder = Decoder()\n",
        "\n",
        "    def forward(self, x):\n",
        "        x = self.encoder(x)\n",
        "        x = self.decoder(x) # 1, 28, 28\n",
        "        x = torch.squeeze(x) # 28, 28\n",
        "\n",
        "        return x"
      ],
      "metadata": {
        "id": "uiefSjWoFsCy"
      },
      "execution_count": 18,
      "outputs": []
    },
    {
      "cell_type": "code",
      "source": [
        "from torch.utils.data.dataloader import DataLoader\n",
        "from torch.optim.adam import Adam\n",
        "device = 'cuda' if torch.cuda.is_available() else 'cpu'\n",
        "\n",
        "trainset = Denoising()\n",
        "train_loader = DataLoader(trainset,batch_size=32)\n",
        "\n",
        "model = Model().to(device)\n",
        "\n",
        "optim = Adam(model.parameters(),lr=1e-3)"
      ],
      "metadata": {
        "colab": {
          "base_uri": "https://localhost:8080/"
        },
        "id": "7p_nc9q_HOqQ",
        "outputId": "f76ae12a-c987-4fea-f3af-f2faaf5b53cb"
      },
      "execution_count": 19,
      "outputs": [
        {
          "output_type": "stream",
          "name": "stderr",
          "text": [
            "<ipython-input-3-612d56948bcf>:5: UserWarning: To copy construct from a tensor, it is recommended to use sourceTensor.clone().detach() or sourceTensor.clone().detach().requires_grad_(True), rather than torch.tensor(sourceTensor).\n",
            "  gaussian_data_x = torch.tensor(gaussian_data_x)\n",
            "<ipython-input-6-cdb2c7cb3768>:11: UserWarning: To copy construct from a tensor, it is recommended to use sourceTensor.clone().detach() or sourceTensor.clone().detach().requires_grad_(True), rather than torch.tensor(sourceTensor).\n",
            "  input_tensor = torch.tensor(noise_input)\n"
          ]
        }
      ]
    },
    {
      "cell_type": "code",
      "source": [
        "import tqdm\n",
        "for epoch in range(20):\n",
        "    for data, label in tqdm.tqdm(train_loader):\n",
        "        optim.zero_grad()\n",
        "        pred = model(data.to(device))\n",
        "\n",
        "        loss = nn.MSELoss()(torch.squeeze(pred), label.to(device))\n",
        "        loss.backward()\n",
        "        optim.step()\n",
        "\n",
        "    print(f'Epoch : {epoch+1} loss : {loss.item()}')"
      ],
      "metadata": {
        "colab": {
          "base_uri": "https://localhost:8080/"
        },
        "id": "-pbq83hvHPRH",
        "outputId": "5cc5589d-b758-4536-b1ce-9013481aa687"
      },
      "execution_count": 21,
      "outputs": [
        {
          "output_type": "stream",
          "name": "stderr",
          "text": [
            "100%|██████████| 1875/1875 [01:30<00:00, 20.77it/s]\n"
          ]
        },
        {
          "output_type": "stream",
          "name": "stdout",
          "text": [
            "Epoch : 1 loss : 0.01280798390507698\n"
          ]
        },
        {
          "output_type": "stream",
          "name": "stderr",
          "text": [
            "100%|██████████| 1875/1875 [01:30<00:00, 20.66it/s]\n"
          ]
        },
        {
          "output_type": "stream",
          "name": "stdout",
          "text": [
            "Epoch : 2 loss : 0.010700530372560024\n"
          ]
        },
        {
          "output_type": "stream",
          "name": "stderr",
          "text": [
            "100%|██████████| 1875/1875 [01:43<00:00, 18.07it/s]\n"
          ]
        },
        {
          "output_type": "stream",
          "name": "stdout",
          "text": [
            "Epoch : 3 loss : 0.009840470738708973\n"
          ]
        },
        {
          "output_type": "stream",
          "name": "stderr",
          "text": [
            "100%|██████████| 1875/1875 [02:26<00:00, 12.81it/s]\n"
          ]
        },
        {
          "output_type": "stream",
          "name": "stdout",
          "text": [
            "Epoch : 4 loss : 0.009701359085738659\n"
          ]
        },
        {
          "output_type": "stream",
          "name": "stderr",
          "text": [
            "100%|██████████| 1875/1875 [01:37<00:00, 19.24it/s]\n"
          ]
        },
        {
          "output_type": "stream",
          "name": "stdout",
          "text": [
            "Epoch : 5 loss : 0.009632816538214684\n"
          ]
        },
        {
          "output_type": "stream",
          "name": "stderr",
          "text": [
            "100%|██████████| 1875/1875 [01:31<00:00, 20.46it/s]\n"
          ]
        },
        {
          "output_type": "stream",
          "name": "stdout",
          "text": [
            "Epoch : 6 loss : 0.009363609366118908\n"
          ]
        },
        {
          "output_type": "stream",
          "name": "stderr",
          "text": [
            "100%|██████████| 1875/1875 [01:30<00:00, 20.68it/s]\n"
          ]
        },
        {
          "output_type": "stream",
          "name": "stdout",
          "text": [
            "Epoch : 7 loss : 0.009403557516634464\n"
          ]
        },
        {
          "output_type": "stream",
          "name": "stderr",
          "text": [
            "100%|██████████| 1875/1875 [01:28<00:00, 21.12it/s]\n"
          ]
        },
        {
          "output_type": "stream",
          "name": "stdout",
          "text": [
            "Epoch : 8 loss : 0.00859133806079626\n"
          ]
        },
        {
          "output_type": "stream",
          "name": "stderr",
          "text": [
            "100%|██████████| 1875/1875 [01:28<00:00, 21.23it/s]\n"
          ]
        },
        {
          "output_type": "stream",
          "name": "stdout",
          "text": [
            "Epoch : 9 loss : 0.008436508476734161\n"
          ]
        },
        {
          "output_type": "stream",
          "name": "stderr",
          "text": [
            "100%|██████████| 1875/1875 [01:29<00:00, 21.02it/s]\n"
          ]
        },
        {
          "output_type": "stream",
          "name": "stdout",
          "text": [
            "Epoch : 10 loss : 0.008038721978664398\n"
          ]
        },
        {
          "output_type": "stream",
          "name": "stderr",
          "text": [
            "100%|██████████| 1875/1875 [01:28<00:00, 21.26it/s]\n"
          ]
        },
        {
          "output_type": "stream",
          "name": "stdout",
          "text": [
            "Epoch : 11 loss : 0.00794263556599617\n"
          ]
        },
        {
          "output_type": "stream",
          "name": "stderr",
          "text": [
            "100%|██████████| 1875/1875 [01:29<00:00, 20.90it/s]\n"
          ]
        },
        {
          "output_type": "stream",
          "name": "stdout",
          "text": [
            "Epoch : 12 loss : 0.00792461447417736\n"
          ]
        },
        {
          "output_type": "stream",
          "name": "stderr",
          "text": [
            "100%|██████████| 1875/1875 [01:29<00:00, 21.02it/s]\n"
          ]
        },
        {
          "output_type": "stream",
          "name": "stdout",
          "text": [
            "Epoch : 13 loss : 0.007907481864094734\n"
          ]
        },
        {
          "output_type": "stream",
          "name": "stderr",
          "text": [
            "100%|██████████| 1875/1875 [01:28<00:00, 21.25it/s]\n"
          ]
        },
        {
          "output_type": "stream",
          "name": "stdout",
          "text": [
            "Epoch : 14 loss : 0.007815069518983364\n"
          ]
        },
        {
          "output_type": "stream",
          "name": "stderr",
          "text": [
            "100%|██████████| 1875/1875 [01:30<00:00, 20.79it/s]\n"
          ]
        },
        {
          "output_type": "stream",
          "name": "stdout",
          "text": [
            "Epoch : 15 loss : 0.007804255932569504\n"
          ]
        },
        {
          "output_type": "stream",
          "name": "stderr",
          "text": [
            "100%|██████████| 1875/1875 [01:27<00:00, 21.33it/s]\n"
          ]
        },
        {
          "output_type": "stream",
          "name": "stdout",
          "text": [
            "Epoch : 16 loss : 0.007728843484073877\n"
          ]
        },
        {
          "output_type": "stream",
          "name": "stderr",
          "text": [
            "100%|██████████| 1875/1875 [01:27<00:00, 21.39it/s]\n"
          ]
        },
        {
          "output_type": "stream",
          "name": "stdout",
          "text": [
            "Epoch : 17 loss : 0.007796185556799173\n"
          ]
        },
        {
          "output_type": "stream",
          "name": "stderr",
          "text": [
            "100%|██████████| 1875/1875 [01:28<00:00, 21.07it/s]\n"
          ]
        },
        {
          "output_type": "stream",
          "name": "stdout",
          "text": [
            "Epoch : 18 loss : 0.007725602015852928\n"
          ]
        },
        {
          "output_type": "stream",
          "name": "stderr",
          "text": [
            "100%|██████████| 1875/1875 [01:28<00:00, 21.16it/s]\n"
          ]
        },
        {
          "output_type": "stream",
          "name": "stdout",
          "text": [
            "Epoch : 19 loss : 0.007724680472165346\n"
          ]
        },
        {
          "output_type": "stream",
          "name": "stderr",
          "text": [
            "100%|██████████| 1875/1875 [01:27<00:00, 21.35it/s]"
          ]
        },
        {
          "output_type": "stream",
          "name": "stdout",
          "text": [
            "Epoch : 20 loss : 0.007701446767896414\n"
          ]
        },
        {
          "output_type": "stream",
          "name": "stderr",
          "text": [
            "\n"
          ]
        }
      ]
    },
    {
      "cell_type": "code",
      "source": [
        "model.cpu()\n",
        "model.eval()\n",
        "with torch.no_grad():\n",
        "    img = test_data.data[0]\n",
        "    noise = gaussian_noise(img) # 28,28\n",
        "\n",
        "    input = torch.unsqueeze(noise, dim = 0)\n",
        "    input.type(torch.FloatTensor)\n",
        "    input.to(device)\n",
        "    input = torch.unsqueeze(input, dim = 0)\n",
        "\n",
        "    plt.subplot(1,3,1)\n",
        "    plt.imshow(torch.squeeze(noise), cmap = 'gray')\n",
        "    plt.subplot(1,3,2)\n",
        "    plt.imshow(torch.squeeze(model(input)), cmap = 'gray')\n",
        "    plt.subplot(1,3,3)\n",
        "    plt.imshow(torch.squeeze(img), cmap = 'gray')\n",
        "    plt.show()"
      ],
      "metadata": {
        "colab": {
          "base_uri": "https://localhost:8080/",
          "height": 265
        },
        "id": "8AJWDCUfIZ_3",
        "outputId": "183a8382-a630-4f8b-cc3b-07f93ee218d3"
      },
      "execution_count": 22,
      "outputs": [
        {
          "output_type": "stream",
          "name": "stderr",
          "text": [
            "<ipython-input-3-612d56948bcf>:5: UserWarning: To copy construct from a tensor, it is recommended to use sourceTensor.clone().detach() or sourceTensor.clone().detach().requires_grad_(True), rather than torch.tensor(sourceTensor).\n",
            "  gaussian_data_x = torch.tensor(gaussian_data_x)\n"
          ]
        },
        {
          "output_type": "display_data",
          "data": {
            "text/plain": [
              "<Figure size 640x480 with 3 Axes>"
            ],
            "image/png": "[encoded data removed]"
          },
          "metadata": {}
        }
      ]
    },
    {
      "cell_type": "code",
      "source": [],
      "metadata": {
        "id": "_heQ0vC5PmPS"
      },
      "execution_count": null,
      "outputs": []
    }
  ]
}