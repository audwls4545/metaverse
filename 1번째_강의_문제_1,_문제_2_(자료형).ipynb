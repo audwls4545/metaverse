{
  "nbformat": 4,
  "nbformat_minor": 0,
  "metadata": {
    "colab": {
      "provenance": [],
      "authorship_tag": "ABX9TyPoctTRLa2T1UNdAm780lql",
      "include_colab_link": true
    },
    "kernelspec": {
      "name": "python3",
      "display_name": "Python 3"
    },
    "language_info": {
      "name": "python"
    }
  },
  "cells": [
    {
      "cell_type": "markdown",
      "metadata": {
        "id": "view-in-github",
        "colab_type": "text"
      },
      "source": [
        "<a href=\"https://colab.research.google.com/github/audwls4545/metaverse/blob/main/1%EB%B2%88%EC%A7%B8_%EA%B0%95%EC%9D%98_%EB%AC%B8%EC%A0%9C_1%2C_%EB%AC%B8%EC%A0%9C_2_(%EC%9E%90%EB%A3%8C%ED%98%95).ipynb\" target=\"_parent\"><img src=\"https://colab.research.google.com/assets/colab-badge.svg\" alt=\"Open In Colab\"/></a>"
      ]
    },
    {
      "cell_type": "code",
      "execution_count": 1,
      "metadata": {
        "colab": {
          "base_uri": "https://localhost:8080/",
          "height": 35
        },
        "id": "urrwHp9jt4-L",
        "outputId": "316b3969-4b04-47ce-e788-5a2b7becdf5f"
      },
      "outputs": [
        {
          "output_type": "execute_result",
          "data": {
            "text/plain": [
              "'홍길동'"
            ],
            "application/vnd.google.colaboratory.intrinsic+json": {
              "type": "string"
            }
          },
          "metadata": {},
          "execution_count": 1
        }
      ],
      "source": [
        "myName = \"홍길동\"\n",
        "myName"
      ]
    },
    {
      "cell_type": "code",
      "source": [
        "myAge = 0\n",
        "myAge = 20\n",
        "myAge"
      ],
      "metadata": {
        "colab": {
          "base_uri": "https://localhost:8080/"
        },
        "id": "2kTyQNI0uLy5",
        "outputId": "ab5277a3-5d83-4298-a35f-a293dd4e0fcb"
      },
      "execution_count": 2,
      "outputs": [
        {
          "output_type": "execute_result",
          "data": {
            "text/plain": [
              "20"
            ]
          },
          "metadata": {},
          "execution_count": 2
        }
      ]
    },
    {
      "cell_type": "code",
      "source": [
        "myHeight, myWeight = 175, 70\n",
        "\n",
        "print(myHeight)\n",
        "print(myWeight)"
      ],
      "metadata": {
        "colab": {
          "base_uri": "https://localhost:8080/"
        },
        "id": "QxYi9GOyuUOK",
        "outputId": "4e85255f-d112-4513-80e0-ef0606684ac1"
      },
      "execution_count": 3,
      "outputs": [
        {
          "output_type": "stream",
          "name": "stdout",
          "text": [
            "175\n",
            "70\n"
          ]
        }
      ]
    },
    {
      "cell_type": "code",
      "source": [
        "korea, english, math = 77, 88, 81\n",
        "korea_history = 63\n",
        "science = 97"
      ],
      "metadata": {
        "id": "3ILv7XTducv-"
      },
      "execution_count": 4,
      "outputs": []
    },
    {
      "cell_type": "code",
      "source": [
        "total = korea + english + math + korea_history + science\n",
        "print(total)"
      ],
      "metadata": {
        "colab": {
          "base_uri": "https://localhost:8080/"
        },
        "id": "P2aSTzlPvCWG",
        "outputId": "e04ccc7e-3a13-44d5-d1b2-5cbc9a8484ec"
      },
      "execution_count": 5,
      "outputs": [
        {
          "output_type": "stream",
          "name": "stdout",
          "text": [
            "406\n"
          ]
        }
      ]
    },
    {
      "cell_type": "code",
      "source": [
        "avg = total/5\n",
        "print(avg)"
      ],
      "metadata": {
        "colab": {
          "base_uri": "https://localhost:8080/"
        },
        "id": "75b-z1_3vNcH",
        "outputId": "cd3d698b-ddef-41ac-9418-a0a6ed7af01b"
      },
      "execution_count": 6,
      "outputs": [
        {
          "output_type": "stream",
          "name": "stdout",
          "text": [
            "81.2\n"
          ]
        }
      ]
    },
    {
      "cell_type": "code",
      "source": [
        "type(avg)"
      ],
      "metadata": {
        "colab": {
          "base_uri": "https://localhost:8080/"
        },
        "id": "mrLX-o9CvWZ1",
        "outputId": "a4b761bd-ec57-4404-c25a-d8fec6d0dbc1"
      },
      "execution_count": 7,
      "outputs": [
        {
          "output_type": "execute_result",
          "data": {
            "text/plain": [
              "float"
            ]
          },
          "metadata": {},
          "execution_count": 7
        }
      ]
    },
    {
      "cell_type": "code",
      "source": [
        "myAge = '20'\n",
        "type(int(myAge))"
      ],
      "metadata": {
        "colab": {
          "base_uri": "https://localhost:8080/"
        },
        "id": "VeOBolf_vcPq",
        "outputId": "aef731e8-670d-49b2-edfe-58ceeef276cb"
      },
      "execution_count": 8,
      "outputs": [
        {
          "output_type": "execute_result",
          "data": {
            "text/plain": [
              "int"
            ]
          },
          "metadata": {},
          "execution_count": 8
        }
      ]
    },
    {
      "cell_type": "code",
      "source": [
        "avg = 81.2\n",
        "type(str(avg))"
      ],
      "metadata": {
        "colab": {
          "base_uri": "https://localhost:8080/"
        },
        "id": "o76Kr-ikvjks",
        "outputId": "824e193f-3a12-4afd-e999-0271c5bba2b9"
      },
      "execution_count": 9,
      "outputs": [
        {
          "output_type": "execute_result",
          "data": {
            "text/plain": [
              "str"
            ]
          },
          "metadata": {},
          "execution_count": 9
        }
      ]
    },
    {
      "cell_type": "code",
      "source": [
        "myName = '홍길동'\n",
        "myAge = '20'\n",
        "print(myName + \" \" + myAge + \"세\")"
      ],
      "metadata": {
        "colab": {
          "base_uri": "https://localhost:8080/"
        },
        "id": "WRxNWpmMvonB",
        "outputId": "d4667708-e250-4b35-dfbc-460771d9b6f9"
      },
      "execution_count": 11,
      "outputs": [
        {
          "output_type": "stream",
          "name": "stdout",
          "text": [
            "홍길동 20세\n"
          ]
        }
      ]
    },
    {
      "cell_type": "code",
      "source": [
        "A = \"총합:\"\n",
        "B = total\n",
        "print(A + str(B))"
      ],
      "metadata": {
        "colab": {
          "base_uri": "https://localhost:8080/"
        },
        "id": "DHKl_U39v0dH",
        "outputId": "7a073c58-3be9-45bd-c748-ac0d40e4b35f"
      },
      "execution_count": 14,
      "outputs": [
        {
          "output_type": "stream",
          "name": "stdout",
          "text": [
            "총합:406\n"
          ]
        }
      ]
    },
    {
      "cell_type": "code",
      "source": [
        "A, B = 3, 8\n",
        "print(A+B)\n",
        "print(B-A)\n",
        "print(A*B)\n",
        "print(A**8)\n",
        "print(A/B)\n",
        "print(B//A)\n",
        "print(A%B)"
      ],
      "metadata": {
        "colab": {
          "base_uri": "https://localhost:8080/"
        },
        "id": "tUnXnMwmwLkc",
        "outputId": "24586841-6463-494e-8d3f-5e44de46063a"
      },
      "execution_count": 21,
      "outputs": [
        {
          "output_type": "stream",
          "name": "stdout",
          "text": [
            "11\n",
            "5\n",
            "24\n",
            "6561\n",
            "0.375\n",
            "2\n",
            "3\n"
          ]
        }
      ]
    },
    {
      "cell_type": "code",
      "source": [
        "text = '''\n",
        "Usage: thingy [OPTIONS]\n",
        "    -h                         DISPLAY this usage message\n",
        "    -H hostname                HOstname to connect to\n",
        "'''\n",
        "print(text)"
      ],
      "metadata": {
        "colab": {
          "base_uri": "https://localhost:8080/"
        },
        "id": "IgGUzc8mwoTC",
        "outputId": "e860e89c-dbd9-4901-fd22-60ae06da0202"
      },
      "execution_count": 23,
      "outputs": [
        {
          "output_type": "stream",
          "name": "stdout",
          "text": [
            "\n",
            "Usage: thingy [OPTIONS]\n",
            "    -h                         DISPLAY this usage message\n",
            "    -H hostname                HOstname to connect to\n",
            "\n"
          ]
        }
      ]
    },
    {
      "cell_type": "code",
      "source": [
        "print('\"따옴표를 출력해주세요\"')"
      ],
      "metadata": {
        "colab": {
          "base_uri": "https://localhost:8080/"
        },
        "id": "yByuGy5mxNRY",
        "outputId": "fe93873c-0282-45ad-8b77-258c7e7ea414"
      },
      "execution_count": 24,
      "outputs": [
        {
          "output_type": "stream",
          "name": "stdout",
          "text": [
            "\"따옴표를 출력해주세요\"\n"
          ]
        }
      ]
    },
    {
      "cell_type": "code",
      "source": [
        "text = \"\\n 1번째 줄\\n 2번째 줄\"\n",
        "print(text)"
      ],
      "metadata": {
        "colab": {
          "base_uri": "https://localhost:8080/"
        },
        "id": "gpFJOOhbxU4B",
        "outputId": "ed3b88f5-7c20-4438-b34d-34922e2ff5e3"
      },
      "execution_count": 28,
      "outputs": [
        {
          "output_type": "stream",
          "name": "stdout",
          "text": [
            "\n",
            " 1번째 줄\n",
            " 2번째 줄\n"
          ]
        }
      ]
    },
    {
      "cell_type": "code",
      "source": [
        "print('\"다음은 문자열 안에서 줄을바꿀 때 사용합니다. \\\\n\"'+\"\\n'다음 문자는 문자열 사이에 탭간격을 줄 때 사용합니다. \\\\t'\")"
      ],
      "metadata": {
        "colab": {
          "base_uri": "https://localhost:8080/"
        },
        "id": "RPZ698pDxjAp",
        "outputId": "6aec4f79-e554-49bc-83c7-b8b6f1d51b41"
      },
      "execution_count": 32,
      "outputs": [
        {
          "output_type": "stream",
          "name": "stdout",
          "text": [
            "\"다음은 문자열 안에서 줄을바꿀 때 사용합니다. \\n\"\n",
            "'다음 문자는 문자열 사이에 탭간격을 줄 때 사용합니다. \\t'\n"
          ]
        }
      ]
    },
    {
      "cell_type": "code",
      "source": [
        "print(\"*\"*50)\n",
        "print(\"I LOVE PYTHON\")\n",
        "print(\"*\"*50)"
      ],
      "metadata": {
        "colab": {
          "base_uri": "https://localhost:8080/"
        },
        "id": "3siJQRknx2ir",
        "outputId": "7f0d5305-4b55-49f9-ede0-fe1e40a14c0c"
      },
      "execution_count": 33,
      "outputs": [
        {
          "output_type": "stream",
          "name": "stdout",
          "text": [
            "**************************************************\n",
            "I LOVE PYTHON\n",
            "**************************************************\n"
          ]
        }
      ]
    },
    {
      "cell_type": "code",
      "source": [
        "print(\"*\"*6)\n",
        "print(\"*\"+\" \"*4+\"*\")\n",
        "print(\"*\"+\" \"*4+\"*\")\n",
        "print(\"*\"*6)"
      ],
      "metadata": {
        "colab": {
          "base_uri": "https://localhost:8080/"
        },
        "id": "Jv0SZ_sJyZZz",
        "outputId": "623ed248-502c-4837-822d-c9a619fba201"
      },
      "execution_count": 34,
      "outputs": [
        {
          "output_type": "stream",
          "name": "stdout",
          "text": [
            "******\n",
            "*    *\n",
            "*    *\n",
            "******\n"
          ]
        }
      ]
    },
    {
      "cell_type": "code",
      "source": [
        "A = \"PYTHON\"\n",
        "print(A[0])"
      ],
      "metadata": {
        "colab": {
          "base_uri": "https://localhost:8080/"
        },
        "id": "jIBYHfwIynb_",
        "outputId": "93766dc6-cc88-4e8b-b51c-1e983ba2d2e2"
      },
      "execution_count": 35,
      "outputs": [
        {
          "output_type": "stream",
          "name": "stdout",
          "text": [
            "P\n"
          ]
        }
      ]
    },
    {
      "cell_type": "code",
      "source": [
        "A = \"I LOVE PYTHON\"\n",
        "print(A[2])\n",
        "print(A[-6])"
      ],
      "metadata": {
        "colab": {
          "base_uri": "https://localhost:8080/"
        },
        "id": "UOmqaFYkytn1",
        "outputId": "023199b2-6f3c-4004-ae92-345a2b0668f3"
      },
      "execution_count": 37,
      "outputs": [
        {
          "output_type": "stream",
          "name": "stdout",
          "text": [
            "L\n",
            "P\n"
          ]
        }
      ]
    },
    {
      "cell_type": "code",
      "source": [
        "A = \"I LOVE PYTHON\"\n",
        "print(A[2:6])"
      ],
      "metadata": {
        "colab": {
          "base_uri": "https://localhost:8080/"
        },
        "id": "4FMyddlSy2A0",
        "outputId": "1ff20a11-514c-4ad9-f5e5-27ac65e56ac5"
      },
      "execution_count": 39,
      "outputs": [
        {
          "output_type": "stream",
          "name": "stdout",
          "text": [
            "LOVE\n"
          ]
        }
      ]
    },
    {
      "cell_type": "code",
      "source": [
        "A = \"I LOVE PYTHON\"\n",
        "print(A[-6:])"
      ],
      "metadata": {
        "colab": {
          "base_uri": "https://localhost:8080/"
        },
        "id": "Gu9PPl3zy-nM",
        "outputId": "7607469d-96f1-4949-d7e8-7f660a6519c0"
      },
      "execution_count": 40,
      "outputs": [
        {
          "output_type": "stream",
          "name": "stdout",
          "text": [
            "PYTHON\n"
          ]
        }
      ]
    },
    {
      "cell_type": "code",
      "source": [
        "A = \"I LOVE PYTHON\"\n",
        "print(A[:2] + \"WANT\" + A[-7:])"
      ],
      "metadata": {
        "colab": {
          "base_uri": "https://localhost:8080/"
        },
        "id": "qx1rioagzFEm",
        "outputId": "501b2a36-2668-4936-e43e-e6a94f5a6ebf"
      },
      "execution_count": 41,
      "outputs": [
        {
          "output_type": "stream",
          "name": "stdout",
          "text": [
            "I WANT PYTHON\n"
          ]
        }
      ]
    },
    {
      "cell_type": "code",
      "source": [
        "A = \"PYSON\"\n",
        "A = A.replace(\"S\",\"TH\")\n",
        "print(A)"
      ],
      "metadata": {
        "colab": {
          "base_uri": "https://localhost:8080/"
        },
        "id": "YqujjS5izTDI",
        "outputId": "967b2f13-e515-4fec-f3cd-7579e2de646c"
      },
      "execution_count": 49,
      "outputs": [
        {
          "output_type": "stream",
          "name": "stdout",
          "text": [
            "PYTHON\n"
          ]
        }
      ]
    },
    {
      "cell_type": "code",
      "source": [
        "\n",
        "print(\"이름: %s\"%\"홍길동\")\n",
        "print(\"나이: %d\" %20)"
      ],
      "metadata": {
        "colab": {
          "base_uri": "https://localhost:8080/"
        },
        "id": "u0G-FmV2zgK3",
        "outputId": "990cd165-2e79-4d92-b546-cd600daab233"
      },
      "execution_count": 51,
      "outputs": [
        {
          "output_type": "stream",
          "name": "stdout",
          "text": [
            "이름: 홍길동\n",
            "나이: 20\n"
          ]
        }
      ]
    },
    {
      "cell_type": "code",
      "source": [
        "print(\"I studied for %d hours to do %s.\" %(2,\"python\"))"
      ],
      "metadata": {
        "colab": {
          "base_uri": "https://localhost:8080/"
        },
        "id": "PaPPpFI21YBN",
        "outputId": "73c006a9-a3c0-4d70-970f-5d2c54dee93f"
      },
      "execution_count": 53,
      "outputs": [
        {
          "output_type": "stream",
          "name": "stdout",
          "text": [
            "I studied for 2 hours to do python.\n"
          ]
        }
      ]
    },
    {
      "cell_type": "code",
      "source": [
        "percent = 25\n",
        "print(\"%d%%|■■■        |\"%percent)"
      ],
      "metadata": {
        "colab": {
          "base_uri": "https://localhost:8080/"
        },
        "id": "QOEI59EV11R7",
        "outputId": "e0bbbfa0-dd99-436f-b6a2-4ea4494ea7ae"
      },
      "execution_count": 58,
      "outputs": [
        {
          "output_type": "stream",
          "name": "stdout",
          "text": [
            "25%|■■■        |\n"
          ]
        }
      ]
    },
    {
      "cell_type": "code",
      "source": [
        "percent, progressbar = 50, \"|■■■■■\"\n",
        "progressbar = \"|■■■■■\"\n",
        "print(\"%d%%%s     |\"%(percent,progressbar))"
      ],
      "metadata": {
        "colab": {
          "base_uri": "https://localhost:8080/"
        },
        "id": "jPrMVGsY2KBp",
        "outputId": "3a51f0f2-adfa-494b-f4be-78ecd96a8513"
      },
      "execution_count": 59,
      "outputs": [
        {
          "output_type": "stream",
          "name": "stdout",
          "text": [
            "50%|■■■■■     |\n"
          ]
        }
      ]
    },
    {
      "cell_type": "code",
      "source": [
        "A = \"python\"\n",
        "B = \"love\"\n",
        "print(f\"I {B} {A}.\")"
      ],
      "metadata": {
        "colab": {
          "base_uri": "https://localhost:8080/"
        },
        "id": "biL0A4de3BPl",
        "outputId": "d3e4a4ed-d6d0-4e33-d71f-fc84f638a85e"
      },
      "execution_count": 63,
      "outputs": [
        {
          "output_type": "stream",
          "name": "stdout",
          "text": [
            "I love python.\n"
          ]
        }
      ]
    },
    {
      "cell_type": "code",
      "source": [
        "print(\"I {0} {1}.\".format(\"love\",\"python\"))"
      ],
      "metadata": {
        "colab": {
          "base_uri": "https://localhost:8080/"
        },
        "id": "t0ge5Y5X3a6o",
        "outputId": "46d9b7c0-8f25-4116-8c72-80f101f3d95e"
      },
      "execution_count": 64,
      "outputs": [
        {
          "output_type": "stream",
          "name": "stdout",
          "text": [
            "I love python.\n"
          ]
        }
      ]
    },
    {
      "cell_type": "code",
      "source": [
        "print(\"I {second} {first}.\".format(first=\"python\", second=\"love\"))"
      ],
      "metadata": {
        "colab": {
          "base_uri": "https://localhost:8080/"
        },
        "id": "uQycA2XI4CnM",
        "outputId": "7c17c19d-33df-4c9d-ccfa-00f4ebf5b143"
      },
      "execution_count": 65,
      "outputs": [
        {
          "output_type": "stream",
          "name": "stdout",
          "text": [
            "I love python.\n"
          ]
        }
      ]
    },
    {
      "cell_type": "code",
      "source": [
        "print('{0:0.3f}%'.format(0.125))  #32번 다시 풀기"
      ],
      "metadata": {
        "colab": {
          "base_uri": "https://localhost:8080/"
        },
        "id": "FsI01kYH4OIb",
        "outputId": "cc82157c-dae8-4f64-fc3f-8bd5bcb39f56"
      },
      "execution_count": 71,
      "outputs": [
        {
          "output_type": "stream",
          "name": "stdout",
          "text": [
            "0.125%\n"
          ]
        }
      ]
    },
    {
      "cell_type": "code",
      "source": [],
      "metadata": {
        "id": "oZ3mpdZ74mNA"
      },
      "execution_count": null,
      "outputs": []
    }
  ]
}