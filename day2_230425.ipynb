{
  "nbformat": 4,
  "nbformat_minor": 0,
  "metadata": {
    "colab": {
      "provenance": [],
      "authorship_tag": "ABX9TyNJSvAOyEMb8EiK0QFlsDTx",
      "include_colab_link": true
    },
    "kernelspec": {
      "name": "python3",
      "display_name": "Python 3"
    },
    "language_info": {
      "name": "python"
    }
  },
  "cells": [
    {
      "cell_type": "markdown",
      "metadata": {
        "id": "view-in-github",
        "colab_type": "text"
      },
      "source": [
        "<a href=\"https://colab.research.google.com/github/audwls4545/metaverse/blob/main/day2_230425.ipynb\" target=\"_parent\"><img src=\"https://colab.research.google.com/assets/colab-badge.svg\" alt=\"Open In Colab\"/></a>"
      ]
    },
    {
      "cell_type": "code",
      "execution_count": null,
      "metadata": {
        "colab": {
          "base_uri": "https://localhost:8080/"
        },
        "id": "m-Zo-2Go62NZ",
        "outputId": "a153e178-a822-4209-dcfb-bc7c01e3db45"
      },
      "outputs": [
        {
          "output_type": "execute_result",
          "data": {
            "text/plain": [
              "False"
            ]
          },
          "metadata": {},
          "execution_count": 1
        }
      ],
      "source": [
        "a = 10\n",
        "b = 20\n",
        "\n",
        "a> b"
      ]
    },
    {
      "cell_type": "code",
      "source": [
        "a < b\n",
        "a == b\n",
        "a >=b\n",
        "a <= b"
      ],
      "metadata": {
        "colab": {
          "base_uri": "https://localhost:8080/"
        },
        "id": "44sXrppR81f0",
        "outputId": "1e0530ea-3726-4279-d49f-c9fa0f8c297b"
      },
      "execution_count": null,
      "outputs": [
        {
          "output_type": "execute_result",
          "data": {
            "text/plain": [
              "True"
            ]
          },
          "metadata": {},
          "execution_count": 2
        }
      ]
    },
    {
      "cell_type": "code",
      "source": [
        "a==b or a<b"
      ],
      "metadata": {
        "colab": {
          "base_uri": "https://localhost:8080/"
        },
        "id": "vi5v2E2v8-1w",
        "outputId": "a337daa2-d08f-4c05-e115-b39486e097a2"
      },
      "execution_count": null,
      "outputs": [
        {
          "output_type": "execute_result",
          "data": {
            "text/plain": [
              "True"
            ]
          },
          "metadata": {},
          "execution_count": 3
        }
      ]
    },
    {
      "cell_type": "code",
      "source": [
        "a==b and a<b"
      ],
      "metadata": {
        "colab": {
          "base_uri": "https://localhost:8080/"
        },
        "id": "8YhOXM-W9DOJ",
        "outputId": "8d811695-57de-48b8-9d9c-4d9602a15679"
      },
      "execution_count": null,
      "outputs": [
        {
          "output_type": "execute_result",
          "data": {
            "text/plain": [
              "False"
            ]
          },
          "metadata": {},
          "execution_count": 4
        }
      ]
    },
    {
      "cell_type": "code",
      "source": [
        "score = 100\n",
        "\n",
        "if score ==100:\n",
        "    print(\"축하합니다.\")\n",
        "    print(\"박수~~~~\")"
      ],
      "metadata": {
        "colab": {
          "base_uri": "https://localhost:8080/"
        },
        "id": "KQ6cemM-9FJA",
        "outputId": "292e091a-8279-4090-defd-2dbe960ff3da"
      },
      "execution_count": null,
      "outputs": [
        {
          "output_type": "stream",
          "name": "stdout",
          "text": [
            "축하합니다.\n",
            "박수~~~~\n"
          ]
        }
      ]
    },
    {
      "cell_type": "code",
      "source": [
        "id = 'user1'\n",
        "pw = '1234'\n",
        "\n",
        "if id =='user1' and pw =='1234':\n",
        "    print('로그인 성공')"
      ],
      "metadata": {
        "colab": {
          "base_uri": "https://localhost:8080/"
        },
        "id": "Lo9brSOG-GBx",
        "outputId": "de49f5e8-fe15-4620-a01f-7d9f93f054e4"
      },
      "execution_count": null,
      "outputs": [
        {
          "output_type": "stream",
          "name": "stdout",
          "text": [
            "로그인 성공\n"
          ]
        }
      ]
    },
    {
      "cell_type": "code",
      "source": [
        "score = 70\n",
        "\n",
        "if score == 100:\n",
        "    print(\"축하합니다.\")\n",
        "elif score >= 50:\n",
        "    print(\"분발하세요.\")\n",
        "else:\n",
        "    print(\"열심히 해야겠네요.\")"
      ],
      "metadata": {
        "colab": {
          "base_uri": "https://localhost:8080/"
        },
        "id": "2pSW1dFd--gw",
        "outputId": "c416da79-cad4-4603-cb47-0957e11ab074"
      },
      "execution_count": null,
      "outputs": [
        {
          "output_type": "stream",
          "name": "stdout",
          "text": [
            "분발하세요.\n"
          ]
        }
      ]
    },
    {
      "cell_type": "code",
      "source": [
        "count = 0\n",
        "\n",
        "while count < 3:\n",
        "    print(count)\n",
        "    count = count + 1"
      ],
      "metadata": {
        "colab": {
          "base_uri": "https://localhost:8080/"
        },
        "id": "mmZa3SspB-Ag",
        "outputId": "eebef300-4936-4cc7-f0b1-69edc3526590"
      },
      "execution_count": null,
      "outputs": [
        {
          "output_type": "stream",
          "name": "stdout",
          "text": [
            "0\n",
            "1\n",
            "2\n"
          ]
        }
      ]
    },
    {
      "cell_type": "code",
      "source": [],
      "metadata": {
        "id": "2XgEzkhzFXy5"
      },
      "execution_count": null,
      "outputs": []
    }
  ]
}