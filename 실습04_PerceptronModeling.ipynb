{
  "nbformat": 4,
  "nbformat_minor": 0,
  "metadata": {
    "colab": {
      "provenance": [],
      "include_colab_link": true
    },
    "kernelspec": {
      "name": "python3",
      "display_name": "Python 3"
    },
    "language_info": {
      "name": "python"
    }
  },
  "cells": [
    {
      "cell_type": "markdown",
      "metadata": {
        "id": "view-in-github",
        "colab_type": "text"
      },
      "source": [
        "<a href=\"https://colab.research.google.com/github/audwls4545/metaverse/blob/main/%EC%8B%A4%EC%8A%B504_PerceptronModeling.ipynb\" target=\"_parent\"><img src=\"https://colab.research.google.com/assets/colab-badge.svg\" alt=\"Open In Colab\"/></a>"
      ]
    },
    {
      "cell_type": "markdown",
      "source": [
        "## Deep Learning with PyTorch \n",
        "### 실습04. Perceptron Modeling : AND Function\n",
        "\n",
        "1. Prepare Dataset \n",
        "2. Train Model\n",
        "3. Test Model\n",
        "\n",
        "  \n",
        "<img src=\"https://dl.dropbox.com/s/enqqtqnegzb6ceg/and.png\" width=\"400\"/>"
      ],
      "metadata": {
        "id": "XiIqfqju75-J"
      }
    },
    {
      "cell_type": "markdown",
      "source": [
        "#### 1. Prepare Data"
      ],
      "metadata": {
        "id": "mF786Lnk8IQb"
      }
    },
    {
      "cell_type": "code",
      "source": [
        "# 1-1. 데이터 준비\n",
        "\n",
        "# tensor\n",
        "\n",
        "import torch\n",
        "\n",
        "X = torch.FloatTensor([[0,0], [0,1], [1,0], [1,1]])\n",
        "y = torch.FloatTensor([[0], [0], [0], [1]])\n",
        "\n",
        "print(X)\n",
        "print(y)"
      ],
      "metadata": {
        "id": "xj2ZuvzW8G-M",
        "colab": {
          "base_uri": "https://localhost:8080/"
        },
        "outputId": "13660b44-5ca3-4ba5-d35f-d3c5d74c0a18"
      },
      "execution_count": 3,
      "outputs": [
        {
          "output_type": "stream",
          "name": "stdout",
          "text": [
            "tensor([[0., 0.],\n",
            "        [0., 1.],\n",
            "        [1., 0.],\n",
            "        [1., 1.]])\n",
            "tensor([[0.],\n",
            "        [0.],\n",
            "        [0.],\n",
            "        [1.]])\n"
          ]
        }
      ]
    },
    {
      "cell_type": "code",
      "source": [
        "# 1-2. 데이터 확인\n",
        "\n",
        "print(X.shape)\n",
        "print(y.shape)"
      ],
      "metadata": {
        "id": "Ir9DSKL9qqR3",
        "colab": {
          "base_uri": "https://localhost:8080/"
        },
        "outputId": "09fe1914-1145-4b40-b4d8-9469a877179d"
      },
      "execution_count": 4,
      "outputs": [
        {
          "output_type": "stream",
          "name": "stdout",
          "text": [
            "torch.Size([4, 2])\n",
            "torch.Size([4, 1])\n"
          ]
        }
      ]
    },
    {
      "cell_type": "markdown",
      "source": [
        "#### 2. Train Model"
      ],
      "metadata": {
        "id": "sH8LJ5O6mgly"
      }
    },
    {
      "cell_type": "markdown",
      "source": [
        "* Design Network: 어떤 레이어, 몇층의 레이어, 각 레이어 몇 노드\n",
        "* Loss Func & Optimizer\n",
        "* Train Loop (Forward, back, update)"
      ],
      "metadata": {
        "id": "jbi6Ut36lqer"
      }
    },
    {
      "cell_type": "code",
      "source": [
        "# 2-1. Network\n",
        "\n",
        "import torch.nn as nn\n",
        "\n",
        "linear = nn.Linear(2, 1) # 데이터의 개수가 아니라 하나의 샘플에 들어있는 feature\n",
        "sigmoid = nn.Sigmoid() # activation func\n",
        "\n",
        "# 순차적 계층으로 모델 정의\n",
        "model = nn.Sequential(linear,\n",
        "                      sigmoid)\n",
        "\n",
        "print(model)"
      ],
      "metadata": {
        "id": "q2rKRqIr9sRC",
        "colab": {
          "base_uri": "https://localhost:8080/"
        },
        "outputId": "40b49de1-0696-4de7-95c4-46d8ad738c72"
      },
      "execution_count": 5,
      "outputs": [
        {
          "output_type": "stream",
          "name": "stdout",
          "text": [
            "Sequential(\n",
            "  (0): Linear(in_features=2, out_features=1, bias=True)\n",
            "  (1): Sigmoid()\n",
            ")\n"
          ]
        }
      ]
    },
    {
      "cell_type": "code",
      "source": [
        "# 2-2. Loss Function & Optimizer\n",
        "\n",
        "loss_fn = nn.BCELoss() # for binary classification\n",
        "optimizer = torch.optim.SGD(model.parameters(), lr=1)\n"
      ],
      "metadata": {
        "id": "7rkWftFGiErd"
      },
      "execution_count": 7,
      "outputs": []
    },
    {
      "cell_type": "code",
      "source": [
        "# 2-3. Train Loop\n",
        "\n",
        "for step in range(100):\n",
        "  output = model(X) # 모델이 계산한 값: forward propagation\n",
        "\n",
        "  loss = loss_fn(output, y) # cost 값 계산\n",
        "\n",
        "  optimizer.zero_grad() # gradient 0 초기화\n",
        "  loss.backward() # backpropagation weight가 loss에 얼마나 영향을 끼치는지 계산\n",
        "  optimizer.step() # weight update\n",
        "\n",
        "  if step % 10 == 0:\n",
        "    print(step, loss.item())"
      ],
      "metadata": {
        "id": "XU4BhZxvid5P",
        "colab": {
          "base_uri": "https://localhost:8080/"
        },
        "outputId": "5e0415a6-2826-451d-a559-7c3b63db77c5"
      },
      "execution_count": 8,
      "outputs": [
        {
          "output_type": "stream",
          "name": "stdout",
          "text": [
            "0 0.6481648087501526\n",
            "10 0.42648547887802124\n",
            "20 0.34044018387794495\n",
            "30 0.28589701652526855\n",
            "40 0.24764114618301392\n",
            "50 0.21895945072174072\n",
            "60 0.19646522402763367\n",
            "70 0.1782522201538086\n",
            "80 0.16315346956253052\n",
            "90 0.15040642023086548\n"
          ]
        }
      ]
    },
    {
      "cell_type": "markdown",
      "source": [
        "#### 3. Test Model"
      ],
      "metadata": {
        "id": "EF8HUZtmmcL1"
      }
    },
    {
      "cell_type": "code",
      "source": [
        "# 3. Test\n",
        "\n",
        "test_tensor = torch.FloatTensor([[1,1], [1,0], [0,1]])\n",
        "\n",
        "with torch.no_grad(): # test 진행하는 동안 gradient 연산하지 않음\n",
        "  output = model(test_tensor)\n",
        "  print(output)"
      ],
      "metadata": {
        "id": "dcz7olzqieY4",
        "colab": {
          "base_uri": "https://localhost:8080/"
        },
        "outputId": "2eff63ec-7f61-40fb-f823-5103ad8778f5"
      },
      "execution_count": 9,
      "outputs": [
        {
          "output_type": "stream",
          "name": "stdout",
          "text": [
            "tensor([[0.7914],\n",
            "        [0.1457],\n",
            "        [0.1469]])\n"
          ]
        }
      ]
    },
    {
      "cell_type": "code",
      "source": [],
      "metadata": {
        "id": "iZU0UOLuqsX6"
      },
      "execution_count": null,
      "outputs": []
    }
  ]
}