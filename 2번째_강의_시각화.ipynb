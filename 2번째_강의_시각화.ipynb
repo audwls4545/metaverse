{
  "nbformat": 4,
  "nbformat_minor": 0,
  "metadata": {
    "colab": {
      "provenance": [],
      "authorship_tag": "ABX9TyM2D/J5vIURx0OUyy3Zr2Ty",
      "include_colab_link": true
    },
    "kernelspec": {
      "name": "python3",
      "display_name": "Python 3"
    },
    "language_info": {
      "name": "python"
    }
  },
  "cells": [
    {
      "cell_type": "markdown",
      "metadata": {
        "id": "view-in-github",
        "colab_type": "text"
      },
      "source": [
        "<a href=\"https://colab.research.google.com/github/audwls4545/metaverse/blob/main/2%EB%B2%88%EC%A7%B8_%EA%B0%95%EC%9D%98_%EC%8B%9C%EA%B0%81%ED%99%94.ipynb\" target=\"_parent\"><img src=\"https://colab.research.google.com/assets/colab-badge.svg\" alt=\"Open In Colab\"/></a>"
      ]
    },
    {
      "cell_type": "markdown",
      "source": [
        "# 시각화"
      ],
      "metadata": {
        "id": "2pQcMi-pVeSP"
      }
    },
    {
      "cell_type": "code",
      "execution_count": 2,
      "metadata": {
        "colab": {
          "base_uri": "https://localhost:8080/"
        },
        "id": "_ZBRgi1YVbHo",
        "outputId": "048772b3-68b9-4b8b-c0b7-1d91bc02940d"
      },
      "outputs": [
        {
          "output_type": "stream",
          "name": "stdout",
          "text": [
            "Reading package lists... Done\n",
            "Building dependency tree       \n",
            "Reading state information... Done\n",
            "fonts-nanum is already the newest version (20180306-3).\n",
            "0 upgraded, 0 newly installed, 0 to remove and 34 not upgraded.\n",
            "/usr/share/fonts: caching, new cache contents: 0 fonts, 1 dirs\n",
            "/usr/share/fonts/truetype: caching, new cache contents: 0 fonts, 3 dirs\n",
            "/usr/share/fonts/truetype/humor-sans: caching, new cache contents: 1 fonts, 0 dirs\n",
            "/usr/share/fonts/truetype/liberation: caching, new cache contents: 16 fonts, 0 dirs\n",
            "/usr/share/fonts/truetype/nanum: caching, new cache contents: 10 fonts, 0 dirs\n",
            "/usr/local/share/fonts: caching, new cache contents: 0 fonts, 0 dirs\n",
            "/root/.local/share/fonts: skipping, no such directory\n",
            "/root/.fonts: skipping, no such directory\n",
            "/usr/share/fonts/truetype: skipping, looped directory detected\n",
            "/usr/share/fonts/truetype/humor-sans: skipping, looped directory detected\n",
            "/usr/share/fonts/truetype/liberation: skipping, looped directory detected\n",
            "/usr/share/fonts/truetype/nanum: skipping, looped directory detected\n",
            "/var/cache/fontconfig: cleaning cache directory\n",
            "/root/.cache/fontconfig: not cleaning non-existent cache directory\n",
            "/root/.fontconfig: not cleaning non-existent cache directory\n",
            "fc-cache: succeeded\n"
          ]
        }
      ],
      "source": [
        "!sudo apt-get install -y fonts-nanum\n",
        "!sudo fc-cache -fv\n",
        "!rm ~/.cache/matplotlib -rf"
      ]
    },
    {
      "cell_type": "code",
      "source": [
        "import matplotlib.pyplot as plt\n",
        "plt.rc('font', family='NanumBarunGothic')"
      ],
      "metadata": {
        "id": "PAY9KvrgVtZl"
      },
      "execution_count": 2,
      "outputs": []
    },
    {
      "cell_type": "code",
      "source": [
        "plt.title('선그래프')\n",
        "plt.plot([2,4,6,3,8])\n",
        "plt.show()"
      ],
      "metadata": {
        "colab": {
          "base_uri": "https://localhost:8080/",
          "height": 451
        },
        "id": "4K4RkQDtWZYr",
        "outputId": "3379a07d-db2f-497a-ff3c-c3c2d8fb7ea0"
      },
      "execution_count": 3,
      "outputs": [
        {
          "output_type": "display_data",
          "data": {
            "text/plain": [
              "<Figure size 640x480 with 1 Axes>"
            ],
            "image/png": "[encoded data removed]"
          },
          "metadata": {}
        }
      ]
    },
    {
      "cell_type": "code",
      "source": [
        "#nat : 국가, expense, bestact\n",
        "# 어느 국가를 상대로 어떤 관광 상품을 만들어야 하는가? \n",
        "\n",
        "import pandas as pd\n",
        "\n",
        "data = pd.read_csv('ftour.csv', encoding='cp949')\n",
        "data.head()"
      ],
      "metadata": {
        "colab": {
          "base_uri": "https://localhost:8080/",
          "height": 474
        },
        "id": "iZaNSSYgWlaR",
        "outputId": "fa5db1a1-3ad0-4c16-bd65-290d22aedd40"
      },
      "execution_count": 56,
      "outputs": [
        {
          "output_type": "stream",
          "name": "stderr",
          "text": [
            "<ipython-input-56-6762c85dab89>:6: DtypeWarning: Columns (2,73,76) have mixed types. Specify dtype option on import or set low_memory=False.\n",
            "  data = pd.read_csv('ftour.csv', encoding='cp949')\n"
          ]
        },
        {
          "output_type": "execute_result",
          "data": {
            "text/plain": [
              "    id  gender age edu job   nat other count  month  info1  ... accom shop1  \\\n",
              "0  584       2   0   1   8    일본           1      3      3  ...     1     7   \n",
              "1  840       1   3   2   2  싱가포르     1    18     11      3  ...     1     7   \n",
              "2  524       1   1   3   8   프랑스           1      6      3  ...     3     6   \n",
              "3  282       1   1   2   8    미국           2      2      2  ...     4     4   \n",
              "4  562       1   2   3   6    미국     1     1      8      3  ...     2    12   \n",
              "\n",
              "   shop2  shop3 prd1 prd2 prd3     expense     card        cash  \n",
              "0     11           5   19       480.975000    0.000  480.975000  \n",
              "1                  5            646.888000  323.444  323.444000  \n",
              "2      7      8    9   10   11  560.650000    0.000  560.650000  \n",
              "3      6      7    9   12   16  509.225468    0.000  509.225468  \n",
              "4                 21            409.000000    0.000  409.000000  \n",
              "\n",
              "[5 rows x 82 columns]"
            ],
            "text/html": [
              "\n",
              "  <div id=\"df-3b14f7b0-ccd5-4a2c-871c-12b31553cd8c\">\n",
              "    <div class=\"colab-df-container\">\n",
              "      <div>\n",
              "<style scoped>\n",
              "    .dataframe tbody tr th:only-of-type {\n",
              "        vertical-align: middle;\n",
              "    }\n",
              "\n",
              "    .dataframe tbody tr th {\n",
              "        vertical-align: top;\n",
              "    }\n",
              "\n",
              "    .dataframe thead th {\n",
              "        text-align: right;\n",
              "    }\n",
              "</style>\n",
              "<table border=\"1\" class=\"dataframe\">\n",
              "  <thead>\n",
              "    <tr style=\"text-align: right;\">\n",
              "      <th></th>\n",
              "      <th>id</th>\n",
              "      <th>gender</th>\n",
              "      <th>age</th>\n",
              "      <th>edu</th>\n",
              "      <th>job</th>\n",
              "      <th>nat</th>\n",
              "      <th>other</th>\n",
              "      <th>count</th>\n",
              "      <th>month</th>\n",
              "      <th>info1</th>\n",
              "      <th>...</th>\n",
              "      <th>accom</th>\n",
              "      <th>shop1</th>\n",
              "      <th>shop2</th>\n",
              "      <th>shop3</th>\n",
              "      <th>prd1</th>\n",
              "      <th>prd2</th>\n",
              "      <th>prd3</th>\n",
              "      <th>expense</th>\n",
              "      <th>card</th>\n",
              "      <th>cash</th>\n",
              "    </tr>\n",
              "  </thead>\n",
              "  <tbody>\n",
              "    <tr>\n",
              "      <th>0</th>\n",
              "      <td>584</td>\n",
              "      <td>2</td>\n",
              "      <td>0</td>\n",
              "      <td>1</td>\n",
              "      <td>8</td>\n",
              "      <td>일본</td>\n",
              "      <td></td>\n",
              "      <td>1</td>\n",
              "      <td>3</td>\n",
              "      <td>3</td>\n",
              "      <td>...</td>\n",
              "      <td>1</td>\n",
              "      <td>7</td>\n",
              "      <td>11</td>\n",
              "      <td></td>\n",
              "      <td>5</td>\n",
              "      <td>19</td>\n",
              "      <td></td>\n",
              "      <td>480.975000</td>\n",
              "      <td>0.000</td>\n",
              "      <td>480.975000</td>\n",
              "    </tr>\n",
              "    <tr>\n",
              "      <th>1</th>\n",
              "      <td>840</td>\n",
              "      <td>1</td>\n",
              "      <td>3</td>\n",
              "      <td>2</td>\n",
              "      <td>2</td>\n",
              "      <td>싱가포르</td>\n",
              "      <td>1</td>\n",
              "      <td>18</td>\n",
              "      <td>11</td>\n",
              "      <td>3</td>\n",
              "      <td>...</td>\n",
              "      <td>1</td>\n",
              "      <td>7</td>\n",
              "      <td></td>\n",
              "      <td></td>\n",
              "      <td>5</td>\n",
              "      <td></td>\n",
              "      <td></td>\n",
              "      <td>646.888000</td>\n",
              "      <td>323.444</td>\n",
              "      <td>323.444000</td>\n",
              "    </tr>\n",
              "    <tr>\n",
              "      <th>2</th>\n",
              "      <td>524</td>\n",
              "      <td>1</td>\n",
              "      <td>1</td>\n",
              "      <td>3</td>\n",
              "      <td>8</td>\n",
              "      <td>프랑스</td>\n",
              "      <td></td>\n",
              "      <td>1</td>\n",
              "      <td>6</td>\n",
              "      <td>3</td>\n",
              "      <td>...</td>\n",
              "      <td>3</td>\n",
              "      <td>6</td>\n",
              "      <td>7</td>\n",
              "      <td>8</td>\n",
              "      <td>9</td>\n",
              "      <td>10</td>\n",
              "      <td>11</td>\n",
              "      <td>560.650000</td>\n",
              "      <td>0.000</td>\n",
              "      <td>560.650000</td>\n",
              "    </tr>\n",
              "    <tr>\n",
              "      <th>3</th>\n",
              "      <td>282</td>\n",
              "      <td>1</td>\n",
              "      <td>1</td>\n",
              "      <td>2</td>\n",
              "      <td>8</td>\n",
              "      <td>미국</td>\n",
              "      <td></td>\n",
              "      <td>2</td>\n",
              "      <td>2</td>\n",
              "      <td>2</td>\n",
              "      <td>...</td>\n",
              "      <td>4</td>\n",
              "      <td>4</td>\n",
              "      <td>6</td>\n",
              "      <td>7</td>\n",
              "      <td>9</td>\n",
              "      <td>12</td>\n",
              "      <td>16</td>\n",
              "      <td>509.225468</td>\n",
              "      <td>0.000</td>\n",
              "      <td>509.225468</td>\n",
              "    </tr>\n",
              "    <tr>\n",
              "      <th>4</th>\n",
              "      <td>562</td>\n",
              "      <td>1</td>\n",
              "      <td>2</td>\n",
              "      <td>3</td>\n",
              "      <td>6</td>\n",
              "      <td>미국</td>\n",
              "      <td>1</td>\n",
              "      <td>1</td>\n",
              "      <td>8</td>\n",
              "      <td>3</td>\n",
              "      <td>...</td>\n",
              "      <td>2</td>\n",
              "      <td>12</td>\n",
              "      <td></td>\n",
              "      <td></td>\n",
              "      <td>21</td>\n",
              "      <td></td>\n",
              "      <td></td>\n",
              "      <td>409.000000</td>\n",
              "      <td>0.000</td>\n",
              "      <td>409.000000</td>\n",
              "    </tr>\n",
              "  </tbody>\n",
              "</table>\n",
              "<p>5 rows × 82 columns</p>\n",
              "</div>\n",
              "      <button class=\"colab-df-convert\" onclick=\"convertToInteractive('df-3b14f7b0-ccd5-4a2c-871c-12b31553cd8c')\"\n",
              "              title=\"Convert this dataframe to an interactive table.\"\n",
              "              style=\"display:none;\">\n",
              "        \n",
              "  <svg xmlns=\"http://www.w3.org/2000/svg\" height=\"24px\"viewBox=\"0 0 24 24\"\n",
              "       width=\"24px\">\n",
              "    <path d=\"M0 0h24v24H0V0z\" fill=\"none\"/>\n",
              "    <path d=\"M18.56 5.44l.94 2.06.94-2.06 2.06-.94-2.06-.94-.94-2.06-.94 2.06-2.06.94zm-11 1L8.5 8.5l.94-2.06 2.06-.94-2.06-.94L8.5 2.5l-.94 2.06-2.06.94zm10 10l.94 2.06.94-2.06 2.06-.94-2.06-.94-.94-2.06-.94 2.06-2.06.94z\"/><path d=\"M17.41 7.96l-1.37-1.37c-.4-.4-.92-.59-1.43-.59-.52 0-1.04.2-1.43.59L10.3 9.45l-7.72 7.72c-.78.78-.78 2.05 0 2.83L4 21.41c.39.39.9.59 1.41.59.51 0 1.02-.2 1.41-.59l7.78-7.78 2.81-2.81c.8-.78.8-2.07 0-2.86zM5.41 20L4 18.59l7.72-7.72 1.47 1.35L5.41 20z\"/>\n",
              "  </svg>\n",
              "      </button>\n",
              "      \n",
              "  <style>\n",
              "    .colab-df-container {\n",
              "      display:flex;\n",
              "      flex-wrap:wrap;\n",
              "      gap: 12px;\n",
              "    }\n",
              "\n",
              "    .colab-df-convert {\n",
              "      background-color: #E8F0FE;\n",
              "      border: none;\n",
              "      border-radius: 50%;\n",
              "      cursor: pointer;\n",
              "      display: none;\n",
              "      fill: #1967D2;\n",
              "      height: 32px;\n",
              "      padding: 0 0 0 0;\n",
              "      width: 32px;\n",
              "    }\n",
              "\n",
              "    .colab-df-convert:hover {\n",
              "      background-color: #E2EBFA;\n",
              "      box-shadow: 0px 1px 2px rgba(60, 64, 67, 0.3), 0px 1px 3px 1px rgba(60, 64, 67, 0.15);\n",
              "      fill: #174EA6;\n",
              "    }\n",
              "\n",
              "    [theme=dark] .colab-df-convert {\n",
              "      background-color: #3B4455;\n",
              "      fill: #D2E3FC;\n",
              "    }\n",
              "\n",
              "    [theme=dark] .colab-df-convert:hover {\n",
              "      background-color: #434B5C;\n",
              "      box-shadow: 0px 1px 3px 1px rgba(0, 0, 0, 0.15);\n",
              "      filter: drop-shadow(0px 1px 2px rgba(0, 0, 0, 0.3));\n",
              "      fill: #FFFFFF;\n",
              "    }\n",
              "  </style>\n",
              "\n",
              "      <script>\n",
              "        const buttonEl =\n",
              "          document.querySelector('#df-3b14f7b0-ccd5-4a2c-871c-12b31553cd8c button.colab-df-convert');\n",
              "        buttonEl.style.display =\n",
              "          google.colab.kernel.accessAllowed ? 'block' : 'none';\n",
              "\n",
              "        async function convertToInteractive(key) {\n",
              "          const element = document.querySelector('#df-3b14f7b0-ccd5-4a2c-871c-12b31553cd8c');\n",
              "          const dataTable =\n",
              "            await google.colab.kernel.invokeFunction('convertToInteractive',\n",
              "                                                     [key], {});\n",
              "          if (!dataTable) return;\n",
              "\n",
              "          const docLinkHtml = 'Like what you see? Visit the ' +\n",
              "            '<a target=\"_blank\" href=https://colab.research.google.com/notebooks/data_table.ipynb>data table notebook</a>'\n",
              "            + ' to learn more about interactive tables.';\n",
              "          element.innerHTML = '';\n",
              "          dataTable['output_type'] = 'display_data';\n",
              "          await google.colab.output.renderOutput(dataTable, element);\n",
              "          const docLink = document.createElement('div');\n",
              "          docLink.innerHTML = docLinkHtml;\n",
              "          element.appendChild(docLink);\n",
              "        }\n",
              "      </script>\n",
              "    </div>\n",
              "  </div>\n",
              "  "
            ]
          },
          "metadata": {},
          "execution_count": 56
        }
      ]
    },
    {
      "cell_type": "code",
      "source": [
        "data.describe()"
      ],
      "metadata": {
        "colab": {
          "base_uri": "https://localhost:8080/",
          "height": 393
        },
        "id": "yigQaxnmppub",
        "outputId": "b1e115f8-9464-4bd5-9ff4-020f8b44893e"
      },
      "execution_count": 57,
      "outputs": [
        {
          "output_type": "execute_result",
          "data": {
            "text/plain": [
              "                 id        gender         month         info1      decision  \\\n",
              "count  13501.000000  13501.000000  13501.000000  13501.000000  13501.000000   \n",
              "mean     689.991482      1.521369      6.469299      2.962151      3.329235   \n",
              "std      621.187845      0.499562      3.451768      1.778965      3.517612   \n",
              "min        1.000000      1.000000      1.000000      1.000000      1.000000   \n",
              "25%      290.000000      1.000000      3.000000      2.000000      1.000000   \n",
              "50%      588.000000      2.000000      6.000000      3.000000      2.000000   \n",
              "75%      890.000000      2.000000      9.000000      3.000000      4.000000   \n",
              "max     7007.000000      2.000000     12.000000      9.000000     72.000000   \n",
              "\n",
              "             object        number        period        overal          sat1  \\\n",
              "count  13501.000000  13501.000000  13501.000000  13501.000000  13501.000000   \n",
              "mean       3.170876      3.006666     14.616399      4.406118      4.325457   \n",
              "std        2.345536      5.888013     34.456984      0.590684      0.724080   \n",
              "min        1.000000      1.000000      1.000000      1.000000      1.000000   \n",
              "25%        1.000000      1.000000      4.000000      4.000000      4.000000   \n",
              "50%        1.000000      2.000000      5.000000      4.000000      4.000000   \n",
              "75%        6.000000      3.000000      8.000000      5.000000      5.000000   \n",
              "max        8.000000    301.000000    365.000000      5.000000      5.000000   \n",
              "\n",
              "       ...         sat10        bf_img        af_img       revisit  \\\n",
              "count  ...  13501.000000  13501.000000  13501.000000  13501.000000   \n",
              "mean   ...      4.488408      4.046367      4.375972      4.236797   \n",
              "std    ...      0.619285      0.679377      0.623108      0.774977   \n",
              "min    ...      1.000000      1.000000      1.000000      1.000000   \n",
              "25%    ...      4.000000      4.000000      4.000000      4.000000   \n",
              "50%    ...      5.000000      4.000000      4.000000      4.000000   \n",
              "75%    ...      5.000000      4.000000      5.000000      5.000000   \n",
              "max    ...      5.000000      5.000000      5.000000      5.000000   \n",
              "\n",
              "              recom     bestspot1          act1       expense          card  \\\n",
              "count  13501.000000  13501.000000  13501.000000  1.350100e+04  1.350100e+04   \n",
              "mean       4.324272     34.753574      8.633138  4.767706e+03  1.946917e+03   \n",
              "std        0.661219     43.853797      7.579661  1.297740e+05  5.459449e+04   \n",
              "min        1.000000      1.000000      1.000000  1.013000e-01  0.000000e+00   \n",
              "25%        4.000000      5.000000      1.000000  6.018940e+02  0.000000e+00   \n",
              "50%        4.000000     12.000000      6.000000  1.017800e+03  3.000000e+02   \n",
              "75%        5.000000     48.000000     16.000000  1.792000e+03  8.982000e+02   \n",
              "max        5.000000    136.000000     23.000000  1.355000e+07  5.550000e+06   \n",
              "\n",
              "               cash  \n",
              "count  1.350100e+04  \n",
              "mean   2.820790e+03  \n",
              "std    8.014748e+04  \n",
              "min    0.000000e+00  \n",
              "25%    2.090240e+02  \n",
              "50%    5.000000e+02  \n",
              "75%    9.420300e+02  \n",
              "max    8.000000e+06  \n",
              "\n",
              "[8 rows x 28 columns]"
            ],
            "text/html": [
              "\n",
              "  <div id=\"df-9b619d61-9f8f-4153-b4ce-76a7e6367a86\">\n",
              "    <div class=\"colab-df-container\">\n",
              "      <div>\n",
              "<style scoped>\n",
              "    .dataframe tbody tr th:only-of-type {\n",
              "        vertical-align: middle;\n",
              "    }\n",
              "\n",
              "    .dataframe tbody tr th {\n",
              "        vertical-align: top;\n",
              "    }\n",
              "\n",
              "    .dataframe thead th {\n",
              "        text-align: right;\n",
              "    }\n",
              "</style>\n",
              "<table border=\"1\" class=\"dataframe\">\n",
              "  <thead>\n",
              "    <tr style=\"text-align: right;\">\n",
              "      <th></th>\n",
              "      <th>id</th>\n",
              "      <th>gender</th>\n",
              "      <th>month</th>\n",
              "      <th>info1</th>\n",
              "      <th>decision</th>\n",
              "      <th>object</th>\n",
              "      <th>number</th>\n",
              "      <th>period</th>\n",
              "      <th>overal</th>\n",
              "      <th>sat1</th>\n",
              "      <th>...</th>\n",
              "      <th>sat10</th>\n",
              "      <th>bf_img</th>\n",
              "      <th>af_img</th>\n",
              "      <th>revisit</th>\n",
              "      <th>recom</th>\n",
              "      <th>bestspot1</th>\n",
              "      <th>act1</th>\n",
              "      <th>expense</th>\n",
              "      <th>card</th>\n",
              "      <th>cash</th>\n",
              "    </tr>\n",
              "  </thead>\n",
              "  <tbody>\n",
              "    <tr>\n",
              "      <th>count</th>\n",
              "      <td>13501.000000</td>\n",
              "      <td>13501.000000</td>\n",
              "      <td>13501.000000</td>\n",
              "      <td>13501.000000</td>\n",
              "      <td>13501.000000</td>\n",
              "      <td>13501.000000</td>\n",
              "      <td>13501.000000</td>\n",
              "      <td>13501.000000</td>\n",
              "      <td>13501.000000</td>\n",
              "      <td>13501.000000</td>\n",
              "      <td>...</td>\n",
              "      <td>13501.000000</td>\n",
              "      <td>13501.000000</td>\n",
              "      <td>13501.000000</td>\n",
              "      <td>13501.000000</td>\n",
              "      <td>13501.000000</td>\n",
              "      <td>13501.000000</td>\n",
              "      <td>13501.000000</td>\n",
              "      <td>1.350100e+04</td>\n",
              "      <td>1.350100e+04</td>\n",
              "      <td>1.350100e+04</td>\n",
              "    </tr>\n",
              "    <tr>\n",
              "      <th>mean</th>\n",
              "      <td>689.991482</td>\n",
              "      <td>1.521369</td>\n",
              "      <td>6.469299</td>\n",
              "      <td>2.962151</td>\n",
              "      <td>3.329235</td>\n",
              "      <td>3.170876</td>\n",
              "      <td>3.006666</td>\n",
              "      <td>14.616399</td>\n",
              "      <td>4.406118</td>\n",
              "      <td>4.325457</td>\n",
              "      <td>...</td>\n",
              "      <td>4.488408</td>\n",
              "      <td>4.046367</td>\n",
              "      <td>4.375972</td>\n",
              "      <td>4.236797</td>\n",
              "      <td>4.324272</td>\n",
              "      <td>34.753574</td>\n",
              "      <td>8.633138</td>\n",
              "      <td>4.767706e+03</td>\n",
              "      <td>1.946917e+03</td>\n",
              "      <td>2.820790e+03</td>\n",
              "    </tr>\n",
              "    <tr>\n",
              "      <th>std</th>\n",
              "      <td>621.187845</td>\n",
              "      <td>0.499562</td>\n",
              "      <td>3.451768</td>\n",
              "      <td>1.778965</td>\n",
              "      <td>3.517612</td>\n",
              "      <td>2.345536</td>\n",
              "      <td>5.888013</td>\n",
              "      <td>34.456984</td>\n",
              "      <td>0.590684</td>\n",
              "      <td>0.724080</td>\n",
              "      <td>...</td>\n",
              "      <td>0.619285</td>\n",
              "      <td>0.679377</td>\n",
              "      <td>0.623108</td>\n",
              "      <td>0.774977</td>\n",
              "      <td>0.661219</td>\n",
              "      <td>43.853797</td>\n",
              "      <td>7.579661</td>\n",
              "      <td>1.297740e+05</td>\n",
              "      <td>5.459449e+04</td>\n",
              "      <td>8.014748e+04</td>\n",
              "    </tr>\n",
              "    <tr>\n",
              "      <th>min</th>\n",
              "      <td>1.000000</td>\n",
              "      <td>1.000000</td>\n",
              "      <td>1.000000</td>\n",
              "      <td>1.000000</td>\n",
              "      <td>1.000000</td>\n",
              "      <td>1.000000</td>\n",
              "      <td>1.000000</td>\n",
              "      <td>1.000000</td>\n",
              "      <td>1.000000</td>\n",
              "      <td>1.000000</td>\n",
              "      <td>...</td>\n",
              "      <td>1.000000</td>\n",
              "      <td>1.000000</td>\n",
              "      <td>1.000000</td>\n",
              "      <td>1.000000</td>\n",
              "      <td>1.000000</td>\n",
              "      <td>1.000000</td>\n",
              "      <td>1.000000</td>\n",
              "      <td>1.013000e-01</td>\n",
              "      <td>0.000000e+00</td>\n",
              "      <td>0.000000e+00</td>\n",
              "    </tr>\n",
              "    <tr>\n",
              "      <th>25%</th>\n",
              "      <td>290.000000</td>\n",
              "      <td>1.000000</td>\n",
              "      <td>3.000000</td>\n",
              "      <td>2.000000</td>\n",
              "      <td>1.000000</td>\n",
              "      <td>1.000000</td>\n",
              "      <td>1.000000</td>\n",
              "      <td>4.000000</td>\n",
              "      <td>4.000000</td>\n",
              "      <td>4.000000</td>\n",
              "      <td>...</td>\n",
              "      <td>4.000000</td>\n",
              "      <td>4.000000</td>\n",
              "      <td>4.000000</td>\n",
              "      <td>4.000000</td>\n",
              "      <td>4.000000</td>\n",
              "      <td>5.000000</td>\n",
              "      <td>1.000000</td>\n",
              "      <td>6.018940e+02</td>\n",
              "      <td>0.000000e+00</td>\n",
              "      <td>2.090240e+02</td>\n",
              "    </tr>\n",
              "    <tr>\n",
              "      <th>50%</th>\n",
              "      <td>588.000000</td>\n",
              "      <td>2.000000</td>\n",
              "      <td>6.000000</td>\n",
              "      <td>3.000000</td>\n",
              "      <td>2.000000</td>\n",
              "      <td>1.000000</td>\n",
              "      <td>2.000000</td>\n",
              "      <td>5.000000</td>\n",
              "      <td>4.000000</td>\n",
              "      <td>4.000000</td>\n",
              "      <td>...</td>\n",
              "      <td>5.000000</td>\n",
              "      <td>4.000000</td>\n",
              "      <td>4.000000</td>\n",
              "      <td>4.000000</td>\n",
              "      <td>4.000000</td>\n",
              "      <td>12.000000</td>\n",
              "      <td>6.000000</td>\n",
              "      <td>1.017800e+03</td>\n",
              "      <td>3.000000e+02</td>\n",
              "      <td>5.000000e+02</td>\n",
              "    </tr>\n",
              "    <tr>\n",
              "      <th>75%</th>\n",
              "      <td>890.000000</td>\n",
              "      <td>2.000000</td>\n",
              "      <td>9.000000</td>\n",
              "      <td>3.000000</td>\n",
              "      <td>4.000000</td>\n",
              "      <td>6.000000</td>\n",
              "      <td>3.000000</td>\n",
              "      <td>8.000000</td>\n",
              "      <td>5.000000</td>\n",
              "      <td>5.000000</td>\n",
              "      <td>...</td>\n",
              "      <td>5.000000</td>\n",
              "      <td>4.000000</td>\n",
              "      <td>5.000000</td>\n",
              "      <td>5.000000</td>\n",
              "      <td>5.000000</td>\n",
              "      <td>48.000000</td>\n",
              "      <td>16.000000</td>\n",
              "      <td>1.792000e+03</td>\n",
              "      <td>8.982000e+02</td>\n",
              "      <td>9.420300e+02</td>\n",
              "    </tr>\n",
              "    <tr>\n",
              "      <th>max</th>\n",
              "      <td>7007.000000</td>\n",
              "      <td>2.000000</td>\n",
              "      <td>12.000000</td>\n",
              "      <td>9.000000</td>\n",
              "      <td>72.000000</td>\n",
              "      <td>8.000000</td>\n",
              "      <td>301.000000</td>\n",
              "      <td>365.000000</td>\n",
              "      <td>5.000000</td>\n",
              "      <td>5.000000</td>\n",
              "      <td>...</td>\n",
              "      <td>5.000000</td>\n",
              "      <td>5.000000</td>\n",
              "      <td>5.000000</td>\n",
              "      <td>5.000000</td>\n",
              "      <td>5.000000</td>\n",
              "      <td>136.000000</td>\n",
              "      <td>23.000000</td>\n",
              "      <td>1.355000e+07</td>\n",
              "      <td>5.550000e+06</td>\n",
              "      <td>8.000000e+06</td>\n",
              "    </tr>\n",
              "  </tbody>\n",
              "</table>\n",
              "<p>8 rows × 28 columns</p>\n",
              "</div>\n",
              "      <button class=\"colab-df-convert\" onclick=\"convertToInteractive('df-9b619d61-9f8f-4153-b4ce-76a7e6367a86')\"\n",
              "              title=\"Convert this dataframe to an interactive table.\"\n",
              "              style=\"display:none;\">\n",
              "        \n",
              "  <svg xmlns=\"http://www.w3.org/2000/svg\" height=\"24px\"viewBox=\"0 0 24 24\"\n",
              "       width=\"24px\">\n",
              "    <path d=\"M0 0h24v24H0V0z\" fill=\"none\"/>\n",
              "    <path d=\"M18.56 5.44l.94 2.06.94-2.06 2.06-.94-2.06-.94-.94-2.06-.94 2.06-2.06.94zm-11 1L8.5 8.5l.94-2.06 2.06-.94-2.06-.94L8.5 2.5l-.94 2.06-2.06.94zm10 10l.94 2.06.94-2.06 2.06-.94-2.06-.94-.94-2.06-.94 2.06-2.06.94z\"/><path d=\"M17.41 7.96l-1.37-1.37c-.4-.4-.92-.59-1.43-.59-.52 0-1.04.2-1.43.59L10.3 9.45l-7.72 7.72c-.78.78-.78 2.05 0 2.83L4 21.41c.39.39.9.59 1.41.59.51 0 1.02-.2 1.41-.59l7.78-7.78 2.81-2.81c.8-.78.8-2.07 0-2.86zM5.41 20L4 18.59l7.72-7.72 1.47 1.35L5.41 20z\"/>\n",
              "  </svg>\n",
              "      </button>\n",
              "      \n",
              "  <style>\n",
              "    .colab-df-container {\n",
              "      display:flex;\n",
              "      flex-wrap:wrap;\n",
              "      gap: 12px;\n",
              "    }\n",
              "\n",
              "    .colab-df-convert {\n",
              "      background-color: #E8F0FE;\n",
              "      border: none;\n",
              "      border-radius: 50%;\n",
              "      cursor: pointer;\n",
              "      display: none;\n",
              "      fill: #1967D2;\n",
              "      height: 32px;\n",
              "      padding: 0 0 0 0;\n",
              "      width: 32px;\n",
              "    }\n",
              "\n",
              "    .colab-df-convert:hover {\n",
              "      background-color: #E2EBFA;\n",
              "      box-shadow: 0px 1px 2px rgba(60, 64, 67, 0.3), 0px 1px 3px 1px rgba(60, 64, 67, 0.15);\n",
              "      fill: #174EA6;\n",
              "    }\n",
              "\n",
              "    [theme=dark] .colab-df-convert {\n",
              "      background-color: #3B4455;\n",
              "      fill: #D2E3FC;\n",
              "    }\n",
              "\n",
              "    [theme=dark] .colab-df-convert:hover {\n",
              "      background-color: #434B5C;\n",
              "      box-shadow: 0px 1px 3px 1px rgba(0, 0, 0, 0.15);\n",
              "      filter: drop-shadow(0px 1px 2px rgba(0, 0, 0, 0.3));\n",
              "      fill: #FFFFFF;\n",
              "    }\n",
              "  </style>\n",
              "\n",
              "      <script>\n",
              "        const buttonEl =\n",
              "          document.querySelector('#df-9b619d61-9f8f-4153-b4ce-76a7e6367a86 button.colab-df-convert');\n",
              "        buttonEl.style.display =\n",
              "          google.colab.kernel.accessAllowed ? 'block' : 'none';\n",
              "\n",
              "        async function convertToInteractive(key) {\n",
              "          const element = document.querySelector('#df-9b619d61-9f8f-4153-b4ce-76a7e6367a86');\n",
              "          const dataTable =\n",
              "            await google.colab.kernel.invokeFunction('convertToInteractive',\n",
              "                                                     [key], {});\n",
              "          if (!dataTable) return;\n",
              "\n",
              "          const docLinkHtml = 'Like what you see? Visit the ' +\n",
              "            '<a target=\"_blank\" href=https://colab.research.google.com/notebooks/data_table.ipynb>data table notebook</a>'\n",
              "            + ' to learn more about interactive tables.';\n",
              "          element.innerHTML = '';\n",
              "          dataTable['output_type'] = 'display_data';\n",
              "          await google.colab.output.renderOutput(dataTable, element);\n",
              "          const docLink = document.createElement('div');\n",
              "          docLink.innerHTML = docLinkHtml;\n",
              "          element.appendChild(docLink);\n",
              "        }\n",
              "      </script>\n",
              "    </div>\n",
              "  </div>\n",
              "  "
            ]
          },
          "metadata": {},
          "execution_count": 57
        }
      ]
    },
    {
      "cell_type": "code",
      "source": [
        "data.info()"
      ],
      "metadata": {
        "colab": {
          "base_uri": "https://localhost:8080/"
        },
        "id": "BT7jyDgxpzyU",
        "outputId": "698926dd-c4ef-4a66-d9d5-7d2475b623d5"
      },
      "execution_count": 58,
      "outputs": [
        {
          "output_type": "stream",
          "name": "stdout",
          "text": [
            "<class 'pandas.core.frame.DataFrame'>\n",
            "RangeIndex: 13501 entries, 0 to 13500\n",
            "Data columns (total 82 columns):\n",
            " #   Column      Non-Null Count  Dtype  \n",
            "---  ------      --------------  -----  \n",
            " 0   id          13501 non-null  int64  \n",
            " 1   gender      13501 non-null  int64  \n",
            " 2   age         13501 non-null  object \n",
            " 3   edu         13501 non-null  object \n",
            " 4   job         13501 non-null  object \n",
            " 5   nat         13501 non-null  object \n",
            " 6   other       13501 non-null  object \n",
            " 7   count       13501 non-null  object \n",
            " 8   month       13501 non-null  int64  \n",
            " 9   info1       13501 non-null  int64  \n",
            " 10  info2       13501 non-null  object \n",
            " 11  info3       13501 non-null  object \n",
            " 12  decision    13501 non-null  int64  \n",
            " 13  object      13501 non-null  int64  \n",
            " 14  mov1        13501 non-null  object \n",
            " 15  mov2        13501 non-null  object \n",
            " 16  mov3        13501 non-null  object \n",
            " 17  member      13501 non-null  object \n",
            " 18  number      13501 non-null  int64  \n",
            " 19  tourtype    13501 non-null  object \n",
            " 20  period      13501 non-null  int64  \n",
            " 21  overal      13501 non-null  int64  \n",
            " 22  sat1        13501 non-null  int64  \n",
            " 23  sat2        13501 non-null  int64  \n",
            " 24  sat3        13501 non-null  int64  \n",
            " 25  sat4        13501 non-null  int64  \n",
            " 26  sat5        13501 non-null  int64  \n",
            " 27  sat6        13501 non-null  int64  \n",
            " 28  sat7        13501 non-null  int64  \n",
            " 29  sat8        13501 non-null  int64  \n",
            " 30  sat9        13501 non-null  int64  \n",
            " 31  sat10       13501 non-null  int64  \n",
            " 32  bf_img      13501 non-null  int64  \n",
            " 33  af_img      13501 non-null  int64  \n",
            " 34  revisit     13501 non-null  int64  \n",
            " 35  recom       13501 non-null  int64  \n",
            " 36  district1   13501 non-null  object \n",
            " 37  district2   13501 non-null  object \n",
            " 38  district3   13501 non-null  object \n",
            " 39  district4   13501 non-null  object \n",
            " 40  district5   13501 non-null  object \n",
            " 41  district6   13501 non-null  object \n",
            " 42  district7   13501 non-null  object \n",
            " 43  district8   13501 non-null  object \n",
            " 44  district9   13501 non-null  object \n",
            " 45  district10  13501 non-null  object \n",
            " 46  district11  13501 non-null  object \n",
            " 47  district12  13501 non-null  object \n",
            " 48  district13  13501 non-null  object \n",
            " 49  district14  13501 non-null  object \n",
            " 50  district15  13501 non-null  object \n",
            " 51  district16  13501 non-null  object \n",
            " 52  district17  13501 non-null  object \n",
            " 53  district18  13501 non-null  object \n",
            " 54  district19  13501 non-null  object \n",
            " 55  zone1       13501 non-null  object \n",
            " 56  zone2       13501 non-null  object \n",
            " 57  zone3       13501 non-null  object \n",
            " 58  zone4       13501 non-null  object \n",
            " 59  zone5       13501 non-null  object \n",
            " 60  zone6       13501 non-null  object \n",
            " 61  zone7       13501 non-null  object \n",
            " 62  zone8       13501 non-null  object \n",
            " 63  zone9       13501 non-null  object \n",
            " 64  zone10      13501 non-null  object \n",
            " 65  bestspot1   13501 non-null  int64  \n",
            " 66  bestspot2   13501 non-null  object \n",
            " 67  bestspot3   13501 non-null  object \n",
            " 68  act1        13501 non-null  int64  \n",
            " 69  act2        13501 non-null  object \n",
            " 70  act3        13501 non-null  object \n",
            " 71  bestact     13501 non-null  object \n",
            " 72  accom       13501 non-null  object \n",
            " 73  shop1       13501 non-null  object \n",
            " 74  shop2       13501 non-null  object \n",
            " 75  shop3       13501 non-null  object \n",
            " 76  prd1        13501 non-null  object \n",
            " 77  prd2        13501 non-null  object \n",
            " 78  prd3        13501 non-null  object \n",
            " 79  expense     13501 non-null  float64\n",
            " 80  card        13501 non-null  float64\n",
            " 81  cash        13501 non-null  float64\n",
            "dtypes: float64(3), int64(25), object(54)\n",
            "memory usage: 8.4+ MB\n"
          ]
        }
      ]
    },
    {
      "cell_type": "code",
      "source": [
        "data['nat'].describe()"
      ],
      "metadata": {
        "colab": {
          "base_uri": "https://localhost:8080/"
        },
        "id": "HRNyJpcGp1uX",
        "outputId": "d52c635b-fda6-4a0a-a935-91cf9a4c8aed"
      },
      "execution_count": 59,
      "outputs": [
        {
          "output_type": "execute_result",
          "data": {
            "text/plain": [
              "count     13501\n",
              "unique       19\n",
              "top          중국\n",
              "freq       2878\n",
              "Name: nat, dtype: object"
            ]
          },
          "metadata": {},
          "execution_count": 59
        }
      ]
    },
    {
      "cell_type": "code",
      "source": [
        "data['nat'].unique()"
      ],
      "metadata": {
        "colab": {
          "base_uri": "https://localhost:8080/"
        },
        "id": "3c_8T4JKqK81",
        "outputId": "640da373-3633-4b0a-f6c4-2f775697b8e3"
      },
      "execution_count": 60,
      "outputs": [
        {
          "output_type": "execute_result",
          "data": {
            "text/plain": [
              "array(['일본', '싱가포르', '프랑스', '미국', '호주', '홍콩', '말레이시아', '인도', '영국', '중동',\n",
              "       '필리핀', '중국', '러시아', '인도네시아', '캐나다', '베트남', '독일', '태국', '대만'],\n",
              "      dtype=object)"
            ]
          },
          "metadata": {},
          "execution_count": 60
        }
      ]
    },
    {
      "cell_type": "code",
      "source": [
        "data['nat'].value_counts()"
      ],
      "metadata": {
        "colab": {
          "base_uri": "https://localhost:8080/"
        },
        "id": "StVDcslgqpi7",
        "outputId": "b3cb0b81-e53c-46ac-ab93-734aad8ff389"
      },
      "execution_count": 61,
      "outputs": [
        {
          "output_type": "execute_result",
          "data": {
            "text/plain": [
              "중국       2878\n",
              "일본       1543\n",
              "미국        971\n",
              "대만        947\n",
              "홍콩        813\n",
              "태국        658\n",
              "말레이시아     545\n",
              "베트남       523\n",
              "필리핀       510\n",
              "싱가포르      483\n",
              "러시아       482\n",
              "캐나다       446\n",
              "인도네시아     440\n",
              "중동        434\n",
              "호주        428\n",
              "영국        393\n",
              "프랑스       346\n",
              "독일        337\n",
              "인도        324\n",
              "Name: nat, dtype: int64"
            ]
          },
          "metadata": {},
          "execution_count": 61
        }
      ]
    },
    {
      "cell_type": "code",
      "source": [
        "data[data['nat']=='중국']['bestact'].describe()"
      ],
      "metadata": {
        "colab": {
          "base_uri": "https://localhost:8080/"
        },
        "id": "ArhRpB7kqwKa",
        "outputId": "1233c024-025a-4c1c-ae22-809ffb0e3a3c"
      },
      "execution_count": 62,
      "outputs": [
        {
          "output_type": "execute_result",
          "data": {
            "text/plain": [
              "count     2878\n",
              "unique      22\n",
              "top         쇼핑\n",
              "freq      1142\n",
              "Name: bestact, dtype: object"
            ]
          },
          "metadata": {},
          "execution_count": 62
        }
      ]
    },
    {
      "cell_type": "code",
      "source": [
        "data[data['nat']=='중국']['bestact'].value_counts() #2878/1142"
      ],
      "metadata": {
        "colab": {
          "base_uri": "https://localhost:8080/"
        },
        "id": "w2_U48uKq97Y",
        "outputId": "5c3dbb11-1455-45c5-9a38-db92f1f56cb7"
      },
      "execution_count": 63,
      "outputs": [
        {
          "output_type": "execute_result",
          "data": {
            "text/plain": [
              "쇼핑                  1142\n",
              "식도락                  754\n",
              "자연경관감상               305\n",
              "유흥.오락                126\n",
              "공연/민속행사/축제참가관람        75\n",
              "업무수행                  74\n",
              "고궁/역사유적지방문            65\n",
              "연수/교육/연구              53\n",
              "테마파크                  49\n",
              "휴양/휴식                 40\n",
              "스포츠활동                 23\n",
              "뷰티관광                  22\n",
              "레포츠활동                 22\n",
              "전통문화체험                21\n",
              "온천/스파                 19\n",
              "박물관/전시관방문             18\n",
              "카지노                   18\n",
              "기타                    18\n",
              "미팅/회의/학술대회/박람회참가      15\n",
              "의료관광                   9\n",
              "시티투어버스이용               8\n",
              "시찰(산업시설등)              2\n",
              "Name: bestact, dtype: int64"
            ]
          },
          "metadata": {},
          "execution_count": 63
        }
      ]
    },
    {
      "cell_type": "code",
      "source": [
        "data[data['nat']=='일본']['bestact'].describe()"
      ],
      "metadata": {
        "colab": {
          "base_uri": "https://localhost:8080/"
        },
        "id": "CtAY3dGurE67",
        "outputId": "74e9b5b5-26f5-4c8c-bade-253dd7f15960"
      },
      "execution_count": 64,
      "outputs": [
        {
          "output_type": "execute_result",
          "data": {
            "text/plain": [
              "count     1543\n",
              "unique      23\n",
              "top        식도락\n",
              "freq       415\n",
              "Name: bestact, dtype: object"
            ]
          },
          "metadata": {},
          "execution_count": 64
        }
      ]
    },
    {
      "cell_type": "code",
      "source": [
        "data[data['nat']=='일본']['bestact'].value_counts() #1543/415"
      ],
      "metadata": {
        "colab": {
          "base_uri": "https://localhost:8080/"
        },
        "id": "-X-ZpYcTrYBS",
        "outputId": "bd0d4e53-061d-4ace-ca27-2d9e2a8a662a"
      },
      "execution_count": 65,
      "outputs": [
        {
          "output_type": "execute_result",
          "data": {
            "text/plain": [
              "식도락                 415\n",
              "쇼핑                  343\n",
              "업무수행                130\n",
              "공연/민속행사/축제참가관람      107\n",
              "고궁/역사유적지방문           94\n",
              "자연경관감상               92\n",
              "미팅/회의/학술대회/박람회참가     46\n",
              "유흥.오락                43\n",
              "기타                   43\n",
              "연수/교육/연구             37\n",
              "뷰티관광                 32\n",
              "카지노                  31\n",
              "온천/스파                30\n",
              "테마파크                 24\n",
              "박물관/전시관방문            15\n",
              "시티투어버스이용             13\n",
              "의료관광                 11\n",
              "전통문화체험               10\n",
              "휴양/휴식                 9\n",
              "시찰(산업시설등)             7\n",
              "스포츠활동                 7\n",
              "레포츠활동                 3\n",
              "직업적스포츠홀동              1\n",
              "Name: bestact, dtype: int64"
            ]
          },
          "metadata": {},
          "execution_count": 65
        }
      ]
    },
    {
      "cell_type": "code",
      "source": [
        "data[data['nat']=='미국']['bestact'].describe()"
      ],
      "metadata": {
        "colab": {
          "base_uri": "https://localhost:8080/"
        },
        "id": "jUnYzZaTrbaI",
        "outputId": "9e7640b9-1078-4f90-ac43-074b14f7be6f"
      },
      "execution_count": 66,
      "outputs": [
        {
          "output_type": "execute_result",
          "data": {
            "text/plain": [
              "count            971\n",
              "unique            23\n",
              "top       고궁/역사유적지방문\n",
              "freq             183\n",
              "Name: bestact, dtype: object"
            ]
          },
          "metadata": {},
          "execution_count": 66
        }
      ]
    },
    {
      "cell_type": "code",
      "source": [
        "data[data['nat']=='미국']['bestact'].value_counts() #971/183"
      ],
      "metadata": {
        "colab": {
          "base_uri": "https://localhost:8080/"
        },
        "id": "p55vcmdGrjTz",
        "outputId": "0d723779-09d6-4f9d-c48d-3df8947152f2"
      },
      "execution_count": 67,
      "outputs": [
        {
          "output_type": "execute_result",
          "data": {
            "text/plain": [
              "고궁/역사유적지방문          183\n",
              "쇼핑                  136\n",
              "업무수행                122\n",
              "식도락                  84\n",
              "자연경관감상               72\n",
              "유흥.오락                72\n",
              "전통문화체험               54\n",
              "박물관/전시관방문            52\n",
              "공연/민속행사/축제참가관람       27\n",
              "미팅/회의/학술대회/박람회참가     26\n",
              "온천/스파                24\n",
              "레포츠활동                21\n",
              "연수/교육/연구             20\n",
              "휴양/휴식                16\n",
              "시티투어버스이용             13\n",
              "테마파크                 12\n",
              "기타                   12\n",
              "직업적스포츠홀동             11\n",
              "스포츠활동                 5\n",
              "시찰(산업시설등)             4\n",
              "의료관광                  2\n",
              "뷰티관광                  2\n",
              "카지노                   1\n",
              "Name: bestact, dtype: int64"
            ]
          },
          "metadata": {},
          "execution_count": 67
        }
      ]
    },
    {
      "cell_type": "code",
      "source": [
        "data[data['nat']=='대만']['bestact'].describe()"
      ],
      "metadata": {
        "colab": {
          "base_uri": "https://localhost:8080/"
        },
        "id": "g9yACA2crmDo",
        "outputId": "44969a74-fac3-40c8-a446-0d824bf6daa3"
      },
      "execution_count": 68,
      "outputs": [
        {
          "output_type": "execute_result",
          "data": {
            "text/plain": [
              "count     947\n",
              "unique     22\n",
              "top        쇼핑\n",
              "freq      273\n",
              "Name: bestact, dtype: object"
            ]
          },
          "metadata": {},
          "execution_count": 68
        }
      ]
    },
    {
      "cell_type": "code",
      "source": [
        "data[data['nat']=='대만']['bestact'].value_counts() #947/273"
      ],
      "metadata": {
        "colab": {
          "base_uri": "https://localhost:8080/"
        },
        "id": "a2bRjY3Krx_Q",
        "outputId": "6c6322bf-5216-4e12-d89a-53f6eed69d42"
      },
      "execution_count": 69,
      "outputs": [
        {
          "output_type": "execute_result",
          "data": {
            "text/plain": [
              "쇼핑                  273\n",
              "식도락                 215\n",
              "자연경관감상              118\n",
              "고궁/역사유적지방문           84\n",
              "공연/민속행사/축제참가관람       48\n",
              "스포츠활동                30\n",
              "테마파크                 28\n",
              "유흥.오락                28\n",
              "전통문화체험               24\n",
              "휴양/휴식                18\n",
              "업무수행                 16\n",
              "온천/스파                13\n",
              "연수/교육/연구             10\n",
              "박물관/전시관방문             8\n",
              "시티투어버스이용              8\n",
              "의료관광                  5\n",
              "기타                    5\n",
              "카지노                   4\n",
              "시찰(산업시설등)             4\n",
              "미팅/회의/학술대회/박람회참가      4\n",
              "뷰티관광                  3\n",
              "직업적스포츠홀동              1\n",
              "Name: bestact, dtype: int64"
            ]
          },
          "metadata": {},
          "execution_count": 69
        }
      ]
    },
    {
      "cell_type": "code",
      "source": [
        "data[data['nat']=='홍콩']['bestact'].describe()"
      ],
      "metadata": {
        "colab": {
          "base_uri": "https://localhost:8080/"
        },
        "id": "-xw_RNjDr0Kx",
        "outputId": "5702c68d-5bc6-4dfc-d436-b1313f4f2209"
      },
      "execution_count": 70,
      "outputs": [
        {
          "output_type": "execute_result",
          "data": {
            "text/plain": [
              "count     813\n",
              "unique     22\n",
              "top        쇼핑\n",
              "freq      273\n",
              "Name: bestact, dtype: object"
            ]
          },
          "metadata": {},
          "execution_count": 70
        }
      ]
    },
    {
      "cell_type": "code",
      "source": [
        "data[data['nat']=='홍콩']['bestact'].value_counts() #813/273"
      ],
      "metadata": {
        "colab": {
          "base_uri": "https://localhost:8080/"
        },
        "id": "yqTH2e-_r5yn",
        "outputId": "91e3ce80-77a2-45a5-f07b-d6b432d18984"
      },
      "execution_count": 71,
      "outputs": [
        {
          "output_type": "execute_result",
          "data": {
            "text/plain": [
              "쇼핑                  273\n",
              "식도락                 191\n",
              "자연경관감상               96\n",
              "스포츠활동                38\n",
              "고궁/역사유적지방문           37\n",
              "업무수행                 29\n",
              "공연/민속행사/축제참가관람       24\n",
              "테마파크                 22\n",
              "온천/스파                17\n",
              "휴양/휴식                17\n",
              "유흥.오락                16\n",
              "박물관/전시관방문            14\n",
              "전통문화체험               14\n",
              "미팅/회의/학술대회/박람회참가      6\n",
              "뷰티관광                  6\n",
              "레포츠활동                 4\n",
              "기타                    3\n",
              "시티투어버스이용              2\n",
              "직업적스포츠홀동              1\n",
              "연수/교육/연구              1\n",
              "의료관광                  1\n",
              "시찰(산업시설등)             1\n",
              "Name: bestact, dtype: int64"
            ]
          },
          "metadata": {},
          "execution_count": 71
        }
      ]
    },
    {
      "cell_type": "code",
      "source": [
        "data[data['nat']=='태국']['bestact'].describe()"
      ],
      "metadata": {
        "colab": {
          "base_uri": "https://localhost:8080/"
        },
        "id": "8yM_St54r7yJ",
        "outputId": "93507983-4099-4e13-ef4f-8d7edf188f63"
      },
      "execution_count": 72,
      "outputs": [
        {
          "output_type": "execute_result",
          "data": {
            "text/plain": [
              "count     658\n",
              "unique     22\n",
              "top        쇼핑\n",
              "freq      274\n",
              "Name: bestact, dtype: object"
            ]
          },
          "metadata": {},
          "execution_count": 72
        }
      ]
    },
    {
      "cell_type": "code",
      "source": [
        "data[data['nat']=='태국']['bestact'].value_counts() #658/274"
      ],
      "metadata": {
        "colab": {
          "base_uri": "https://localhost:8080/"
        },
        "id": "001n-jAjsAkv",
        "outputId": "4e843b6a-94e4-45de-d018-1f19f53f268e"
      },
      "execution_count": 73,
      "outputs": [
        {
          "output_type": "execute_result",
          "data": {
            "text/plain": [
              "쇼핑                274\n",
              "식도락                89\n",
              "자연경관감상             69\n",
              "고궁/역사유적지방문         57\n",
              "테마파크               40\n",
              "유흥.오락              24\n",
              "공연/민속행사/축제참가관람     16\n",
              "휴양/휴식              11\n",
              "스포츠활동              11\n",
              "연수/교육/연구            9\n",
              "박물관/전시관방문           9\n",
              "의료관광                9\n",
              "시티투어버스이용            8\n",
              "레포츠활동               8\n",
              "업무수행                7\n",
              "온천/스파               5\n",
              "뷰티관광                3\n",
              "기타                  3\n",
              "전통문화체험              2\n",
              "카지노                 2\n",
              "시찰(산업시설등)           1\n",
              "직업적스포츠홀동            1\n",
              "Name: bestact, dtype: int64"
            ]
          },
          "metadata": {},
          "execution_count": 73
        }
      ]
    },
    {
      "cell_type": "code",
      "source": [
        "data['bestact'].value_counts()"
      ],
      "metadata": {
        "colab": {
          "base_uri": "https://localhost:8080/"
        },
        "id": "s_FlioNDxlZJ",
        "outputId": "f8513698-b9fc-4f54-deba-17500d54e056"
      },
      "execution_count": 74,
      "outputs": [
        {
          "output_type": "execute_result",
          "data": {
            "text/plain": [
              "쇼핑                  3531\n",
              "식도락                 2211\n",
              "자연경관감상              1435\n",
              "고궁/역사유적지방문          1350\n",
              "업무수행                 932\n",
              "유흥.오락                545\n",
              "공연/민속행사/축제참가관람       418\n",
              "테마파크                 403\n",
              "전통문화체험               352\n",
              "박물관/전시관방문            274\n",
              "스포츠활동                268\n",
              "연수/교육/연구             264\n",
              "휴양/휴식                263\n",
              "미팅/회의/학술대회/박람회참가     248\n",
              "레포츠활동                173\n",
              "온천/스파                169\n",
              "의료관광                 134\n",
              "기타                   127\n",
              "시티투어버스이용             119\n",
              "시찰(산업시설등)             92\n",
              "뷰티관광                  84\n",
              "카지노                   67\n",
              "직업적스포츠홀동              42\n",
              "Name: bestact, dtype: int64"
            ]
          },
          "metadata": {},
          "execution_count": 74
        }
      ]
    },
    {
      "cell_type": "code",
      "source": [
        "data[data['bestact']=='쇼핑']['nat'].value_counts()"
      ],
      "metadata": {
        "colab": {
          "base_uri": "https://localhost:8080/"
        },
        "id": "R9zsWBJ9x6ZV",
        "outputId": "ed397fc8-3750-4966-9a31-a7f5c1e06df1"
      },
      "execution_count": 75,
      "outputs": [
        {
          "output_type": "execute_result",
          "data": {
            "text/plain": [
              "중국       1142\n",
              "일본        343\n",
              "태국        274\n",
              "대만        273\n",
              "홍콩        273\n",
              "싱가포르      166\n",
              "말레이시아     156\n",
              "베트남       137\n",
              "미국        136\n",
              "인도네시아     106\n",
              "필리핀        91\n",
              "러시아        84\n",
              "중동         84\n",
              "캐나다        71\n",
              "호주         68\n",
              "인도         44\n",
              "영국         38\n",
              "프랑스        23\n",
              "독일         22\n",
              "Name: nat, dtype: int64"
            ]
          },
          "metadata": {},
          "execution_count": 75
        }
      ]
    },
    {
      "cell_type": "code",
      "source": [
        "data[data['bestact']=='식도락']['nat'].value_counts()"
      ],
      "metadata": {
        "colab": {
          "base_uri": "https://localhost:8080/"
        },
        "id": "xrT_OQBYyB_g",
        "outputId": "6bf0855e-84be-4bb4-ba9f-8a7b401df54d"
      },
      "execution_count": 76,
      "outputs": [
        {
          "output_type": "execute_result",
          "data": {
            "text/plain": [
              "중국       754\n",
              "일본       415\n",
              "대만       215\n",
              "홍콩       191\n",
              "태국        89\n",
              "미국        84\n",
              "베트남       57\n",
              "인도네시아     57\n",
              "프랑스       53\n",
              "싱가포르      44\n",
              "캐나다       34\n",
              "호주        34\n",
              "독일        33\n",
              "말레이시아     33\n",
              "러시아       31\n",
              "영국        29\n",
              "필리핀       25\n",
              "중동        24\n",
              "인도         9\n",
              "Name: nat, dtype: int64"
            ]
          },
          "metadata": {},
          "execution_count": 76
        }
      ]
    },
    {
      "cell_type": "code",
      "source": [
        "data[data['bestact']=='자연경관감상']['nat'].value_counts()"
      ],
      "metadata": {
        "colab": {
          "base_uri": "https://localhost:8080/"
        },
        "id": "gO-4cXnyyJlv",
        "outputId": "fbaa7f73-6c75-4498-85d4-bf0e85f00328"
      },
      "execution_count": 77,
      "outputs": [
        {
          "output_type": "execute_result",
          "data": {
            "text/plain": [
              "중국       305\n",
              "대만       118\n",
              "말레이시아    101\n",
              "홍콩        96\n",
              "일본        92\n",
              "베트남       91\n",
              "필리핀       89\n",
              "미국        72\n",
              "태국        69\n",
              "인도네시아     63\n",
              "싱가포르      58\n",
              "러시아       47\n",
              "프랑스       44\n",
              "호주        40\n",
              "캐나다       39\n",
              "영국        31\n",
              "인도        30\n",
              "독일        27\n",
              "중동        23\n",
              "Name: nat, dtype: int64"
            ]
          },
          "metadata": {},
          "execution_count": 77
        }
      ]
    },
    {
      "cell_type": "code",
      "source": [
        "data[data['bestact']=='고궁/역사유적지방문']['nat'].value_counts()"
      ],
      "metadata": {
        "colab": {
          "base_uri": "https://localhost:8080/"
        },
        "id": "u6FY8u1uyQ-P",
        "outputId": "9cbdd450-11b5-433d-fce8-c11ea6693d45"
      },
      "execution_count": 78,
      "outputs": [
        {
          "output_type": "execute_result",
          "data": {
            "text/plain": [
              "미국       183\n",
              "필리핀      108\n",
              "캐나다      102\n",
              "일본        94\n",
              "대만        84\n",
              "영국        75\n",
              "호주        72\n",
              "중국        65\n",
              "러시아       65\n",
              "프랑스       63\n",
              "인도네시아     62\n",
              "말레이시아     59\n",
              "태국        57\n",
              "싱가포르      52\n",
              "인도        48\n",
              "중동        44\n",
              "독일        41\n",
              "베트남       39\n",
              "홍콩        37\n",
              "Name: nat, dtype: int64"
            ]
          },
          "metadata": {},
          "execution_count": 78
        }
      ]
    },
    {
      "cell_type": "code",
      "source": [
        "data.info()"
      ],
      "metadata": {
        "colab": {
          "base_uri": "https://localhost:8080/"
        },
        "id": "MA6sXcPu33Sf",
        "outputId": "c239f336-48e8-492e-a7dc-8f260fa39842"
      },
      "execution_count": 79,
      "outputs": [
        {
          "output_type": "stream",
          "name": "stdout",
          "text": [
            "<class 'pandas.core.frame.DataFrame'>\n",
            "RangeIndex: 13501 entries, 0 to 13500\n",
            "Data columns (total 82 columns):\n",
            " #   Column      Non-Null Count  Dtype  \n",
            "---  ------      --------------  -----  \n",
            " 0   id          13501 non-null  int64  \n",
            " 1   gender      13501 non-null  int64  \n",
            " 2   age         13501 non-null  object \n",
            " 3   edu         13501 non-null  object \n",
            " 4   job         13501 non-null  object \n",
            " 5   nat         13501 non-null  object \n",
            " 6   other       13501 non-null  object \n",
            " 7   count       13501 non-null  object \n",
            " 8   month       13501 non-null  int64  \n",
            " 9   info1       13501 non-null  int64  \n",
            " 10  info2       13501 non-null  object \n",
            " 11  info3       13501 non-null  object \n",
            " 12  decision    13501 non-null  int64  \n",
            " 13  object      13501 non-null  int64  \n",
            " 14  mov1        13501 non-null  object \n",
            " 15  mov2        13501 non-null  object \n",
            " 16  mov3        13501 non-null  object \n",
            " 17  member      13501 non-null  object \n",
            " 18  number      13501 non-null  int64  \n",
            " 19  tourtype    13501 non-null  object \n",
            " 20  period      13501 non-null  int64  \n",
            " 21  overal      13501 non-null  int64  \n",
            " 22  sat1        13501 non-null  int64  \n",
            " 23  sat2        13501 non-null  int64  \n",
            " 24  sat3        13501 non-null  int64  \n",
            " 25  sat4        13501 non-null  int64  \n",
            " 26  sat5        13501 non-null  int64  \n",
            " 27  sat6        13501 non-null  int64  \n",
            " 28  sat7        13501 non-null  int64  \n",
            " 29  sat8        13501 non-null  int64  \n",
            " 30  sat9        13501 non-null  int64  \n",
            " 31  sat10       13501 non-null  int64  \n",
            " 32  bf_img      13501 non-null  int64  \n",
            " 33  af_img      13501 non-null  int64  \n",
            " 34  revisit     13501 non-null  int64  \n",
            " 35  recom       13501 non-null  int64  \n",
            " 36  district1   13501 non-null  object \n",
            " 37  district2   13501 non-null  object \n",
            " 38  district3   13501 non-null  object \n",
            " 39  district4   13501 non-null  object \n",
            " 40  district5   13501 non-null  object \n",
            " 41  district6   13501 non-null  object \n",
            " 42  district7   13501 non-null  object \n",
            " 43  district8   13501 non-null  object \n",
            " 44  district9   13501 non-null  object \n",
            " 45  district10  13501 non-null  object \n",
            " 46  district11  13501 non-null  object \n",
            " 47  district12  13501 non-null  object \n",
            " 48  district13  13501 non-null  object \n",
            " 49  district14  13501 non-null  object \n",
            " 50  district15  13501 non-null  object \n",
            " 51  district16  13501 non-null  object \n",
            " 52  district17  13501 non-null  object \n",
            " 53  district18  13501 non-null  object \n",
            " 54  district19  13501 non-null  object \n",
            " 55  zone1       13501 non-null  object \n",
            " 56  zone2       13501 non-null  object \n",
            " 57  zone3       13501 non-null  object \n",
            " 58  zone4       13501 non-null  object \n",
            " 59  zone5       13501 non-null  object \n",
            " 60  zone6       13501 non-null  object \n",
            " 61  zone7       13501 non-null  object \n",
            " 62  zone8       13501 non-null  object \n",
            " 63  zone9       13501 non-null  object \n",
            " 64  zone10      13501 non-null  object \n",
            " 65  bestspot1   13501 non-null  int64  \n",
            " 66  bestspot2   13501 non-null  object \n",
            " 67  bestspot3   13501 non-null  object \n",
            " 68  act1        13501 non-null  int64  \n",
            " 69  act2        13501 non-null  object \n",
            " 70  act3        13501 non-null  object \n",
            " 71  bestact     13501 non-null  object \n",
            " 72  accom       13501 non-null  object \n",
            " 73  shop1       13501 non-null  object \n",
            " 74  shop2       13501 non-null  object \n",
            " 75  shop3       13501 non-null  object \n",
            " 76  prd1        13501 non-null  object \n",
            " 77  prd2        13501 non-null  object \n",
            " 78  prd3        13501 non-null  object \n",
            " 79  expense     13501 non-null  float64\n",
            " 80  card        13501 non-null  float64\n",
            " 81  cash        13501 non-null  float64\n",
            "dtypes: float64(3), int64(25), object(54)\n",
            "memory usage: 8.4+ MB\n"
          ]
        }
      ]
    },
    {
      "cell_type": "code",
      "source": [
        "data['expense'].sort_values().tail()"
      ],
      "metadata": {
        "colab": {
          "base_uri": "https://localhost:8080/"
        },
        "id": "Jhqq3WkB4J3f",
        "outputId": "90acee21-8102-4e59-cfe3-a4c0d54f862c"
      },
      "execution_count": 84,
      "outputs": [
        {
          "output_type": "execute_result",
          "data": {
            "text/plain": [
              "3251     1933360.0\n",
              "7179     2200000.0\n",
              "7169     2691120.0\n",
              "5050     3434400.0\n",
              "5309    13550000.0\n",
              "Name: expense, dtype: float64"
            ]
          },
          "metadata": {},
          "execution_count": 84
        }
      ]
    },
    {
      "cell_type": "code",
      "source": [
        "data['card'].sort_values().tail()"
      ],
      "metadata": {
        "colab": {
          "base_uri": "https://localhost:8080/"
        },
        "id": "fCREkMMW44hd",
        "outputId": "e4af6293-24af-4282-c62a-1112686cf18f"
      },
      "execution_count": 85,
      "outputs": [
        {
          "output_type": "execute_result",
          "data": {
            "text/plain": [
              "5275      940000.0\n",
              "5050     1109025.0\n",
              "10338    1325880.0\n",
              "7179     2000000.0\n",
              "5309     5550000.0\n",
              "Name: card, dtype: float64"
            ]
          },
          "metadata": {},
          "execution_count": 85
        }
      ]
    },
    {
      "cell_type": "code",
      "source": [
        "data['cash'].sort_values().tail()"
      ],
      "metadata": {
        "colab": {
          "base_uri": "https://localhost:8080/"
        },
        "id": "zWTMzQ8644U9",
        "outputId": "9d05e001-de2f-4722-9a7d-cc70a3c20268"
      },
      "execution_count": 86,
      "outputs": [
        {
          "output_type": "execute_result",
          "data": {
            "text/plain": [
              "5345    1740096.0\n",
              "3251    1933360.0\n",
              "7169    2242600.0\n",
              "5050    2325375.0\n",
              "5309    8000000.0\n",
              "Name: cash, dtype: float64"
            ]
          },
          "metadata": {},
          "execution_count": 86
        }
      ]
    },
    {
      "cell_type": "code",
      "source": [
        "import matplotlib.pyplot as plt\n",
        "plt.rc('font', family='NanumBarunGothic')\n",
        "\n",
        "labels = ['중국', '일본', '미국', '대만', '홍콩', '태국']\n",
        "data = [2878, 1548, 971, 947, 813, 658]\n",
        "colors = ['r', 'g', 'b', 'y']\n",
        "plt.pie(data, labels=labels,\n",
        "        colors=colors, autopct='%1.1f%%',startangle=30)\n",
        "\n",
        "plt.show()"
      ],
      "metadata": {
        "colab": {
          "base_uri": "https://localhost:8080/",
          "height": 406
        },
        "id": "LsjBdMtJsDcV",
        "outputId": "1eaeb7a0-3192-4ece-ec7d-0aec2a4e0939"
      },
      "execution_count": 52,
      "outputs": [
        {
          "output_type": "display_data",
          "data": {
            "text/plain": [
              "<Figure size 640x480 with 1 Axes>"
            ],
            "image/png": "[encoded data removed]"
          },
          "metadata": {}
        }
      ]
    },
    {
      "cell_type": "code",
      "source": [],
      "metadata": {
        "id": "lSGov8Q3xJcm"
      },
      "execution_count": null,
      "outputs": []
    }
  ]
}