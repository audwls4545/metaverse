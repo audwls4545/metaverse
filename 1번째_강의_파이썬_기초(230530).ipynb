{
  "nbformat": 4,
  "nbformat_minor": 0,
  "metadata": {
    "colab": {
      "provenance": [],
      "authorship_tag": "ABX9TyM/NKmNP9SLIZ4nHpzMbXNb",
      "include_colab_link": true
    },
    "kernelspec": {
      "name": "python3",
      "display_name": "Python 3"
    },
    "language_info": {
      "name": "python"
    }
  },
  "cells": [
    {
      "cell_type": "markdown",
      "metadata": {
        "id": "view-in-github",
        "colab_type": "text"
      },
      "source": [
        "<a href=\"https://colab.research.google.com/github/audwls4545/metaverse/blob/main/1%EB%B2%88%EC%A7%B8_%EA%B0%95%EC%9D%98_%ED%8C%8C%EC%9D%B4%EC%8D%AC_%EA%B8%B0%EC%B4%88(230530).ipynb\" target=\"_parent\"><img src=\"https://colab.research.google.com/assets/colab-badge.svg\" alt=\"Open In Colab\"/></a>"
      ]
    },
    {
      "cell_type": "markdown",
      "source": [
        "# 파이썬 데이터 분석 pdf 참고\n"
      ],
      "metadata": {
        "id": "mSvQEeFjPhri"
      }
    },
    {
      "cell_type": "code",
      "execution_count": 2,
      "metadata": {
        "id": "4Pz_mDax9Ykh"
      },
      "outputs": [],
      "source": [
        "age = 20\n",
        "age = 30\n",
        "#1a = 5 # 오류 만들기"
      ]
    },
    {
      "cell_type": "code",
      "source": [
        "#\n",
        "'''\n",
        "'''\n",
        "#주석 만들기\n",
        "#던파 카트\n",
        "#데빌메이크라이\n",
        "#에어펭귄?"
      ],
      "metadata": {
        "colab": {
          "base_uri": "https://localhost:8080/",
          "height": 35
        },
        "id": "1xrG4yk4A_g0",
        "outputId": "1c9c40a7-3561-4d96-b983-9b3315449364"
      },
      "execution_count": 4,
      "outputs": [
        {
          "output_type": "execute_result",
          "data": {
            "text/plain": [
              "'\\n'"
            ],
            "application/vnd.google.colaboratory.intrinsic+json": {
              "type": "string"
            }
          },
          "metadata": {},
          "execution_count": 4
        }
      ]
    },
    {
      "cell_type": "code",
      "source": [
        "#int age = 30 # 파이썬 이외의 언어에서 정수 변수형 선언 필요\n",
        "age = 30 # 파이썬에서는 선언 시 숫자형 데이터 생성\n",
        "\n",
        "a = 5\n",
        "b = 2\n",
        "\n",
        "print(a+b)\n",
        "print(a-b)\n",
        "print(a*b)\n",
        "print(a/b)"
      ],
      "metadata": {
        "colab": {
          "base_uri": "https://localhost:8080/"
        },
        "id": "p4m_8quDGBof",
        "outputId": "b773f532-9766-47bb-b5a4-efca3de0eb6c"
      },
      "execution_count": 5,
      "outputs": [
        {
          "output_type": "stream",
          "name": "stdout",
          "text": [
            "7\n",
            "3\n",
            "10\n",
            "2.5\n"
          ]
        }
      ]
    },
    {
      "cell_type": "code",
      "source": [
        "a//b # 몫 연산자"
      ],
      "metadata": {
        "colab": {
          "base_uri": "https://localhost:8080/"
        },
        "id": "SqTTnSIyHVIG",
        "outputId": "6fb2c083-0804-4f2b-b45c-66f8aa79d6e1"
      },
      "execution_count": 8,
      "outputs": [
        {
          "output_type": "execute_result",
          "data": {
            "text/plain": [
              "2"
            ]
          },
          "metadata": {},
          "execution_count": 8
        }
      ]
    },
    {
      "cell_type": "code",
      "source": [
        "a%b #나머지 연산자"
      ],
      "metadata": {
        "colab": {
          "base_uri": "https://localhost:8080/"
        },
        "id": "TQQJaIRQHs2W",
        "outputId": "984c1c3c-f9bd-4153-8840-35a151f8c740"
      },
      "execution_count": 9,
      "outputs": [
        {
          "output_type": "execute_result",
          "data": {
            "text/plain": [
              "1"
            ]
          },
          "metadata": {},
          "execution_count": 9
        }
      ]
    },
    {
      "cell_type": "code",
      "source": [
        "day = 2 # 홀수, 짝수 확인하기\n",
        "\n",
        "day % 2"
      ],
      "metadata": {
        "colab": {
          "base_uri": "https://localhost:8080/"
        },
        "id": "ltl_NE6THvYK",
        "outputId": "4822a950-6d6c-4b78-f476-2f4c8637b350"
      },
      "execution_count": 10,
      "outputs": [
        {
          "output_type": "execute_result",
          "data": {
            "text/plain": [
              "0"
            ]
          },
          "metadata": {},
          "execution_count": 10
        }
      ]
    },
    {
      "cell_type": "code",
      "source": [
        "name = '홍길동'\n",
        "name = \"홍길동\"\n",
        "name"
      ],
      "metadata": {
        "colab": {
          "base_uri": "https://localhost:8080/",
          "height": 35
        },
        "id": "n8CxIozQJSRV",
        "outputId": "89ccf849-c2a6-4fde-969e-1b75b672b619"
      },
      "execution_count": 12,
      "outputs": [
        {
          "output_type": "execute_result",
          "data": {
            "text/plain": [
              "'홍길동'"
            ],
            "application/vnd.google.colaboratory.intrinsic+json": {
              "type": "string"
            }
          },
          "metadata": {},
          "execution_count": 12
        }
      ]
    },
    {
      "cell_type": "code",
      "source": [
        "data = '''\n",
        "안녕하세요\n",
        "메타버스아카데미입니다.\n",
        "'''\n",
        "\n",
        "data #줄바꿈"
      ],
      "metadata": {
        "colab": {
          "base_uri": "https://localhost:8080/",
          "height": 35
        },
        "id": "vDQgqr1eJwH_",
        "outputId": "e6d27fdf-50b6-4b3d-aa68-8c344baea589"
      },
      "execution_count": 14,
      "outputs": [
        {
          "output_type": "execute_result",
          "data": {
            "text/plain": [
              "'\\n안녕하세요\\n메타버스아카데미입니다.\\n'"
            ],
            "application/vnd.google.colaboratory.intrinsic+json": {
              "type": "string"
            }
          },
          "metadata": {},
          "execution_count": 14
        }
      ]
    },
    {
      "cell_type": "code",
      "source": [
        "print(data)"
      ],
      "metadata": {
        "colab": {
          "base_uri": "https://localhost:8080/"
        },
        "id": "520xo0bYKMBm",
        "outputId": "4f2c290e-dc23-4b2f-c474-6b3dd0acc864"
      },
      "execution_count": 15,
      "outputs": [
        {
          "output_type": "stream",
          "name": "stdout",
          "text": [
            "\n",
            "안녕하세요\n",
            "메타버스아카데미입니다.\n",
            "\n"
          ]
        }
      ]
    },
    {
      "cell_type": "code",
      "source": [
        "a = 3 #숫자형\n",
        "b ='3'#문자형\n",
        "\n",
        "print(a)\n",
        "print(b)"
      ],
      "metadata": {
        "colab": {
          "base_uri": "https://localhost:8080/"
        },
        "id": "-aPSeuXuKgHw",
        "outputId": "0b413e71-2ab0-43c6-f566-39126ae97670"
      },
      "execution_count": 16,
      "outputs": [
        {
          "output_type": "stream",
          "name": "stdout",
          "text": [
            "3\n",
            "3\n"
          ]
        }
      ]
    },
    {
      "cell_type": "code",
      "source": [
        "a = \"i'm happy\"\n",
        "a"
      ],
      "metadata": {
        "colab": {
          "base_uri": "https://localhost:8080/",
          "height": 35
        },
        "id": "D4bLbU1RLBEW",
        "outputId": "9c2440cb-6dc4-4b01-e7be-8d6c8ab0e7e7"
      },
      "execution_count": 17,
      "outputs": [
        {
          "output_type": "execute_result",
          "data": {
            "text/plain": [
              "\"i'm happy\""
            ],
            "application/vnd.google.colaboratory.intrinsic+json": {
              "type": "string"
            }
          },
          "metadata": {},
          "execution_count": 17
        }
      ]
    },
    {
      "cell_type": "code",
      "source": [
        "data1 = '서울시'\n",
        "data2 = '강남구'\n",
        "\n",
        "result = data1 + \" \" + data2\n",
        "result"
      ],
      "metadata": {
        "colab": {
          "base_uri": "https://localhost:8080/",
          "height": 35
        },
        "id": "-0csk0xNLfjA",
        "outputId": "9522c05b-f00b-4b8a-f62c-d0eaa64ed37f"
      },
      "execution_count": 19,
      "outputs": [
        {
          "output_type": "execute_result",
          "data": {
            "text/plain": [
              "'서울시 강남구'"
            ],
            "application/vnd.google.colaboratory.intrinsic+json": {
              "type": "string"
            }
          },
          "metadata": {},
          "execution_count": 19
        }
      ]
    },
    {
      "cell_type": "code",
      "source": [
        "print('*'*20) #문자열의 곱셈"
      ],
      "metadata": {
        "colab": {
          "base_uri": "https://localhost:8080/"
        },
        "id": "_-LXAGukMAzz",
        "outputId": "6b6ba094-cae5-41b3-9d66-8920c3c0509c"
      },
      "execution_count": 20,
      "outputs": [
        {
          "output_type": "stream",
          "name": "stdout",
          "text": [
            "********************\n"
          ]
        }
      ]
    },
    {
      "cell_type": "code",
      "source": [
        "len(result) #문자열의 길이"
      ],
      "metadata": {
        "colab": {
          "base_uri": "https://localhost:8080/"
        },
        "id": "ybaYt9xCMtWi",
        "outputId": "301be8c7-d4b9-42d9-afd7-ff217243a364"
      },
      "execution_count": 21,
      "outputs": [
        {
          "output_type": "execute_result",
          "data": {
            "text/plain": [
              "7"
            ]
          },
          "metadata": {},
          "execution_count": 21
        }
      ]
    },
    {
      "cell_type": "markdown",
      "source": [
        "**슬라이싱**"
      ],
      "metadata": {
        "id": "qA20IKdFRQjp"
      }
    },
    {
      "cell_type": "code",
      "source": [
        "min = '801212-1234578'\n",
        "#     ['8','0','1',,,,,,,,,'8']\n",
        "year = min[0] + min[1]\n",
        "birth = min[2] + min[3] + min[4] + min[5]\n",
        "gender = min[7]"
      ],
      "metadata": {
        "id": "NL_U6oPkM43d"
      },
      "execution_count": 26,
      "outputs": []
    },
    {
      "cell_type": "code",
      "source": [
        "min[0:2] # min[0:2] == year"
      ],
      "metadata": {
        "colab": {
          "base_uri": "https://localhost:8080/",
          "height": 35
        },
        "id": "m-7Z7oPyQocX",
        "outputId": "11af5f3d-285b-4d6d-8357-e290ce094e4e"
      },
      "execution_count": 29,
      "outputs": [
        {
          "output_type": "execute_result",
          "data": {
            "text/plain": [
              "'80'"
            ],
            "application/vnd.google.colaboratory.intrinsic+json": {
              "type": "string"
            }
          },
          "metadata": {},
          "execution_count": 29
        }
      ]
    },
    {
      "cell_type": "code",
      "source": [
        "# 성별 데이터는 항상 마지막 인덱스에 존재함\n",
        "data1 = 'a123456F'\n",
        "data2 = 'b123132131M'\n",
        "\n",
        "data1[-1]"
      ],
      "metadata": {
        "colab": {
          "base_uri": "https://localhost:8080/",
          "height": 35
        },
        "id": "1_qtWKMnRbCf",
        "outputId": "35aad216-27c7-41ab-9696-dad34255d889"
      },
      "execution_count": 30,
      "outputs": [
        {
          "output_type": "execute_result",
          "data": {
            "text/plain": [
              "'F'"
            ],
            "application/vnd.google.colaboratory.intrinsic+json": {
              "type": "string"
            }
          },
          "metadata": {},
          "execution_count": 30
        }
      ]
    },
    {
      "cell_type": "code",
      "source": [
        "min = '801212-1234578' #801212-*******\n",
        "\n",
        "min_code = min[0:7] + '*******'\n",
        "min_code\n",
        "\n",
        "#min_decode = min_code[0:7] + min[7:14]\n",
        "#min_decode"
      ],
      "metadata": {
        "colab": {
          "base_uri": "https://localhost:8080/",
          "height": 35
        },
        "id": "zjGaeDhuR3WP",
        "outputId": "c8f094db-11e8-4719-84d1-4984e7d63f0e"
      },
      "execution_count": 35,
      "outputs": [
        {
          "output_type": "execute_result",
          "data": {
            "text/plain": [
              "'801212-*******'"
            ],
            "application/vnd.google.colaboratory.intrinsic+json": {
              "type": "string"
            }
          },
          "metadata": {},
          "execution_count": 35
        }
      ]
    },
    {
      "cell_type": "markdown",
      "source": [
        "**문자열 Formatting**"
      ],
      "metadata": {
        "id": "dmTeEeTVThvo"
      }
    },
    {
      "cell_type": "code",
      "source": [
        "'나이 : %d'%29"
      ],
      "metadata": {
        "colab": {
          "base_uri": "https://localhost:8080/",
          "height": 35
        },
        "id": "p4SAxxzrSbG9",
        "outputId": "0910779e-5609-4d1c-98bf-1ecd3821b3a0"
      },
      "execution_count": 36,
      "outputs": [
        {
          "output_type": "execute_result",
          "data": {
            "text/plain": [
              "'나이 : 29'"
            ],
            "application/vnd.google.colaboratory.intrinsic+json": {
              "type": "string"
            }
          },
          "metadata": {},
          "execution_count": 36
        }
      ]
    },
    {
      "cell_type": "code",
      "source": [
        "'나이 : {0}'.format(30)"
      ],
      "metadata": {
        "colab": {
          "base_uri": "https://localhost:8080/",
          "height": 35
        },
        "id": "pz74oexvTwwb",
        "outputId": "f70de0aa-e103-4548-9d6a-4df2e0796133"
      },
      "execution_count": 37,
      "outputs": [
        {
          "output_type": "execute_result",
          "data": {
            "text/plain": [
              "'나이 : 30'"
            ],
            "application/vnd.google.colaboratory.intrinsic+json": {
              "type": "string"
            }
          },
          "metadata": {},
          "execution_count": 37
        }
      ]
    },
    {
      "cell_type": "code",
      "source": [
        "'나이 : {0}'.format('30')"
      ],
      "metadata": {
        "colab": {
          "base_uri": "https://localhost:8080/",
          "height": 35
        },
        "id": "NFQ_ZqPxUoq_",
        "outputId": "30000a39-c100-4d00-97a0-936ac87a24b5"
      },
      "execution_count": 38,
      "outputs": [
        {
          "output_type": "execute_result",
          "data": {
            "text/plain": [
              "'나이 : 30'"
            ],
            "application/vnd.google.colaboratory.intrinsic+json": {
              "type": "string"
            }
          },
          "metadata": {},
          "execution_count": 38
        }
      ]
    },
    {
      "cell_type": "code",
      "source": [
        "'나이 : {0} {1}'.format(30,25)"
      ],
      "metadata": {
        "colab": {
          "base_uri": "https://localhost:8080/",
          "height": 35
        },
        "id": "cX9iRg4cUrDS",
        "outputId": "baf9837f-7920-4712-8c44-c1288eb88736"
      },
      "execution_count": 39,
      "outputs": [
        {
          "output_type": "execute_result",
          "data": {
            "text/plain": [
              "'나이 : 30 25'"
            ],
            "application/vnd.google.colaboratory.intrinsic+json": {
              "type": "string"
            }
          },
          "metadata": {},
          "execution_count": 39
        }
      ]
    },
    {
      "cell_type": "code",
      "source": [
        "'나이 : {b} {a}'.format(a=30, b=15)"
      ],
      "metadata": {
        "colab": {
          "base_uri": "https://localhost:8080/",
          "height": 35
        },
        "id": "YEgEIbjEUxpz",
        "outputId": "b376c64e-89bd-48b5-e317-06f8e0668922"
      },
      "execution_count": 41,
      "outputs": [
        {
          "output_type": "execute_result",
          "data": {
            "text/plain": [
              "'나이 : 15 30'"
            ],
            "application/vnd.google.colaboratory.intrinsic+json": {
              "type": "string"
            }
          },
          "metadata": {},
          "execution_count": 41
        }
      ]
    },
    {
      "cell_type": "code",
      "source": [
        "a = 0.123456\n",
        "\n",
        "'{0:0.2f}'.format(a) #소수점 2번째까지"
      ],
      "metadata": {
        "colab": {
          "base_uri": "https://localhost:8080/",
          "height": 35
        },
        "id": "M6zO2nUvU4WS",
        "outputId": "e2702efa-9fd9-4ef7-8b89-96718f860a67"
      },
      "execution_count": 42,
      "outputs": [
        {
          "output_type": "execute_result",
          "data": {
            "text/plain": [
              "'0.12'"
            ],
            "application/vnd.google.colaboratory.intrinsic+json": {
              "type": "string"
            }
          },
          "metadata": {},
          "execution_count": 42
        }
      ]
    },
    {
      "cell_type": "code",
      "source": [
        "'{0:5.2f}'.format(a) #전체 자리를 5개로 맞추고 소수점 2번째까지 -> 0.12 앞에 빈칸 2개가 추가됨"
      ],
      "metadata": {
        "colab": {
          "base_uri": "https://localhost:8080/",
          "height": 35
        },
        "id": "PT6W9N_TVcnj",
        "outputId": "31546e1f-d457-4f19-fde6-c4df9b6cc53e"
      },
      "execution_count": 44,
      "outputs": [
        {
          "output_type": "execute_result",
          "data": {
            "text/plain": [
              "' 0.12'"
            ],
            "application/vnd.google.colaboratory.intrinsic+json": {
              "type": "string"
            }
          },
          "metadata": {},
          "execution_count": 44
        }
      ]
    },
    {
      "cell_type": "code",
      "source": [
        "name = '홍길동'\n",
        "f'이름 {name}' #f함수로 formatting됨"
      ],
      "metadata": {
        "colab": {
          "base_uri": "https://localhost:8080/",
          "height": 35
        },
        "id": "OLcMheDDVl5K",
        "outputId": "ce407fa8-b950-4bea-bbaf-d18a70ed9446"
      },
      "execution_count": 45,
      "outputs": [
        {
          "output_type": "execute_result",
          "data": {
            "text/plain": [
              "'이름 홍길동'"
            ],
            "application/vnd.google.colaboratory.intrinsic+json": {
              "type": "string"
            }
          },
          "metadata": {},
          "execution_count": 45
        }
      ]
    },
    {
      "cell_type": "code",
      "source": [
        "name = '      홍길동' #왼쪽 공백 제거\n",
        "name.lstrip()"
      ],
      "metadata": {
        "colab": {
          "base_uri": "https://localhost:8080/",
          "height": 35
        },
        "id": "jU-cp1hWV9fR",
        "outputId": "fb597619-d5d5-404b-d13b-ee73a94fa95c"
      },
      "execution_count": 46,
      "outputs": [
        {
          "output_type": "execute_result",
          "data": {
            "text/plain": [
              "'홍길동'"
            ],
            "application/vnd.google.colaboratory.intrinsic+json": {
              "type": "string"
            }
          },
          "metadata": {},
          "execution_count": 46
        }
      ]
    },
    {
      "cell_type": "code",
      "source": [
        "name = '홍길동    '#오른쪽 공백 제거\n",
        "name.rstrip()"
      ],
      "metadata": {
        "colab": {
          "base_uri": "https://localhost:8080/",
          "height": 35
        },
        "id": "g029v2XSWSs4",
        "outputId": "e6e6d544-4846-4391-e5b9-d98c333fef5c"
      },
      "execution_count": 47,
      "outputs": [
        {
          "output_type": "execute_result",
          "data": {
            "text/plain": [
              "'홍길동'"
            ],
            "application/vnd.google.colaboratory.intrinsic+json": {
              "type": "string"
            }
          },
          "metadata": {},
          "execution_count": 47
        }
      ]
    },
    {
      "cell_type": "code",
      "source": [
        "name = '   홍길동    '#공백 제거\n",
        "name.strip()"
      ],
      "metadata": {
        "colab": {
          "base_uri": "https://localhost:8080/",
          "height": 35
        },
        "id": "xhOGOC_8WcHf",
        "outputId": "b0aa78ca-6c87-47f2-bbab-4a00c420db68"
      },
      "execution_count": 48,
      "outputs": [
        {
          "output_type": "execute_result",
          "data": {
            "text/plain": [
              "'홍길동'"
            ],
            "application/vnd.google.colaboratory.intrinsic+json": {
              "type": "string"
            }
          },
          "metadata": {},
          "execution_count": 48
        }
      ]
    },
    {
      "cell_type": "code",
      "source": [
        "' m' , 'm ', ' m ' # 같은 성별이지만 공백때문에 3가지 종류가 생김 -> 공백 제거 필요"
      ],
      "metadata": {
        "colab": {
          "base_uri": "https://localhost:8080/"
        },
        "id": "z_5aY_WrWfhO",
        "outputId": "ef530fd3-062d-4c79-8654-995e07ebe494"
      },
      "execution_count": 49,
      "outputs": [
        {
          "output_type": "execute_result",
          "data": {
            "text/plain": [
              "(' m', 'm ', ' m ')"
            ]
          },
          "metadata": {},
          "execution_count": 49
        }
      ]
    },
    {
      "cell_type": "code",
      "source": [
        "a = '서울 강남구'\n",
        "a = a.replace('서울','서울시') #replace()하면 다시 저장해야함\n",
        "a"
      ],
      "metadata": {
        "colab": {
          "base_uri": "https://localhost:8080/",
          "height": 35
        },
        "id": "Jz7YK63kWut4",
        "outputId": "8d70959e-82d4-4693-ae94-b9ada5e7b997"
      },
      "execution_count": 54,
      "outputs": [
        {
          "output_type": "execute_result",
          "data": {
            "text/plain": [
              "'서울시 강남구'"
            ],
            "application/vnd.google.colaboratory.intrinsic+json": {
              "type": "string"
            }
          },
          "metadata": {},
          "execution_count": 54
        }
      ]
    },
    {
      "cell_type": "code",
      "source": [
        "a = '강남구 동작구 노원구'\n",
        "a = a.split(' ') # 띄어쓰기를 구분해서 리스트로 저장\n",
        "a"
      ],
      "metadata": {
        "colab": {
          "base_uri": "https://localhost:8080/"
        },
        "id": "ROWVCOReXS5F",
        "outputId": "93559fe7-92a6-44b7-8dd4-c820de439b2a"
      },
      "execution_count": 62,
      "outputs": [
        {
          "output_type": "execute_result",
          "data": {
            "text/plain": [
              "['강남구', '동작구', '노원구']"
            ]
          },
          "metadata": {},
          "execution_count": 62
        }
      ]
    },
    {
      "cell_type": "code",
      "source": [
        "a = 'mmmmmmfmfmffmfmfmfmmmmm'\n",
        "a.count('f')"
      ],
      "metadata": {
        "colab": {
          "base_uri": "https://localhost:8080/"
        },
        "id": "h1uaToboYA33",
        "outputId": "caad9b4b-556c-4ba9-9231-32c6ad2e41d5"
      },
      "execution_count": 63,
      "outputs": [
        {
          "output_type": "execute_result",
          "data": {
            "text/plain": [
              "7"
            ]
          },
          "metadata": {},
          "execution_count": 63
        }
      ]
    },
    {
      "cell_type": "code",
      "source": [
        "a.find('f')"
      ],
      "metadata": {
        "colab": {
          "base_uri": "https://localhost:8080/"
        },
        "id": "heScRfcPYXTb",
        "outputId": "a5c20c0b-2e66-4dd5-e1ec-1f213067cace"
      },
      "execution_count": 64,
      "outputs": [
        {
          "output_type": "execute_result",
          "data": {
            "text/plain": [
              "6"
            ]
          },
          "metadata": {},
          "execution_count": 64
        }
      ]
    },
    {
      "cell_type": "code",
      "source": [
        "# mmffmm -> m,m,f,f,m,m\n",
        "# 데이터들 사이에 구분자를 삽입\n",
        "','.join('mmffmm')"
      ],
      "metadata": {
        "colab": {
          "base_uri": "https://localhost:8080/",
          "height": 35
        },
        "id": "VTHbbGwvYZzk",
        "outputId": "21097e0c-deec-436f-9d1f-a9afbc25eea3"
      },
      "execution_count": 65,
      "outputs": [
        {
          "output_type": "execute_result",
          "data": {
            "text/plain": [
              "'m,m,f,f,m,m'"
            ],
            "application/vnd.google.colaboratory.intrinsic+json": {
              "type": "string"
            }
          },
          "metadata": {},
          "execution_count": 65
        }
      ]
    },
    {
      "cell_type": "code",
      "source": [
        "data = 'mMMmmFffMm'\n",
        "data = data.upper()\n",
        "print(data)\n",
        "data.count('M')"
      ],
      "metadata": {
        "colab": {
          "base_uri": "https://localhost:8080/"
        },
        "id": "44KCsAoGYu6n",
        "outputId": "cefcaa13-2fec-4d76-9a97-4da3d42163af"
      },
      "execution_count": 69,
      "outputs": [
        {
          "output_type": "stream",
          "name": "stdout",
          "text": [
            "MMMMMFFFMM\n"
          ]
        },
        {
          "output_type": "execute_result",
          "data": {
            "text/plain": [
              "7"
            ]
          },
          "metadata": {},
          "execution_count": 69
        }
      ]
    },
    {
      "cell_type": "code",
      "source": [
        "data = 'mMMmmFffMm'\n",
        "data = data.lower()\n",
        "print(data)\n",
        "data.count('m')"
      ],
      "metadata": {
        "colab": {
          "base_uri": "https://localhost:8080/"
        },
        "id": "DJumvjC9ZFxR",
        "outputId": "d3864c3f-bd2c-4bca-958a-3bf84b74d67b"
      },
      "execution_count": 70,
      "outputs": [
        {
          "output_type": "stream",
          "name": "stdout",
          "text": [
            "mmmmmfffmm\n"
          ]
        },
        {
          "output_type": "execute_result",
          "data": {
            "text/plain": [
              "7"
            ]
          },
          "metadata": {},
          "execution_count": 70
        }
      ]
    },
    {
      "cell_type": "markdown",
      "source": [
        "**리스트**"
      ],
      "metadata": {
        "id": "BR5zepcfaO3P"
      }
    },
    {
      "cell_type": "code",
      "source": [
        "name = []\n",
        "print(name)"
      ],
      "metadata": {
        "colab": {
          "base_uri": "https://localhost:8080/"
        },
        "id": "ERYdC5y9ZUj-",
        "outputId": "7186fc14-a68b-4af8-a600-3ab6a45a38d0"
      },
      "execution_count": 71,
      "outputs": [
        {
          "output_type": "stream",
          "name": "stdout",
          "text": [
            "[]\n"
          ]
        }
      ]
    },
    {
      "cell_type": "code",
      "source": [
        "score = [100, 80, 40, 99]\n",
        "name = ['홍길동', '헐크', '아이언맨', '토르']"
      ],
      "metadata": {
        "id": "WlRXEKBOaUqV"
      },
      "execution_count": 72,
      "outputs": []
    },
    {
      "cell_type": "code",
      "source": [
        "data = [19, '789', ['4','5']]\n",
        "len(data)\n",
        "data[0]\n",
        "data[0:2]"
      ],
      "metadata": {
        "colab": {
          "base_uri": "https://localhost:8080/"
        },
        "id": "R9DWudMoeKBU",
        "outputId": "98ae8c42-bca6-441c-9dbe-b1c828ef65ae"
      },
      "execution_count": 76,
      "outputs": [
        {
          "output_type": "execute_result",
          "data": {
            "text/plain": [
              "[19, '789']"
            ]
          },
          "metadata": {},
          "execution_count": 76
        }
      ]
    },
    {
      "cell_type": "code",
      "source": [
        "data = [['홍길동',30],['헐크',22],['아이언맨',32]]\n",
        "data[0]\n",
        "data[0][0]\n",
        "data[1][0]\n",
        "data[2][0]"
      ],
      "metadata": {
        "colab": {
          "base_uri": "https://localhost:8080/",
          "height": 35
        },
        "id": "yZfap1aSeZ7k",
        "outputId": "c6c26d4b-d1ae-4c4e-ec7a-92ab604af554"
      },
      "execution_count": 80,
      "outputs": [
        {
          "output_type": "execute_result",
          "data": {
            "text/plain": [
              "'아이언맨'"
            ],
            "application/vnd.google.colaboratory.intrinsic+json": {
              "type": "string"
            }
          },
          "metadata": {},
          "execution_count": 80
        }
      ]
    },
    {
      "cell_type": "code",
      "source": [
        "a = [1,2,3]\n",
        "b = [4,5,6]\n",
        "a+b"
      ],
      "metadata": {
        "colab": {
          "base_uri": "https://localhost:8080/"
        },
        "id": "iGZbA4uNe7dB",
        "outputId": "95fbd19f-910b-4474-b132-4503a8f06068"
      },
      "execution_count": 81,
      "outputs": [
        {
          "output_type": "execute_result",
          "data": {
            "text/plain": [
              "[1, 2, 3, 4, 5, 6]"
            ]
          },
          "metadata": {},
          "execution_count": 81
        }
      ]
    },
    {
      "cell_type": "code",
      "source": [
        "data = []\n",
        "data.append('김나래')\n",
        "data.append('김종민')\n",
        "data"
      ],
      "metadata": {
        "colab": {
          "base_uri": "https://localhost:8080/"
        },
        "id": "dgxTi5JffRic",
        "outputId": "08bb3b3d-502b-437d-a3d3-ff306e907733"
      },
      "execution_count": 83,
      "outputs": [
        {
          "output_type": "execute_result",
          "data": {
            "text/plain": [
              "['김나래', '김종민']"
            ]
          },
          "metadata": {},
          "execution_count": 83
        }
      ]
    },
    {
      "cell_type": "code",
      "source": [
        "data.insert(1,'김명진')\n",
        "data"
      ],
      "metadata": {
        "colab": {
          "base_uri": "https://localhost:8080/"
        },
        "id": "4uiiXCI9f4bb",
        "outputId": "d0caea1f-b0cf-4aeb-b273-d666dd43fc01"
      },
      "execution_count": 84,
      "outputs": [
        {
          "output_type": "execute_result",
          "data": {
            "text/plain": [
              "['김나래', '김명진', '김종민']"
            ]
          },
          "metadata": {},
          "execution_count": 84
        }
      ]
    },
    {
      "cell_type": "code",
      "source": [
        "score = [99, 1, 2, 333, 21,89]\n",
        "score.sort()\n",
        "score"
      ],
      "metadata": {
        "colab": {
          "base_uri": "https://localhost:8080/"
        },
        "id": "MiMs7Vp4gS6n",
        "outputId": "592ef8c4-06e5-4516-d22e-31205086b44d"
      },
      "execution_count": 85,
      "outputs": [
        {
          "output_type": "execute_result",
          "data": {
            "text/plain": [
              "[1, 2, 21, 89, 99, 333]"
            ]
          },
          "metadata": {},
          "execution_count": 85
        }
      ]
    },
    {
      "cell_type": "code",
      "source": [
        "score.reverse()\n",
        "score"
      ],
      "metadata": {
        "colab": {
          "base_uri": "https://localhost:8080/"
        },
        "id": "J3RL5TkWgiQd",
        "outputId": "f37c1582-2164-45ab-b4e3-bbc67d29510e"
      },
      "execution_count": 86,
      "outputs": [
        {
          "output_type": "execute_result",
          "data": {
            "text/plain": [
              "[333, 99, 89, 21, 2, 1]"
            ]
          },
          "metadata": {},
          "execution_count": 86
        }
      ]
    },
    {
      "cell_type": "code",
      "source": [
        "a = [1,2,3]\n",
        "a.pop()"
      ],
      "metadata": {
        "colab": {
          "base_uri": "https://localhost:8080/"
        },
        "id": "XvHSdwLWgvg7",
        "outputId": "8d051f0d-4135-4804-dce1-12e3d690d88f"
      },
      "execution_count": 88,
      "outputs": [
        {
          "output_type": "execute_result",
          "data": {
            "text/plain": [
              "3"
            ]
          },
          "metadata": {},
          "execution_count": 88
        }
      ]
    },
    {
      "cell_type": "code",
      "source": [
        "a"
      ],
      "metadata": {
        "colab": {
          "base_uri": "https://localhost:8080/"
        },
        "id": "vZmGOCczg_kD",
        "outputId": "08ebcf0d-a5c3-40d6-a271-8d9c7592bb3e"
      },
      "execution_count": 89,
      "outputs": [
        {
          "output_type": "execute_result",
          "data": {
            "text/plain": [
              "[1, 2]"
            ]
          },
          "metadata": {},
          "execution_count": 89
        }
      ]
    },
    {
      "cell_type": "markdown",
      "source": [
        "**튜플**"
      ],
      "metadata": {
        "id": "gT24kdOxiCBe"
      }
    },
    {
      "cell_type": "code",
      "source": [
        "# 데이터의 생성, 삭제, 수정이 불가능\n",
        "# ()를 사용\n",
        "a = (1,2,3)\n",
        "a"
      ],
      "metadata": {
        "colab": {
          "base_uri": "https://localhost:8080/"
        },
        "id": "brq0Jzv0hEjC",
        "outputId": "dd57192e-06ba-4623-e939-1942d27764be"
      },
      "execution_count": 91,
      "outputs": [
        {
          "output_type": "execute_result",
          "data": {
            "text/plain": [
              "(1, 2, 3)"
            ]
          },
          "metadata": {},
          "execution_count": 91
        }
      ]
    },
    {
      "cell_type": "markdown",
      "source": [
        "**딕셔너리**"
      ],
      "metadata": {
        "id": "z40d_1NQiSC-"
      }
    },
    {
      "cell_type": "code",
      "source": [
        "#리스트\n",
        "data = [['홍길동',30],['헐크',22],['아이언맨',32]]\n",
        "\n",
        "# 딕셔너리 데이터의 형태 -> {'이름': '홍길동', '나이':30}\n",
        "# 딕셔너리와 JSON 비슷\n",
        "#딕셔너리\n",
        "ai_data = {'name': ['김나래','김명진'],'age':[22,21]}\n",
        "ai_data['name']\n",
        "ai_data['name'][0]"
      ],
      "metadata": {
        "colab": {
          "base_uri": "https://localhost:8080/",
          "height": 35
        },
        "id": "5jcXOVBFiP5p",
        "outputId": "b9751ec4-f712-4da7-fc97-04d9715f1603"
      },
      "execution_count": 93,
      "outputs": [
        {
          "output_type": "execute_result",
          "data": {
            "text/plain": [
              "'김나래'"
            ],
            "application/vnd.google.colaboratory.intrinsic+json": {
              "type": "string"
            }
          },
          "metadata": {},
          "execution_count": 93
        }
      ]
    },
    {
      "cell_type": "code",
      "source": [
        "ai_data.keys()"
      ],
      "metadata": {
        "colab": {
          "base_uri": "https://localhost:8080/"
        },
        "id": "i7HKDmYFjxNm",
        "outputId": "398d7d6f-f9a0-4337-9fa6-6773d05ce48e"
      },
      "execution_count": 94,
      "outputs": [
        {
          "output_type": "execute_result",
          "data": {
            "text/plain": [
              "dict_keys(['name', 'age'])"
            ]
          },
          "metadata": {},
          "execution_count": 94
        }
      ]
    },
    {
      "cell_type": "code",
      "source": [
        "ai_data.values()"
      ],
      "metadata": {
        "colab": {
          "base_uri": "https://localhost:8080/"
        },
        "id": "SHOmW0OCkCdO",
        "outputId": "afbe4bde-bf72-43dd-fba3-83eb76d34b18"
      },
      "execution_count": 95,
      "outputs": [
        {
          "output_type": "execute_result",
          "data": {
            "text/plain": [
              "dict_values([['김나래', '김명진'], [22, 21]])"
            ]
          },
          "metadata": {},
          "execution_count": 95
        }
      ]
    },
    {
      "cell_type": "code",
      "source": [
        "data = {}\n",
        "data['name'] = ['홍길동','헐크']\n",
        "data"
      ],
      "metadata": {
        "colab": {
          "base_uri": "https://localhost:8080/"
        },
        "id": "by0w9fTskOEp",
        "outputId": "39231e14-205f-44b7-e331-6c6cd9cb4286"
      },
      "execution_count": 96,
      "outputs": [
        {
          "output_type": "execute_result",
          "data": {
            "text/plain": [
              "{'name': ['홍길동', '헐크']}"
            ]
          },
          "metadata": {},
          "execution_count": 96
        }
      ]
    },
    {
      "cell_type": "code",
      "source": [
        "'age' in data #데이터 딕셔너리 안에 age라는 key가 있는가?"
      ],
      "metadata": {
        "colab": {
          "base_uri": "https://localhost:8080/"
        },
        "id": "9FsSjnE1kdU8",
        "outputId": "9d1da629-94cf-472e-b22c-fc44ea14aa91"
      },
      "execution_count": 98,
      "outputs": [
        {
          "output_type": "execute_result",
          "data": {
            "text/plain": [
              "False"
            ]
          },
          "metadata": {},
          "execution_count": 98
        }
      ]
    },
    {
      "cell_type": "markdown",
      "source": [
        "**집합 자료형**"
      ],
      "metadata": {
        "id": "HswK6_20lOI-"
      }
    },
    {
      "cell_type": "code",
      "source": [
        "data = set('banana') #중복 데이터 제거\n",
        "data"
      ],
      "metadata": {
        "colab": {
          "base_uri": "https://localhost:8080/"
        },
        "id": "JId0mLBlk-hw",
        "outputId": "4fa641ef-9155-423a-c510-91952d4ff429"
      },
      "execution_count": 100,
      "outputs": [
        {
          "output_type": "execute_result",
          "data": {
            "text/plain": [
              "{'a', 'b', 'n'}"
            ]
          },
          "metadata": {},
          "execution_count": 100
        }
      ]
    },
    {
      "cell_type": "markdown",
      "source": [
        "## 제어문"
      ],
      "metadata": {
        "id": "_NEEW85kmUWu"
      }
    },
    {
      "cell_type": "markdown",
      "source": [
        "**조건문**"
      ],
      "metadata": {
        "id": "ugnMWWT5mYc-"
      }
    },
    {
      "cell_type": "code",
      "source": [
        "score = 100\n",
        "\n",
        "if score == 100:\n",
        "    print('축하합니다.')"
      ],
      "metadata": {
        "colab": {
          "base_uri": "https://localhost:8080/"
        },
        "id": "UeiMPgAJlXuf",
        "outputId": "0459d538-5688-4fa9-9f85-13e6fc541830"
      },
      "execution_count": 103,
      "outputs": [
        {
          "output_type": "stream",
          "name": "stdout",
          "text": [
            "축하합니다.\n"
          ]
        }
      ]
    },
    {
      "cell_type": "code",
      "source": [
        "#아이디 : ai, 비밀번호 : ai 이면 로그인이 되었습니다.\n",
        "#를 출력하세요.\n",
        "\n",
        "id = 'ai'\n",
        "pw = 'ai'\n",
        "count = 0\n",
        "\n",
        "if id == 'ai':\n",
        "    count += 1\n",
        "\n",
        "if pw == 'ai':\n",
        "    count += 1\n",
        "\n",
        "if count == 2:\n",
        "    print('로그인이 되었습니다.')"
      ],
      "metadata": {
        "colab": {
          "base_uri": "https://localhost:8080/"
        },
        "id": "noWBZEhLoN-V",
        "outputId": "bd72ac5a-c5bf-4c47-a922-22bb6e97711f"
      },
      "execution_count": 104,
      "outputs": [
        {
          "output_type": "stream",
          "name": "stdout",
          "text": [
            "로그인이 되었습니다.\n"
          ]
        }
      ]
    },
    {
      "cell_type": "code",
      "source": [],
      "metadata": {
        "id": "IqjA8JErqdkw"
      },
      "execution_count": null,
      "outputs": []
    }
  ]
}