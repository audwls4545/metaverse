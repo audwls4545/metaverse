{
  "metadata": {
    "kernelspec": {
      "language": "python",
      "display_name": "Python 3",
      "name": "python3"
    },
    "language_info": {
      "pygments_lexer": "ipython3",
      "nbconvert_exporter": "python",
      "version": "3.6.4",
      "file_extension": ".py",
      "codemirror_mode": {
        "name": "ipython",
        "version": 3
      },
      "name": "python",
      "mimetype": "text/x-python"
    },
    "colab": {
      "provenance": [],
      "include_colab_link": true
    }
  },
  "nbformat_minor": 0,
  "nbformat": 4,
  "cells": [
    {
      "cell_type": "markdown",
      "metadata": {
        "id": "view-in-github",
        "colab_type": "text"
      },
      "source": [
        "<a href=\"https://colab.research.google.com/github/audwls4545/metaverse/blob/main/%EC%8B%A4%EC%8A%B506_%EB%8B%B9%EB%87%A8%EB%B3%91%EB%B0%9C%EB%B3%91%EC%97%AC%EB%B6%80%EB%B6%84%EB%A5%98%EB%AA%A8%EB%8D%B8.ipynb\" target=\"_parent\"><img src=\"https://colab.research.google.com/assets/colab-badge.svg\" alt=\"Open In Colab\"/></a>"
      ]
    },
    {
      "cell_type": "markdown",
      "source": [
        "## Deep Learning with PyTorch \n",
        "### 실습06. MPL Modeling : 당뇨병 발병 여부 분류 모델\n",
        "\n",
        "1. Import & Exploer Data\n",
        "2. Preprocess Data\n",
        "3. Train Model\n",
        "4. Test Model\n",
        "  \n",
        "<img src=\"https://dl.dropbox.com/s/j1mnyjbr3k5hwfp/diabet.png\" width=\"400\"/>\n"
      ],
      "metadata": {
        "id": "JRMnR-vWqoc_"
      }
    },
    {
      "cell_type": "markdown",
      "source": [
        "#### 1. Import & Exploer Data"
      ],
      "metadata": {
        "id": "c_isEI_BrtFP"
      }
    },
    {
      "cell_type": "code",
      "source": [
        "# 1-1. Import Data\n",
        "\n",
        "import pandas as pd\n",
        "\n",
        "data = pd.read_csv('15강_데이터_Diabetes_Data.csv')\n",
        "data.head()"
      ],
      "metadata": {
        "id": "nRsHGMs8rzre",
        "colab": {
          "base_uri": "https://localhost:8080/",
          "height": 206
        },
        "outputId": "2c6e6424-b6e9-42ff-f4d2-e361f9545cc5"
      },
      "execution_count": 3,
      "outputs": [
        {
          "output_type": "execute_result",
          "data": {
            "text/plain": [
              "   pregnant  gloucose  blood pressure  skin thickness  insulin   BMI    DPF  \\\n",
              "0         6       148              72              35        0  33.6  0.627   \n",
              "1         1        85              66              29        0  26.6  0.351   \n",
              "2         8       183              64               0        0  23.3  0.672   \n",
              "3         1        89              66              23       94  28.1  0.167   \n",
              "4         0       137              40              35      168  43.1  2.288   \n",
              "\n",
              "   age  result  \n",
              "0   50       1  \n",
              "1   31       0  \n",
              "2   32       1  \n",
              "3   21       0  \n",
              "4   33       1  "
            ],
            "text/html": [
              "\n",
              "  <div id=\"df-56efb615-1e8a-45b2-8345-4f9d057e75e1\">\n",
              "    <div class=\"colab-df-container\">\n",
              "      <div>\n",
              "<style scoped>\n",
              "    .dataframe tbody tr th:only-of-type {\n",
              "        vertical-align: middle;\n",
              "    }\n",
              "\n",
              "    .dataframe tbody tr th {\n",
              "        vertical-align: top;\n",
              "    }\n",
              "\n",
              "    .dataframe thead th {\n",
              "        text-align: right;\n",
              "    }\n",
              "</style>\n",
              "<table border=\"1\" class=\"dataframe\">\n",
              "  <thead>\n",
              "    <tr style=\"text-align: right;\">\n",
              "      <th></th>\n",
              "      <th>pregnant</th>\n",
              "      <th>gloucose</th>\n",
              "      <th>blood pressure</th>\n",
              "      <th>skin thickness</th>\n",
              "      <th>insulin</th>\n",
              "      <th>BMI</th>\n",
              "      <th>DPF</th>\n",
              "      <th>age</th>\n",
              "      <th>result</th>\n",
              "    </tr>\n",
              "  </thead>\n",
              "  <tbody>\n",
              "    <tr>\n",
              "      <th>0</th>\n",
              "      <td>6</td>\n",
              "      <td>148</td>\n",
              "      <td>72</td>\n",
              "      <td>35</td>\n",
              "      <td>0</td>\n",
              "      <td>33.6</td>\n",
              "      <td>0.627</td>\n",
              "      <td>50</td>\n",
              "      <td>1</td>\n",
              "    </tr>\n",
              "    <tr>\n",
              "      <th>1</th>\n",
              "      <td>1</td>\n",
              "      <td>85</td>\n",
              "      <td>66</td>\n",
              "      <td>29</td>\n",
              "      <td>0</td>\n",
              "      <td>26.6</td>\n",
              "      <td>0.351</td>\n",
              "      <td>31</td>\n",
              "      <td>0</td>\n",
              "    </tr>\n",
              "    <tr>\n",
              "      <th>2</th>\n",
              "      <td>8</td>\n",
              "      <td>183</td>\n",
              "      <td>64</td>\n",
              "      <td>0</td>\n",
              "      <td>0</td>\n",
              "      <td>23.3</td>\n",
              "      <td>0.672</td>\n",
              "      <td>32</td>\n",
              "      <td>1</td>\n",
              "    </tr>\n",
              "    <tr>\n",
              "      <th>3</th>\n",
              "      <td>1</td>\n",
              "      <td>89</td>\n",
              "      <td>66</td>\n",
              "      <td>23</td>\n",
              "      <td>94</td>\n",
              "      <td>28.1</td>\n",
              "      <td>0.167</td>\n",
              "      <td>21</td>\n",
              "      <td>0</td>\n",
              "    </tr>\n",
              "    <tr>\n",
              "      <th>4</th>\n",
              "      <td>0</td>\n",
              "      <td>137</td>\n",
              "      <td>40</td>\n",
              "      <td>35</td>\n",
              "      <td>168</td>\n",
              "      <td>43.1</td>\n",
              "      <td>2.288</td>\n",
              "      <td>33</td>\n",
              "      <td>1</td>\n",
              "    </tr>\n",
              "  </tbody>\n",
              "</table>\n",
              "</div>\n",
              "      <button class=\"colab-df-convert\" onclick=\"convertToInteractive('df-56efb615-1e8a-45b2-8345-4f9d057e75e1')\"\n",
              "              title=\"Convert this dataframe to an interactive table.\"\n",
              "              style=\"display:none;\">\n",
              "        \n",
              "  <svg xmlns=\"http://www.w3.org/2000/svg\" height=\"24px\"viewBox=\"0 0 24 24\"\n",
              "       width=\"24px\">\n",
              "    <path d=\"M0 0h24v24H0V0z\" fill=\"none\"/>\n",
              "    <path d=\"M18.56 5.44l.94 2.06.94-2.06 2.06-.94-2.06-.94-.94-2.06-.94 2.06-2.06.94zm-11 1L8.5 8.5l.94-2.06 2.06-.94-2.06-.94L8.5 2.5l-.94 2.06-2.06.94zm10 10l.94 2.06.94-2.06 2.06-.94-2.06-.94-.94-2.06-.94 2.06-2.06.94z\"/><path d=\"M17.41 7.96l-1.37-1.37c-.4-.4-.92-.59-1.43-.59-.52 0-1.04.2-1.43.59L10.3 9.45l-7.72 7.72c-.78.78-.78 2.05 0 2.83L4 21.41c.39.39.9.59 1.41.59.51 0 1.02-.2 1.41-.59l7.78-7.78 2.81-2.81c.8-.78.8-2.07 0-2.86zM5.41 20L4 18.59l7.72-7.72 1.47 1.35L5.41 20z\"/>\n",
              "  </svg>\n",
              "      </button>\n",
              "      \n",
              "  <style>\n",
              "    .colab-df-container {\n",
              "      display:flex;\n",
              "      flex-wrap:wrap;\n",
              "      gap: 12px;\n",
              "    }\n",
              "\n",
              "    .colab-df-convert {\n",
              "      background-color: #E8F0FE;\n",
              "      border: none;\n",
              "      border-radius: 50%;\n",
              "      cursor: pointer;\n",
              "      display: none;\n",
              "      fill: #1967D2;\n",
              "      height: 32px;\n",
              "      padding: 0 0 0 0;\n",
              "      width: 32px;\n",
              "    }\n",
              "\n",
              "    .colab-df-convert:hover {\n",
              "      background-color: #E2EBFA;\n",
              "      box-shadow: 0px 1px 2px rgba(60, 64, 67, 0.3), 0px 1px 3px 1px rgba(60, 64, 67, 0.15);\n",
              "      fill: #174EA6;\n",
              "    }\n",
              "\n",
              "    [theme=dark] .colab-df-convert {\n",
              "      background-color: #3B4455;\n",
              "      fill: #D2E3FC;\n",
              "    }\n",
              "\n",
              "    [theme=dark] .colab-df-convert:hover {\n",
              "      background-color: #434B5C;\n",
              "      box-shadow: 0px 1px 3px 1px rgba(0, 0, 0, 0.15);\n",
              "      filter: drop-shadow(0px 1px 2px rgba(0, 0, 0, 0.3));\n",
              "      fill: #FFFFFF;\n",
              "    }\n",
              "  </style>\n",
              "\n",
              "      <script>\n",
              "        const buttonEl =\n",
              "          document.querySelector('#df-56efb615-1e8a-45b2-8345-4f9d057e75e1 button.colab-df-convert');\n",
              "        buttonEl.style.display =\n",
              "          google.colab.kernel.accessAllowed ? 'block' : 'none';\n",
              "\n",
              "        async function convertToInteractive(key) {\n",
              "          const element = document.querySelector('#df-56efb615-1e8a-45b2-8345-4f9d057e75e1');\n",
              "          const dataTable =\n",
              "            await google.colab.kernel.invokeFunction('convertToInteractive',\n",
              "                                                     [key], {});\n",
              "          if (!dataTable) return;\n",
              "\n",
              "          const docLinkHtml = 'Like what you see? Visit the ' +\n",
              "            '<a target=\"_blank\" href=https://colab.research.google.com/notebooks/data_table.ipynb>data table notebook</a>'\n",
              "            + ' to learn more about interactive tables.';\n",
              "          element.innerHTML = '';\n",
              "          dataTable['output_type'] = 'display_data';\n",
              "          await google.colab.output.renderOutput(dataTable, element);\n",
              "          const docLink = document.createElement('div');\n",
              "          docLink.innerHTML = docLinkHtml;\n",
              "          element.appendChild(docLink);\n",
              "        }\n",
              "      </script>\n",
              "    </div>\n",
              "  </div>\n",
              "  "
            ]
          },
          "metadata": {},
          "execution_count": 3
        }
      ]
    },
    {
      "cell_type": "code",
      "source": [
        "# 1-2. Data Info\n",
        "\n",
        "data.info()"
      ],
      "metadata": {
        "id": "vzMoJ-bksafG",
        "colab": {
          "base_uri": "https://localhost:8080/"
        },
        "outputId": "bb5229f3-411c-4992-dfa3-fbcdb9c4da13"
      },
      "execution_count": 4,
      "outputs": [
        {
          "output_type": "stream",
          "name": "stdout",
          "text": [
            "<class 'pandas.core.frame.DataFrame'>\n",
            "RangeIndex: 768 entries, 0 to 767\n",
            "Data columns (total 9 columns):\n",
            " #   Column          Non-Null Count  Dtype  \n",
            "---  ------          --------------  -----  \n",
            " 0   pregnant        768 non-null    int64  \n",
            " 1   gloucose        768 non-null    int64  \n",
            " 2   blood pressure  768 non-null    int64  \n",
            " 3   skin thickness  768 non-null    int64  \n",
            " 4   insulin         768 non-null    int64  \n",
            " 5   BMI             768 non-null    float64\n",
            " 6   DPF             768 non-null    float64\n",
            " 7   age             768 non-null    int64  \n",
            " 8   result          768 non-null    int64  \n",
            "dtypes: float64(2), int64(7)\n",
            "memory usage: 54.1 KB\n"
          ]
        }
      ]
    },
    {
      "cell_type": "code",
      "source": [
        "# 1-3. Data Describe\n",
        "\n",
        "data.describe()\n",
        "\n",
        "# 이상값이 나타나는 feature 전처리"
      ],
      "metadata": {
        "id": "NJGa1jDmseUA",
        "colab": {
          "base_uri": "https://localhost:8080/",
          "height": 300
        },
        "outputId": "082ea114-11af-4e2a-b79a-18fc15cf95b5"
      },
      "execution_count": 5,
      "outputs": [
        {
          "output_type": "execute_result",
          "data": {
            "text/plain": [
              "         pregnant    gloucose  blood pressure  skin thickness     insulin  \\\n",
              "count  768.000000  768.000000      768.000000      768.000000  768.000000   \n",
              "mean     3.845052  120.894531       69.105469       20.536458   79.799479   \n",
              "std      3.369578   31.972618       19.355807       15.952218  115.244002   \n",
              "min      0.000000    0.000000        0.000000        0.000000    0.000000   \n",
              "25%      1.000000   99.000000       62.000000        0.000000    0.000000   \n",
              "50%      3.000000  117.000000       72.000000       23.000000   30.500000   \n",
              "75%      6.000000  140.250000       80.000000       32.000000  127.250000   \n",
              "max     17.000000  199.000000      122.000000       99.000000  846.000000   \n",
              "\n",
              "              BMI         DPF         age      result  \n",
              "count  768.000000  768.000000  768.000000  768.000000  \n",
              "mean    31.992578    0.471876   33.240885    0.348958  \n",
              "std      7.884160    0.331329   11.760232    0.476951  \n",
              "min      0.000000    0.078000   21.000000    0.000000  \n",
              "25%     27.300000    0.243750   24.000000    0.000000  \n",
              "50%     32.000000    0.372500   29.000000    0.000000  \n",
              "75%     36.600000    0.626250   41.000000    1.000000  \n",
              "max     67.100000    2.420000   81.000000    1.000000  "
            ],
            "text/html": [
              "\n",
              "  <div id=\"df-833430d0-663c-40a3-9586-15dc1e97bcc2\">\n",
              "    <div class=\"colab-df-container\">\n",
              "      <div>\n",
              "<style scoped>\n",
              "    .dataframe tbody tr th:only-of-type {\n",
              "        vertical-align: middle;\n",
              "    }\n",
              "\n",
              "    .dataframe tbody tr th {\n",
              "        vertical-align: top;\n",
              "    }\n",
              "\n",
              "    .dataframe thead th {\n",
              "        text-align: right;\n",
              "    }\n",
              "</style>\n",
              "<table border=\"1\" class=\"dataframe\">\n",
              "  <thead>\n",
              "    <tr style=\"text-align: right;\">\n",
              "      <th></th>\n",
              "      <th>pregnant</th>\n",
              "      <th>gloucose</th>\n",
              "      <th>blood pressure</th>\n",
              "      <th>skin thickness</th>\n",
              "      <th>insulin</th>\n",
              "      <th>BMI</th>\n",
              "      <th>DPF</th>\n",
              "      <th>age</th>\n",
              "      <th>result</th>\n",
              "    </tr>\n",
              "  </thead>\n",
              "  <tbody>\n",
              "    <tr>\n",
              "      <th>count</th>\n",
              "      <td>768.000000</td>\n",
              "      <td>768.000000</td>\n",
              "      <td>768.000000</td>\n",
              "      <td>768.000000</td>\n",
              "      <td>768.000000</td>\n",
              "      <td>768.000000</td>\n",
              "      <td>768.000000</td>\n",
              "      <td>768.000000</td>\n",
              "      <td>768.000000</td>\n",
              "    </tr>\n",
              "    <tr>\n",
              "      <th>mean</th>\n",
              "      <td>3.845052</td>\n",
              "      <td>120.894531</td>\n",
              "      <td>69.105469</td>\n",
              "      <td>20.536458</td>\n",
              "      <td>79.799479</td>\n",
              "      <td>31.992578</td>\n",
              "      <td>0.471876</td>\n",
              "      <td>33.240885</td>\n",
              "      <td>0.348958</td>\n",
              "    </tr>\n",
              "    <tr>\n",
              "      <th>std</th>\n",
              "      <td>3.369578</td>\n",
              "      <td>31.972618</td>\n",
              "      <td>19.355807</td>\n",
              "      <td>15.952218</td>\n",
              "      <td>115.244002</td>\n",
              "      <td>7.884160</td>\n",
              "      <td>0.331329</td>\n",
              "      <td>11.760232</td>\n",
              "      <td>0.476951</td>\n",
              "    </tr>\n",
              "    <tr>\n",
              "      <th>min</th>\n",
              "      <td>0.000000</td>\n",
              "      <td>0.000000</td>\n",
              "      <td>0.000000</td>\n",
              "      <td>0.000000</td>\n",
              "      <td>0.000000</td>\n",
              "      <td>0.000000</td>\n",
              "      <td>0.078000</td>\n",
              "      <td>21.000000</td>\n",
              "      <td>0.000000</td>\n",
              "    </tr>\n",
              "    <tr>\n",
              "      <th>25%</th>\n",
              "      <td>1.000000</td>\n",
              "      <td>99.000000</td>\n",
              "      <td>62.000000</td>\n",
              "      <td>0.000000</td>\n",
              "      <td>0.000000</td>\n",
              "      <td>27.300000</td>\n",
              "      <td>0.243750</td>\n",
              "      <td>24.000000</td>\n",
              "      <td>0.000000</td>\n",
              "    </tr>\n",
              "    <tr>\n",
              "      <th>50%</th>\n",
              "      <td>3.000000</td>\n",
              "      <td>117.000000</td>\n",
              "      <td>72.000000</td>\n",
              "      <td>23.000000</td>\n",
              "      <td>30.500000</td>\n",
              "      <td>32.000000</td>\n",
              "      <td>0.372500</td>\n",
              "      <td>29.000000</td>\n",
              "      <td>0.000000</td>\n",
              "    </tr>\n",
              "    <tr>\n",
              "      <th>75%</th>\n",
              "      <td>6.000000</td>\n",
              "      <td>140.250000</td>\n",
              "      <td>80.000000</td>\n",
              "      <td>32.000000</td>\n",
              "      <td>127.250000</td>\n",
              "      <td>36.600000</td>\n",
              "      <td>0.626250</td>\n",
              "      <td>41.000000</td>\n",
              "      <td>1.000000</td>\n",
              "    </tr>\n",
              "    <tr>\n",
              "      <th>max</th>\n",
              "      <td>17.000000</td>\n",
              "      <td>199.000000</td>\n",
              "      <td>122.000000</td>\n",
              "      <td>99.000000</td>\n",
              "      <td>846.000000</td>\n",
              "      <td>67.100000</td>\n",
              "      <td>2.420000</td>\n",
              "      <td>81.000000</td>\n",
              "      <td>1.000000</td>\n",
              "    </tr>\n",
              "  </tbody>\n",
              "</table>\n",
              "</div>\n",
              "      <button class=\"colab-df-convert\" onclick=\"convertToInteractive('df-833430d0-663c-40a3-9586-15dc1e97bcc2')\"\n",
              "              title=\"Convert this dataframe to an interactive table.\"\n",
              "              style=\"display:none;\">\n",
              "        \n",
              "  <svg xmlns=\"http://www.w3.org/2000/svg\" height=\"24px\"viewBox=\"0 0 24 24\"\n",
              "       width=\"24px\">\n",
              "    <path d=\"M0 0h24v24H0V0z\" fill=\"none\"/>\n",
              "    <path d=\"M18.56 5.44l.94 2.06.94-2.06 2.06-.94-2.06-.94-.94-2.06-.94 2.06-2.06.94zm-11 1L8.5 8.5l.94-2.06 2.06-.94-2.06-.94L8.5 2.5l-.94 2.06-2.06.94zm10 10l.94 2.06.94-2.06 2.06-.94-2.06-.94-.94-2.06-.94 2.06-2.06.94z\"/><path d=\"M17.41 7.96l-1.37-1.37c-.4-.4-.92-.59-1.43-.59-.52 0-1.04.2-1.43.59L10.3 9.45l-7.72 7.72c-.78.78-.78 2.05 0 2.83L4 21.41c.39.39.9.59 1.41.59.51 0 1.02-.2 1.41-.59l7.78-7.78 2.81-2.81c.8-.78.8-2.07 0-2.86zM5.41 20L4 18.59l7.72-7.72 1.47 1.35L5.41 20z\"/>\n",
              "  </svg>\n",
              "      </button>\n",
              "      \n",
              "  <style>\n",
              "    .colab-df-container {\n",
              "      display:flex;\n",
              "      flex-wrap:wrap;\n",
              "      gap: 12px;\n",
              "    }\n",
              "\n",
              "    .colab-df-convert {\n",
              "      background-color: #E8F0FE;\n",
              "      border: none;\n",
              "      border-radius: 50%;\n",
              "      cursor: pointer;\n",
              "      display: none;\n",
              "      fill: #1967D2;\n",
              "      height: 32px;\n",
              "      padding: 0 0 0 0;\n",
              "      width: 32px;\n",
              "    }\n",
              "\n",
              "    .colab-df-convert:hover {\n",
              "      background-color: #E2EBFA;\n",
              "      box-shadow: 0px 1px 2px rgba(60, 64, 67, 0.3), 0px 1px 3px 1px rgba(60, 64, 67, 0.15);\n",
              "      fill: #174EA6;\n",
              "    }\n",
              "\n",
              "    [theme=dark] .colab-df-convert {\n",
              "      background-color: #3B4455;\n",
              "      fill: #D2E3FC;\n",
              "    }\n",
              "\n",
              "    [theme=dark] .colab-df-convert:hover {\n",
              "      background-color: #434B5C;\n",
              "      box-shadow: 0px 1px 3px 1px rgba(0, 0, 0, 0.15);\n",
              "      filter: drop-shadow(0px 1px 2px rgba(0, 0, 0, 0.3));\n",
              "      fill: #FFFFFF;\n",
              "    }\n",
              "  </style>\n",
              "\n",
              "      <script>\n",
              "        const buttonEl =\n",
              "          document.querySelector('#df-833430d0-663c-40a3-9586-15dc1e97bcc2 button.colab-df-convert');\n",
              "        buttonEl.style.display =\n",
              "          google.colab.kernel.accessAllowed ? 'block' : 'none';\n",
              "\n",
              "        async function convertToInteractive(key) {\n",
              "          const element = document.querySelector('#df-833430d0-663c-40a3-9586-15dc1e97bcc2');\n",
              "          const dataTable =\n",
              "            await google.colab.kernel.invokeFunction('convertToInteractive',\n",
              "                                                     [key], {});\n",
              "          if (!dataTable) return;\n",
              "\n",
              "          const docLinkHtml = 'Like what you see? Visit the ' +\n",
              "            '<a target=\"_blank\" href=https://colab.research.google.com/notebooks/data_table.ipynb>data table notebook</a>'\n",
              "            + ' to learn more about interactive tables.';\n",
              "          element.innerHTML = '';\n",
              "          dataTable['output_type'] = 'display_data';\n",
              "          await google.colab.output.renderOutput(dataTable, element);\n",
              "          const docLink = document.createElement('div');\n",
              "          docLink.innerHTML = docLinkHtml;\n",
              "          element.appendChild(docLink);\n",
              "        }\n",
              "      </script>\n",
              "    </div>\n",
              "  </div>\n",
              "  "
            ]
          },
          "metadata": {},
          "execution_count": 5
        }
      ]
    },
    {
      "cell_type": "markdown",
      "source": [
        "#### 2. Preprocss Data"
      ],
      "metadata": {
        "id": "DcuqjfcYstVR"
      }
    },
    {
      "cell_type": "code",
      "source": [
        "# 2-1. x/y \n",
        "\n",
        "X = data.iloc[:, :-1]\n",
        "y = data.iloc[:, -1]\n",
        "\n",
        "print(X.shape)\n",
        "print(y.shape)"
      ],
      "metadata": {
        "id": "CB9oUQo6sxiE",
        "colab": {
          "base_uri": "https://localhost:8080/"
        },
        "outputId": "d8c9c99a-32c2-4f92-cb4e-7c845fe4b376"
      },
      "execution_count": 6,
      "outputs": [
        {
          "output_type": "stream",
          "name": "stdout",
          "text": [
            "(768, 8)\n",
            "(768,)\n"
          ]
        }
      ]
    },
    {
      "cell_type": "code",
      "source": [
        "# 2-2. Split train/test set\n",
        "\n",
        "from sklearn.model_selection import train_test_split\n",
        "\n",
        "X_train, X_test, y_train, y_test = train_test_split(X, y,\n",
        "                                                    test_size=0.2,\n",
        "                                                    random_state=9)\n",
        "\n",
        "\n",
        "print(X_train.shape)\n",
        "print(X_test.shape)\n",
        "print(y_train.shape)\n",
        "print(y_test.shape)"
      ],
      "metadata": {
        "id": "-UcW5gqfs8fY",
        "colab": {
          "base_uri": "https://localhost:8080/"
        },
        "outputId": "6a9c68df-0206-48d6-f26a-373c0b7a2498"
      },
      "execution_count": 7,
      "outputs": [
        {
          "output_type": "stream",
          "name": "stdout",
          "text": [
            "(614, 8)\n",
            "(154, 8)\n",
            "(614,)\n",
            "(154,)\n"
          ]
        }
      ]
    },
    {
      "cell_type": "code",
      "source": [
        "# 2-3. Make Tensor\n",
        "import torch\n",
        "\n",
        "X_train=torch.FloatTensor(X_train.values)\n",
        "X_test=torch.FloatTensor(X_test.values)\n",
        "y_train=torch.FloatTensor(y_train.values)\n",
        "y_test=torch.FloatTensor(y_test.values)\n",
        "\n",
        "print(X_train.shape)\n",
        "print(X_test.shape)\n",
        "print(y_train.shape)\n",
        "print(y_test.shape)"
      ],
      "metadata": {
        "id": "BuSBxUqxtFIJ",
        "colab": {
          "base_uri": "https://localhost:8080/"
        },
        "outputId": "6f54fc9f-f8d9-4ae3-b1f0-5b284370b6c9"
      },
      "execution_count": 8,
      "outputs": [
        {
          "output_type": "stream",
          "name": "stdout",
          "text": [
            "torch.Size([614, 8])\n",
            "torch.Size([154, 8])\n",
            "torch.Size([614])\n",
            "torch.Size([154])\n"
          ]
        }
      ]
    },
    {
      "cell_type": "code",
      "source": [
        "from torch.utils.data import TensorDataset\n",
        "from torch.utils.data import DataLoader\n",
        "\n",
        "train_dataset = TensorDataset(X_train, y_train)\n",
        "train_loader = DataLoader(train_dataset, batch_size=64, shuffle=True)\n",
        "# 614/64 = 9.5xxx\n",
        "print(len(train_loader))"
      ],
      "metadata": {
        "colab": {
          "base_uri": "https://localhost:8080/"
        },
        "id": "QiFrQrSj6zfB",
        "outputId": "9366d7eb-7eeb-4af1-9a77-cf1506e477f9"
      },
      "execution_count": 12,
      "outputs": [
        {
          "output_type": "stream",
          "name": "stdout",
          "text": [
            "10\n"
          ]
        }
      ]
    },
    {
      "cell_type": "code",
      "source": [
        "test_dataset = TensorDataset(X_test, y_test)\n",
        "test_loader = DataLoader(test_dataset, batch_size=64, shuffle=False)\n",
        "# 154/64 = 2.xxx\n",
        "print(len(test_loader))"
      ],
      "metadata": {
        "colab": {
          "base_uri": "https://localhost:8080/"
        },
        "id": "3Zog4liq7XeS",
        "outputId": "a2fe4a7b-e2bb-48c6-e833-576259c5ed64"
      },
      "execution_count": 13,
      "outputs": [
        {
          "output_type": "stream",
          "name": "stdout",
          "text": [
            "3\n"
          ]
        }
      ]
    },
    {
      "cell_type": "markdown",
      "source": [
        "#### 3. Train Model"
      ],
      "metadata": {
        "id": "qSCdVF9vtb2i"
      }
    },
    {
      "cell_type": "code",
      "source": [
        "# 3-1. Network\n",
        "\n",
        "import torch\n",
        "import torch.nn as nn\n",
        "import torch.nn.functional as F\n",
        "\n",
        "class model(nn.Module):\n",
        "    def __init__(self):\n",
        "        super().__init__()\n",
        "        self.linear1 = nn.Linear(8, 16)\n",
        "        self.linear2 = nn.Linear(16, 32)\n",
        "        self.linear3 = nn.Linear(32, 1)\n",
        "        #self.linear4 = nn.Linear(64, 1)\n",
        "\n",
        "        self.relu = nn.ReLU()\n",
        "        self.sigmoid = nn.Sigmoid()\n",
        "        #self.dropout = nn.Dropout(p=0.2) \n",
        "        \n",
        "    def forward(self, input):\n",
        "        output = self.relu(self.linear1(input))\n",
        "        output = self.relu(self.linear2(output))\n",
        "        output = self.sigmoid(self.linear3(output))\n",
        "        #output = self.dropout(output)\n",
        "       # output = self.sigmoid(self.linear4(output))\n",
        "\n",
        "        return output\n",
        "\n",
        "model = model()"
      ],
      "metadata": {
        "id": "-_-wK727tbO3"
      },
      "execution_count": 15,
      "outputs": []
    },
    {
      "cell_type": "code",
      "source": [
        "# 3-2. Loss Function & Optimizer\n",
        "\n",
        "loss_function = nn.BCELoss() #2진이라서\n",
        "optimizer = torch.optim.Adam(model.parameters(), lr = 0.001) "
      ],
      "metadata": {
        "id": "F7qTkipdvMCB"
      },
      "execution_count": 16,
      "outputs": []
    },
    {
      "cell_type": "code",
      "source": [
        "# 3-3. Train Loop\n",
        "\n",
        "epochs = 5000\n",
        "train_losses = []\n",
        "\n",
        "for epoch in range(epochs):\n",
        "  train_loss = 0\n",
        "  for (data, label) in train_loader: # 64개씩 데이터 \n",
        "        output = model.forward(data)\n",
        "        loss = loss_function(output, label.view(-1,1)) \n",
        "\n",
        "        optimizer.zero_grad()\n",
        "        \n",
        "        loss.backward()\n",
        "        optimizer.step()\n",
        "\n",
        "        train_loss += loss.item()/len(train_loader)\n",
        "  train_losses.append(train_loss)\n",
        "  if epoch%100 == 0: \n",
        "    print(\"Epoch number : {} the loss : {}\".format(epoch, train_loss))"
      ],
      "metadata": {
        "id": "pEHwRLAowVpO",
        "colab": {
          "base_uri": "https://localhost:8080/"
        },
        "outputId": "c0fbe8f6-1deb-4f19-8864-882eaa4c9bf9"
      },
      "execution_count": 17,
      "outputs": [
        {
          "output_type": "stream",
          "name": "stdout",
          "text": [
            "Epoch number : 0 the loss : 2.1086914777755736\n",
            "Epoch number : 100 the loss : 0.5222534030675887\n",
            "Epoch number : 200 the loss : 0.48941039443016054\n",
            "Epoch number : 300 the loss : 0.4359408020973205\n",
            "Epoch number : 400 the loss : 0.4143892407417298\n",
            "Epoch number : 500 the loss : 0.38543712794780727\n",
            "Epoch number : 600 the loss : 0.3588353633880615\n",
            "Epoch number : 700 the loss : 0.3460612654685974\n",
            "Epoch number : 800 the loss : 0.32550312131643294\n",
            "Epoch number : 900 the loss : 0.3185337230563164\n",
            "Epoch number : 1000 the loss : 0.31994101107120515\n",
            "Epoch number : 1100 the loss : 0.3156010195612907\n",
            "Epoch number : 1200 the loss : 0.2991768836975097\n",
            "Epoch number : 1300 the loss : 0.2934927374124527\n",
            "Epoch number : 1400 the loss : 0.2888253957033158\n",
            "Epoch number : 1500 the loss : 0.27486299872398373\n",
            "Epoch number : 1600 the loss : 0.27359419763088233\n",
            "Epoch number : 1700 the loss : 0.25932475030422214\n",
            "Epoch number : 1800 the loss : 0.24934923201799397\n",
            "Epoch number : 1900 the loss : 0.2538778379559517\n",
            "Epoch number : 2000 the loss : 0.23601646423339848\n",
            "Epoch number : 2100 the loss : 0.2329005554318428\n",
            "Epoch number : 2200 the loss : 0.23939351961016656\n",
            "Epoch number : 2300 the loss : 0.22742913663387299\n",
            "Epoch number : 2400 the loss : 0.22270207852125168\n",
            "Epoch number : 2500 the loss : 0.22659806758165363\n",
            "Epoch number : 2600 the loss : 0.2158570781350136\n",
            "Epoch number : 2700 the loss : 0.19872058928012845\n",
            "Epoch number : 2800 the loss : 0.22552171647548677\n",
            "Epoch number : 2900 the loss : 0.21086365431547166\n",
            "Epoch number : 3000 the loss : 0.19026185795664782\n",
            "Epoch number : 3100 the loss : 0.21518740504980088\n",
            "Epoch number : 3200 the loss : 0.1967924579977989\n",
            "Epoch number : 3300 the loss : 0.2132451221346855\n",
            "Epoch number : 3400 the loss : 0.1849054843187332\n",
            "Epoch number : 3500 the loss : 0.17930320575833322\n",
            "Epoch number : 3600 the loss : 0.19166241437196732\n",
            "Epoch number : 3700 the loss : 0.1675789959728718\n",
            "Epoch number : 3800 the loss : 0.1835978791117668\n",
            "Epoch number : 3900 the loss : 0.16006965227425102\n",
            "Epoch number : 4000 the loss : 0.1831927478313446\n",
            "Epoch number : 4100 the loss : 0.17726722583174703\n",
            "Epoch number : 4200 the loss : 0.14949361979961395\n",
            "Epoch number : 4300 the loss : 0.17562757730484008\n",
            "Epoch number : 4400 the loss : 0.14623419418931008\n",
            "Epoch number : 4500 the loss : 0.14927817881107333\n",
            "Epoch number : 4600 the loss : 0.14403367638587952\n",
            "Epoch number : 4700 the loss : 0.17627835795283317\n",
            "Epoch number : 4800 the loss : 0.14778370484709738\n",
            "Epoch number : 4900 the loss : 0.1597961150109768\n"
          ]
        }
      ]
    },
    {
      "cell_type": "code",
      "source": [
        "# 3-4. Loss Graph\n",
        "\n",
        "import matplotlib.pyplot as plt\n",
        "\n",
        "plt.plot(range(epochs), train_losses)\n",
        "\n",
        "plt.xlabel('Epochs')\n",
        "plt.ylabel('Loss')"
      ],
      "metadata": {
        "colab": {
          "base_uri": "https://localhost:8080/",
          "height": 296
        },
        "id": "utRF1aK2-ei5",
        "outputId": "693b9ef1-6f46-4b99-d955-9b1c72109df9"
      },
      "execution_count": null,
      "outputs": [
        {
          "output_type": "execute_result",
          "data": {
            "text/plain": [
              "Text(0, 0.5, 'Loss')"
            ]
          },
          "metadata": {},
          "execution_count": 43
        },
        {
          "output_type": "display_data",
          "data": {
            "image/png": "[encoded data removed]",
            "text/plain": [
              "<Figure size 432x288 with 1 Axes>"
            ]
          },
          "metadata": {
            "needs_background": "light"
          }
        }
      ]
    },
    {
      "cell_type": "markdown",
      "source": [
        "#### 4. Test Model"
      ],
      "metadata": {
        "id": "cD5wEK2kzQ8S"
      }
    },
    {
      "cell_type": "code",
      "source": [
        "# 4. Test & Evaluate\n",
        "\n",
        "accuracy = 0\n",
        "test_losses = 0\n",
        "\n",
        "with torch.no_grad(): # gradient 계산 x\n",
        "    for i, (data, label) in enumerate(test_loader):\n",
        "        output = model(data)\n",
        "        test_loss = loss_function(output, label.view(-1, 1)).item()\n",
        "        test_losses += test_loss/len(test_loader)\n",
        "        \n",
        "        output[output >= 0.5] = 1\n",
        "        output[output < 0.5] = 0\n",
        "    \n",
        "        accuracy = [1 if output[i] == label[i] else 0 for i in range(len(output))]\n",
        "        accuracy = torch.IntTensor(accuracy)\n",
        "        accuracy = torch.sum(accuracy) / len(output)\n",
        "\n",
        "print(f'Test loss: {test_losses:.4f}, Test acc: {accuracy*100:.3f}%')"
      ],
      "metadata": {
        "id": "zcgLqOK9yxfS",
        "colab": {
          "base_uri": "https://localhost:8080/"
        },
        "outputId": "70814adf-bb43-47fc-9322-2ecc903e8b83"
      },
      "execution_count": null,
      "outputs": [
        {
          "output_type": "stream",
          "name": "stdout",
          "text": [
            "Test loss: 2.0165, Test acc: 65.385%\n"
          ]
        }
      ]
    }
  ]
}