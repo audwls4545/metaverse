{
  "nbformat": 4,
  "nbformat_minor": 0,
  "metadata": {
    "colab": {
      "provenance": [],
      "authorship_tag": "ABX9TyOC7l/sjrUIdS9+TFvROU60",
      "include_colab_link": true
    },
    "kernelspec": {
      "name": "python3",
      "display_name": "Python 3"
    },
    "language_info": {
      "name": "python"
    }
  },
  "cells": [
    {
      "cell_type": "markdown",
      "metadata": {
        "id": "view-in-github",
        "colab_type": "text"
      },
      "source": [
        "<a href=\"https://colab.research.google.com/github/audwls4545/metaverse/blob/main/species_of_tree.ipynb\" target=\"_parent\"><img src=\"https://colab.research.google.com/assets/colab-badge.svg\" alt=\"Open In Colab\"/></a>"
      ]
    },
    {
      "cell_type": "code",
      "execution_count": null,
      "metadata": {
        "id": "ZZE3a5HKMtpp"
      },
      "outputs": [],
      "source": [
        "from sklearn.datasets import fetch_covtype"
      ]
    },
    {
      "cell_type": "code",
      "source": [
        "#다음은 미국 삼림을 30M*30M 로 나누어서 각 영역의 특징으로부터 대표적인 나무의 종류를예측하기 위한 데이터입니다.\n",
        "#대표나무 species of tree를 예측하는 모델을 만드세요.\n",
        "#random state 값은 100으로 통일"
      ],
      "metadata": {
        "id": "OhbWRR0cM3FV"
      },
      "execution_count": null,
      "outputs": []
    },
    {
      "cell_type": "code",
      "source": [
        "data = fetch_covtype()"
      ],
      "metadata": {
        "id": "EGiX-WWxNbHr"
      },
      "execution_count": null,
      "outputs": []
    },
    {
      "cell_type": "code",
      "source": [
        "import xgboost as xgb\n",
        "from xgboost import plot_importance\n",
        "import pandas as pd\n",
        "import seaborn as sns\n",
        "import numpy as np\n",
        "import sklearn\n",
        "from sklearn.model_selection import train_test_split\n",
        "import warnings\n",
        "warnings.filterwarnings('ignore')\n",
        "\n",
        "features= data.data\n",
        "labels = data.target"
      ],
      "metadata": {
        "id": "-_MewWbcNfVg"
      },
      "execution_count": null,
      "outputs": []
    },
    {
      "cell_type": "code",
      "source": [
        "tree_df = pd.DataFrame(data = features, columns = data.feature_names)\n",
        "tree_df['target'] = labels\n",
        "tree_df.head()"
      ],
      "metadata": {
        "colab": {
          "base_uri": "https://localhost:8080/",
          "height": 299
        },
        "id": "KQW1swVfN_bU",
        "outputId": "c7862d07-5897-490b-b4b0-fa292a43312f"
      },
      "execution_count": null,
      "outputs": [
        {
          "output_type": "execute_result",
          "data": {
            "text/plain": [
              "   Elevation  Aspect  Slope  Horizontal_Distance_To_Hydrology  \\\n",
              "0     2596.0    51.0    3.0                             258.0   \n",
              "1     2590.0    56.0    2.0                             212.0   \n",
              "2     2804.0   139.0    9.0                             268.0   \n",
              "3     2785.0   155.0   18.0                             242.0   \n",
              "4     2595.0    45.0    2.0                             153.0   \n",
              "\n",
              "   Vertical_Distance_To_Hydrology  Horizontal_Distance_To_Roadways  \\\n",
              "0                             0.0                            510.0   \n",
              "1                            -6.0                            390.0   \n",
              "2                            65.0                           3180.0   \n",
              "3                           118.0                           3090.0   \n",
              "4                            -1.0                            391.0   \n",
              "\n",
              "   Hillshade_9am  Hillshade_Noon  Hillshade_3pm  \\\n",
              "0          221.0           232.0          148.0   \n",
              "1          220.0           235.0          151.0   \n",
              "2          234.0           238.0          135.0   \n",
              "3          238.0           238.0          122.0   \n",
              "4          220.0           234.0          150.0   \n",
              "\n",
              "   Horizontal_Distance_To_Fire_Points  ...  Soil_Type_31  Soil_Type_32  \\\n",
              "0                              6279.0  ...           0.0           0.0   \n",
              "1                              6225.0  ...           0.0           0.0   \n",
              "2                              6121.0  ...           0.0           0.0   \n",
              "3                              6211.0  ...           0.0           0.0   \n",
              "4                              6172.0  ...           0.0           0.0   \n",
              "\n",
              "   Soil_Type_33  Soil_Type_34  Soil_Type_35  Soil_Type_36  Soil_Type_37  \\\n",
              "0           0.0           0.0           0.0           0.0           0.0   \n",
              "1           0.0           0.0           0.0           0.0           0.0   \n",
              "2           0.0           0.0           0.0           0.0           0.0   \n",
              "3           0.0           0.0           0.0           0.0           0.0   \n",
              "4           0.0           0.0           0.0           0.0           0.0   \n",
              "\n",
              "   Soil_Type_38  Soil_Type_39  target  \n",
              "0           0.0           0.0       5  \n",
              "1           0.0           0.0       5  \n",
              "2           0.0           0.0       2  \n",
              "3           0.0           0.0       2  \n",
              "4           0.0           0.0       5  \n",
              "\n",
              "[5 rows x 55 columns]"
            ],
            "text/html": [
              "\n",
              "  <div id=\"df-58249755-84bc-49a3-89fe-409f67bca0d7\">\n",
              "    <div class=\"colab-df-container\">\n",
              "      <div>\n",
              "<style scoped>\n",
              "    .dataframe tbody tr th:only-of-type {\n",
              "        vertical-align: middle;\n",
              "    }\n",
              "\n",
              "    .dataframe tbody tr th {\n",
              "        vertical-align: top;\n",
              "    }\n",
              "\n",
              "    .dataframe thead th {\n",
              "        text-align: right;\n",
              "    }\n",
              "</style>\n",
              "<table border=\"1\" class=\"dataframe\">\n",
              "  <thead>\n",
              "    <tr style=\"text-align: right;\">\n",
              "      <th></th>\n",
              "      <th>Elevation</th>\n",
              "      <th>Aspect</th>\n",
              "      <th>Slope</th>\n",
              "      <th>Horizontal_Distance_To_Hydrology</th>\n",
              "      <th>Vertical_Distance_To_Hydrology</th>\n",
              "      <th>Horizontal_Distance_To_Roadways</th>\n",
              "      <th>Hillshade_9am</th>\n",
              "      <th>Hillshade_Noon</th>\n",
              "      <th>Hillshade_3pm</th>\n",
              "      <th>Horizontal_Distance_To_Fire_Points</th>\n",
              "      <th>...</th>\n",
              "      <th>Soil_Type_31</th>\n",
              "      <th>Soil_Type_32</th>\n",
              "      <th>Soil_Type_33</th>\n",
              "      <th>Soil_Type_34</th>\n",
              "      <th>Soil_Type_35</th>\n",
              "      <th>Soil_Type_36</th>\n",
              "      <th>Soil_Type_37</th>\n",
              "      <th>Soil_Type_38</th>\n",
              "      <th>Soil_Type_39</th>\n",
              "      <th>target</th>\n",
              "    </tr>\n",
              "  </thead>\n",
              "  <tbody>\n",
              "    <tr>\n",
              "      <th>0</th>\n",
              "      <td>2596.0</td>\n",
              "      <td>51.0</td>\n",
              "      <td>3.0</td>\n",
              "      <td>258.0</td>\n",
              "      <td>0.0</td>\n",
              "      <td>510.0</td>\n",
              "      <td>221.0</td>\n",
              "      <td>232.0</td>\n",
              "      <td>148.0</td>\n",
              "      <td>6279.0</td>\n",
              "      <td>...</td>\n",
              "      <td>0.0</td>\n",
              "      <td>0.0</td>\n",
              "      <td>0.0</td>\n",
              "      <td>0.0</td>\n",
              "      <td>0.0</td>\n",
              "      <td>0.0</td>\n",
              "      <td>0.0</td>\n",
              "      <td>0.0</td>\n",
              "      <td>0.0</td>\n",
              "      <td>5</td>\n",
              "    </tr>\n",
              "    <tr>\n",
              "      <th>1</th>\n",
              "      <td>2590.0</td>\n",
              "      <td>56.0</td>\n",
              "      <td>2.0</td>\n",
              "      <td>212.0</td>\n",
              "      <td>-6.0</td>\n",
              "      <td>390.0</td>\n",
              "      <td>220.0</td>\n",
              "      <td>235.0</td>\n",
              "      <td>151.0</td>\n",
              "      <td>6225.0</td>\n",
              "      <td>...</td>\n",
              "      <td>0.0</td>\n",
              "      <td>0.0</td>\n",
              "      <td>0.0</td>\n",
              "      <td>0.0</td>\n",
              "      <td>0.0</td>\n",
              "      <td>0.0</td>\n",
              "      <td>0.0</td>\n",
              "      <td>0.0</td>\n",
              "      <td>0.0</td>\n",
              "      <td>5</td>\n",
              "    </tr>\n",
              "    <tr>\n",
              "      <th>2</th>\n",
              "      <td>2804.0</td>\n",
              "      <td>139.0</td>\n",
              "      <td>9.0</td>\n",
              "      <td>268.0</td>\n",
              "      <td>65.0</td>\n",
              "      <td>3180.0</td>\n",
              "      <td>234.0</td>\n",
              "      <td>238.0</td>\n",
              "      <td>135.0</td>\n",
              "      <td>6121.0</td>\n",
              "      <td>...</td>\n",
              "      <td>0.0</td>\n",
              "      <td>0.0</td>\n",
              "      <td>0.0</td>\n",
              "      <td>0.0</td>\n",
              "      <td>0.0</td>\n",
              "      <td>0.0</td>\n",
              "      <td>0.0</td>\n",
              "      <td>0.0</td>\n",
              "      <td>0.0</td>\n",
              "      <td>2</td>\n",
              "    </tr>\n",
              "    <tr>\n",
              "      <th>3</th>\n",
              "      <td>2785.0</td>\n",
              "      <td>155.0</td>\n",
              "      <td>18.0</td>\n",
              "      <td>242.0</td>\n",
              "      <td>118.0</td>\n",
              "      <td>3090.0</td>\n",
              "      <td>238.0</td>\n",
              "      <td>238.0</td>\n",
              "      <td>122.0</td>\n",
              "      <td>6211.0</td>\n",
              "      <td>...</td>\n",
              "      <td>0.0</td>\n",
              "      <td>0.0</td>\n",
              "      <td>0.0</td>\n",
              "      <td>0.0</td>\n",
              "      <td>0.0</td>\n",
              "      <td>0.0</td>\n",
              "      <td>0.0</td>\n",
              "      <td>0.0</td>\n",
              "      <td>0.0</td>\n",
              "      <td>2</td>\n",
              "    </tr>\n",
              "    <tr>\n",
              "      <th>4</th>\n",
              "      <td>2595.0</td>\n",
              "      <td>45.0</td>\n",
              "      <td>2.0</td>\n",
              "      <td>153.0</td>\n",
              "      <td>-1.0</td>\n",
              "      <td>391.0</td>\n",
              "      <td>220.0</td>\n",
              "      <td>234.0</td>\n",
              "      <td>150.0</td>\n",
              "      <td>6172.0</td>\n",
              "      <td>...</td>\n",
              "      <td>0.0</td>\n",
              "      <td>0.0</td>\n",
              "      <td>0.0</td>\n",
              "      <td>0.0</td>\n",
              "      <td>0.0</td>\n",
              "      <td>0.0</td>\n",
              "      <td>0.0</td>\n",
              "      <td>0.0</td>\n",
              "      <td>0.0</td>\n",
              "      <td>5</td>\n",
              "    </tr>\n",
              "  </tbody>\n",
              "</table>\n",
              "<p>5 rows × 55 columns</p>\n",
              "</div>\n",
              "      <button class=\"colab-df-convert\" onclick=\"convertToInteractive('df-58249755-84bc-49a3-89fe-409f67bca0d7')\"\n",
              "              title=\"Convert this dataframe to an interactive table.\"\n",
              "              style=\"display:none;\">\n",
              "        \n",
              "  <svg xmlns=\"http://www.w3.org/2000/svg\" height=\"24px\"viewBox=\"0 0 24 24\"\n",
              "       width=\"24px\">\n",
              "    <path d=\"M0 0h24v24H0V0z\" fill=\"none\"/>\n",
              "    <path d=\"M18.56 5.44l.94 2.06.94-2.06 2.06-.94-2.06-.94-.94-2.06-.94 2.06-2.06.94zm-11 1L8.5 8.5l.94-2.06 2.06-.94-2.06-.94L8.5 2.5l-.94 2.06-2.06.94zm10 10l.94 2.06.94-2.06 2.06-.94-2.06-.94-.94-2.06-.94 2.06-2.06.94z\"/><path d=\"M17.41 7.96l-1.37-1.37c-.4-.4-.92-.59-1.43-.59-.52 0-1.04.2-1.43.59L10.3 9.45l-7.72 7.72c-.78.78-.78 2.05 0 2.83L4 21.41c.39.39.9.59 1.41.59.51 0 1.02-.2 1.41-.59l7.78-7.78 2.81-2.81c.8-.78.8-2.07 0-2.86zM5.41 20L4 18.59l7.72-7.72 1.47 1.35L5.41 20z\"/>\n",
              "  </svg>\n",
              "      </button>\n",
              "      \n",
              "  <style>\n",
              "    .colab-df-container {\n",
              "      display:flex;\n",
              "      flex-wrap:wrap;\n",
              "      gap: 12px;\n",
              "    }\n",
              "\n",
              "    .colab-df-convert {\n",
              "      background-color: #E8F0FE;\n",
              "      border: none;\n",
              "      border-radius: 50%;\n",
              "      cursor: pointer;\n",
              "      display: none;\n",
              "      fill: #1967D2;\n",
              "      height: 32px;\n",
              "      padding: 0 0 0 0;\n",
              "      width: 32px;\n",
              "    }\n",
              "\n",
              "    .colab-df-convert:hover {\n",
              "      background-color: #E2EBFA;\n",
              "      box-shadow: 0px 1px 2px rgba(60, 64, 67, 0.3), 0px 1px 3px 1px rgba(60, 64, 67, 0.15);\n",
              "      fill: #174EA6;\n",
              "    }\n",
              "\n",
              "    [theme=dark] .colab-df-convert {\n",
              "      background-color: #3B4455;\n",
              "      fill: #D2E3FC;\n",
              "    }\n",
              "\n",
              "    [theme=dark] .colab-df-convert:hover {\n",
              "      background-color: #434B5C;\n",
              "      box-shadow: 0px 1px 3px 1px rgba(0, 0, 0, 0.15);\n",
              "      filter: drop-shadow(0px 1px 2px rgba(0, 0, 0, 0.3));\n",
              "      fill: #FFFFFF;\n",
              "    }\n",
              "  </style>\n",
              "\n",
              "      <script>\n",
              "        const buttonEl =\n",
              "          document.querySelector('#df-58249755-84bc-49a3-89fe-409f67bca0d7 button.colab-df-convert');\n",
              "        buttonEl.style.display =\n",
              "          google.colab.kernel.accessAllowed ? 'block' : 'none';\n",
              "\n",
              "        async function convertToInteractive(key) {\n",
              "          const element = document.querySelector('#df-58249755-84bc-49a3-89fe-409f67bca0d7');\n",
              "          const dataTable =\n",
              "            await google.colab.kernel.invokeFunction('convertToInteractive',\n",
              "                                                     [key], {});\n",
              "          if (!dataTable) return;\n",
              "\n",
              "          const docLinkHtml = 'Like what you see? Visit the ' +\n",
              "            '<a target=\"_blank\" href=https://colab.research.google.com/notebooks/data_table.ipynb>data table notebook</a>'\n",
              "            + ' to learn more about interactive tables.';\n",
              "          element.innerHTML = '';\n",
              "          dataTable['output_type'] = 'display_data';\n",
              "          await google.colab.output.renderOutput(dataTable, element);\n",
              "          const docLink = document.createElement('div');\n",
              "          docLink.innerHTML = docLinkHtml;\n",
              "          element.appendChild(docLink);\n",
              "        }\n",
              "      </script>\n",
              "    </div>\n",
              "  </div>\n",
              "  "
            ]
          },
          "metadata": {},
          "execution_count": 6
        }
      ]
    },
    {
      "cell_type": "code",
      "source": [
        "tree_df['target'].value_counts()"
      ],
      "metadata": {
        "colab": {
          "base_uri": "https://localhost:8080/"
        },
        "id": "0MIX6bzNOYzX",
        "outputId": "572f94e7-49c3-41b9-912b-ad1369c58ee1"
      },
      "execution_count": null,
      "outputs": [
        {
          "output_type": "execute_result",
          "data": {
            "text/plain": [
              "2    283301\n",
              "1    211840\n",
              "3     35754\n",
              "7     20510\n",
              "6     17367\n",
              "5      9493\n",
              "4      2747\n",
              "Name: target, dtype: int64"
            ]
          },
          "metadata": {},
          "execution_count": 7
        }
      ]
    },
    {
      "cell_type": "code",
      "source": [
        "tree_df['target'].unique()"
      ],
      "metadata": {
        "colab": {
          "base_uri": "https://localhost:8080/"
        },
        "id": "SME0BMNoOdIK",
        "outputId": "e91914b0-3c4d-4193-b6c8-3367abe3c76d"
      },
      "execution_count": null,
      "outputs": [
        {
          "output_type": "execute_result",
          "data": {
            "text/plain": [
              "array([5, 2, 1, 7, 3, 6, 4], dtype=int32)"
            ]
          },
          "metadata": {},
          "execution_count": 9
        }
      ]
    },
    {
      "cell_type": "code",
      "source": [
        "tree_df.info()"
      ],
      "metadata": {
        "colab": {
          "base_uri": "https://localhost:8080/"
        },
        "id": "tOqJ-ae-PMQC",
        "outputId": "7de3ad65-9087-4cbf-9e6d-c0bc8ae9e8c9"
      },
      "execution_count": null,
      "outputs": [
        {
          "output_type": "stream",
          "name": "stdout",
          "text": [
            "<class 'pandas.core.frame.DataFrame'>\n",
            "RangeIndex: 581012 entries, 0 to 581011\n",
            "Data columns (total 55 columns):\n",
            " #   Column                              Non-Null Count   Dtype  \n",
            "---  ------                              --------------   -----  \n",
            " 0   Elevation                           581012 non-null  float64\n",
            " 1   Aspect                              581012 non-null  float64\n",
            " 2   Slope                               581012 non-null  float64\n",
            " 3   Horizontal_Distance_To_Hydrology    581012 non-null  float64\n",
            " 4   Vertical_Distance_To_Hydrology      581012 non-null  float64\n",
            " 5   Horizontal_Distance_To_Roadways     581012 non-null  float64\n",
            " 6   Hillshade_9am                       581012 non-null  float64\n",
            " 7   Hillshade_Noon                      581012 non-null  float64\n",
            " 8   Hillshade_3pm                       581012 non-null  float64\n",
            " 9   Horizontal_Distance_To_Fire_Points  581012 non-null  float64\n",
            " 10  Wilderness_Area_0                   581012 non-null  float64\n",
            " 11  Wilderness_Area_1                   581012 non-null  float64\n",
            " 12  Wilderness_Area_2                   581012 non-null  float64\n",
            " 13  Wilderness_Area_3                   581012 non-null  float64\n",
            " 14  Soil_Type_0                         581012 non-null  float64\n",
            " 15  Soil_Type_1                         581012 non-null  float64\n",
            " 16  Soil_Type_2                         581012 non-null  float64\n",
            " 17  Soil_Type_3                         581012 non-null  float64\n",
            " 18  Soil_Type_4                         581012 non-null  float64\n",
            " 19  Soil_Type_5                         581012 non-null  float64\n",
            " 20  Soil_Type_6                         581012 non-null  float64\n",
            " 21  Soil_Type_7                         581012 non-null  float64\n",
            " 22  Soil_Type_8                         581012 non-null  float64\n",
            " 23  Soil_Type_9                         581012 non-null  float64\n",
            " 24  Soil_Type_10                        581012 non-null  float64\n",
            " 25  Soil_Type_11                        581012 non-null  float64\n",
            " 26  Soil_Type_12                        581012 non-null  float64\n",
            " 27  Soil_Type_13                        581012 non-null  float64\n",
            " 28  Soil_Type_14                        581012 non-null  float64\n",
            " 29  Soil_Type_15                        581012 non-null  float64\n",
            " 30  Soil_Type_16                        581012 non-null  float64\n",
            " 31  Soil_Type_17                        581012 non-null  float64\n",
            " 32  Soil_Type_18                        581012 non-null  float64\n",
            " 33  Soil_Type_19                        581012 non-null  float64\n",
            " 34  Soil_Type_20                        581012 non-null  float64\n",
            " 35  Soil_Type_21                        581012 non-null  float64\n",
            " 36  Soil_Type_22                        581012 non-null  float64\n",
            " 37  Soil_Type_23                        581012 non-null  float64\n",
            " 38  Soil_Type_24                        581012 non-null  float64\n",
            " 39  Soil_Type_25                        581012 non-null  float64\n",
            " 40  Soil_Type_26                        581012 non-null  float64\n",
            " 41  Soil_Type_27                        581012 non-null  float64\n",
            " 42  Soil_Type_28                        581012 non-null  float64\n",
            " 43  Soil_Type_29                        581012 non-null  float64\n",
            " 44  Soil_Type_30                        581012 non-null  float64\n",
            " 45  Soil_Type_31                        581012 non-null  float64\n",
            " 46  Soil_Type_32                        581012 non-null  float64\n",
            " 47  Soil_Type_33                        581012 non-null  float64\n",
            " 48  Soil_Type_34                        581012 non-null  float64\n",
            " 49  Soil_Type_35                        581012 non-null  float64\n",
            " 50  Soil_Type_36                        581012 non-null  float64\n",
            " 51  Soil_Type_37                        581012 non-null  float64\n",
            " 52  Soil_Type_38                        581012 non-null  float64\n",
            " 53  Soil_Type_39                        581012 non-null  float64\n",
            " 54  target                              581012 non-null  int32  \n",
            "dtypes: float64(54), int32(1)\n",
            "memory usage: 241.6 MB\n"
          ]
        }
      ]
    },
    {
      "cell_type": "code",
      "source": [
        "q3 = tree_df['target'].quantile(0.75)\n",
        "q1 = tree_df['target'].quantile(0.25)\n",
        "\n",
        "iqr = q3 - q1"
      ],
      "metadata": {
        "id": "iHKR-6I6P5IT"
      },
      "execution_count": null,
      "outputs": []
    },
    {
      "cell_type": "code",
      "source": [
        "def is_tree_outlier(tree_df):\n",
        "    score = tree_df['target']\n",
        "    if score > q3 + 1.5 * iqr or score < q1 - 1.5 * iqr:\n",
        "        return True\n",
        "    else:\n",
        "        return False\n",
        "\n",
        "tree_df['target_error'] = tree_df.apply(is_tree_outlier, axis = 1) # axis = 1 지정 필수\n",
        "\n",
        "tree_df['target_error']"
      ],
      "metadata": {
        "colab": {
          "base_uri": "https://localhost:8080/"
        },
        "id": "ICgk-OQ7QLGR",
        "outputId": "b9ec98fd-88e5-4424-9f0e-f175ca20cc3d"
      },
      "execution_count": null,
      "outputs": [
        {
          "output_type": "execute_result",
          "data": {
            "text/plain": [
              "0          True\n",
              "1          True\n",
              "2         False\n",
              "3         False\n",
              "4          True\n",
              "          ...  \n",
              "581007    False\n",
              "581008    False\n",
              "581009    False\n",
              "581010    False\n",
              "581011    False\n",
              "Name: target_error, Length: 581012, dtype: bool"
            ]
          },
          "metadata": {},
          "execution_count": 15
        }
      ]
    },
    {
      "cell_type": "code",
      "source": [
        "# 이상치인 행은 제거하여 필터링\n",
        "tree_df = tree_df.loc[tree_df['target_error'] == False]\n",
        "\n",
        "# 이상치여부를 나타내는 열 제거\n",
        "del tree_df['target_error']\n",
        "\n",
        "tree_df"
      ],
      "metadata": {
        "colab": {
          "base_uri": "https://localhost:8080/",
          "height": 487
        },
        "id": "VfNM5EvkQmxh",
        "outputId": "969b5726-6616-4162-ffbd-bdae2d53e5c1"
      },
      "execution_count": null,
      "outputs": [
        {
          "output_type": "execute_result",
          "data": {
            "text/plain": [
              "        Elevation  Aspect  Slope  Horizontal_Distance_To_Hydrology  \\\n",
              "2          2804.0   139.0    9.0                             268.0   \n",
              "3          2785.0   155.0   18.0                             242.0   \n",
              "5          2579.0   132.0    6.0                             300.0   \n",
              "11         2886.0   151.0   11.0                             371.0   \n",
              "12         2742.0   134.0   22.0                             150.0   \n",
              "...           ...     ...    ...                               ...   \n",
              "581007     2396.0   153.0   20.0                              85.0   \n",
              "581008     2391.0   152.0   19.0                              67.0   \n",
              "581009     2386.0   159.0   17.0                              60.0   \n",
              "581010     2384.0   170.0   15.0                              60.0   \n",
              "581011     2383.0   165.0   13.0                              60.0   \n",
              "\n",
              "        Vertical_Distance_To_Hydrology  Horizontal_Distance_To_Roadways  \\\n",
              "2                                 65.0                           3180.0   \n",
              "3                                118.0                           3090.0   \n",
              "5                                -15.0                             67.0   \n",
              "11                                26.0                           5253.0   \n",
              "12                                69.0                           3215.0   \n",
              "...                                ...                              ...   \n",
              "581007                            17.0                            108.0   \n",
              "581008                            12.0                             95.0   \n",
              "581009                             7.0                             90.0   \n",
              "581010                             5.0                             90.0   \n",
              "581011                             4.0                             67.0   \n",
              "\n",
              "        Hillshade_9am  Hillshade_Noon  Hillshade_3pm  \\\n",
              "2               234.0           238.0          135.0   \n",
              "3               238.0           238.0          122.0   \n",
              "5               230.0           237.0          140.0   \n",
              "11              234.0           240.0          136.0   \n",
              "12              248.0           224.0           92.0   \n",
              "...               ...             ...            ...   \n",
              "581007          240.0           237.0          118.0   \n",
              "581008          240.0           237.0          119.0   \n",
              "581009          236.0           241.0          130.0   \n",
              "581010          230.0           245.0          143.0   \n",
              "581011          231.0           244.0          141.0   \n",
              "\n",
              "        Horizontal_Distance_To_Fire_Points  ...  Soil_Type_31  Soil_Type_32  \\\n",
              "2                                   6121.0  ...           0.0           0.0   \n",
              "3                                   6211.0  ...           0.0           0.0   \n",
              "5                                   6031.0  ...           0.0           0.0   \n",
              "11                                  4051.0  ...           0.0           0.0   \n",
              "12                                  6091.0  ...           0.0           0.0   \n",
              "...                                    ...  ...           ...           ...   \n",
              "581007                               837.0  ...           0.0           0.0   \n",
              "581008                               845.0  ...           0.0           0.0   \n",
              "581009                               854.0  ...           0.0           0.0   \n",
              "581010                               864.0  ...           0.0           0.0   \n",
              "581011                               875.0  ...           0.0           0.0   \n",
              "\n",
              "        Soil_Type_33  Soil_Type_34  Soil_Type_35  Soil_Type_36  Soil_Type_37  \\\n",
              "2                0.0           0.0           0.0           0.0           0.0   \n",
              "3                0.0           0.0           0.0           0.0           0.0   \n",
              "5                0.0           0.0           0.0           0.0           0.0   \n",
              "11               0.0           0.0           0.0           0.0           0.0   \n",
              "12               0.0           0.0           0.0           0.0           0.0   \n",
              "...              ...           ...           ...           ...           ...   \n",
              "581007           0.0           0.0           0.0           0.0           0.0   \n",
              "581008           0.0           0.0           0.0           0.0           0.0   \n",
              "581009           0.0           0.0           0.0           0.0           0.0   \n",
              "581010           0.0           0.0           0.0           0.0           0.0   \n",
              "581011           0.0           0.0           0.0           0.0           0.0   \n",
              "\n",
              "        Soil_Type_38  Soil_Type_39  target  \n",
              "2                0.0           0.0       2  \n",
              "3                0.0           0.0       2  \n",
              "5                0.0           0.0       2  \n",
              "11               0.0           0.0       2  \n",
              "12               0.0           0.0       2  \n",
              "...              ...           ...     ...  \n",
              "581007           0.0           0.0       3  \n",
              "581008           0.0           0.0       3  \n",
              "581009           0.0           0.0       3  \n",
              "581010           0.0           0.0       3  \n",
              "581011           0.0           0.0       3  \n",
              "\n",
              "[530895 rows x 55 columns]"
            ],
            "text/html": [
              "\n",
              "  <div id=\"df-679b4bb3-92b6-41bb-88bd-76b8c6a9bffa\">\n",
              "    <div class=\"colab-df-container\">\n",
              "      <div>\n",
              "<style scoped>\n",
              "    .dataframe tbody tr th:only-of-type {\n",
              "        vertical-align: middle;\n",
              "    }\n",
              "\n",
              "    .dataframe tbody tr th {\n",
              "        vertical-align: top;\n",
              "    }\n",
              "\n",
              "    .dataframe thead th {\n",
              "        text-align: right;\n",
              "    }\n",
              "</style>\n",
              "<table border=\"1\" class=\"dataframe\">\n",
              "  <thead>\n",
              "    <tr style=\"text-align: right;\">\n",
              "      <th></th>\n",
              "      <th>Elevation</th>\n",
              "      <th>Aspect</th>\n",
              "      <th>Slope</th>\n",
              "      <th>Horizontal_Distance_To_Hydrology</th>\n",
              "      <th>Vertical_Distance_To_Hydrology</th>\n",
              "      <th>Horizontal_Distance_To_Roadways</th>\n",
              "      <th>Hillshade_9am</th>\n",
              "      <th>Hillshade_Noon</th>\n",
              "      <th>Hillshade_3pm</th>\n",
              "      <th>Horizontal_Distance_To_Fire_Points</th>\n",
              "      <th>...</th>\n",
              "      <th>Soil_Type_31</th>\n",
              "      <th>Soil_Type_32</th>\n",
              "      <th>Soil_Type_33</th>\n",
              "      <th>Soil_Type_34</th>\n",
              "      <th>Soil_Type_35</th>\n",
              "      <th>Soil_Type_36</th>\n",
              "      <th>Soil_Type_37</th>\n",
              "      <th>Soil_Type_38</th>\n",
              "      <th>Soil_Type_39</th>\n",
              "      <th>target</th>\n",
              "    </tr>\n",
              "  </thead>\n",
              "  <tbody>\n",
              "    <tr>\n",
              "      <th>2</th>\n",
              "      <td>2804.0</td>\n",
              "      <td>139.0</td>\n",
              "      <td>9.0</td>\n",
              "      <td>268.0</td>\n",
              "      <td>65.0</td>\n",
              "      <td>3180.0</td>\n",
              "      <td>234.0</td>\n",
              "      <td>238.0</td>\n",
              "      <td>135.0</td>\n",
              "      <td>6121.0</td>\n",
              "      <td>...</td>\n",
              "      <td>0.0</td>\n",
              "      <td>0.0</td>\n",
              "      <td>0.0</td>\n",
              "      <td>0.0</td>\n",
              "      <td>0.0</td>\n",
              "      <td>0.0</td>\n",
              "      <td>0.0</td>\n",
              "      <td>0.0</td>\n",
              "      <td>0.0</td>\n",
              "      <td>2</td>\n",
              "    </tr>\n",
              "    <tr>\n",
              "      <th>3</th>\n",
              "      <td>2785.0</td>\n",
              "      <td>155.0</td>\n",
              "      <td>18.0</td>\n",
              "      <td>242.0</td>\n",
              "      <td>118.0</td>\n",
              "      <td>3090.0</td>\n",
              "      <td>238.0</td>\n",
              "      <td>238.0</td>\n",
              "      <td>122.0</td>\n",
              "      <td>6211.0</td>\n",
              "      <td>...</td>\n",
              "      <td>0.0</td>\n",
              "      <td>0.0</td>\n",
              "      <td>0.0</td>\n",
              "      <td>0.0</td>\n",
              "      <td>0.0</td>\n",
              "      <td>0.0</td>\n",
              "      <td>0.0</td>\n",
              "      <td>0.0</td>\n",
              "      <td>0.0</td>\n",
              "      <td>2</td>\n",
              "    </tr>\n",
              "    <tr>\n",
              "      <th>5</th>\n",
              "      <td>2579.0</td>\n",
              "      <td>132.0</td>\n",
              "      <td>6.0</td>\n",
              "      <td>300.0</td>\n",
              "      <td>-15.0</td>\n",
              "      <td>67.0</td>\n",
              "      <td>230.0</td>\n",
              "      <td>237.0</td>\n",
              "      <td>140.0</td>\n",
              "      <td>6031.0</td>\n",
              "      <td>...</td>\n",
              "      <td>0.0</td>\n",
              "      <td>0.0</td>\n",
              "      <td>0.0</td>\n",
              "      <td>0.0</td>\n",
              "      <td>0.0</td>\n",
              "      <td>0.0</td>\n",
              "      <td>0.0</td>\n",
              "      <td>0.0</td>\n",
              "      <td>0.0</td>\n",
              "      <td>2</td>\n",
              "    </tr>\n",
              "    <tr>\n",
              "      <th>11</th>\n",
              "      <td>2886.0</td>\n",
              "      <td>151.0</td>\n",
              "      <td>11.0</td>\n",
              "      <td>371.0</td>\n",
              "      <td>26.0</td>\n",
              "      <td>5253.0</td>\n",
              "      <td>234.0</td>\n",
              "      <td>240.0</td>\n",
              "      <td>136.0</td>\n",
              "      <td>4051.0</td>\n",
              "      <td>...</td>\n",
              "      <td>0.0</td>\n",
              "      <td>0.0</td>\n",
              "      <td>0.0</td>\n",
              "      <td>0.0</td>\n",
              "      <td>0.0</td>\n",
              "      <td>0.0</td>\n",
              "      <td>0.0</td>\n",
              "      <td>0.0</td>\n",
              "      <td>0.0</td>\n",
              "      <td>2</td>\n",
              "    </tr>\n",
              "    <tr>\n",
              "      <th>12</th>\n",
              "      <td>2742.0</td>\n",
              "      <td>134.0</td>\n",
              "      <td>22.0</td>\n",
              "      <td>150.0</td>\n",
              "      <td>69.0</td>\n",
              "      <td>3215.0</td>\n",
              "      <td>248.0</td>\n",
              "      <td>224.0</td>\n",
              "      <td>92.0</td>\n",
              "      <td>6091.0</td>\n",
              "      <td>...</td>\n",
              "      <td>0.0</td>\n",
              "      <td>0.0</td>\n",
              "      <td>0.0</td>\n",
              "      <td>0.0</td>\n",
              "      <td>0.0</td>\n",
              "      <td>0.0</td>\n",
              "      <td>0.0</td>\n",
              "      <td>0.0</td>\n",
              "      <td>0.0</td>\n",
              "      <td>2</td>\n",
              "    </tr>\n",
              "    <tr>\n",
              "      <th>...</th>\n",
              "      <td>...</td>\n",
              "      <td>...</td>\n",
              "      <td>...</td>\n",
              "      <td>...</td>\n",
              "      <td>...</td>\n",
              "      <td>...</td>\n",
              "      <td>...</td>\n",
              "      <td>...</td>\n",
              "      <td>...</td>\n",
              "      <td>...</td>\n",
              "      <td>...</td>\n",
              "      <td>...</td>\n",
              "      <td>...</td>\n",
              "      <td>...</td>\n",
              "      <td>...</td>\n",
              "      <td>...</td>\n",
              "      <td>...</td>\n",
              "      <td>...</td>\n",
              "      <td>...</td>\n",
              "      <td>...</td>\n",
              "      <td>...</td>\n",
              "    </tr>\n",
              "    <tr>\n",
              "      <th>581007</th>\n",
              "      <td>2396.0</td>\n",
              "      <td>153.0</td>\n",
              "      <td>20.0</td>\n",
              "      <td>85.0</td>\n",
              "      <td>17.0</td>\n",
              "      <td>108.0</td>\n",
              "      <td>240.0</td>\n",
              "      <td>237.0</td>\n",
              "      <td>118.0</td>\n",
              "      <td>837.0</td>\n",
              "      <td>...</td>\n",
              "      <td>0.0</td>\n",
              "      <td>0.0</td>\n",
              "      <td>0.0</td>\n",
              "      <td>0.0</td>\n",
              "      <td>0.0</td>\n",
              "      <td>0.0</td>\n",
              "      <td>0.0</td>\n",
              "      <td>0.0</td>\n",
              "      <td>0.0</td>\n",
              "      <td>3</td>\n",
              "    </tr>\n",
              "    <tr>\n",
              "      <th>581008</th>\n",
              "      <td>2391.0</td>\n",
              "      <td>152.0</td>\n",
              "      <td>19.0</td>\n",
              "      <td>67.0</td>\n",
              "      <td>12.0</td>\n",
              "      <td>95.0</td>\n",
              "      <td>240.0</td>\n",
              "      <td>237.0</td>\n",
              "      <td>119.0</td>\n",
              "      <td>845.0</td>\n",
              "      <td>...</td>\n",
              "      <td>0.0</td>\n",
              "      <td>0.0</td>\n",
              "      <td>0.0</td>\n",
              "      <td>0.0</td>\n",
              "      <td>0.0</td>\n",
              "      <td>0.0</td>\n",
              "      <td>0.0</td>\n",
              "      <td>0.0</td>\n",
              "      <td>0.0</td>\n",
              "      <td>3</td>\n",
              "    </tr>\n",
              "    <tr>\n",
              "      <th>581009</th>\n",
              "      <td>2386.0</td>\n",
              "      <td>159.0</td>\n",
              "      <td>17.0</td>\n",
              "      <td>60.0</td>\n",
              "      <td>7.0</td>\n",
              "      <td>90.0</td>\n",
              "      <td>236.0</td>\n",
              "      <td>241.0</td>\n",
              "      <td>130.0</td>\n",
              "      <td>854.0</td>\n",
              "      <td>...</td>\n",
              "      <td>0.0</td>\n",
              "      <td>0.0</td>\n",
              "      <td>0.0</td>\n",
              "      <td>0.0</td>\n",
              "      <td>0.0</td>\n",
              "      <td>0.0</td>\n",
              "      <td>0.0</td>\n",
              "      <td>0.0</td>\n",
              "      <td>0.0</td>\n",
              "      <td>3</td>\n",
              "    </tr>\n",
              "    <tr>\n",
              "      <th>581010</th>\n",
              "      <td>2384.0</td>\n",
              "      <td>170.0</td>\n",
              "      <td>15.0</td>\n",
              "      <td>60.0</td>\n",
              "      <td>5.0</td>\n",
              "      <td>90.0</td>\n",
              "      <td>230.0</td>\n",
              "      <td>245.0</td>\n",
              "      <td>143.0</td>\n",
              "      <td>864.0</td>\n",
              "      <td>...</td>\n",
              "      <td>0.0</td>\n",
              "      <td>0.0</td>\n",
              "      <td>0.0</td>\n",
              "      <td>0.0</td>\n",
              "      <td>0.0</td>\n",
              "      <td>0.0</td>\n",
              "      <td>0.0</td>\n",
              "      <td>0.0</td>\n",
              "      <td>0.0</td>\n",
              "      <td>3</td>\n",
              "    </tr>\n",
              "    <tr>\n",
              "      <th>581011</th>\n",
              "      <td>2383.0</td>\n",
              "      <td>165.0</td>\n",
              "      <td>13.0</td>\n",
              "      <td>60.0</td>\n",
              "      <td>4.0</td>\n",
              "      <td>67.0</td>\n",
              "      <td>231.0</td>\n",
              "      <td>244.0</td>\n",
              "      <td>141.0</td>\n",
              "      <td>875.0</td>\n",
              "      <td>...</td>\n",
              "      <td>0.0</td>\n",
              "      <td>0.0</td>\n",
              "      <td>0.0</td>\n",
              "      <td>0.0</td>\n",
              "      <td>0.0</td>\n",
              "      <td>0.0</td>\n",
              "      <td>0.0</td>\n",
              "      <td>0.0</td>\n",
              "      <td>0.0</td>\n",
              "      <td>3</td>\n",
              "    </tr>\n",
              "  </tbody>\n",
              "</table>\n",
              "<p>530895 rows × 55 columns</p>\n",
              "</div>\n",
              "      <button class=\"colab-df-convert\" onclick=\"convertToInteractive('df-679b4bb3-92b6-41bb-88bd-76b8c6a9bffa')\"\n",
              "              title=\"Convert this dataframe to an interactive table.\"\n",
              "              style=\"display:none;\">\n",
              "        \n",
              "  <svg xmlns=\"http://www.w3.org/2000/svg\" height=\"24px\"viewBox=\"0 0 24 24\"\n",
              "       width=\"24px\">\n",
              "    <path d=\"M0 0h24v24H0V0z\" fill=\"none\"/>\n",
              "    <path d=\"M18.56 5.44l.94 2.06.94-2.06 2.06-.94-2.06-.94-.94-2.06-.94 2.06-2.06.94zm-11 1L8.5 8.5l.94-2.06 2.06-.94-2.06-.94L8.5 2.5l-.94 2.06-2.06.94zm10 10l.94 2.06.94-2.06 2.06-.94-2.06-.94-.94-2.06-.94 2.06-2.06.94z\"/><path d=\"M17.41 7.96l-1.37-1.37c-.4-.4-.92-.59-1.43-.59-.52 0-1.04.2-1.43.59L10.3 9.45l-7.72 7.72c-.78.78-.78 2.05 0 2.83L4 21.41c.39.39.9.59 1.41.59.51 0 1.02-.2 1.41-.59l7.78-7.78 2.81-2.81c.8-.78.8-2.07 0-2.86zM5.41 20L4 18.59l7.72-7.72 1.47 1.35L5.41 20z\"/>\n",
              "  </svg>\n",
              "      </button>\n",
              "      \n",
              "  <style>\n",
              "    .colab-df-container {\n",
              "      display:flex;\n",
              "      flex-wrap:wrap;\n",
              "      gap: 12px;\n",
              "    }\n",
              "\n",
              "    .colab-df-convert {\n",
              "      background-color: #E8F0FE;\n",
              "      border: none;\n",
              "      border-radius: 50%;\n",
              "      cursor: pointer;\n",
              "      display: none;\n",
              "      fill: #1967D2;\n",
              "      height: 32px;\n",
              "      padding: 0 0 0 0;\n",
              "      width: 32px;\n",
              "    }\n",
              "\n",
              "    .colab-df-convert:hover {\n",
              "      background-color: #E2EBFA;\n",
              "      box-shadow: 0px 1px 2px rgba(60, 64, 67, 0.3), 0px 1px 3px 1px rgba(60, 64, 67, 0.15);\n",
              "      fill: #174EA6;\n",
              "    }\n",
              "\n",
              "    [theme=dark] .colab-df-convert {\n",
              "      background-color: #3B4455;\n",
              "      fill: #D2E3FC;\n",
              "    }\n",
              "\n",
              "    [theme=dark] .colab-df-convert:hover {\n",
              "      background-color: #434B5C;\n",
              "      box-shadow: 0px 1px 3px 1px rgba(0, 0, 0, 0.15);\n",
              "      filter: drop-shadow(0px 1px 2px rgba(0, 0, 0, 0.3));\n",
              "      fill: #FFFFFF;\n",
              "    }\n",
              "  </style>\n",
              "\n",
              "      <script>\n",
              "        const buttonEl =\n",
              "          document.querySelector('#df-679b4bb3-92b6-41bb-88bd-76b8c6a9bffa button.colab-df-convert');\n",
              "        buttonEl.style.display =\n",
              "          google.colab.kernel.accessAllowed ? 'block' : 'none';\n",
              "\n",
              "        async function convertToInteractive(key) {\n",
              "          const element = document.querySelector('#df-679b4bb3-92b6-41bb-88bd-76b8c6a9bffa');\n",
              "          const dataTable =\n",
              "            await google.colab.kernel.invokeFunction('convertToInteractive',\n",
              "                                                     [key], {});\n",
              "          if (!dataTable) return;\n",
              "\n",
              "          const docLinkHtml = 'Like what you see? Visit the ' +\n",
              "            '<a target=\"_blank\" href=https://colab.research.google.com/notebooks/data_table.ipynb>data table notebook</a>'\n",
              "            + ' to learn more about interactive tables.';\n",
              "          element.innerHTML = '';\n",
              "          dataTable['output_type'] = 'display_data';\n",
              "          await google.colab.output.renderOutput(dataTable, element);\n",
              "          const docLink = document.createElement('div');\n",
              "          docLink.innerHTML = docLinkHtml;\n",
              "          element.appendChild(docLink);\n",
              "        }\n",
              "      </script>\n",
              "    </div>\n",
              "  </div>\n",
              "  "
            ]
          },
          "metadata": {},
          "execution_count": 21
        }
      ]
    },
    {
      "cell_type": "code",
      "source": [
        "tree_df['target'].value_counts()"
      ],
      "metadata": {
        "colab": {
          "base_uri": "https://localhost:8080/"
        },
        "id": "P6qitESDmPVl",
        "outputId": "775515f6-a57c-4775-facb-83ce559435c3"
      },
      "execution_count": null,
      "outputs": [
        {
          "output_type": "execute_result",
          "data": {
            "text/plain": [
              "2    283301\n",
              "1    211840\n",
              "3     35754\n",
              "Name: target, dtype: int64"
            ]
          },
          "metadata": {},
          "execution_count": 81
        }
      ]
    },
    {
      "cell_type": "code",
      "source": [
        "from sklearn.tree import DecisionTreeClassifier\n",
        "\n",
        "X_train, X_test, y_train, y_test = train_test_split(features, labels, test_size=0.2, random_state=3)\n",
        "dtc = DecisionTreeClassifier()\n",
        "dtc.fit(X_train, y_train)\n",
        "print('모델의 정확도 :', round(dtc.score(X_test, y_test), 4))"
      ],
      "metadata": {
        "colab": {
          "base_uri": "https://localhost:8080/"
        },
        "id": "iQeMVObPQ-6l",
        "outputId": "cb66bad4-b336-4fb2-d86d-3e1d6e90533a"
      },
      "execution_count": null,
      "outputs": [
        {
          "output_type": "stream",
          "name": "stdout",
          "text": [
            "모델의 정확도 : 0.9396\n"
          ]
        }
      ]
    },
    {
      "cell_type": "code",
      "source": [
        "from sklearn.preprocessing import StandardScaler\n",
        "\n",
        "std = StandardScaler()\n",
        "std.fit(X_train)\n",
        "X_train_scaled = std.transform(X_train)\n",
        "X_test_scaled = std.transform(X_test)\n",
        "dtc.fit(X_train_scaled, y_train)\n",
        "print('모델의 정확도 :', round(dtc.score(X_test_scaled, y_test), 4))"
      ],
      "metadata": {
        "colab": {
          "base_uri": "https://localhost:8080/"
        },
        "id": "1V22flHoS0g4",
        "outputId": "281389f2-500c-4eb9-b6c4-5831f52fd3be"
      },
      "execution_count": null,
      "outputs": [
        {
          "output_type": "stream",
          "name": "stdout",
          "text": [
            "모델의 정확도 : 0.9395\n"
          ]
        }
      ]
    },
    {
      "cell_type": "code",
      "source": [
        "from sklearn.preprocessing import MinMaxScaler\n",
        "\n",
        "mms = MinMaxScaler()\n",
        "mms.fit(X_train)\n",
        "X_train_scaled = mms.transform(X_train)\n",
        "X_test_scaled = mms.transform(X_test)\n",
        "dtc.fit(X_train_scaled, y_train)\n",
        "print('모델의 정확도 :', round(dtc.score(X_test_scaled, y_test), 4))"
      ],
      "metadata": {
        "colab": {
          "base_uri": "https://localhost:8080/"
        },
        "id": "ZOBEtINrTqel",
        "outputId": "5c3ca5ae-98db-4209-b165-78c131ffb6f2"
      },
      "execution_count": null,
      "outputs": [
        {
          "output_type": "stream",
          "name": "stdout",
          "text": [
            "모델의 정확도 : 0.9401\n"
          ]
        }
      ]
    },
    {
      "cell_type": "code",
      "source": [
        "from sklearn.preprocessing import MaxAbsScaler\n",
        "\n",
        "mas = MaxAbsScaler()\n",
        "mas.fit(X_train)\n",
        "X_train_scaled = mas.transform(X_train)\n",
        "X_test_scaled = mas.transform(X_test)\n",
        "dtc.fit(X_train_scaled, y_train)\n",
        "print('모델의 정확도 :', round(dtc.score(X_test_scaled, y_test), 4))"
      ],
      "metadata": {
        "colab": {
          "base_uri": "https://localhost:8080/"
        },
        "id": "t5FslIouT4mj",
        "outputId": "7c9c7cba-a70b-45c9-8d1a-1f8f9febd4d3"
      },
      "execution_count": null,
      "outputs": [
        {
          "output_type": "stream",
          "name": "stdout",
          "text": [
            "모델의 정확도 : 0.9401\n"
          ]
        }
      ]
    },
    {
      "cell_type": "code",
      "source": [
        "from sklearn.preprocessing import RobustScaler\n",
        "\n",
        "rbs = RobustScaler()\n",
        "X_train_scaled = rbs.fit_transform(X_train)\n",
        "X_test_scaled = rbs.transform(X_test)\n",
        "dtc.fit(X_train_scaled, y_train)\n",
        "print('모델의 정확도 :', round(dtc.score(X_test_scaled, y_test), 4))"
      ],
      "metadata": {
        "colab": {
          "base_uri": "https://localhost:8080/"
        },
        "id": "oi_Q0C93T_AT",
        "outputId": "f33c1310-9efd-406b-baf6-43c08489bace"
      },
      "execution_count": null,
      "outputs": [
        {
          "output_type": "stream",
          "name": "stdout",
          "text": [
            "모델의 정확도 : 0.9396\n"
          ]
        }
      ]
    },
    {
      "cell_type": "code",
      "source": [
        "from sklearn.preprocessing import Normalizer\n",
        "\n",
        "norm = Normalizer()\n",
        "X_train_scaled = norm.fit_transform(X_train)\n",
        "X_test_scaled = norm.transform(X_test)\n",
        "dtc.fit(X_train_scaled, y_train)\n",
        "print('모델의 정확도 :', round(dtc.score(X_test_scaled, y_test), 4))"
      ],
      "metadata": {
        "colab": {
          "base_uri": "https://localhost:8080/"
        },
        "id": "AmwlaPvxUD7o",
        "outputId": "7866b31e-c337-4fc0-8020-90b8bc55a7b9"
      },
      "execution_count": null,
      "outputs": [
        {
          "output_type": "stream",
          "name": "stdout",
          "text": [
            "모델의 정확도 : 0.9322\n"
          ]
        }
      ]
    },
    {
      "cell_type": "code",
      "source": [
        "tree_df['target'].value_counts()"
      ],
      "metadata": {
        "colab": {
          "base_uri": "https://localhost:8080/"
        },
        "id": "DKqvq3RSUKqa",
        "outputId": "a9346337-7fe9-4792-f388-9cf4d678e56d"
      },
      "execution_count": null,
      "outputs": [
        {
          "output_type": "execute_result",
          "data": {
            "text/plain": [
              "2    283301\n",
              "1    211840\n",
              "3     35754\n",
              "Name: target, dtype: int64"
            ]
          },
          "metadata": {},
          "execution_count": 28
        }
      ]
    },
    {
      "cell_type": "code",
      "source": [
        "tree_df['target'].unique()"
      ],
      "metadata": {
        "colab": {
          "base_uri": "https://localhost:8080/"
        },
        "id": "whmZXcorWsbs",
        "outputId": "a33c5fc9-ca99-4d7e-b72e-03aeb76b02a9"
      },
      "execution_count": null,
      "outputs": [
        {
          "output_type": "execute_result",
          "data": {
            "text/plain": [
              "array([2, 1, 3], dtype=int32)"
            ]
          },
          "metadata": {},
          "execution_count": 40
        }
      ]
    },
    {
      "cell_type": "code",
      "source": [
        "X_features = tree_df.iloc[:,:-1]\n",
        "y_label = tree_df.iloc[:,-1]\n",
        "y_label"
      ],
      "metadata": {
        "colab": {
          "base_uri": "https://localhost:8080/"
        },
        "id": "CwPVcNIcUhdd",
        "outputId": "685fcc24-46ac-43eb-b5eb-5b757cd58948"
      },
      "execution_count": null,
      "outputs": [
        {
          "output_type": "execute_result",
          "data": {
            "text/plain": [
              "2         2\n",
              "3         2\n",
              "5         2\n",
              "11        2\n",
              "12        2\n",
              "         ..\n",
              "581007    3\n",
              "581008    3\n",
              "581009    3\n",
              "581010    3\n",
              "581011    3\n",
              "Name: target, Length: 530895, dtype: int32"
            ]
          },
          "metadata": {},
          "execution_count": 43
        }
      ]
    },
    {
      "cell_type": "code",
      "source": [
        "X_train, X_test, y_train, y_test = train_test_split(X_features, y_label, test_size = 0.2,\n",
        "                                                    random_state = 156)\n",
        "\n",
        "X_tr, X_val, y_tr, y_val= train_test_split(X_train, y_train, test_size=0.1, random_state=156 )\n",
        "print(X_train.shape , X_test.shape)\n",
        "print(X_tr.shape, X_val.shape)"
      ],
      "metadata": {
        "colab": {
          "base_uri": "https://localhost:8080/"
        },
        "id": "jbilNIWlUriX",
        "outputId": "3ffe3062-27f4-46af-84cd-459b1f42c2c8"
      },
      "execution_count": null,
      "outputs": [
        {
          "output_type": "stream",
          "name": "stdout",
          "text": [
            "(424716, 54) (106179, 54)\n",
            "(382244, 54) (42472, 54)\n"
          ]
        }
      ]
    },
    {
      "cell_type": "code",
      "source": [
        "dtr = xgb.DMatrix(data=X_tr, label=y_tr)\n",
        "dval = xgb.DMatrix(data=X_val, label=y_val)\n",
        "dtest = xgb.DMatrix(data=X_test , label=y_test)"
      ],
      "metadata": {
        "id": "D8R5R7RHUwCX"
      },
      "execution_count": null,
      "outputs": []
    },
    {
      "cell_type": "code",
      "source": [
        "params = { 'max_depth':3,\n",
        "          'eta': 0.05,\n",
        "          'objective':'reg:linear',\n",
        "          'eval_metric':'logloss'\n",
        "         }\n",
        "num_rounds = 400\n",
        "\n",
        "# 학습 데이터 셋은 'train' 또는 평가 데이터 셋은 'eval' 로 명기합니다. \n",
        "eval_list = [(dtr,'train'),(dval,'eval')] # 또는 eval_list = [(dval,'eval')] 만 명기해도 무방. \n",
        "\n",
        "# 하이퍼 파라미터와 early stopping 파라미터를 train( ) 함수의 파라미터로 전달\n",
        "xgb_model = xgb.train(params = params , dtrain=dtr , num_boost_round=num_rounds ,\n",
        "                      early_stopping_rounds=50, evals=eval_list )"
      ],
      "metadata": {
        "colab": {
          "base_uri": "https://localhost:8080/"
        },
        "id": "pRh83_29U1G_",
        "outputId": "47b7cdb1-bdde-4267-af19-6e856c456ba7"
      },
      "execution_count": null,
      "outputs": [
        {
          "output_type": "stream",
          "name": "stdout",
          "text": [
            "[07:08:13] WARNING: ../src/objective/regression_obj.cu:213: reg:linear is now deprecated in favor of reg:squarederror.\n",
            "[0]\ttrain-logloss:0.39263\teval-logloss:0.39141\n",
            "[1]\ttrain-logloss:0.10725\teval-logloss:0.10470\n",
            "[2]\ttrain-logloss:-0.18142\teval-logloss:-0.18567\n",
            "[3]\ttrain-logloss:-0.52069\teval-logloss:-0.52872\n",
            "[4]\ttrain-logloss:-3.66025\teval-logloss:-3.78296\n",
            "[5]\ttrain-logloss:-4.56926\teval-logloss:-4.70358\n",
            "[6]\ttrain-logloss:-5.90695\teval-logloss:-5.98800\n",
            "[7]\ttrain-logloss:-8.34230\teval-logloss:-8.35864\n",
            "[8]\ttrain-logloss:-9.32843\teval-logloss:-9.35643\n",
            "[9]\ttrain-logloss:-17.63733\teval-logloss:-17.72970\n",
            "[10]\ttrain-logloss:-19.40842\teval-logloss:-19.48874\n",
            "[11]\ttrain-logloss:-20.05180\teval-logloss:-20.10698\n",
            "[12]\ttrain-logloss:-20.47937\teval-logloss:-20.52335\n",
            "[13]\ttrain-logloss:-20.87634\teval-logloss:-20.92057\n",
            "[14]\ttrain-logloss:-21.28109\teval-logloss:-21.31942\n",
            "[15]\ttrain-logloss:-21.76422\teval-logloss:-21.80437\n",
            "[16]\ttrain-logloss:-22.50991\teval-logloss:-22.54392\n",
            "[17]\ttrain-logloss:-23.15131\teval-logloss:-23.17453\n",
            "[18]\ttrain-logloss:-23.57612\teval-logloss:-23.62602\n",
            "[19]\ttrain-logloss:-24.20807\teval-logloss:-24.27858\n",
            "[20]\ttrain-logloss:-24.44573\teval-logloss:-24.51936\n",
            "[21]\ttrain-logloss:-24.58850\teval-logloss:-24.67058\n",
            "[22]\ttrain-logloss:-25.00460\teval-logloss:-25.10145\n",
            "[23]\ttrain-logloss:-25.03695\teval-logloss:-25.13356\n",
            "[24]\ttrain-logloss:-25.13710\teval-logloss:-25.22983\n",
            "[25]\ttrain-logloss:-25.15732\teval-logloss:-25.25005\n",
            "[26]\ttrain-logloss:-25.17629\teval-logloss:-25.26906\n",
            "[27]\ttrain-logloss:-25.19407\teval-logloss:-25.28685\n",
            "[28]\ttrain-logloss:-25.21080\teval-logloss:-25.30359\n",
            "[29]\ttrain-logloss:-25.22658\teval-logloss:-25.31940\n",
            "[30]\ttrain-logloss:-25.24145\teval-logloss:-25.33428\n",
            "[31]\ttrain-logloss:-25.25548\teval-logloss:-25.34831\n",
            "[32]\ttrain-logloss:-25.26869\teval-logloss:-25.36153\n",
            "[33]\ttrain-logloss:-25.28111\teval-logloss:-25.37396\n",
            "[34]\ttrain-logloss:-25.29284\teval-logloss:-25.38571\n",
            "[35]\ttrain-logloss:-25.30391\teval-logloss:-25.39679\n",
            "[36]\ttrain-logloss:-25.31436\teval-logloss:-25.40726\n",
            "[37]\ttrain-logloss:-25.32426\teval-logloss:-25.41713\n",
            "[38]\ttrain-logloss:-25.33358\teval-logloss:-25.42646\n",
            "[39]\ttrain-logloss:-25.34240\teval-logloss:-25.43527\n",
            "[40]\ttrain-logloss:-25.35074\teval-logloss:-25.44363\n",
            "[41]\ttrain-logloss:-25.35869\teval-logloss:-25.45157\n",
            "[42]\ttrain-logloss:-25.36615\teval-logloss:-25.45904\n",
            "[43]\ttrain-logloss:-25.37326\teval-logloss:-25.46613\n",
            "[44]\ttrain-logloss:-25.37992\teval-logloss:-25.47279\n",
            "[45]\ttrain-logloss:-25.38631\teval-logloss:-25.47915\n",
            "[46]\ttrain-logloss:-25.39230\teval-logloss:-25.48512\n",
            "[47]\ttrain-logloss:-25.39798\teval-logloss:-25.49083\n",
            "[48]\ttrain-logloss:-25.40341\teval-logloss:-25.49624\n",
            "[49]\ttrain-logloss:-25.40850\teval-logloss:-25.50132\n",
            "[50]\ttrain-logloss:-25.41333\teval-logloss:-25.50616\n",
            "[51]\ttrain-logloss:-25.41796\teval-logloss:-25.51078\n",
            "[52]\ttrain-logloss:-25.42232\teval-logloss:-25.51513\n",
            "[53]\ttrain-logloss:-25.42643\teval-logloss:-25.51923\n",
            "[54]\ttrain-logloss:-25.43035\teval-logloss:-25.52314\n",
            "[55]\ttrain-logloss:-25.43405\teval-logloss:-25.52685\n",
            "[56]\ttrain-logloss:-25.43760\teval-logloss:-25.53040\n",
            "[57]\ttrain-logloss:-25.44095\teval-logloss:-25.53372\n",
            "[58]\ttrain-logloss:-25.44410\teval-logloss:-25.53686\n",
            "[59]\ttrain-logloss:-25.44710\teval-logloss:-25.53986\n",
            "[60]\ttrain-logloss:-25.44990\teval-logloss:-25.54268\n",
            "[61]\ttrain-logloss:-25.45261\teval-logloss:-25.54538\n",
            "[62]\ttrain-logloss:-25.45520\teval-logloss:-25.54793\n",
            "[63]\ttrain-logloss:-25.45765\teval-logloss:-25.55037\n",
            "[64]\ttrain-logloss:-25.45998\teval-logloss:-25.55268\n",
            "[65]\ttrain-logloss:-25.46217\teval-logloss:-25.55486\n",
            "[66]\ttrain-logloss:-25.46428\teval-logloss:-25.55697\n",
            "[67]\ttrain-logloss:-25.46627\teval-logloss:-25.55897\n",
            "[68]\ttrain-logloss:-25.46816\teval-logloss:-25.56083\n",
            "[69]\ttrain-logloss:-25.46994\teval-logloss:-25.56262\n",
            "[70]\ttrain-logloss:-25.47166\teval-logloss:-25.56434\n",
            "[71]\ttrain-logloss:-25.47329\teval-logloss:-25.56597\n",
            "[72]\ttrain-logloss:-25.47483\teval-logloss:-25.56750\n",
            "[73]\ttrain-logloss:-25.47629\teval-logloss:-25.56897\n",
            "[74]\ttrain-logloss:-25.47766\teval-logloss:-25.57032\n",
            "[75]\ttrain-logloss:-25.47899\teval-logloss:-25.57163\n",
            "[76]\ttrain-logloss:-25.48026\teval-logloss:-25.57289\n",
            "[77]\ttrain-logloss:-25.48145\teval-logloss:-25.57410\n",
            "[78]\ttrain-logloss:-25.48260\teval-logloss:-25.57525\n",
            "[79]\ttrain-logloss:-25.48367\teval-logloss:-25.57631\n",
            "[80]\ttrain-logloss:-25.48468\teval-logloss:-25.57735\n",
            "[81]\ttrain-logloss:-25.48568\teval-logloss:-25.57833\n",
            "[82]\ttrain-logloss:-25.48659\teval-logloss:-25.57926\n",
            "[83]\ttrain-logloss:-25.48748\teval-logloss:-25.58014\n",
            "[84]\ttrain-logloss:-25.48833\teval-logloss:-25.58098\n",
            "[85]\ttrain-logloss:-25.48914\teval-logloss:-25.58179\n",
            "[86]\ttrain-logloss:-25.48989\teval-logloss:-25.58255\n",
            "[87]\ttrain-logloss:-25.49062\teval-logloss:-25.58328\n",
            "[88]\ttrain-logloss:-25.49131\teval-logloss:-25.58396\n",
            "[89]\ttrain-logloss:-25.49195\teval-logloss:-25.58463\n",
            "[90]\ttrain-logloss:-25.49257\teval-logloss:-25.58523\n",
            "[91]\ttrain-logloss:-25.49315\teval-logloss:-25.58581\n",
            "[92]\ttrain-logloss:-25.49372\teval-logloss:-25.58637\n",
            "[93]\ttrain-logloss:-25.49426\teval-logloss:-25.58692\n",
            "[94]\ttrain-logloss:-25.49479\teval-logloss:-25.58743\n",
            "[95]\ttrain-logloss:-25.49527\teval-logloss:-25.58790\n",
            "[96]\ttrain-logloss:-25.49575\teval-logloss:-25.58837\n",
            "[97]\ttrain-logloss:-25.49618\teval-logloss:-25.58882\n",
            "[98]\ttrain-logloss:-25.49661\teval-logloss:-25.58925\n",
            "[99]\ttrain-logloss:-25.49702\teval-logloss:-25.58964\n",
            "[100]\ttrain-logloss:-25.49740\teval-logloss:-25.59001\n",
            "[101]\ttrain-logloss:-25.49777\teval-logloss:-25.59039\n",
            "[102]\ttrain-logloss:-25.49811\teval-logloss:-25.59074\n",
            "[103]\ttrain-logloss:-25.49844\teval-logloss:-25.59106\n",
            "[104]\ttrain-logloss:-25.49875\teval-logloss:-25.59138\n",
            "[105]\ttrain-logloss:-25.49907\teval-logloss:-25.59171\n",
            "[106]\ttrain-logloss:-25.49935\teval-logloss:-25.59199\n",
            "[107]\ttrain-logloss:-25.49962\teval-logloss:-25.59226\n",
            "[108]\ttrain-logloss:-25.49989\teval-logloss:-25.59252\n",
            "[109]\ttrain-logloss:-25.50015\teval-logloss:-25.59278\n",
            "[110]\ttrain-logloss:-25.50040\teval-logloss:-25.59305\n",
            "[111]\ttrain-logloss:-25.50054\teval-logloss:-25.59327\n",
            "[112]\ttrain-logloss:-25.50075\teval-logloss:-25.59347\n",
            "[113]\ttrain-logloss:-25.50094\teval-logloss:-25.59369\n",
            "[114]\ttrain-logloss:-25.50114\teval-logloss:-25.59387\n",
            "[115]\ttrain-logloss:-25.50132\teval-logloss:-25.59405\n",
            "[116]\ttrain-logloss:-25.50150\teval-logloss:-25.59422\n",
            "[117]\ttrain-logloss:-25.50168\teval-logloss:-25.59441\n",
            "[118]\ttrain-logloss:-25.50186\teval-logloss:-25.59457\n",
            "[119]\ttrain-logloss:-25.50203\teval-logloss:-25.59473\n",
            "[120]\ttrain-logloss:-25.50217\teval-logloss:-25.59488\n",
            "[121]\ttrain-logloss:-25.50232\teval-logloss:-25.59503\n",
            "[122]\ttrain-logloss:-25.50248\teval-logloss:-25.59518\n",
            "[123]\ttrain-logloss:-25.50262\teval-logloss:-25.59532\n",
            "[124]\ttrain-logloss:-25.50274\teval-logloss:-25.59544\n",
            "[125]\ttrain-logloss:-25.50280\teval-logloss:-25.59556\n",
            "[126]\ttrain-logloss:-25.50290\teval-logloss:-25.59567\n",
            "[127]\ttrain-logloss:-25.50303\teval-logloss:-25.59579\n",
            "[128]\ttrain-logloss:-25.50314\teval-logloss:-25.59590\n",
            "[129]\ttrain-logloss:-25.50324\teval-logloss:-25.59599\n",
            "[130]\ttrain-logloss:-25.50334\teval-logloss:-25.59610\n",
            "[131]\ttrain-logloss:-25.50344\teval-logloss:-25.59621\n",
            "[132]\ttrain-logloss:-25.50345\teval-logloss:-25.59630\n",
            "[133]\ttrain-logloss:-25.50356\teval-logloss:-25.59641\n",
            "[134]\ttrain-logloss:-25.50364\teval-logloss:-25.59651\n",
            "[135]\ttrain-logloss:-25.50371\teval-logloss:-25.59658\n",
            "[136]\ttrain-logloss:-25.50378\teval-logloss:-25.59665\n",
            "[137]\ttrain-logloss:-25.50386\teval-logloss:-25.59672\n",
            "[138]\ttrain-logloss:-25.50394\teval-logloss:-25.59680\n",
            "[139]\ttrain-logloss:-25.50400\teval-logloss:-25.59686\n",
            "[140]\ttrain-logloss:-25.50407\teval-logloss:-25.59695\n",
            "[141]\ttrain-logloss:-25.50413\teval-logloss:-25.59700\n",
            "[142]\ttrain-logloss:-25.50420\teval-logloss:-25.59707\n",
            "[143]\ttrain-logloss:-25.50428\teval-logloss:-25.59715\n",
            "[144]\ttrain-logloss:-25.50435\teval-logloss:-25.59722\n",
            "[145]\ttrain-logloss:-25.50443\teval-logloss:-25.59730\n",
            "[146]\ttrain-logloss:-25.50447\teval-logloss:-25.59734\n",
            "[147]\ttrain-logloss:-25.50453\teval-logloss:-25.59740\n",
            "[148]\ttrain-logloss:-25.50457\teval-logloss:-25.59744\n",
            "[149]\ttrain-logloss:-25.50462\teval-logloss:-25.59749\n",
            "[150]\ttrain-logloss:-25.50468\teval-logloss:-25.59755\n",
            "[151]\ttrain-logloss:-25.50473\teval-logloss:-25.59761\n",
            "[152]\ttrain-logloss:-25.50477\teval-logloss:-25.59765\n",
            "[153]\ttrain-logloss:-25.50482\teval-logloss:-25.59770\n",
            "[154]\ttrain-logloss:-25.50486\teval-logloss:-25.59774\n",
            "[155]\ttrain-logloss:-25.50490\teval-logloss:-25.59778\n",
            "[156]\ttrain-logloss:-25.50493\teval-logloss:-25.59782\n",
            "[157]\ttrain-logloss:-25.50497\teval-logloss:-25.59787\n",
            "[158]\ttrain-logloss:-25.50500\teval-logloss:-25.59791\n",
            "[159]\ttrain-logloss:-25.50504\teval-logloss:-25.59795\n",
            "[160]\ttrain-logloss:-25.50508\teval-logloss:-25.59799\n",
            "[161]\ttrain-logloss:-25.50511\teval-logloss:-25.59802\n",
            "[162]\ttrain-logloss:-25.50514\teval-logloss:-25.59804\n",
            "[163]\ttrain-logloss:-25.50518\teval-logloss:-25.59807\n",
            "[164]\ttrain-logloss:-25.50523\teval-logloss:-25.59812\n",
            "[165]\ttrain-logloss:-25.50527\teval-logloss:-25.59817\n",
            "[166]\ttrain-logloss:-25.50531\teval-logloss:-25.59821\n",
            "[167]\ttrain-logloss:-25.50536\teval-logloss:-25.59827\n",
            "[168]\ttrain-logloss:-25.50541\teval-logloss:-25.59832\n",
            "[169]\ttrain-logloss:-25.50543\teval-logloss:-25.59834\n",
            "[170]\ttrain-logloss:-25.50546\teval-logloss:-25.59837\n",
            "[171]\ttrain-logloss:-25.50548\teval-logloss:-25.59840\n",
            "[172]\ttrain-logloss:-25.50551\teval-logloss:-25.59842\n",
            "[173]\ttrain-logloss:-25.50553\teval-logloss:-25.59844\n",
            "[174]\ttrain-logloss:-25.50548\teval-logloss:-25.59846\n",
            "[175]\ttrain-logloss:-25.50549\teval-logloss:-25.59848\n",
            "[176]\ttrain-logloss:-25.50558\teval-logloss:-25.59850\n",
            "[177]\ttrain-logloss:-25.50554\teval-logloss:-25.59853\n",
            "[178]\ttrain-logloss:-25.50562\teval-logloss:-25.59856\n",
            "[179]\ttrain-logloss:-25.50564\teval-logloss:-25.59858\n",
            "[180]\ttrain-logloss:-25.50567\teval-logloss:-25.59859\n",
            "[181]\ttrain-logloss:-25.50569\teval-logloss:-25.59862\n",
            "[182]\ttrain-logloss:-25.50572\teval-logloss:-25.59865\n",
            "[183]\ttrain-logloss:-25.50574\teval-logloss:-25.59867\n",
            "[184]\ttrain-logloss:-25.50576\teval-logloss:-25.59870\n",
            "[185]\ttrain-logloss:-25.50578\teval-logloss:-25.59871\n",
            "[186]\ttrain-logloss:-25.50573\teval-logloss:-25.59875\n",
            "[187]\ttrain-logloss:-25.50574\teval-logloss:-25.59876\n",
            "[188]\ttrain-logloss:-25.50577\teval-logloss:-25.59880\n",
            "[189]\ttrain-logloss:-25.50578\teval-logloss:-25.59882\n",
            "[190]\ttrain-logloss:-25.50580\teval-logloss:-25.59883\n",
            "[191]\ttrain-logloss:-25.50582\teval-logloss:-25.59886\n",
            "[192]\ttrain-logloss:-25.50584\teval-logloss:-25.59888\n",
            "[193]\ttrain-logloss:-25.50585\teval-logloss:-25.59889\n",
            "[194]\ttrain-logloss:-25.50595\teval-logloss:-25.59892\n",
            "[195]\ttrain-logloss:-25.50596\teval-logloss:-25.59892\n",
            "[196]\ttrain-logloss:-25.50590\teval-logloss:-25.59894\n",
            "[197]\ttrain-logloss:-25.50591\teval-logloss:-25.59896\n",
            "[198]\ttrain-logloss:-25.50594\teval-logloss:-25.59899\n",
            "[199]\ttrain-logloss:-25.50595\teval-logloss:-25.59900\n",
            "[200]\ttrain-logloss:-25.50597\teval-logloss:-25.59901\n",
            "[201]\ttrain-logloss:-25.50599\teval-logloss:-25.59902\n",
            "[202]\ttrain-logloss:-25.50600\teval-logloss:-25.59903\n",
            "[203]\ttrain-logloss:-25.50601\teval-logloss:-25.59904\n",
            "[204]\ttrain-logloss:-25.50603\teval-logloss:-25.59905\n",
            "[205]\ttrain-logloss:-25.50604\teval-logloss:-25.59906\n",
            "[206]\ttrain-logloss:-25.50605\teval-logloss:-25.59908\n",
            "[207]\ttrain-logloss:-25.50606\teval-logloss:-25.59910\n",
            "[208]\ttrain-logloss:-25.50607\teval-logloss:-25.59911\n",
            "[209]\ttrain-logloss:-25.50608\teval-logloss:-25.59912\n",
            "[210]\ttrain-logloss:-25.50610\teval-logloss:-25.59916\n",
            "[211]\ttrain-logloss:-25.50614\teval-logloss:-25.59919\n",
            "[212]\ttrain-logloss:-25.50620\teval-logloss:-25.59925\n",
            "[213]\ttrain-logloss:-25.50621\teval-logloss:-25.59926\n",
            "[214]\ttrain-logloss:-25.50622\teval-logloss:-25.59928\n",
            "[215]\ttrain-logloss:-25.50624\teval-logloss:-25.59930\n",
            "[216]\ttrain-logloss:-25.50619\teval-logloss:-25.59932\n",
            "[217]\ttrain-logloss:-25.50621\teval-logloss:-25.59933\n",
            "[218]\ttrain-logloss:-25.50630\teval-logloss:-25.59934\n",
            "[219]\ttrain-logloss:-25.50630\teval-logloss:-25.59935\n",
            "[220]\ttrain-logloss:-25.50631\teval-logloss:-25.59936\n",
            "[221]\ttrain-logloss:-25.50633\teval-logloss:-25.59938\n",
            "[222]\ttrain-logloss:-25.50628\teval-logloss:-25.59940\n",
            "[223]\ttrain-logloss:-25.50636\teval-logloss:-25.59941\n",
            "[224]\ttrain-logloss:-25.50631\teval-logloss:-25.59945\n",
            "[225]\ttrain-logloss:-25.50631\teval-logloss:-25.59946\n",
            "[226]\ttrain-logloss:-25.50624\teval-logloss:-25.59946\n",
            "[227]\ttrain-logloss:-25.50625\teval-logloss:-25.59948\n",
            "[228]\ttrain-logloss:-25.50626\teval-logloss:-25.59949\n",
            "[229]\ttrain-logloss:-25.50627\teval-logloss:-25.59950\n",
            "[230]\ttrain-logloss:-25.50628\teval-logloss:-25.59951\n",
            "[231]\ttrain-logloss:-25.50629\teval-logloss:-25.59951\n",
            "[232]\ttrain-logloss:-25.50630\teval-logloss:-25.59953\n",
            "[233]\ttrain-logloss:-25.50631\teval-logloss:-25.59955\n",
            "[234]\ttrain-logloss:-25.50632\teval-logloss:-25.59956\n",
            "[235]\ttrain-logloss:-25.50634\teval-logloss:-25.59957\n",
            "[236]\ttrain-logloss:-25.50634\teval-logloss:-25.59958\n",
            "[237]\ttrain-logloss:-25.50635\teval-logloss:-25.59958\n",
            "[238]\ttrain-logloss:-25.50636\teval-logloss:-25.59959\n",
            "[239]\ttrain-logloss:-25.50637\teval-logloss:-25.59960\n",
            "[240]\ttrain-logloss:-25.50638\teval-logloss:-25.59961\n",
            "[241]\ttrain-logloss:-25.50638\teval-logloss:-25.59962\n",
            "[242]\ttrain-logloss:-25.50642\teval-logloss:-25.59965\n",
            "[243]\ttrain-logloss:-25.50643\teval-logloss:-25.59966\n",
            "[244]\ttrain-logloss:-25.50637\teval-logloss:-25.59968\n",
            "[245]\ttrain-logloss:-25.50637\teval-logloss:-25.59969\n",
            "[246]\ttrain-logloss:-25.50638\teval-logloss:-25.59900\n",
            "[247]\ttrain-logloss:-25.50632\teval-logloss:-25.59899\n",
            "[248]\ttrain-logloss:-25.50633\teval-logloss:-25.59899\n",
            "[249]\ttrain-logloss:-25.50634\teval-logloss:-25.59900\n",
            "[250]\ttrain-logloss:-25.50634\teval-logloss:-25.59901\n",
            "[251]\ttrain-logloss:-25.50635\teval-logloss:-25.59902\n",
            "[252]\ttrain-logloss:-25.50636\teval-logloss:-25.59902\n",
            "[253]\ttrain-logloss:-25.50637\teval-logloss:-25.59903\n",
            "[254]\ttrain-logloss:-25.50638\teval-logloss:-25.59904\n",
            "[255]\ttrain-logloss:-25.50631\teval-logloss:-25.59905\n",
            "[256]\ttrain-logloss:-25.50632\teval-logloss:-25.59905\n",
            "[257]\ttrain-logloss:-25.50641\teval-logloss:-25.59907\n",
            "[258]\ttrain-logloss:-25.50638\teval-logloss:-25.59911\n",
            "[259]\ttrain-logloss:-25.50638\teval-logloss:-25.59912\n",
            "[260]\ttrain-logloss:-25.50639\teval-logloss:-25.59913\n",
            "[261]\ttrain-logloss:-25.50639\teval-logloss:-25.59913\n",
            "[262]\ttrain-logloss:-25.50640\teval-logloss:-25.59914\n",
            "[263]\ttrain-logloss:-25.50641\teval-logloss:-25.59916\n",
            "[264]\ttrain-logloss:-25.50643\teval-logloss:-25.59919\n",
            "[265]\ttrain-logloss:-25.50644\teval-logloss:-25.59921\n",
            "[266]\ttrain-logloss:-25.50645\teval-logloss:-25.59923\n",
            "[267]\ttrain-logloss:-25.50646\teval-logloss:-25.59924\n",
            "[268]\ttrain-logloss:-25.50646\teval-logloss:-25.59924\n",
            "[269]\ttrain-logloss:-25.50647\teval-logloss:-25.59925\n",
            "[270]\ttrain-logloss:-25.50648\teval-logloss:-25.59925\n",
            "[271]\ttrain-logloss:-25.50649\teval-logloss:-25.59926\n",
            "[272]\ttrain-logloss:-25.50643\teval-logloss:-25.59857\n",
            "[273]\ttrain-logloss:-25.50645\teval-logloss:-25.59859\n",
            "[274]\ttrain-logloss:-25.50645\teval-logloss:-25.59859\n",
            "[275]\ttrain-logloss:-25.50646\teval-logloss:-25.59859\n",
            "[276]\ttrain-logloss:-25.50640\teval-logloss:-25.59792\n",
            "[277]\ttrain-logloss:-25.50644\teval-logloss:-25.59793\n",
            "[278]\ttrain-logloss:-25.50645\teval-logloss:-25.59794\n",
            "[279]\ttrain-logloss:-25.50645\teval-logloss:-25.59794\n",
            "[280]\ttrain-logloss:-25.50646\teval-logloss:-25.59730\n",
            "[281]\ttrain-logloss:-25.50647\teval-logloss:-25.59729\n",
            "[282]\ttrain-logloss:-25.50648\teval-logloss:-25.59729\n",
            "[283]\ttrain-logloss:-25.50648\teval-logloss:-25.59731\n",
            "[284]\ttrain-logloss:-25.50650\teval-logloss:-25.59733\n",
            "[285]\ttrain-logloss:-25.50651\teval-logloss:-25.59736\n",
            "[286]\ttrain-logloss:-25.50652\teval-logloss:-25.59735\n",
            "[287]\ttrain-logloss:-25.50653\teval-logloss:-25.59734\n",
            "[288]\ttrain-logloss:-25.50653\teval-logloss:-25.59735\n",
            "[289]\ttrain-logloss:-25.50654\teval-logloss:-25.59729\n",
            "[290]\ttrain-logloss:-25.50654\teval-logloss:-25.59728\n",
            "[291]\ttrain-logloss:-25.50655\teval-logloss:-25.59729\n",
            "[292]\ttrain-logloss:-25.50656\teval-logloss:-25.59726\n",
            "[293]\ttrain-logloss:-25.50657\teval-logloss:-25.59728\n",
            "[294]\ttrain-logloss:-25.50658\teval-logloss:-25.59729\n",
            "[295]\ttrain-logloss:-25.50652\teval-logloss:-25.59730\n"
          ]
        }
      ]
    },
    {
      "cell_type": "code",
      "source": [
        "pred_probs = xgb_model.predict(dtest)\n",
        "print('predict( ) 수행 결과값을 표시, 예측 확률 값으로 표시됨')\n",
        "pred_probs"
      ],
      "metadata": {
        "colab": {
          "base_uri": "https://localhost:8080/"
        },
        "id": "u2KVE3BaU6ix",
        "outputId": "f36180ed-2f8d-4933-c230-f1d460ddfc4f"
      },
      "execution_count": null,
      "outputs": [
        {
          "output_type": "stream",
          "name": "stdout",
          "text": [
            "predict( ) 수행 결과값을 표시, 예측 확률 값으로 표시됨\n"
          ]
        },
        {
          "output_type": "execute_result",
          "data": {
            "text/plain": [
              "array([1.8811834, 1.1004764, 1.3894609, ..., 1.8673991, 1.3574008,\n",
              "       1.8928337], dtype=float32)"
            ]
          },
          "metadata": {},
          "execution_count": 51
        }
      ]
    },
    {
      "cell_type": "code",
      "source": [
        "pred_probs = xgb_model.predict(dtest)\n",
        "print('predict( ) 수행 결과값을 10개만 표시, 예측 확률 값으로 표시됨')\n",
        "print(np.round(pred_probs[:10],3))\n",
        "\n",
        "preds = [ 3 if x >2.5 else 2 if x > 1.5 else 1 if x > 0.5 else 0 for x in pred_probs ]\n",
        "#preds = [ 1 if x > 0.5 else 0 for x in pred_probs ]\n",
        "print('예측값 10개만 표시:',preds[:10])"
      ],
      "metadata": {
        "colab": {
          "base_uri": "https://localhost:8080/"
        },
        "id": "-x8cYe7qYy6T",
        "outputId": "b448a635-c68a-4437-ba23-43c095db492e"
      },
      "execution_count": null,
      "outputs": [
        {
          "output_type": "stream",
          "name": "stdout",
          "text": [
            "predict( ) 수행 결과값을 10개만 표시, 예측 확률 값으로 표시됨\n",
            "[1.881 1.1   1.389 2.223 1.803 2.624 1.975 2.026 1.884 1.079]\n",
            "예측값 10개만 표시: [2, 1, 1, 2, 2, 3, 2, 2, 2, 1]\n"
          ]
        }
      ]
    },
    {
      "cell_type": "code",
      "source": [
        "from sklearn.metrics import confusion_matrix, accuracy_score\n",
        "from sklearn.metrics import precision_score, recall_score\n",
        "from sklearn.metrics import f1_score, roc_auc_score\n",
        "from sklearn.metrics import fbeta_score # f베타 스코어"
      ],
      "metadata": {
        "id": "XbMphcGwY1KG"
      },
      "execution_count": null,
      "outputs": []
    },
    {
      "cell_type": "code",
      "source": [
        "confusion_matrix(y_test, preds)"
      ],
      "metadata": {
        "colab": {
          "base_uri": "https://localhost:8080/"
        },
        "id": "rsjtck71gGLI",
        "outputId": "0859b485-b864-44e0-d0b4-6c846fb08ee3"
      },
      "execution_count": null,
      "outputs": [
        {
          "output_type": "execute_result",
          "data": {
            "text/plain": [
              "array([[31820, 10424,     2],\n",
              "       [ 9605, 46427,   653],\n",
              "       [    0,   780,  6468]])"
            ]
          },
          "metadata": {},
          "execution_count": 83
        }
      ]
    },
    {
      "cell_type": "code",
      "source": [
        "# 정밀도(precision)\n",
        "pre_micro = precision_score(y_test, preds, average = 'micro')\n",
        "print(pre_micro) #정확도 값과 동일\n",
        "\n",
        "pre_macro = precision_score(y_test, preds, average = 'macro')\n",
        "print(pre_macro)\n",
        "\n",
        "pre_weighted = precision_score(y_test, preds, average = 'weighted')\n",
        "print(pre_weighted)\n",
        "\n",
        "# 재현율(recall)\n",
        "recall_micro = recall_score(y_test, preds, average= 'micro')\n",
        "print(float(recall_micro)) #정확도 값과 동일\n",
        "\n",
        "recall_macro = recall_score(y_test, preds, average= 'macro')\n",
        "print(recall_macro)\n",
        "\n",
        "recall_weighted = recall_score(y_test, preds, average = 'weighted')\n",
        "print(recall_weighted)\n",
        "\n",
        "# F1 score\n",
        "f1_micro = f1_score(y_test, preds, average= 'micro')\n",
        "print(f1_micro) #정확도 값과 동일\n",
        "\n",
        "f1_macro = f1_score(y_test, preds, average= 'macro')\n",
        "print(f1_macro)\n",
        "\n",
        "f1_weighted = f1_score(y_test, preds, average = 'weighted')\n",
        "print(f1_weighted)\n",
        "\n",
        "# Fbeta score (beta = 2)\n",
        "fbeta_micro = fbeta_score(y_test, preds, beta = 2, average= 'micro')\n",
        "print(fbeta_micro)#정확도 값과 동일\n",
        "\n",
        "fbeta_macro = fbeta_score(y_test, preds, beta = 2, average= 'macro')\n",
        "print(fbeta_macro)\n",
        "\n",
        "fbeta_weighted = fbeta_score(y_test, preds, beta = 2, average = 'weighted')\n",
        "print(fbeta_weighted)\n",
        "\n",
        "accuracy = accuracy_score(y_test, preds, average = 'weighted')\n",
        "print(accuracy)"
      ],
      "metadata": {
        "colab": {
          "base_uri": "https://localhost:8080/",
          "height": 596
        },
        "id": "Y-UBvFxFdRqi",
        "outputId": "77fe179b-476f-4f92-c774-0312b50e3d4c"
      },
      "execution_count": null,
      "outputs": [
        {
          "output_type": "stream",
          "name": "stdout",
          "text": [
            "0.797850799122237\n",
            "0.8272567628306174\n",
            "0.7976817985709098\n",
            "0.797850799122237\n",
            "0.8215421760979801\n",
            "0.797850799122237\n",
            "0.797850799122237\n",
            "0.8243338120402469\n",
            "0.7977028127513556\n",
            "0.797850799122237\n",
            "0.8226431803549675\n",
            "0.7977763976690238\n"
          ]
        },
        {
          "output_type": "error",
          "ename": "TypeError",
          "evalue": "ignored",
          "traceback": [
            "\u001b[0;31m---------------------------------------------------------------------------\u001b[0m",
            "\u001b[0;31mTypeError\u001b[0m                                 Traceback (most recent call last)",
            "\u001b[0;32m<ipython-input-87-ca15ad1fe40d>\u001b[0m in \u001b[0;36m<cell line: 41>\u001b[0;34m()\u001b[0m\n\u001b[1;32m     39\u001b[0m \u001b[0mprint\u001b[0m\u001b[0;34m(\u001b[0m\u001b[0mfbeta_weighted\u001b[0m\u001b[0;34m)\u001b[0m\u001b[0;34m\u001b[0m\u001b[0;34m\u001b[0m\u001b[0m\n\u001b[1;32m     40\u001b[0m \u001b[0;34m\u001b[0m\u001b[0m\n\u001b[0;32m---> 41\u001b[0;31m \u001b[0maccuracy\u001b[0m \u001b[0;34m=\u001b[0m \u001b[0maccuracy_score\u001b[0m\u001b[0;34m(\u001b[0m\u001b[0my_test\u001b[0m\u001b[0;34m,\u001b[0m \u001b[0mpreds\u001b[0m\u001b[0;34m,\u001b[0m \u001b[0maverage\u001b[0m \u001b[0;34m=\u001b[0m \u001b[0;34m'weighted'\u001b[0m\u001b[0;34m)\u001b[0m\u001b[0;34m\u001b[0m\u001b[0;34m\u001b[0m\u001b[0m\n\u001b[0m\u001b[1;32m     42\u001b[0m \u001b[0mprint\u001b[0m\u001b[0;34m(\u001b[0m\u001b[0maccuracy\u001b[0m\u001b[0;34m)\u001b[0m\u001b[0;34m\u001b[0m\u001b[0;34m\u001b[0m\u001b[0m\n",
            "\u001b[0;32m/usr/local/lib/python3.10/dist-packages/sklearn/utils/_param_validation.py\u001b[0m in \u001b[0;36mwrapper\u001b[0;34m(*args, **kwargs)\u001b[0m\n\u001b[1;32m    173\u001b[0m \u001b[0;34m\u001b[0m\u001b[0m\n\u001b[1;32m    174\u001b[0m             \u001b[0;31m# Map *args/**kwargs to the function signature\u001b[0m\u001b[0;34m\u001b[0m\u001b[0;34m\u001b[0m\u001b[0m\n\u001b[0;32m--> 175\u001b[0;31m             \u001b[0mparams\u001b[0m \u001b[0;34m=\u001b[0m \u001b[0mfunc_sig\u001b[0m\u001b[0;34m.\u001b[0m\u001b[0mbind\u001b[0m\u001b[0;34m(\u001b[0m\u001b[0;34m*\u001b[0m\u001b[0margs\u001b[0m\u001b[0;34m,\u001b[0m \u001b[0;34m**\u001b[0m\u001b[0mkwargs\u001b[0m\u001b[0;34m)\u001b[0m\u001b[0;34m\u001b[0m\u001b[0;34m\u001b[0m\u001b[0m\n\u001b[0m\u001b[1;32m    176\u001b[0m             \u001b[0mparams\u001b[0m\u001b[0;34m.\u001b[0m\u001b[0mapply_defaults\u001b[0m\u001b[0;34m(\u001b[0m\u001b[0;34m)\u001b[0m\u001b[0;34m\u001b[0m\u001b[0;34m\u001b[0m\u001b[0m\n\u001b[1;32m    177\u001b[0m \u001b[0;34m\u001b[0m\u001b[0m\n",
            "\u001b[0;32m/usr/lib/python3.10/inspect.py\u001b[0m in \u001b[0;36mbind\u001b[0;34m(self, *args, **kwargs)\u001b[0m\n\u001b[1;32m   3184\u001b[0m         \u001b[0;32mif\u001b[0m \u001b[0mthe\u001b[0m \u001b[0mpassed\u001b[0m \u001b[0marguments\u001b[0m \u001b[0mcan\u001b[0m \u001b[0;32mnot\u001b[0m \u001b[0mbe\u001b[0m \u001b[0mbound\u001b[0m\u001b[0;34m.\u001b[0m\u001b[0;34m\u001b[0m\u001b[0;34m\u001b[0m\u001b[0m\n\u001b[1;32m   3185\u001b[0m         \"\"\"\n\u001b[0;32m-> 3186\u001b[0;31m         \u001b[0;32mreturn\u001b[0m \u001b[0mself\u001b[0m\u001b[0;34m.\u001b[0m\u001b[0m_bind\u001b[0m\u001b[0;34m(\u001b[0m\u001b[0margs\u001b[0m\u001b[0;34m,\u001b[0m \u001b[0mkwargs\u001b[0m\u001b[0;34m)\u001b[0m\u001b[0;34m\u001b[0m\u001b[0;34m\u001b[0m\u001b[0m\n\u001b[0m\u001b[1;32m   3187\u001b[0m \u001b[0;34m\u001b[0m\u001b[0m\n\u001b[1;32m   3188\u001b[0m     \u001b[0;32mdef\u001b[0m \u001b[0mbind_partial\u001b[0m\u001b[0;34m(\u001b[0m\u001b[0mself\u001b[0m\u001b[0;34m,\u001b[0m \u001b[0;34m/\u001b[0m\u001b[0;34m,\u001b[0m \u001b[0;34m*\u001b[0m\u001b[0margs\u001b[0m\u001b[0;34m,\u001b[0m \u001b[0;34m**\u001b[0m\u001b[0mkwargs\u001b[0m\u001b[0;34m)\u001b[0m\u001b[0;34m:\u001b[0m\u001b[0;34m\u001b[0m\u001b[0;34m\u001b[0m\u001b[0m\n",
            "\u001b[0;32m/usr/lib/python3.10/inspect.py\u001b[0m in \u001b[0;36m_bind\u001b[0;34m(self, args, kwargs, partial)\u001b[0m\n\u001b[1;32m   3173\u001b[0m                 \u001b[0marguments\u001b[0m\u001b[0;34m[\u001b[0m\u001b[0mkwargs_param\u001b[0m\u001b[0;34m.\u001b[0m\u001b[0mname\u001b[0m\u001b[0;34m]\u001b[0m \u001b[0;34m=\u001b[0m \u001b[0mkwargs\u001b[0m\u001b[0;34m\u001b[0m\u001b[0;34m\u001b[0m\u001b[0m\n\u001b[1;32m   3174\u001b[0m             \u001b[0;32melse\u001b[0m\u001b[0;34m:\u001b[0m\u001b[0;34m\u001b[0m\u001b[0;34m\u001b[0m\u001b[0m\n\u001b[0;32m-> 3175\u001b[0;31m                 raise TypeError(\n\u001b[0m\u001b[1;32m   3176\u001b[0m                     'got an unexpected keyword argument {arg!r}'.format(\n\u001b[1;32m   3177\u001b[0m                         arg=next(iter(kwargs))))\n",
            "\u001b[0;31mTypeError\u001b[0m: got an unexpected keyword argument 'average'"
          ]
        }
      ]
    },
    {
      "cell_type": "code",
      "source": [
        "# 모델 저장\n",
        "import joblib\n",
        "from google.colab import files\n",
        "import time\n",
        "\n",
        "joblib.dump(model, 'model.pkl')\n",
        "time.sleep(10)\n",
        "files.download('model.pkl')"
      ],
      "metadata": {
        "id": "CiA0rIHpeD6v"
      },
      "execution_count": null,
      "outputs": []
    },
    {
      "cell_type": "code",
      "source": [
        "# 모델 불러오기\n",
        "clf_from_joblib = joblib.load('model.pkl')\n",
        "clf_from_joblib.predict(X)"
      ],
      "metadata": {
        "id": "AaBZd8AspGdf"
      },
      "execution_count": null,
      "outputs": []
    }
  ]
}