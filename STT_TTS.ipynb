{
  "cells": [
    {
      "cell_type": "markdown",
      "metadata": {
        "id": "view-in-github",
        "colab_type": "text"
      },
      "source": [
        "<a href=\"https://colab.research.google.com/github/audwls4545/metaverse/blob/main/STT_TTS.ipynb\" target=\"_parent\"><img src=\"https://colab.research.google.com/assets/colab-badge.svg\" alt=\"Open In Colab\"/></a>"
      ]
    },
    {
      "cell_type": "code",
      "execution_count": null,
      "metadata": {
        "id": "kXNDV3KjrIE8"
      },
      "outputs": [],
      "source": [
        "import speech_recognition as sr\n",
        "from gtts import gTTS\n",
        "import playsound\n",
        "import time\n",
        "\n",
        "\n",
        "r = sr.Recognizer()\n",
        "try:\n",
        "    while True:\n",
        "        # 음성 입력 받기\n",
        "        with sr.Microphone() as source:\n",
        "            print('음성을 입력하세요')\n",
        "            audio = r.listen(source)\n",
        "            result = r.recognize_google(audio, language='ko-KR')\n",
        "            print('음성: ' + result)\n",
        "\n",
        "            if result in ['메타버스', '메타포스', '스타벅스']:\n",
        "                tts = gTTS(text='반갑습니다', lang='ko')\n",
        "                path = 'answer.mp3'\n",
        "                tts.save(path)\n",
        "                playsound.playsound(path)\n",
        "                break\n",
        "except:\n",
        "    print('마이크로폰 에러')"
      ]
    },
    {
      "cell_type": "code",
      "execution_count": null,
      "metadata": {
        "id": "mHmGirJ8rIE_"
      },
      "outputs": [],
      "source": []
    }
  ],
  "metadata": {
    "kernelspec": {
      "display_name": "uniformClassification",
      "language": "python",
      "name": "python3"
    },
    "language_info": {
      "codemirror_mode": {
        "name": "ipython",
        "version": 3
      },
      "file_extension": ".py",
      "mimetype": "text/x-python",
      "name": "python",
      "nbconvert_exporter": "python",
      "pygments_lexer": "ipython3",
      "version": "3.9.16"
    },
    "orig_nbformat": 4,
    "colab": {
      "provenance": [],
      "include_colab_link": true
    }
  },
  "nbformat": 4,
  "nbformat_minor": 0
}