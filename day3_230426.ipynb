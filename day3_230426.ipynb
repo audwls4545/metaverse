{
  "nbformat": 4,
  "nbformat_minor": 0,
  "metadata": {
    "colab": {
      "provenance": [],
      "authorship_tag": "ABX9TyNDVoOEPbXKDk39x4gcd8Ky",
      "include_colab_link": true
    },
    "kernelspec": {
      "name": "python3",
      "display_name": "Python 3"
    },
    "language_info": {
      "name": "python"
    }
  },
  "cells": [
    {
      "cell_type": "markdown",
      "metadata": {
        "id": "view-in-github",
        "colab_type": "text"
      },
      "source": [
        "<a href=\"https://colab.research.google.com/github/audwls4545/metaverse/blob/main/day3_230426.ipynb\" target=\"_parent\"><img src=\"https://colab.research.google.com/assets/colab-badge.svg\" alt=\"Open In Colab\"/></a>"
      ]
    },
    {
      "cell_type": "code",
      "execution_count": null,
      "metadata": {
        "colab": {
          "base_uri": "https://localhost:8080/"
        },
        "id": "ok6beRnyALJd",
        "outputId": "270e5e8b-982b-4500-f461-148d7b9b71d2"
      },
      "outputs": [
        {
          "output_type": "stream",
          "name": "stdout",
          "text": [
            "홍길동\n",
            "0\n"
          ]
        }
      ],
      "source": [
        "class Min():\n",
        "    no = 0\n",
        "    def setname(self, name):\n",
        "        self.name = name\n",
        "\n",
        "p1 = Min()\n",
        "p1.setname('홍길동')\n",
        "print(p1.name)\n",
        "print(p1.no)"
      ]
    },
    {
      "cell_type": "code",
      "source": [
        "p2 = Min()\n",
        "p2.setname('헐크')\n",
        "p2.no = 3\n",
        "\n",
        "print(p1.name)\n",
        "print(p2.no)"
      ],
      "metadata": {
        "colab": {
          "base_uri": "https://localhost:8080/"
        },
        "id": "XMIDdO9sAT1A",
        "outputId": "7572ab63-4153-4d7b-9458-739af9aaa3e5"
      },
      "execution_count": null,
      "outputs": [
        {
          "output_type": "stream",
          "name": "stdout",
          "text": [
            "홍길동\n",
            "3\n"
          ]
        }
      ]
    },
    {
      "cell_type": "code",
      "source": [
        "print(p1.no)"
      ],
      "metadata": {
        "colab": {
          "base_uri": "https://localhost:8080/"
        },
        "id": "antJdIMBAX_W",
        "outputId": "c65a3139-f128-451a-dcd1-0eceade6f538"
      },
      "execution_count": null,
      "outputs": [
        {
          "output_type": "stream",
          "name": "stdout",
          "text": [
            "0\n"
          ]
        }
      ]
    },
    {
      "cell_type": "code",
      "source": [
        "Min.no = 100\n",
        "\n",
        "p1.no"
      ],
      "metadata": {
        "colab": {
          "base_uri": "https://localhost:8080/"
        },
        "id": "AU_Wd93gC4dH",
        "outputId": "3b4b6dc4-f582-46bf-8415-7a07c308afe2"
      },
      "execution_count": null,
      "outputs": [
        {
          "output_type": "execute_result",
          "data": {
            "text/plain": [
              "100"
            ]
          },
          "metadata": {},
          "execution_count": 9
        }
      ]
    },
    {
      "cell_type": "code",
      "source": [
        "p2.no"
      ],
      "metadata": {
        "colab": {
          "base_uri": "https://localhost:8080/"
        },
        "id": "xjxC2V-LC-hi",
        "outputId": "a671fe8a-985d-4985-f086-6073e5e7285f"
      },
      "execution_count": null,
      "outputs": [
        {
          "output_type": "execute_result",
          "data": {
            "text/plain": [
              "3"
            ]
          },
          "metadata": {},
          "execution_count": 10
        }
      ]
    },
    {
      "cell_type": "code",
      "source": [
        "class test:\n",
        "    def __init__(self):\n",
        "        print('생성자')\n",
        "\n",
        "p1 = test()\n"
      ],
      "metadata": {
        "colab": {
          "base_uri": "https://localhost:8080/"
        },
        "id": "oT5hRTyMC_2t",
        "outputId": "644b2338-0e7d-49ab-8fd1-ca94d8e35c62"
      },
      "execution_count": null,
      "outputs": [
        {
          "output_type": "stream",
          "name": "stdout",
          "text": [
            "생성자\n"
          ]
        }
      ]
    },
    {
      "cell_type": "code",
      "source": [
        "class Makejuso:\n",
        "    def setjuso(self, juso):\n",
        "        self.juso = juso\n",
        "\n",
        "class Makemin(Makejuso):\n",
        "    def __init__(self, name, age, juso):\n",
        "        self.name = name\n",
        "        self.age = age\n",
        "        super().setjuso(juso)\n",
        "\n",
        "    def view(self):\n",
        "        print(self.name)\n",
        "        print(self.age)\n",
        "        print(self.juso)\n",
        "\n",
        "min1 = Makemin('홍길동', 30, '서울시')\n",
        "min1.view()"
      ],
      "metadata": {
        "colab": {
          "base_uri": "https://localhost:8080/"
        },
        "id": "WZ5b4rJID6Gl",
        "outputId": "3375f351-7fdb-4a67-b734-71c6db6f5a88"
      },
      "execution_count": null,
      "outputs": [
        {
          "output_type": "stream",
          "name": "stdout",
          "text": [
            "홍길동\n",
            "30\n",
            "서울시\n"
          ]
        }
      ]
    },
    {
      "cell_type": "code",
      "source": [
        "import util\n",
        "\n",
        "util.changeminnum('791111-1234567')"
      ],
      "metadata": {
        "colab": {
          "base_uri": "https://localhost:8080/",
          "height": 35
        },
        "id": "DuPFeIQ7GbXv",
        "outputId": "1f84204c-648b-4a35-d81b-150a7391450f"
      },
      "execution_count": null,
      "outputs": [
        {
          "output_type": "execute_result",
          "data": {
            "text/plain": [
              "'7911111234567'"
            ],
            "application/vnd.google.colaboratory.intrinsic+json": {
              "type": "string"
            }
          },
          "metadata": {},
          "execution_count": 15
        }
      ]
    },
    {
      "cell_type": "code",
      "source": [
        "util.getbirth('791111-1234567')"
      ],
      "metadata": {
        "id": "uHGdu8-LIhHb",
        "colab": {
          "base_uri": "https://localhost:8080/",
          "height": 35
        },
        "outputId": "b1d8ad04-e789-4d2e-c0dc-24bc70314325"
      },
      "execution_count": null,
      "outputs": [
        {
          "output_type": "execute_result",
          "data": {
            "text/plain": [
              "'1111'"
            ],
            "application/vnd.google.colaboratory.intrinsic+json": {
              "type": "string"
            }
          },
          "metadata": {},
          "execution_count": 16
        }
      ]
    },
    {
      "cell_type": "code",
      "source": [
        "import pickle\n",
        "\n",
        "data = {'서울':100, '부산':200}\n",
        "\n",
        "f = open('data.txt','wb')\n",
        "pickle.dump(data,f)\n",
        "f.close()"
      ],
      "metadata": {
        "id": "r8jLbziDIx2F"
      },
      "execution_count": null,
      "outputs": []
    },
    {
      "cell_type": "code",
      "source": [
        "f = open('data.txt', 'rb')\n",
        "result = pickle.load(f)\n",
        "print(result)"
      ],
      "metadata": {
        "colab": {
          "base_uri": "https://localhost:8080/"
        },
        "id": "Zlz43dv-LigX",
        "outputId": "41859e95-f31a-4a35-b850-493e17bdd97a"
      },
      "execution_count": null,
      "outputs": [
        {
          "output_type": "stream",
          "name": "stdout",
          "text": [
            "{'서울': 100, '부산': 200}\n"
          ]
        }
      ]
    },
    {
      "cell_type": "code",
      "source": [
        "type(result)"
      ],
      "metadata": {
        "colab": {
          "base_uri": "https://localhost:8080/"
        },
        "id": "dzlTwloTL-8e",
        "outputId": "8f872508-d384-43a9-87c0-b4909131dfdd"
      },
      "execution_count": null,
      "outputs": [
        {
          "output_type": "execute_result",
          "data": {
            "text/plain": [
              "dict"
            ]
          },
          "metadata": {},
          "execution_count": 21
        }
      ]
    },
    {
      "cell_type": "code",
      "source": [
        "a = 3\n",
        "print(b)\n",
        "print(a)"
      ],
      "metadata": {
        "colab": {
          "base_uri": "https://localhost:8080/",
          "height": 211
        },
        "id": "MQc5F2RuMBEN",
        "outputId": "21d0e04d-43d5-4b83-a00e-2da813b28efc"
      },
      "execution_count": null,
      "outputs": [
        {
          "output_type": "error",
          "ename": "NameError",
          "evalue": "ignored",
          "traceback": [
            "\u001b[0;31m---------------------------------------------------------------------------\u001b[0m",
            "\u001b[0;31mNameError\u001b[0m                                 Traceback (most recent call last)",
            "\u001b[0;32m<ipython-input-22-55cd36cb9995>\u001b[0m in \u001b[0;36m<cell line: 2>\u001b[0;34m()\u001b[0m\n\u001b[1;32m      1\u001b[0m \u001b[0ma\u001b[0m \u001b[0;34m=\u001b[0m \u001b[0;36m3\u001b[0m\u001b[0;34m\u001b[0m\u001b[0;34m\u001b[0m\u001b[0m\n\u001b[0;32m----> 2\u001b[0;31m \u001b[0mprint\u001b[0m\u001b[0;34m(\u001b[0m\u001b[0mb\u001b[0m\u001b[0;34m)\u001b[0m\u001b[0;34m\u001b[0m\u001b[0;34m\u001b[0m\u001b[0m\n\u001b[0m\u001b[1;32m      3\u001b[0m \u001b[0mprint\u001b[0m\u001b[0;34m(\u001b[0m\u001b[0ma\u001b[0m\u001b[0;34m)\u001b[0m\u001b[0;34m\u001b[0m\u001b[0;34m\u001b[0m\u001b[0m\n",
            "\u001b[0;31mNameError\u001b[0m: name 'b' is not defined"
          ]
        }
      ]
    },
    {
      "cell_type": "code",
      "source": [
        "a = 3\n",
        "\n",
        "try:\n",
        "    print(b)\n",
        "except:\n",
        "    print('error')\n",
        "\n",
        "print(a)"
      ],
      "metadata": {
        "colab": {
          "base_uri": "https://localhost:8080/"
        },
        "id": "5MmlXbPBN7Ll",
        "outputId": "242cec37-64d3-4e6a-acc4-bb4b358f35ab"
      },
      "execution_count": null,
      "outputs": [
        {
          "output_type": "stream",
          "name": "stdout",
          "text": [
            "error\n",
            "3\n"
          ]
        }
      ]
    },
    {
      "cell_type": "code",
      "source": [],
      "metadata": {
        "id": "dIZnMvclOMr1"
      },
      "execution_count": null,
      "outputs": []
    }
  ]
}