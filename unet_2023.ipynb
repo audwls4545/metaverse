{
  "nbformat": 4,
  "nbformat_minor": 0,
  "metadata": {
    "colab": {
      "provenance": [],
      "gpuType": "T4",
      "include_colab_link": true
    },
    "kernelspec": {
      "name": "python3",
      "display_name": "Python 3"
    },
    "language_info": {
      "name": "python"
    },
    "accelerator": "GPU"
  },
  "cells": [
    {
      "cell_type": "markdown",
      "metadata": {
        "id": "view-in-github",
        "colab_type": "text"
      },
      "source": [
        "<a href=\"https://colab.research.google.com/github/audwls4545/metaverse/blob/main/unet_2023.ipynb\" target=\"_parent\"><img src=\"https://colab.research.google.com/assets/colab-badge.svg\" alt=\"Open In Colab\"/></a>"
      ]
    },
    {
      "cell_type": "code",
      "source": [
        "!wget https://www.robots.ox.ac.uk/~vgg/data/pets/data/images.tar.gz"
      ],
      "metadata": {
        "id": "sPwxqVAwnfTb",
        "colab": {
          "base_uri": "https://localhost:8080/"
        },
        "outputId": "b42c6bc6-7e78-4159-9ddf-21079fc68ff7"
      },
      "execution_count": 1,
      "outputs": [
        {
          "output_type": "stream",
          "name": "stdout",
          "text": [
            "--2023-09-11 02:13:22--  https://www.robots.ox.ac.uk/~vgg/data/pets/data/images.tar.gz\n",
            "Resolving www.robots.ox.ac.uk (www.robots.ox.ac.uk)... 129.67.94.2\n",
            "Connecting to www.robots.ox.ac.uk (www.robots.ox.ac.uk)|129.67.94.2|:443... connected.\n",
            "HTTP request sent, awaiting response... 301 Moved Permanently\n",
            "Location: https://thor.robots.ox.ac.uk/~vgg/data/pets/images.tar.gz [following]\n",
            "--2023-09-11 02:13:23--  https://thor.robots.ox.ac.uk/~vgg/data/pets/images.tar.gz\n",
            "Resolving thor.robots.ox.ac.uk (thor.robots.ox.ac.uk)... 129.67.95.98\n",
            "Connecting to thor.robots.ox.ac.uk (thor.robots.ox.ac.uk)|129.67.95.98|:443... connected.\n",
            "HTTP request sent, awaiting response... 301 Moved Permanently\n",
            "Location: https://thor.robots.ox.ac.uk/datasets/pets/images.tar.gz [following]\n",
            "--2023-09-11 02:13:24--  https://thor.robots.ox.ac.uk/datasets/pets/images.tar.gz\n",
            "Reusing existing connection to thor.robots.ox.ac.uk:443.\n",
            "HTTP request sent, awaiting response... 200 OK\n",
            "Length: 791918971 (755M) [application/octet-stream]\n",
            "Saving to: ‘images.tar.gz’\n",
            "\n",
            "images.tar.gz       100%[===================>] 755.23M  16.9MB/s    in 47s     \n",
            "\n",
            "2023-09-11 02:14:12 (16.1 MB/s) - ‘images.tar.gz’ saved [791918971/791918971]\n",
            "\n"
          ]
        }
      ]
    },
    {
      "cell_type": "code",
      "execution_count": 2,
      "metadata": {
        "colab": {
          "base_uri": "https://localhost:8080/"
        },
        "id": "-XWvYvsHnKvl",
        "outputId": "452055d8-7161-4e0a-f3ad-ae866564f67f"
      },
      "outputs": [
        {
          "output_type": "stream",
          "name": "stdout",
          "text": [
            "Cloning into 'dataset-iiit-pet'...\n",
            "remote: Enumerating objects: 18465, done.\u001b[K\n",
            "remote: Counting objects: 100% (5/5), done.\u001b[K\n",
            "remote: Compressing objects: 100% (4/4), done.\u001b[K\n",
            "remote: Total 18465 (delta 1), reused 3 (delta 1), pack-reused 18460\u001b[K\n",
            "Receiving objects: 100% (18465/18465), 772.55 MiB | 15.47 MiB/s, done.\n",
            "Resolving deltas: 100% (3678/3678), done.\n",
            "Updating files: 100% (18477/18477), done.\n"
          ]
        }
      ],
      "source": [
        "!git clone https://github.com/ml4py/dataset-iiit-pet"
      ]
    },
    {
      "cell_type": "code",
      "source": [
        "import glob\n",
        "import matplotlib.pyplot as plt\n",
        "from PIL import Image\n",
        "import cv2\n",
        "\n",
        "images = sorted(glob.glob('./dataset-iiit-pet/images/*.jpg'))\n",
        "\n",
        "for temp in images:\n",
        "    result = cv2.imread(temp,cv2.IMREAD_COLOR)\n",
        "    cv2.imwrite(temp,result)\n",
        "\n",
        "    if result.shape[2] == 4: #png확인\n",
        "        print(temp)"
      ],
      "metadata": {
        "id": "jI_7p0ICnwph"
      },
      "execution_count": 3,
      "outputs": []
    },
    {
      "cell_type": "code",
      "source": [
        "annotation = Image.open('./dataset-iiit-pet/annotations/trimaps/Abyssinian_1.png')\n",
        "plt.imshow(annotation)"
      ],
      "metadata": {
        "colab": {
          "base_uri": "https://localhost:8080/",
          "height": 414
        },
        "id": "4D90TrYKouPE",
        "outputId": "ef88cace-7749-4220-8648-29013e0a8e67"
      },
      "execution_count": 4,
      "outputs": [
        {
          "output_type": "execute_result",
          "data": {
            "text/plain": [
              "<matplotlib.image.AxesImage at 0x7f27c452c790>"
            ]
          },
          "metadata": {},
          "execution_count": 4
        },
        {
          "output_type": "display_data",
          "data": {
            "text/plain": [
              "<Figure size 640x480 with 1 Axes>"
            ],
            "image/png": "[encoded data removed]"
          },
          "metadata": {}
        }
      ]
    },
    {
      "cell_type": "code",
      "source": [
        "import numpy as np\n",
        "\n",
        "mask = np.array(annotation).astype(np.float32)\n",
        "mask[mask != 2.0] = 1.0\n",
        "mask[mask == 2.0] = 0.0\n",
        "plt.imshow(mask)"
      ],
      "metadata": {
        "colab": {
          "base_uri": "https://localhost:8080/",
          "height": 414
        },
        "id": "FWYhGOVop2U2",
        "outputId": "a38b4986-96ce-4141-c878-45bcb775de5a"
      },
      "execution_count": 5,
      "outputs": [
        {
          "output_type": "execute_result",
          "data": {
            "text/plain": [
              "<matplotlib.image.AxesImage at 0x7f27c41c7f10>"
            ]
          },
          "metadata": {},
          "execution_count": 5
        },
        {
          "output_type": "display_data",
          "data": {
            "text/plain": [
              "<Figure size 640x480 with 1 Axes>"
            ],
            "image/png": "[encoded data removed]"
          },
          "metadata": {}
        }
      ]
    },
    {
      "cell_type": "code",
      "source": [
        "import torch\n",
        "from torch.utils.data.dataset import Dataset\n",
        "import torch.nn as nn"
      ],
      "metadata": {
        "id": "huSsF05Xp_cp"
      },
      "execution_count": 6,
      "outputs": []
    },
    {
      "cell_type": "code",
      "source": [
        "class Pet(Dataset):\n",
        "    def __init__(self, path_to_img, path_to_anno, train=True, transforms=None, input_size=(128,128)):\n",
        "        #파일을 불러와서 학습과 평가용으로 분리\n",
        "        self.images = sorted(glob.glob('./dataset-iiit-pet/images/*.jpg'))\n",
        "        self.annotations = sorted(glob.glob('./dataset-iiit-pet/annotations/trimaps/*.png'))\n",
        "\n",
        "        self.X_train = self.images[:int(0.8 * len(self.images))]\n",
        "        self.X_test = self.images[int(0.8 * len(self.images)) : ]\n",
        "        self.y_train = self.annotations[:int(0.8 * len(self.annotations))]\n",
        "        self.y_test = self.annotations[int(0.8 * len(self.annotations)) : ]\n",
        "\n",
        "        self.train = train\n",
        "        self.transforms = transforms\n",
        "        self.input_size = input_size\n",
        "\n",
        "    def __len__(self):\n",
        "        if self.train:\n",
        "            return len(self.X_train)\n",
        "        else:\n",
        "            return len(self.X_test)\n",
        "\n",
        "    def preprocess_mask(self,mask):\n",
        "        mask = mask.resize(self.input_size)\n",
        "        mask = np.array(mask).astype(np.float32)\n",
        "        mask[mask != 2.0] = 1.0\n",
        "        mask[mask==2.0] = 0.0\n",
        "        mask = torch.tensor(mask)\n",
        "        return mask\n",
        "\n",
        "    def __getitem__(self,i):\n",
        "        if self.train:\n",
        "            X_train = Image.open(self.X_train[i])\n",
        "            X_train = self.transforms(X_train)\n",
        "            y_train = Image.open(self.y_train[i])\n",
        "            y_train = self.preprocess_mask(y_train)\n",
        "\n",
        "            return X_train,y_train\n",
        "\n",
        "        else:\n",
        "            X_test = Image.open(self.X_test[i])\n",
        "            X_test = self.transforms(X_test)\n",
        "            y_test = Image.open(self.y_test[i])\n",
        "            y_test = self.preprocess_mask(y_test)\n",
        "\n",
        "            return X_test,y_test\n"
      ],
      "metadata": {
        "id": "RfZI_9h5rAD2"
      },
      "execution_count": 7,
      "outputs": []
    },
    {
      "cell_type": "code",
      "source": [
        "class UNet(nn.Module):\n",
        "    def __init__(self):\n",
        "        super(UNet,self).__init__()\n",
        "\n",
        "        #encoder\n",
        "        self.enc1_1 = nn.Conv2d(3,64,kernel_size=3,padding=1)\n",
        "        self.enc1_2 = nn.Conv2d(64,64,kernel_size=3,padding=1)\n",
        "        self.pool1 = nn.MaxPool2d(kernel_size=2, stride=2)\n",
        "\n",
        "        self.enc2_1 = nn.Conv2d(64,128,kernel_size=3,padding=1)\n",
        "        self.enc2_2 = nn.Conv2d(128,128,kernel_size=3,padding=1)\n",
        "        self.pool2 = nn.MaxPool2d(kernel_size=2, stride=2)\n",
        "\n",
        "        self.enc3_1 = nn.Conv2d(128,256,kernel_size=3,padding=1)\n",
        "        self.enc3_2 = nn.Conv2d(256,256,kernel_size=3,padding=1)\n",
        "        self.pool3 = nn.MaxPool2d(kernel_size=2, stride=2)\n",
        "\n",
        "        self.enc4_1 = nn.Conv2d(256,512,kernel_size=3,padding=1)\n",
        "        self.enc4_2 = nn.Conv2d(512,512,kernel_size=3,padding=1)\n",
        "        self.pool4 = nn.MaxPool2d(kernel_size=2, stride=2)\n",
        "\n",
        "        self.enc5_1 = nn.Conv2d(512,1024,kernel_size=3,padding=1)\n",
        "        self.enc5_2 = nn.Conv2d(1024,512,kernel_size=3,padding=1)\n",
        "\n",
        "\n",
        "        #decoder\n",
        "        self.upsample4 = nn.ConvTranspose2d(512,512,2,stride=2)\n",
        "        self.dec4_1 = nn.Conv2d(1024,512,kernel_size=3,padding=1)\n",
        "        self.dec4_2 = nn.Conv2d(512,256,kernel_size=3,padding=1)\n",
        "\n",
        "        self.upsample3 = nn.ConvTranspose2d(256,256,2,stride=2)\n",
        "        self.dec3_1 = nn.Conv2d(512,256,kernel_size=3,padding=1)\n",
        "        self.dec3_2 = nn.Conv2d(256,128,kernel_size=3,padding=1)\n",
        "\n",
        "        self.upsample2 = nn.ConvTranspose2d(128,128,2,stride=2)\n",
        "        self.dec2_1 = nn.Conv2d(256,128,kernel_size=3,padding=1)\n",
        "        self.dec2_2 = nn.Conv2d(128,64,kernel_size=3,padding=1)\n",
        "\n",
        "        self.upsample1 = nn.ConvTranspose2d(64,64,2,stride=2)\n",
        "        self.dec1_1 = nn.Conv2d(128,64,kernel_size=3,padding=1)\n",
        "        self.dec1_2 = nn.Conv2d(64,64,kernel_size=3,padding=1)\n",
        "        self.dec1_3 = nn.Conv2d(64,1,kernel_size=3,padding=1)\n",
        "\n",
        "        self.relu = nn.ReLU()\n",
        "\n",
        "\n",
        "    def forward(self,x):\n",
        "        x = self.enc1_1(x)\n",
        "        x = self.relu(x)\n",
        "        e1 = self.enc1_2(x)\n",
        "        e1 = self.relu(e1)\n",
        "        x = self.pool1(e1)\n",
        "\n",
        "        x = self.enc2_1(x)\n",
        "        x = self.relu(x)\n",
        "        e2 = self.enc2_2(x)\n",
        "        e2 = self.relu(e2)\n",
        "        x = self.pool2(e2)\n",
        "\n",
        "        x = self.enc3_1(x)\n",
        "        x = self.relu(x)\n",
        "        e3 = self.enc3_2(x)\n",
        "        e3 = self.relu(e3)\n",
        "        x = self.pool3(e3)\n",
        "\n",
        "        x = self.enc4_1(x)\n",
        "        x = self.relu(x)\n",
        "        e4 = self.enc4_2(x)\n",
        "        e4 = self.relu(e4)\n",
        "        x = self.pool4(e4)\n",
        "\n",
        "        x = self.enc5_1(x)\n",
        "        x = self.relu(x)\n",
        "        x = self.enc5_2(x)\n",
        "        x = self.relu(x)\n",
        "\n",
        "\n",
        "        #torch.cat https://jimmy-ai.tistory.com/112\n",
        "        x = self.upsample4(x)\n",
        "        x = torch.cat([x,e4],dim=1)\n",
        "        x = self.dec4_1(x)\n",
        "        x = self.relu(x)\n",
        "        x = self.dec4_2(x)\n",
        "        x = self.relu(x)\n",
        "\n",
        "        x = self.upsample3(x)\n",
        "        x = torch.cat([x,e3],dim=1)\n",
        "        x = self.dec3_1(x)\n",
        "        x = self.relu(x)\n",
        "        x = self.dec3_2(x)\n",
        "        x = self.relu(x)\n",
        "\n",
        "        x = self.upsample2(x)\n",
        "        x = torch.cat([x,e2],dim=1)\n",
        "        x = self.dec2_1(x)\n",
        "        x = self.relu(x)\n",
        "        x = self.dec2_2(x)\n",
        "        x = self.relu(x)\n",
        "\n",
        "        x = self.upsample1(x)\n",
        "        x = torch.cat([x,e1],dim=1)\n",
        "        x = self.dec1_1(x)\n",
        "        x = self.relu(x)\n",
        "        x = self.dec1_2(x)\n",
        "        x = self.relu(x)\n",
        "        x = self.dec1_3(x)\n",
        "\n",
        "        x = torch.squeeze(x)\n",
        "\n",
        "        return x\n"
      ],
      "metadata": {
        "id": "-UoLtK3FyVQV"
      },
      "execution_count": 8,
      "outputs": []
    },
    {
      "cell_type": "code",
      "source": [
        "import tqdm\n",
        "from torchvision.transforms import Compose\n",
        "from torchvision.transforms import ToTensor,Resize\n",
        "from torch.optim.adam import Adam\n",
        "from torch.utils.data.dataloader import DataLoader"
      ],
      "metadata": {
        "id": "ujMimNGW2h5i"
      },
      "execution_count": 9,
      "outputs": []
    },
    {
      "cell_type": "code",
      "source": [
        "device = 'cuda' if torch.cuda.is_available() else 'cpu'\n",
        "\n",
        "print(device)"
      ],
      "metadata": {
        "colab": {
          "base_uri": "https://localhost:8080/"
        },
        "id": "Rz4f7Pkc5Xbn",
        "outputId": "6f39eca2-425a-4e9b-d9fa-6d1295676e03"
      },
      "execution_count": 10,
      "outputs": [
        {
          "output_type": "stream",
          "name": "stdout",
          "text": [
            "cuda\n"
          ]
        }
      ]
    },
    {
      "cell_type": "code",
      "source": [
        "transform = Compose([\n",
        "    Resize((128,128)),\n",
        "    ToTensor()\n",
        "])\n",
        "\n",
        "train_set = Pet(path_to_img='./dataset-iiit-pet/images',path_to_anno='./dataset-iiit-pet/annotations/trimaps',transforms=transform,train=True)\n",
        "test_set = Pet(path_to_img='./dataset-iiit-pet/images',path_to_anno='./dataset-iiit-pet/annotations/trimaps',transforms=transform,train=False)\n",
        "\n",
        "print(len(train_set))\n",
        "print(len(test_set))"
      ],
      "metadata": {
        "colab": {
          "base_uri": "https://localhost:8080/"
        },
        "id": "j_ecMUFQ6He4",
        "outputId": "1e92b1a5-6542-4fa5-a3cc-b511f28f1a03"
      },
      "execution_count": 11,
      "outputs": [
        {
          "output_type": "stream",
          "name": "stdout",
          "text": [
            "5912\n",
            "1478\n"
          ]
        }
      ]
    },
    {
      "cell_type": "code",
      "source": [
        "train_loader = DataLoader(train_set,batch_size=32,shuffle=True)\n",
        "test_loader = DataLoader(test_set)\n",
        "\n",
        "model = UNet().to(device)\n",
        "\n",
        "learning_rate = 0.0001\n",
        "\n",
        "optim = Adam(params=model.parameters() , lr=learning_rate)"
      ],
      "metadata": {
        "id": "I7V4I57V7B5h"
      },
      "execution_count": 12,
      "outputs": []
    },
    {
      "cell_type": "code",
      "source": [
        "for epoch in range(200):\n",
        "\n",
        "    iterator = tqdm.tqdm(train_loader)\n",
        "\n",
        "    for data,label in iterator:\n",
        "\n",
        "        optim.zero_grad()\n",
        "\n",
        "        preds = model(data.to(device))\n",
        "        loss = nn.BCEWithLogitsLoss() (\n",
        "            preds, label.type(torch.FloatTensor).to(device)\n",
        "        )\n",
        "\n",
        "        loss.backward()\n",
        "\n",
        "        optim.step()\n",
        "\n",
        "        iterator.set_description(f'epoch : {epoch+1} loss : {loss.item()}')\n",
        "\n",
        "    torch.save(model.state_dict(),'unet.pth')"
      ],
      "metadata": {
        "colab": {
          "base_uri": "https://localhost:8080/",
          "height": 1000
        },
        "id": "lRirIUKS7xZa",
        "outputId": "a5a76f20-34be-4fd8-bd24-5296f53a2791"
      },
      "execution_count": 13,
      "outputs": [
        {
          "output_type": "stream",
          "name": "stderr",
          "text": [
            "epoch : 1 loss : 0.5367166996002197: 100%|██████████| 185/185 [01:41<00:00,  1.81it/s]\n",
            "epoch : 2 loss : 0.45980092883110046: 100%|██████████| 185/185 [01:34<00:00,  1.96it/s]\n",
            "epoch : 3 loss : 0.3983384966850281: 100%|██████████| 185/185 [01:47<00:00,  1.73it/s]\n",
            "epoch : 4 loss : 0.36951297521591187: 100%|██████████| 185/185 [01:36<00:00,  1.92it/s]\n",
            "epoch : 5 loss : 0.2900291085243225: 100%|██████████| 185/185 [01:35<00:00,  1.94it/s]\n",
            "epoch : 6 loss : 0.30360087752342224: 100%|██████████| 185/185 [01:34<00:00,  1.95it/s]\n",
            "epoch : 7 loss : 0.29687389731407166: 100%|██████████| 185/185 [01:35<00:00,  1.94it/s]\n",
            "epoch : 8 loss : 0.28463906049728394: 100%|██████████| 185/185 [01:33<00:00,  1.97it/s]\n",
            "epoch : 9 loss : 0.3024803400039673: 100%|██████████| 185/185 [01:34<00:00,  1.96it/s]\n",
            "epoch : 10 loss : 0.265178918838501: 100%|██████████| 185/185 [01:34<00:00,  1.96it/s]\n",
            "epoch : 11 loss : 0.2168082594871521: 100%|██████████| 185/185 [01:34<00:00,  1.95it/s]\n",
            "epoch : 12 loss : 0.23560559749603271: 100%|██████████| 185/185 [01:34<00:00,  1.96it/s]\n",
            "epoch : 13 loss : 0.2482527196407318: 100%|██████████| 185/185 [01:34<00:00,  1.97it/s]\n",
            "epoch : 14 loss : 0.22208726406097412: 100%|██████████| 185/185 [01:34<00:00,  1.96it/s]\n",
            "epoch : 15 loss : 0.261514276266098: 100%|██████████| 185/185 [01:33<00:00,  1.97it/s]\n",
            "epoch : 16 loss : 0.20300249755382538: 100%|██████████| 185/185 [01:34<00:00,  1.95it/s]\n",
            "epoch : 17 loss : 0.21230070292949677: 100%|██████████| 185/185 [01:33<00:00,  1.98it/s]\n",
            "epoch : 18 loss : 0.17804887890815735: 100%|██████████| 185/185 [01:33<00:00,  1.97it/s]\n",
            "epoch : 19 loss : 0.17650839686393738: 100%|██████████| 185/185 [01:35<00:00,  1.95it/s]\n",
            "epoch : 20 loss : 0.1748790740966797: 100%|██████████| 185/185 [01:33<00:00,  1.98it/s]\n",
            "epoch : 21 loss : 0.1476956456899643: 100%|██████████| 185/185 [01:33<00:00,  1.98it/s]\n",
            "epoch : 22 loss : 0.14098288118839264: 100%|██████████| 185/185 [01:33<00:00,  1.97it/s]\n",
            "epoch : 23 loss : 0.16296952962875366: 100%|██████████| 185/185 [01:33<00:00,  1.98it/s]\n",
            "epoch : 24 loss : 0.13476233184337616: 100%|██████████| 185/185 [01:32<00:00,  2.00it/s]\n",
            "epoch : 25 loss : 0.148838609457016: 100%|██████████| 185/185 [01:34<00:00,  1.96it/s]\n",
            "epoch : 26 loss : 0.1354944407939911: 100%|██████████| 185/185 [01:35<00:00,  1.95it/s]\n",
            "epoch : 27 loss : 0.10554322600364685: 100%|██████████| 185/185 [01:33<00:00,  1.98it/s]\n",
            "epoch : 28 loss : 0.12332887947559357: 100%|██████████| 185/185 [01:33<00:00,  1.99it/s]\n",
            "epoch : 29 loss : 0.1247437447309494: 100%|██████████| 185/185 [01:33<00:00,  1.98it/s]\n",
            "epoch : 30 loss : 0.10635711997747421: 100%|██████████| 185/185 [01:34<00:00,  1.97it/s]\n",
            "epoch : 31 loss : 0.10260292142629623: 100%|██████████| 185/185 [01:32<00:00,  2.00it/s]\n",
            "epoch : 32 loss : 0.10054250806570053: 100%|██████████| 185/185 [01:33<00:00,  1.98it/s]\n",
            "epoch : 33 loss : 0.11219479888677597: 100%|██████████| 185/185 [01:33<00:00,  1.99it/s]\n",
            "epoch : 34 loss : 0.12237843871116638: 100%|██████████| 185/185 [01:34<00:00,  1.96it/s]\n",
            "epoch : 35 loss : 0.09212735295295715: 100%|██████████| 185/185 [01:34<00:00,  1.96it/s]\n",
            "epoch : 36 loss : 0.09944644570350647: 100%|██████████| 185/185 [01:32<00:00,  2.00it/s]\n",
            "epoch : 37 loss : 0.0950605496764183: 100%|██████████| 185/185 [01:33<00:00,  1.99it/s]\n",
            "epoch : 38 loss : 0.0835815966129303: 100%|██████████| 185/185 [01:32<00:00,  1.99it/s]\n",
            "epoch : 39 loss : 0.08889832347631454: 100%|██████████| 185/185 [01:34<00:00,  1.96it/s]\n",
            "epoch : 40 loss : 0.09262391179800034: 100%|██████████| 185/185 [01:32<00:00,  1.99it/s]\n",
            "epoch : 41 loss : 0.08994203805923462: 100%|██████████| 185/185 [01:33<00:00,  1.99it/s]\n",
            "epoch : 42 loss : 0.08102373778820038: 100%|██████████| 185/185 [01:32<00:00,  1.99it/s]\n",
            "epoch : 43 loss : 0.08054439723491669: 100%|██████████| 185/185 [01:33<00:00,  1.98it/s]\n",
            "epoch : 44 loss : 0.10959561914205551: 100%|██████████| 185/185 [01:33<00:00,  1.98it/s]\n",
            "epoch : 45 loss : 0.08406643569469452: 100%|██████████| 185/185 [01:35<00:00,  1.94it/s]\n",
            "epoch : 46 loss : 0.07955605536699295: 100%|██████████| 185/185 [01:33<00:00,  1.97it/s]\n",
            "epoch : 47 loss : 0.07095496356487274: 100%|██████████| 185/185 [01:32<00:00,  2.00it/s]\n",
            "epoch : 48 loss : 0.06805377453565598: 100%|██████████| 185/185 [01:33<00:00,  1.99it/s]\n",
            "epoch : 49 loss : 0.07122089713811874: 100%|██████████| 185/185 [01:33<00:00,  1.97it/s]\n",
            "epoch : 50 loss : 0.07364045828580856: 100%|██████████| 185/185 [01:33<00:00,  1.98it/s]\n",
            "epoch : 51 loss : 0.0621100515127182: 100%|██████████| 185/185 [01:32<00:00,  2.00it/s]\n",
            "epoch : 52 loss : 0.07047918438911438: 100%|██████████| 185/185 [01:32<00:00,  1.99it/s]\n",
            "epoch : 53 loss : 0.07374165207147598: 100%|██████████| 185/185 [01:32<00:00,  2.00it/s]\n",
            "epoch : 54 loss : 0.06713300198316574: 100%|██████████| 185/185 [01:33<00:00,  1.99it/s]\n",
            "epoch : 55 loss : 0.06341618299484253: 100%|██████████| 185/185 [01:32<00:00,  1.99it/s]\n",
            "epoch : 56 loss : 0.06834398210048676: 100%|██████████| 185/185 [01:32<00:00,  1.99it/s]\n",
            "epoch : 57 loss : 0.06247090548276901: 100%|██████████| 185/185 [01:33<00:00,  1.99it/s]\n",
            "epoch : 58 loss : 0.06144490838050842: 100%|██████████| 185/185 [01:32<00:00,  1.99it/s]\n",
            "epoch : 59 loss : 0.080431267619133: 100%|██████████| 185/185 [01:33<00:00,  1.98it/s]\n",
            "epoch : 60 loss : 0.06290682405233383: 100%|██████████| 185/185 [01:32<00:00,  1.99it/s]\n",
            "epoch : 61 loss : 0.06056208536028862: 100%|██████████| 185/185 [01:33<00:00,  1.99it/s]\n",
            "epoch : 62 loss : 0.05945342779159546: 100%|██████████| 185/185 [01:32<00:00,  1.99it/s]\n",
            "epoch : 63 loss : 0.05765637010335922: 100%|██████████| 185/185 [01:33<00:00,  1.97it/s]\n",
            "epoch : 64 loss : 0.059806983917951584: 100%|██████████| 185/185 [01:32<00:00,  1.99it/s]\n",
            "epoch : 65 loss : 0.05699258670210838: 100%|██████████| 185/185 [01:33<00:00,  1.99it/s]\n",
            "epoch : 66 loss : 0.057227954268455505:  26%|██▌       | 48/185 [00:24<01:10,  1.94it/s]\n"
          ]
        },
        {
          "output_type": "error",
          "ename": "KeyboardInterrupt",
          "evalue": "ignored",
          "traceback": [
            "\u001b[0;31m---------------------------------------------------------------------------\u001b[0m",
            "\u001b[0;31mKeyboardInterrupt\u001b[0m                         Traceback (most recent call last)",
            "\u001b[0;32m<ipython-input-13-708faced0f4e>\u001b[0m in \u001b[0;36m<cell line: 1>\u001b[0;34m()\u001b[0m\n\u001b[1;32m     16\u001b[0m         \u001b[0moptim\u001b[0m\u001b[0;34m.\u001b[0m\u001b[0mstep\u001b[0m\u001b[0;34m(\u001b[0m\u001b[0;34m)\u001b[0m\u001b[0;34m\u001b[0m\u001b[0;34m\u001b[0m\u001b[0m\n\u001b[1;32m     17\u001b[0m \u001b[0;34m\u001b[0m\u001b[0m\n\u001b[0;32m---> 18\u001b[0;31m         \u001b[0miterator\u001b[0m\u001b[0;34m.\u001b[0m\u001b[0mset_description\u001b[0m\u001b[0;34m(\u001b[0m\u001b[0;34mf'epoch : {epoch+1} loss : {loss.item()}'\u001b[0m\u001b[0;34m)\u001b[0m\u001b[0;34m\u001b[0m\u001b[0;34m\u001b[0m\u001b[0m\n\u001b[0m\u001b[1;32m     19\u001b[0m \u001b[0;34m\u001b[0m\u001b[0m\n\u001b[1;32m     20\u001b[0m     \u001b[0mtorch\u001b[0m\u001b[0;34m.\u001b[0m\u001b[0msave\u001b[0m\u001b[0;34m(\u001b[0m\u001b[0mmodel\u001b[0m\u001b[0;34m.\u001b[0m\u001b[0mstate_dict\u001b[0m\u001b[0;34m(\u001b[0m\u001b[0;34m)\u001b[0m\u001b[0;34m,\u001b[0m\u001b[0;34m'unet.pth'\u001b[0m\u001b[0;34m)\u001b[0m\u001b[0;34m\u001b[0m\u001b[0;34m\u001b[0m\u001b[0m\n",
            "\u001b[0;31mKeyboardInterrupt\u001b[0m: "
          ]
        }
      ]
    },
    {
      "cell_type": "code",
      "source": [
        "#infer\n",
        "model.load_state_dict(torch.load('unet.pth',map_location='cpu'))\n",
        "model = model.to('cpu')\n",
        "\n",
        "data,label = test_set[1]\n",
        "\n",
        "pred = model(torch.unsqueeze(data.to('cpu'),dim=0)) > 0.5\n",
        "\n",
        "with torch.no_grad():\n",
        "    plt.imshow(pred)"
      ],
      "metadata": {
        "id": "9OH3LfEi_qxN",
        "colab": {
          "base_uri": "https://localhost:8080/",
          "height": 434
        },
        "outputId": "783e2bfa-540e-4f05-8fed-850e448cbbd6"
      },
      "execution_count": 14,
      "outputs": [
        {
          "output_type": "display_data",
          "data": {
            "text/plain": [
              "<Figure size 640x480 with 1 Axes>"
            ],
            "image/png": "[encoded data removed]"
          },
          "metadata": {}
        }
      ]
    },
    {
      "cell_type": "code",
      "source": [
        "plt.imshow(label)"
      ],
      "metadata": {
        "colab": {
          "base_uri": "https://localhost:8080/",
          "height": 452
        },
        "id": "YzaPOODYCzge",
        "outputId": "38fb2725-5e75-40a6-8ecf-cbdc9f2d0f8d"
      },
      "execution_count": 15,
      "outputs": [
        {
          "output_type": "execute_result",
          "data": {
            "text/plain": [
              "<matplotlib.image.AxesImage at 0x7f2710b39f30>"
            ]
          },
          "metadata": {},
          "execution_count": 15
        },
        {
          "output_type": "display_data",
          "data": {
            "text/plain": [
              "<Figure size 640x480 with 1 Axes>"
            ],
            "image/png": "[encoded data removed]"
          },
          "metadata": {}
        }
      ]
    },
    {
      "cell_type": "code",
      "source": [],
      "metadata": {
        "id": "7VNBdWX6C01U"
      },
      "execution_count": null,
      "outputs": []
    }
  ]
}