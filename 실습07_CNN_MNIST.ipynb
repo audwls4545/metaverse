{
  "metadata": {
    "kernelspec": {
      "language": "python",
      "display_name": "Python 3",
      "name": "python3"
    },
    "language_info": {
      "pygments_lexer": "ipython3",
      "nbconvert_exporter": "python",
      "version": "3.6.4",
      "file_extension": ".py",
      "codemirror_mode": {
        "name": "ipython",
        "version": 3
      },
      "name": "python",
      "mimetype": "text/x-python"
    },
    "colab": {
      "provenance": [],
      "gpuType": "T4",
      "include_colab_link": true
    },
    "accelerator": "GPU",
    "gpuClass": "standard"
  },
  "nbformat_minor": 0,
  "nbformat": 4,
  "cells": [
    {
      "cell_type": "markdown",
      "metadata": {
        "id": "view-in-github",
        "colab_type": "text"
      },
      "source": [
        "<a href=\"https://colab.research.google.com/github/audwls4545/metaverse/blob/main/%EC%8B%A4%EC%8A%B507_CNN_MNIST.ipynb\" target=\"_parent\"><img src=\"https://colab.research.google.com/assets/colab-badge.svg\" alt=\"Open In Colab\"/></a>"
      ]
    },
    {
      "cell_type": "markdown",
      "source": [
        "## Deep Learning with PyTorch \n",
        "### 실습07. Convolutional Neural Netword : MNISt 분류 모델\n",
        "\n",
        "1. Import & Exploer Data\n",
        "2. Train Model\n",
        "3. Test Model\n",
        "  \n",
        "<img src=\"https://dl.dropbox.com/s/qabp24atubct5bd/mnist.png\" width=\"400\"/>\n"
      ],
      "metadata": {
        "id": "JRMnR-vWqoc_"
      }
    },
    {
      "cell_type": "code",
      "source": [
        "# Setting Device\n",
        "\n",
        "import torch\n",
        "device = 'cuda' if torch.cuda.is_available() else 'cpu'\n",
        "\n",
        "# 랜덤 시드 고정\n",
        "torch.manual_seed(9)\n",
        "\n",
        "# GPU 사용하는 경우 cuda 랜덤 시드 고정\n",
        "if device == 'cuda':\n",
        "    torch.cuda.manual_seed_all(9)\n",
        "\n",
        "print(\"Device is: \", device)"
      ],
      "metadata": {
        "colab": {
          "base_uri": "https://localhost:8080/"
        },
        "id": "mmf3f60KL4Du",
        "outputId": "67849e88-2d88-41d0-9b20-3ad52504bdf7"
      },
      "execution_count": 15,
      "outputs": [
        {
          "output_type": "stream",
          "name": "stdout",
          "text": [
            "Device is:  cuda\n"
          ]
        }
      ]
    },
    {
      "cell_type": "markdown",
      "source": [
        "#### 1. Import & Exploer Data"
      ],
      "metadata": {
        "id": "c_isEI_BrtFP"
      }
    },
    {
      "cell_type": "code",
      "source": [
        "# 1-1. Import MNIST Dataset\n",
        "\n",
        "import torchvision.datasets as datasets # 이미지 데이터\n",
        "import torchvision.transforms as transforms # 이미지 데이터를 변환\n",
        "\n",
        "train_set = datasets.MNIST(root='MNIST_data/', # 데이터를 저장할 경로\n",
        "                           train=True, # 데이터 학습 여부\n",
        "                           transform=transforms.ToTensor(), # 텐서로 변환, 0~255 -> 0~1 normalization\n",
        "                           download=True) \n",
        "\n",
        "test_set = datasets.MNIST(root='MNIST_data/', # 데이터를 저장할 경로\n",
        "                          train=False, # 데이터 학습 여부\n",
        "                          transform=transforms.ToTensor(), # 텐서로 변환, 0~255 -> 0~1 normalization\n",
        "                          download=True) "
      ],
      "metadata": {
        "id": "nRsHGMs8rzre",
        "colab": {
          "base_uri": "https://localhost:8080/"
        },
        "outputId": "bc8a46f2-ed12-45db-c19f-5e20d1189a98"
      },
      "execution_count": 1,
      "outputs": [
        {
          "output_type": "stream",
          "name": "stdout",
          "text": [
            "Downloading http://yann.lecun.com/exdb/mnist/train-images-idx3-ubyte.gz\n",
            "Downloading http://yann.lecun.com/exdb/mnist/train-images-idx3-ubyte.gz to MNIST_data/MNIST/raw/train-images-idx3-ubyte.gz\n"
          ]
        },
        {
          "output_type": "stream",
          "name": "stderr",
          "text": [
            "100%|██████████| 9912422/9912422 [00:00<00:00, 152494750.32it/s]"
          ]
        },
        {
          "output_type": "stream",
          "name": "stdout",
          "text": [
            "Extracting MNIST_data/MNIST/raw/train-images-idx3-ubyte.gz to MNIST_data/MNIST/raw"
          ]
        },
        {
          "output_type": "stream",
          "name": "stderr",
          "text": [
            "\n"
          ]
        },
        {
          "output_type": "stream",
          "name": "stdout",
          "text": [
            "\n",
            "\n",
            "Downloading http://yann.lecun.com/exdb/mnist/train-labels-idx1-ubyte.gz\n",
            "Downloading http://yann.lecun.com/exdb/mnist/train-labels-idx1-ubyte.gz to MNIST_data/MNIST/raw/train-labels-idx1-ubyte.gz\n"
          ]
        },
        {
          "output_type": "stream",
          "name": "stderr",
          "text": [
            "100%|██████████| 28881/28881 [00:00<00:00, 10477959.85it/s]\n"
          ]
        },
        {
          "output_type": "stream",
          "name": "stdout",
          "text": [
            "Extracting MNIST_data/MNIST/raw/train-labels-idx1-ubyte.gz to MNIST_data/MNIST/raw\n",
            "\n",
            "Downloading http://yann.lecun.com/exdb/mnist/t10k-images-idx3-ubyte.gz\n",
            "Downloading http://yann.lecun.com/exdb/mnist/t10k-images-idx3-ubyte.gz to MNIST_data/MNIST/raw/t10k-images-idx3-ubyte.gz\n"
          ]
        },
        {
          "output_type": "stream",
          "name": "stderr",
          "text": [
            "100%|██████████| 1648877/1648877 [00:00<00:00, 41908651.50it/s]"
          ]
        },
        {
          "output_type": "stream",
          "name": "stdout",
          "text": [
            "Extracting MNIST_data/MNIST/raw/t10k-images-idx3-ubyte.gz to MNIST_data/MNIST/raw\n"
          ]
        },
        {
          "output_type": "stream",
          "name": "stderr",
          "text": [
            "\n"
          ]
        },
        {
          "output_type": "stream",
          "name": "stdout",
          "text": [
            "\n",
            "Downloading http://yann.lecun.com/exdb/mnist/t10k-labels-idx1-ubyte.gz\n",
            "Downloading http://yann.lecun.com/exdb/mnist/t10k-labels-idx1-ubyte.gz to MNIST_data/MNIST/raw/t10k-labels-idx1-ubyte.gz\n"
          ]
        },
        {
          "output_type": "stream",
          "name": "stderr",
          "text": [
            "100%|██████████| 4542/4542 [00:00<00:00, 8179703.21it/s]\n"
          ]
        },
        {
          "output_type": "stream",
          "name": "stdout",
          "text": [
            "Extracting MNIST_data/MNIST/raw/t10k-labels-idx1-ubyte.gz to MNIST_data/MNIST/raw\n",
            "\n"
          ]
        }
      ]
    },
    {
      "cell_type": "code",
      "source": [
        "# 1-2. DataLoader 생성\n",
        "\n",
        "from torch.utils.data import DataLoader\n",
        "\n",
        "batch_size = 64\n",
        "\n",
        "train_loader = DataLoader(train_set, batch_size=batch_size)\n",
        "test_loader = DataLoader(test_set, batch_size=batch_size)\n",
        "\n",
        "print(len(train_loader)) # 60000/64 = 937.5\n",
        "print(len(test_loader))  # 10000/64 = 156.25"
      ],
      "metadata": {
        "id": "fFNSKv5olD_L",
        "colab": {
          "base_uri": "https://localhost:8080/"
        },
        "outputId": "53f6eaa2-49fd-43cc-f291-a933ccdbc671"
      },
      "execution_count": 2,
      "outputs": [
        {
          "output_type": "stream",
          "name": "stdout",
          "text": [
            "938\n",
            "157\n"
          ]
        }
      ]
    },
    {
      "cell_type": "code",
      "source": [
        "# 1-3. Data Explore\n",
        "\n",
        "#dataiter = iter(train_loader) #이 형식 X 5번째 줄로 통합\n",
        "#images, labels = dataiter.next()\n",
        "image, label = next(iter(train_loader))\n",
        "print(image.shape, label.shape)"
      ],
      "metadata": {
        "id": "vzMoJ-bksafG",
        "colab": {
          "base_uri": "https://localhost:8080/"
        },
        "outputId": "d0f42c6b-4fd7-4797-bcda-a60c46053afe"
      },
      "execution_count": 9,
      "outputs": [
        {
          "output_type": "stream",
          "name": "stdout",
          "text": [
            "torch.Size([64, 1, 28, 28]) torch.Size([64])\n"
          ]
        }
      ]
    },
    {
      "cell_type": "code",
      "source": [
        "# 1-4. Image Data Visualize\n",
        "\n",
        "import matplotlib.pyplot as plt\n",
        "\n",
        "plt.imshow(image[0][0], cmap=plt.cm.gray)\n",
        "print(\"label: \", label[0])"
      ],
      "metadata": {
        "id": "NJGa1jDmseUA",
        "colab": {
          "base_uri": "https://localhost:8080/",
          "height": 448
        },
        "outputId": "d1f57407-8a13-4aff-95b1-7da4ab937739"
      },
      "execution_count": 10,
      "outputs": [
        {
          "output_type": "stream",
          "name": "stdout",
          "text": [
            "label:  tensor(5)\n"
          ]
        },
        {
          "output_type": "display_data",
          "data": {
            "text/plain": [
              "<Figure size 640x480 with 1 Axes>"
            ],
            "image/png": "[encoded data removed]"
          },
          "metadata": {}
        }
      ]
    },
    {
      "cell_type": "markdown",
      "source": [
        "#### 2. Train Model"
      ],
      "metadata": {
        "id": "qSCdVF9vtb2i"
      }
    },
    {
      "cell_type": "code",
      "source": [
        "# 2-1. CNN Network\n",
        "\n",
        "import torch\n",
        "import torch.nn as nn\n",
        "import torch.nn.functional as F\n",
        "\n",
        "class model(nn.Module):\n",
        "    def __init__(self):\n",
        "        super().__init__()\n",
        "        # input sample shape = (1, 28, 28) \n",
        "        # input_channel = 1\n",
        "        self.conv1 = nn.Conv2d(1, 32, kernel_size=3, stride=1) \n",
        "        self.conv2 = nn.Conv2d(32, 64, kernel_size=3, stride=1) \n",
        "          \n",
        "        self.maxpool = nn.MaxPool2d(2)  # 오버피팅을 방지하고, 연산에 들어가는 자원을 줄인다\n",
        "        # maxpooling하면 12x12\n",
        "        #self.dropout = nn.Dropout2d(p=0.2) # 랜덤한 20% 확률로 뉴런 비활성화, 오버피팅 방지\n",
        "        self.linear1 = nn.Linear(64*12*12, 128) \n",
        "        self.linear2 = nn.Linear(128, 10) \n",
        "\n",
        "    def forward(self, input):\n",
        "        output = F.relu(self.conv1(input)) \n",
        "        output = F.relu(self.conv2(output)) \n",
        "        output = self.maxpool(output)\n",
        "        output = torch.flatten(output, 1) # 1차원으로 풀어줌\n",
        "        # output = output.view(output.size(0), -1) # flatten()과 동일한 역할\n",
        "        #output = self.dropout(output)\n",
        "        output = F.relu(self.linear1(output)) \n",
        "        output = self.linear2(output) # output softmax 해야 하는데 왜 없을까? 밑에 답이 있음\n",
        "        return output\n",
        "\n",
        "model = model().to(device)"
      ],
      "metadata": {
        "id": "-_-wK727tbO3"
      },
      "execution_count": 16,
      "outputs": []
    },
    {
      "cell_type": "code",
      "source": [
        "# 2-2. Loss Function & Optimizer\n",
        "\n",
        "loss_function = nn.CrossEntropyLoss().to(device) # loss 함수에 이미 softmax 함수 연산 포함\n",
        "optimizer = torch.optim.Adam(model.parameters(), lr=0.001)"
      ],
      "metadata": {
        "id": "F7qTkipdvMCB"
      },
      "execution_count": 17,
      "outputs": []
    },
    {
      "cell_type": "code",
      "source": [
        "# 2-3. Train Loop \n",
        "\n",
        "epochs = 10\n",
        "train_losses = []\n",
        "\n",
        "for epoch in range(epochs):\n",
        "  train_loss = 0\n",
        "  for (data, label) in train_loader:\n",
        "      data = data.to(device)\n",
        "      label = label.to(device)\n",
        "      output = model(data)\n",
        "      loss = loss_function(output, label)  \n",
        "      \n",
        "      optimizer.zero_grad()\n",
        "      #Backpropagation\n",
        "      loss.backward()\n",
        "      optimizer.step()\n",
        "\n",
        "      train_loss += loss.item()/len(train_loader)\n",
        "      \n",
        "  train_losses.append(train_loss)\n",
        "\n",
        "  print(\"Epoch : {} the loss : {}\".format(epoch, train_loss))"
      ],
      "metadata": {
        "id": "pEHwRLAowVpO",
        "colab": {
          "base_uri": "https://localhost:8080/"
        },
        "outputId": "a57ebd55-5ec5-4881-9e01-13833db84f4b"
      },
      "execution_count": 18,
      "outputs": [
        {
          "output_type": "stream",
          "name": "stdout",
          "text": [
            "Epoch : 0 the loss : 0.1566778948017947\n",
            "Epoch : 1 the loss : 0.04462647938294285\n",
            "Epoch : 2 the loss : 0.02639294037802375\n",
            "Epoch : 3 the loss : 0.016535434782297676\n",
            "Epoch : 4 the loss : 0.01380337864733146\n",
            "Epoch : 5 the loss : 0.009948156110173008\n",
            "Epoch : 6 the loss : 0.00912326253438898\n",
            "Epoch : 7 the loss : 0.007807315050973013\n",
            "Epoch : 8 the loss : 0.005052747098488213\n",
            "Epoch : 9 the loss : 0.005997821404651905\n"
          ]
        }
      ]
    },
    {
      "cell_type": "code",
      "source": [
        "# 2-4. Loss Graph\n",
        "\n",
        "plt.plot(range(epochs), train_losses)\n",
        "\n",
        "plt.xlabel('Epochs')\n",
        "plt.ylabel('Loss')"
      ],
      "metadata": {
        "id": "lZaQTFN8x2f9",
        "colab": {
          "base_uri": "https://localhost:8080/",
          "height": 467
        },
        "outputId": "734b1bea-9dc0-490b-fb7d-73242e92978e"
      },
      "execution_count": 19,
      "outputs": [
        {
          "output_type": "execute_result",
          "data": {
            "text/plain": [
              "Text(0, 0.5, 'Loss')"
            ]
          },
          "metadata": {},
          "execution_count": 19
        },
        {
          "output_type": "display_data",
          "data": {
            "text/plain": [
              "<Figure size 640x480 with 1 Axes>"
            ],
            "image/png": "[encoded data removed]"
          },
          "metadata": {}
        }
      ]
    },
    {
      "cell_type": "markdown",
      "source": [
        "#### 3. Test Model"
      ],
      "metadata": {
        "id": "cD5wEK2kzQ8S"
      }
    },
    {
      "cell_type": "code",
      "source": [
        "# 3. Test & Evaluate\n",
        "\n",
        "total = 0\n",
        "correct = 0\n",
        "test_losses = 0\n",
        "\n",
        "with torch.no_grad():\n",
        "    for i, (data, label) in enumerate(test_loader):\n",
        "        data = data.to(device)\n",
        "        label = label.to(device)\n",
        "\n",
        "        output = model(data)\n",
        "        test_loss = loss_function(output, label).item()\n",
        "        test_losses += test_loss/len(test_loader)\n",
        "        \n",
        "        correct_prediction = torch.argmax(output, 1) == label\n",
        "        preds = torch.max(output.data, 1)[1] # output 값이 10개 label 각각에 대한 확률 값으로 나타나기 때문에, 가장 높은 값을 갖는 인덱스를 추출\n",
        "        total += len(label) # 전체 데이터 개수 \n",
        "        correct += (preds==label).sum().item()\n",
        "\n",
        "print(f'Test loss: {test_losses:.4f}, Test acc: {correct/total*100:.3f}%')"
      ],
      "metadata": {
        "id": "zcgLqOK9yxfS",
        "colab": {
          "base_uri": "https://localhost:8080/"
        },
        "outputId": "e159d692-e8ff-40ae-fe50-c9e2d5605c65"
      },
      "execution_count": 20,
      "outputs": [
        {
          "output_type": "stream",
          "name": "stdout",
          "text": [
            "Test loss: 0.0512, Test acc: 98.850%\n"
          ]
        }
      ]
    }
  ]
}