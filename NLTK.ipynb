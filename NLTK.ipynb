{
  "nbformat": 4,
  "nbformat_minor": 0,
  "metadata": {
    "colab": {
      "provenance": [],
      "authorship_tag": "ABX9TyMjXO3UVhhtFZKliPnHyHEl",
      "include_colab_link": true
    },
    "kernelspec": {
      "name": "python3",
      "display_name": "Python 3"
    },
    "language_info": {
      "name": "python"
    }
  },
  "cells": [
    {
      "cell_type": "markdown",
      "metadata": {
        "id": "view-in-github",
        "colab_type": "text"
      },
      "source": [
        "<a href=\"https://colab.research.google.com/github/audwls4545/metaverse/blob/main/NLTK.ipynb\" target=\"_parent\"><img src=\"https://colab.research.google.com/assets/colab-badge.svg\" alt=\"Open In Colab\"/></a>"
      ]
    },
    {
      "cell_type": "code",
      "execution_count": 4,
      "metadata": {
        "colab": {
          "base_uri": "https://localhost:8080/"
        },
        "id": "ymCbbuyCRFfp",
        "outputId": "7f930229-45fb-47fd-aa8f-4be8509ad960"
      },
      "outputs": [
        {
          "output_type": "stream",
          "name": "stdout",
          "text": [
            "*** Introductory Examples for the NLTK Book ***\n",
            "Loading text1, ..., text9 and sent1, ..., sent9\n",
            "Type the name of the text or sentence to view it.\n",
            "Type: 'texts()' or 'sents()' to list the materials.\n",
            "text1: Moby Dick by Herman Melville 1851\n",
            "text2: Sense and Sensibility by Jane Austen 1811\n",
            "text3: The Book of Genesis\n",
            "text4: Inaugural Address Corpus\n",
            "text5: Chat Corpus\n",
            "text6: Monty Python and the Holy Grail\n",
            "text7: Wall Street Journal\n",
            "text8: Personals Corpus\n",
            "text9: The Man Who Was Thursday by G . K . Chesterton 1908\n"
          ]
        }
      ],
      "source": [
        "import nltk\n",
        "nltk.download('book',quiet=True)\n",
        "from nltk.book import *"
      ]
    },
    {
      "cell_type": "code",
      "source": [
        "nltk.corpus.gutenberg.fileids()"
      ],
      "metadata": {
        "colab": {
          "base_uri": "https://localhost:8080/"
        },
        "id": "mjxCOcYnRWxB",
        "outputId": "2cd71162-3089-4dd5-e269-171ecc641f93"
      },
      "execution_count": 5,
      "outputs": [
        {
          "output_type": "execute_result",
          "data": {
            "text/plain": [
              "['austen-emma.txt',\n",
              " 'austen-persuasion.txt',\n",
              " 'austen-sense.txt',\n",
              " 'bible-kjv.txt',\n",
              " 'blake-poems.txt',\n",
              " 'bryant-stories.txt',\n",
              " 'burgess-busterbrown.txt',\n",
              " 'carroll-alice.txt',\n",
              " 'chesterton-ball.txt',\n",
              " 'chesterton-brown.txt',\n",
              " 'chesterton-thursday.txt',\n",
              " 'edgeworth-parents.txt',\n",
              " 'melville-moby_dick.txt',\n",
              " 'milton-paradise.txt',\n",
              " 'shakespeare-caesar.txt',\n",
              " 'shakespeare-hamlet.txt',\n",
              " 'shakespeare-macbeth.txt',\n",
              " 'whitman-leaves.txt']"
            ]
          },
          "metadata": {},
          "execution_count": 5
        }
      ]
    },
    {
      "cell_type": "code",
      "source": [
        "carroll_raw = nltk.corpus.gutenberg.raw('carroll-alice.txt')\n",
        "print(carroll_raw[:100])"
      ],
      "metadata": {
        "colab": {
          "base_uri": "https://localhost:8080/"
        },
        "id": "pghTOHfcR1S-",
        "outputId": "67d4e132-644c-49a2-e5f0-942f5e61f5c2"
      },
      "execution_count": 7,
      "outputs": [
        {
          "output_type": "stream",
          "name": "stdout",
          "text": [
            "[Alice's Adventures in Wonderland by Lewis Carroll 1865]\n",
            "\n",
            "CHAPTER I. Down the Rabbit-Hole\n",
            "\n",
            "Alice was\n"
          ]
        }
      ]
    },
    {
      "cell_type": "code",
      "source": [
        "from nltk.tokenize import sent_tokenize\n",
        "print(sent_tokenize(carroll_raw[:1000])[1])"
      ],
      "metadata": {
        "colab": {
          "base_uri": "https://localhost:8080/"
        },
        "id": "EBXW8KICSHbe",
        "outputId": "725f0a86-68a4-4355-8584-1dd82d0590ad"
      },
      "execution_count": 9,
      "outputs": [
        {
          "output_type": "stream",
          "name": "stdout",
          "text": [
            "Down the Rabbit-Hole\n",
            "\n",
            "Alice was beginning to get very tired of sitting by her sister on the\n",
            "bank, and of having nothing to do: once or twice she had peeped into the\n",
            "book her sister was reading, but it had no pictures or conversations in\n",
            "it, 'and what is the use of a book,' thought Alice 'without pictures or\n",
            "conversation?'\n"
          ]
        }
      ]
    },
    {
      "cell_type": "code",
      "source": [
        "from nltk.corpus.reader.tagged import word_tokenize\n",
        "from nltk.tokenize import word_tokenize\n",
        "print(word_tokenize(carroll_raw[:100]))"
      ],
      "metadata": {
        "colab": {
          "base_uri": "https://localhost:8080/"
        },
        "id": "nFvrdrmwSx3t",
        "outputId": "4e25057b-d2e5-4c40-c54e-e675895cdbd5"
      },
      "execution_count": 11,
      "outputs": [
        {
          "output_type": "stream",
          "name": "stdout",
          "text": [
            "['[', 'Alice', \"'s\", 'Adventures', 'in', 'Wonderland', 'by', 'Lewis', 'Carroll', '1865', ']', 'CHAPTER', 'I', '.', 'Down', 'the', 'Rabbit-Hole', 'Alice', 'was']\n"
          ]
        }
      ]
    },
    {
      "cell_type": "code",
      "source": [
        "from nltk.tokenize import RegexpTokenizer\n",
        "retoken = RegexpTokenizer('[\\w]+') #정규표현식\n",
        "retoken.tokenize(carroll_raw[:100])"
      ],
      "metadata": {
        "colab": {
          "base_uri": "https://localhost:8080/"
        },
        "id": "gBNxOQ9VTD1V",
        "outputId": "817a5a76-9b2e-4c2b-ca47-ef2259edcaf9"
      },
      "execution_count": 13,
      "outputs": [
        {
          "output_type": "execute_result",
          "data": {
            "text/plain": [
              "['Alice',\n",
              " 's',\n",
              " 'Adventures',\n",
              " 'in',\n",
              " 'Wonderland',\n",
              " 'by',\n",
              " 'Lewis',\n",
              " 'Carroll',\n",
              " '1865',\n",
              " 'CHAPTER',\n",
              " 'I',\n",
              " 'Down',\n",
              " 'the',\n",
              " 'Rabbit',\n",
              " 'Hole',\n",
              " 'Alice',\n",
              " 'was']"
            ]
          },
          "metadata": {},
          "execution_count": 13
        }
      ]
    },
    {
      "cell_type": "code",
      "source": [
        "from nltk.stem import PorterStemmer,LancasterStemmer\n",
        "\n",
        "st1 = PorterStemmer()\n",
        "st2 = LancasterStemmer()\n",
        "\n",
        "words = ['working', 'works', 'worded']\n",
        "\n",
        "for temp in words:\n",
        "  print(st1.stem(temp))"
      ],
      "metadata": {
        "colab": {
          "base_uri": "https://localhost:8080/"
        },
        "id": "5d_VzNiQTeTq",
        "outputId": "00e05d87-8d93-4134-9d3c-e341ee4817b2"
      },
      "execution_count": 14,
      "outputs": [
        {
          "output_type": "stream",
          "name": "stdout",
          "text": [
            "work\n",
            "work\n",
            "word\n"
          ]
        }
      ]
    },
    {
      "cell_type": "code",
      "source": [
        "for temp in words:\n",
        "  print(st2.stem(temp))"
      ],
      "metadata": {
        "colab": {
          "base_uri": "https://localhost:8080/"
        },
        "id": "RMIFqWvnU2gu",
        "outputId": "55936bef-317f-4481-abe5-2190af56d5b0"
      },
      "execution_count": 15,
      "outputs": [
        {
          "output_type": "stream",
          "name": "stdout",
          "text": [
            "work\n",
            "work\n",
            "word\n"
          ]
        }
      ]
    },
    {
      "cell_type": "code",
      "source": [
        "from nltk.stem import WordNetLemmatizer\n",
        "lm = WordNetLemmatizer()\n",
        "for temp in words:\n",
        "  print(lm.lemmatize(temp,pos='v'))"
      ],
      "metadata": {
        "colab": {
          "base_uri": "https://localhost:8080/"
        },
        "id": "QDq9g8EYU78M",
        "outputId": "dd95813f-16f2-4943-888b-168165e8d7c6"
      },
      "execution_count": 17,
      "outputs": [
        {
          "output_type": "stream",
          "name": "stdout",
          "text": [
            "work\n",
            "work\n",
            "word\n"
          ]
        }
      ]
    },
    {
      "cell_type": "code",
      "source": [
        "from nltk.stem import WordNetLemmatizer\n",
        "words = ['fly', 'flies', 'flying']\n",
        "lm = WordNetLemmatizer()\n",
        "for temp in words:\n",
        "  print(lm.lemmatize(temp,pos='v'))"
      ],
      "metadata": {
        "colab": {
          "base_uri": "https://localhost:8080/"
        },
        "id": "xKZZ1TZAVPLd",
        "outputId": "ea9e32d3-9200-4c28-e756-44f477a8e86d"
      },
      "execution_count": 18,
      "outputs": [
        {
          "output_type": "stream",
          "name": "stdout",
          "text": [
            "fly\n",
            "fly\n",
            "fly\n"
          ]
        }
      ]
    },
    {
      "cell_type": "code",
      "source": [
        "from nltk.tag import pos_tag\n",
        "sentence = \"Alice's Adventures in Wonderland by Lewis Carroll 1865\"\n",
        "tagged_list = pos_tag(word_tokenize(sentence))\n",
        "tagged_list"
      ],
      "metadata": {
        "colab": {
          "base_uri": "https://localhost:8080/"
        },
        "id": "-Hl7qdEpVjJ0",
        "outputId": "376063d4-6d70-4454-acd4-baf577c0fc89"
      },
      "execution_count": 20,
      "outputs": [
        {
          "output_type": "execute_result",
          "data": {
            "text/plain": [
              "[('Alice', 'NNP'),\n",
              " (\"'s\", 'POS'),\n",
              " ('Adventures', 'NNS'),\n",
              " ('in', 'IN'),\n",
              " ('Wonderland', 'NNP'),\n",
              " ('by', 'IN'),\n",
              " ('Lewis', 'NNP'),\n",
              " ('Carroll', 'NNP'),\n",
              " ('1865', 'CD')]"
            ]
          },
          "metadata": {},
          "execution_count": 20
        }
      ]
    },
    {
      "cell_type": "code",
      "source": [
        "noun_list = [ t[0] for t in tagged_list if t[1]=='NNP'] #튜플이니까 단어==[0] 저장\n",
        "noun_list"
      ],
      "metadata": {
        "colab": {
          "base_uri": "https://localhost:8080/"
        },
        "id": "2dqJBUMDWx20",
        "outputId": "374731c3-4c89-4b3e-b6d0-d17b7b8f0a11"
      },
      "execution_count": 21,
      "outputs": [
        {
          "output_type": "execute_result",
          "data": {
            "text/plain": [
              "['Alice', 'Wonderland', 'Lewis', 'Carroll']"
            ]
          },
          "metadata": {},
          "execution_count": 21
        }
      ]
    },
    {
      "cell_type": "code",
      "source": [
        "from nltk import Text\n",
        "text = Text(retoken.tokenize(carroll_raw))\n",
        "text.plot(20)"
      ],
      "metadata": {
        "colab": {
          "base_uri": "https://localhost:8080/",
          "height": 487
        },
        "id": "fPFo6RcAXGSd",
        "outputId": "62f90380-fa05-4b9b-9189-d3deac0c4f82"
      },
      "execution_count": 22,
      "outputs": [
        {
          "output_type": "display_data",
          "data": {
            "text/plain": [
              "<Figure size 640x480 with 1 Axes>"
            ],
            "image/png": "[encoded data removed]"
          },
          "metadata": {}
        },
        {
          "output_type": "execute_result",
          "data": {
            "text/plain": [
              "<Axes: xlabel='Samples', ylabel='Counts'>"
            ]
          },
          "metadata": {},
          "execution_count": 22
        }
      ]
    },
    {
      "cell_type": "code",
      "source": [
        "text.dispersion_plot(['Alice', 'she', 'was', 'carroll'])"
      ],
      "metadata": {
        "colab": {
          "base_uri": "https://localhost:8080/",
          "height": 472
        },
        "id": "LWYcB7RpYcd8",
        "outputId": "90f6cc60-4040-409b-92b5-0fe1eef69bfe"
      },
      "execution_count": 23,
      "outputs": [
        {
          "output_type": "display_data",
          "data": {
            "text/plain": [
              "<Figure size 640x480 with 1 Axes>"
            ],
            "image/png": "[encoded data removed]"
          },
          "metadata": {}
        }
      ]
    },
    {
      "cell_type": "code",
      "source": [
        "text.concordance('Alice')"
      ],
      "metadata": {
        "colab": {
          "base_uri": "https://localhost:8080/"
        },
        "id": "96r3I7moY3Jz",
        "outputId": "f33d7b4e-81ae-4fce-80cb-b2535f8f9e6e"
      },
      "execution_count": 24,
      "outputs": [
        {
          "output_type": "stream",
          "name": "stdout",
          "text": [
            "Displaying 25 of 398 matches:\n",
            " Alice s Adventures in Wonderland by Lewis \n",
            " 1865 CHAPTER I Down the Rabbit Hole Alice was beginning to get very tired of s\n",
            "nd what is the use of a book thought Alice without pictures or conversation So \n",
            "g so VERY remarkable in that nor did Alice think it so VERY much out of the way\n",
            "and looked at it and then hurried on Alice started to her feet for it flashed a\n",
            "he hedge In another moment down went Alice after it never once considering how \n",
            "ipped suddenly down so suddenly that Alice had not a moment to think about stop\n",
            "rds as she fell past it Well thought Alice to herself after such a fall as this\n",
            "usand miles down I think for you see Alice had learnt several things of this so\n",
            "at Latitude or Longitude I ve got to Alice had no idea what Latitude was or Lon\n",
            "down There was nothing else to do so Alice soon began talking again Dinah ll mi\n",
            "t do cats eat bats I wonder And here Alice began to get rather sleepy and went \n",
            "and dry leaves and the fall was over Alice was not a bit hurt and she jumped up\n",
            "as not a moment to be lost away went Alice like the wind and was just in time t\n",
            "ll but they were all locked and when Alice had been all the way down one side a\n",
            "g on it except a tiny golden key and Alice s first thought was that it might be\n",
            "k and to her great delight it fitted Alice opened the door and found that it le\n",
            "y head would go through thought poor Alice it would be of very little use witho\n",
            " way things had happened lately that Alice had begun to think that very few thi\n",
            "h certainly was not here before said Alice and round the neck of the bottle was\n",
            " to say Drink me but the wise little Alice was not going to do THAT in a hurry \n",
            "this bottle was NOT marked poison so Alice ventured to taste it and finding it \n",
            "d it off What a curious feeling said Alice I must be shutting up like a telesco\n",
            " this for it might end you know said Alice to herself in my going out altogethe\n",
            "the garden at once but alas for poor Alice when she got to the door she found s\n"
          ]
        }
      ]
    },
    {
      "cell_type": "code",
      "source": [
        "text.similar('Alice')"
      ],
      "metadata": {
        "colab": {
          "base_uri": "https://localhost:8080/"
        },
        "id": "oN1dmU3qZHlc",
        "outputId": "4ce1d564-3aea-4f47-b920-3a841f838a0c"
      },
      "execution_count": 25,
      "outputs": [
        {
          "output_type": "stream",
          "name": "stdout",
          "text": [
            "she it her they he this herself them all speak get and say begin do be\n",
            "that see one go\n"
          ]
        }
      ]
    },
    {
      "cell_type": "code",
      "source": [
        "text.common_contexts(['Alice', 'she'])"
      ],
      "metadata": {
        "colab": {
          "base_uri": "https://localhost:8080/"
        },
        "id": "VJqyfaNPZLbL",
        "outputId": "cc44b9c3-ff17-41a1-962a-af51cee1a0b8"
      },
      "execution_count": 26,
      "outputs": [
        {
          "output_type": "stream",
          "name": "stdout",
          "text": [
            "and_was and_looked that_had and_s when_had but_had so_went and_could\n",
            "and_thought and_heard as_could that_could know_had moment_appeared\n",
            "so_began time_had moment_felt\n"
          ]
        }
      ]
    },
    {
      "cell_type": "code",
      "source": [
        "Fd = text.vocab()"
      ],
      "metadata": {
        "id": "PUBUi2LtZWs0"
      },
      "execution_count": 28,
      "outputs": []
    },
    {
      "cell_type": "code",
      "source": [
        "from nltk import FreqDist\n",
        "stopwords = ['Mr.','Mrs.','Miss','Mr','Mrs','Dear']\n",
        "carroll_tokens = pos_tag(retoken.tokenize(carroll_raw))\n",
        "name_list = [t[0] for t in carroll_tokens if t[1]== 'NNP' and t[0] not in stopwords]\n",
        "name_list"
      ],
      "metadata": {
        "colab": {
          "base_uri": "https://localhost:8080/"
        },
        "id": "4-LX9gM7aZk7",
        "outputId": "b24d87c5-37b4-430c-a995-cd6450d79214"
      },
      "execution_count": 29,
      "outputs": [
        {
          "output_type": "execute_result",
          "data": {
            "text/plain": [
              "['Alice',\n",
              " 'Adventures',\n",
              " 'Wonderland',\n",
              " 'Lewis',\n",
              " 'Carroll',\n",
              " 'Rabbit',\n",
              " 'Hole',\n",
              " 'Alice',\n",
              " 'Alice',\n",
              " 'White',\n",
              " 'Alice',\n",
              " 'Rabbit',\n",
              " 'Oh',\n",
              " 'Oh',\n",
              " 'Rabbit',\n",
              " 'A',\n",
              " 'WATCH',\n",
              " 'OUT',\n",
              " 'OF',\n",
              " 'ITS',\n",
              " 'WAISTCOAT',\n",
              " 'POCKET',\n",
              " 'Alice',\n",
              " 'Alice',\n",
              " 'Alice',\n",
              " 'First',\n",
              " 'ORANGE',\n",
              " 'MARMALADE',\n",
              " 'Well',\n",
              " 'Alice',\n",
              " 'Which',\n",
              " 'Down',\n",
              " 'NEVER',\n",
              " 'Alice',\n",
              " 'Latitude',\n",
              " 'Longitude',\n",
              " 'Alice',\n",
              " 'Latitude',\n",
              " 'Longitude',\n",
              " 'Presently',\n",
              " 'How',\n",
              " 'WAS',\n",
              " 'Please',\n",
              " 'Ma',\n",
              " 'New',\n",
              " 'Zealand',\n",
              " 'Australia',\n",
              " 'CURTSEYING',\n",
              " 'No',\n",
              " 'Down',\n",
              " 'Alice',\n",
              " 'Dinah',\n",
              " 'Dinah',\n",
              " 'Dinah',\n",
              " 'Alice',\n",
              " 'Do',\n",
              " 'Do',\n",
              " 'Dinah',\n",
              " 'Dinah',\n",
              " 'Alice',\n",
              " 'White',\n",
              " 'Rabbit',\n",
              " 'Alice',\n",
              " 'Oh',\n",
              " 'Rabbit',\n",
              " 'Alice',\n",
              " 'Alice',\n",
              " 'Alice',\n",
              " 'How',\n",
              " 'Alice',\n",
              " 'Oh',\n",
              " 'Alice',\n",
              " 'Alice',\n",
              " 'DRINK',\n",
              " 'ME',\n",
              " 'Drink',\n",
              " 'Alice',\n",
              " 'No',\n",
              " 'NOT',\n",
              " 'Alice',\n",
              " 'Alice',\n",
              " 'First',\n",
              " 'Alice',\n",
              " 'Alice',\n",
              " 'Come',\n",
              " 'Alice',\n",
              " 'Alice',\n",
              " 'Soon',\n",
              " 'EAT',\n",
              " 'ME',\n",
              " 'Well',\n",
              " 'Alice',\n",
              " 'Which',\n",
              " 'Which',\n",
              " 'Alice',\n",
              " 'CHAPTER',\n",
              " 'II',\n",
              " 'Pool',\n",
              " 'Tears',\n",
              " 'Curiouser',\n",
              " 'Alice',\n",
              " 'English',\n",
              " 'Oh',\n",
              " '_I_',\n",
              " 'Alice',\n",
              " 'ALICE',\n",
              " 'S',\n",
              " 'RIGHT',\n",
              " 'FOOT',\n",
              " 'ESQ',\n",
              " 'HEARTHRUG',\n",
              " 'NEAR',\n",
              " 'THE',\n",
              " 'FENDER',\n",
              " 'WITH',\n",
              " 'ALICE',\n",
              " 'S',\n",
              " 'LOVE',\n",
              " 'Oh',\n",
              " 'Just',\n",
              " 'Poor',\n",
              " 'Alice',\n",
              " 'Alice',\n",
              " 'Stop',\n",
              " 'White',\n",
              " 'Rabbit',\n",
              " 'Oh',\n",
              " 'Duchess',\n",
              " 'Duchess',\n",
              " 'Oh',\n",
              " 'Alice',\n",
              " 'Rabbit',\n",
              " 'Rabbit',\n",
              " 'Alice',\n",
              " 'How',\n",
              " 'S',\n",
              " 'Ada',\n",
              " 'Mabel',\n",
              " 'SHE',\n",
              " 'S',\n",
              " 'Multiplication',\n",
              " 'Table',\n",
              " 'Geography',\n",
              " 'London',\n",
              " 'Paris',\n",
              " 'Paris',\n",
              " 'Rome',\n",
              " 'Rome',\n",
              " 'THAT',\n",
              " 'S',\n",
              " 'Mabel',\n",
              " 'How',\n",
              " 'Nile',\n",
              " 'How',\n",
              " 'How',\n",
              " 'Alice',\n",
              " 'Mabel',\n",
              " 'No',\n",
              " 'Mabel',\n",
              " 'Come',\n",
              " 'Who',\n",
              " 'Alice',\n",
              " 'Rabbit',\n",
              " 'How',\n",
              " 'CAN',\n",
              " 'Alice',\n",
              " 'Her',\n",
              " 'Alice',\n",
              " 'English',\n",
              " 'Alice',\n",
              " 'Just',\n",
              " 'Alice',\n",
              " 'So',\n",
              " 'O',\n",
              " 'Mouse',\n",
              " 'O',\n",
              " 'Mouse',\n",
              " 'Alice',\n",
              " 'Latin',\n",
              " 'Grammar',\n",
              " 'A',\n",
              " 'O',\n",
              " 'Mouse',\n",
              " 'English',\n",
              " 'Alice',\n",
              " 'William',\n",
              " 'Conqueror',\n",
              " 'Alice',\n",
              " 'Ou',\n",
              " 'Mouse',\n",
              " 'Oh',\n",
              " 'Alice',\n",
              " 'Mouse',\n",
              " 'Well',\n",
              " 'Alice',\n",
              " 'Dinah',\n",
              " 'Alice',\n",
              " 'Alice',\n",
              " 'Mouse',\n",
              " 'Mouse',\n",
              " 'HATED',\n",
              " 'Don',\n",
              " 'Alice',\n",
              " 'Are',\n",
              " 'Mouse',\n",
              " 'Alice',\n",
              " 'Alice',\n",
              " 'Mouse',\n",
              " 'So',\n",
              " 'Mouse',\n",
              " 'Do',\n",
              " 'Mouse',\n",
              " 'Alice',\n",
              " 'Let',\n",
              " 'Duck',\n",
              " 'Dodo',\n",
              " 'Lory',\n",
              " 'Eaglet',\n",
              " 'Alice',\n",
              " 'CHAPTER',\n",
              " 'III',\n",
              " 'A',\n",
              " 'Caucus',\n",
              " 'Race',\n",
              " 'Alice',\n",
              " 'Lory',\n",
              " 'Alice',\n",
              " 'Lory',\n",
              " 'Mouse',\n",
              " 'Sit',\n",
              " 'Mouse',\n",
              " 'Alice',\n",
              " 'Ahem',\n",
              " 'Mouse',\n",
              " 'Silence',\n",
              " 'William',\n",
              " 'Conqueror',\n",
              " 'English',\n",
              " 'Edwin',\n",
              " 'Morcar',\n",
              " 'Mercia',\n",
              " 'Northumbria',\n",
              " 'Ugh',\n",
              " 'Lory',\n",
              " 'Mouse',\n",
              " 'Did',\n",
              " 'Lory',\n",
              " 'Mouse',\n",
              " 'Edwin',\n",
              " 'Morcar',\n",
              " 'Mercia',\n",
              " 'Northumbria',\n",
              " 'Stigand',\n",
              " 'Canterbury',\n",
              " 'WHAT',\n",
              " 'Duck',\n",
              " 'IT',\n",
              " 'Mouse',\n",
              " 'Duck',\n",
              " 'Mouse',\n",
              " 'Edgar',\n",
              " 'Atheling',\n",
              " 'William',\n",
              " 'William',\n",
              " 'Normans',\n",
              " 'How',\n",
              " 'Alice',\n",
              " 'As',\n",
              " 'Alice',\n",
              " 'Dodo',\n",
              " 'Speak',\n",
              " 'English',\n",
              " 'Eaglet',\n",
              " 'Eaglet',\n",
              " 'Dodo',\n",
              " 'Caucus',\n",
              " 'Caucus',\n",
              " 'Alice',\n",
              " 'Dodo',\n",
              " 'SOMEBODY',\n",
              " 'Dodo',\n",
              " 'Dodo',\n",
              " 'First',\n",
              " 'One',\n",
              " 'Dodo',\n",
              " 'Dodo',\n",
              " 'Shakespeare',\n",
              " 'Dodo',\n",
              " 'EVERYBODY',\n",
              " 'SHE',\n",
              " 'Dodo',\n",
              " 'Alice',\n",
              " 'Prizes',\n",
              " 'Prizes',\n",
              " 'Alice',\n",
              " 'Mouse',\n",
              " 'Dodo',\n",
              " 'Alice',\n",
              " 'Alice',\n",
              " 'Dodo',\n",
              " 'Dodo',\n",
              " 'Alice',\n",
              " 'Mouse',\n",
              " 'Alice',\n",
              " 'C',\n",
              " 'D',\n",
              " 'Mine',\n",
              " 'Mouse',\n",
              " 'Alice',\n",
              " 'Alice',\n",
              " 'Mouse',\n",
              " 'Mouse',\n",
              " 'Fury',\n",
              " 'YOU',\n",
              " 'Come',\n",
              " 'Said',\n",
              " 'Sir',\n",
              " 'Said',\n",
              " 'Fury',\n",
              " 'Mouse',\n",
              " 'Alice',\n",
              " 'Alice',\n",
              " 'NOT',\n",
              " 'Mouse',\n",
              " 'A',\n",
              " 'Alice',\n",
              " 'Oh',\n",
              " 'Mouse',\n",
              " 'Alice',\n",
              " 'Mouse',\n",
              " 'Please',\n",
              " 'Alice',\n",
              " 'Yes',\n",
              " 'Mouse',\n",
              " 'Lory',\n",
              " 'Ah',\n",
              " 'YOUR',\n",
              " 'Hold',\n",
              " 'Ma',\n",
              " 'Crab',\n",
              " 'Dinah',\n",
              " 'Alice',\n",
              " 'Dinah',\n",
              " 'Lory',\n",
              " 'Alice',\n",
              " 'Dinah',\n",
              " 'Magpie',\n",
              " 'Canary',\n",
              " 'Come',\n",
              " 'Alice',\n",
              " 'Dinah',\n",
              " 'Oh',\n",
              " 'Dinah',\n",
              " 'Alice',\n",
              " 'Mouse',\n",
              " 'CHAPTER',\n",
              " 'IV',\n",
              " 'Rabbit',\n",
              " 'Bill',\n",
              " 'White',\n",
              " 'Rabbit',\n",
              " 'Duchess',\n",
              " 'Duchess',\n",
              " 'Oh',\n",
              " 'Oh',\n",
              " 'CAN',\n",
              " 'Alice',\n",
              " 'Rabbit',\n",
              " 'Alice',\n",
              " 'Mary',\n",
              " 'Ann',\n",
              " 'ARE',\n",
              " 'Run',\n",
              " 'Quick',\n",
              " 'Alice',\n",
              " 'How',\n",
              " 'W',\n",
              " 'RABBIT',\n",
              " 'Mary',\n",
              " 'Ann',\n",
              " 'How',\n",
              " 'Alice',\n",
              " 'Dinah',\n",
              " 'Alice',\n",
              " 'Come',\n",
              " 'Alice',\n",
              " 'Dinah',\n",
              " 'DRINK',\n",
              " 'ME',\n",
              " 'WILL',\n",
              " 'Luckily',\n",
              " 'Alice',\n",
              " 'Alice',\n",
              " 'CAN',\n",
              " 'Alice',\n",
              " 'NEVER',\n",
              " 'Oh',\n",
              " 'Oh',\n",
              " 'Alice',\n",
              " 'YOU',\n",
              " 'Mary',\n",
              " 'Ann',\n",
              " 'Mary',\n",
              " 'Ann',\n",
              " 'Fetch',\n",
              " 'Alice',\n",
              " 'Rabbit',\n",
              " 'Rabbit',\n",
              " 'Presently',\n",
              " 'Rabbit',\n",
              " 'Alice',\n",
              " 'Alice',\n",
              " 'Alice',\n",
              " 'Rabbit',\n",
              " 'Next',\n",
              " 'Rabbit',\n",
              " 'Pat',\n",
              " 'Pat',\n",
              " 'Where',\n",
              " 'Rabbit',\n",
              " 'Come',\n",
              " 'THIS',\n",
              " 'Sounds',\n",
              " 'Pat',\n",
              " 'Sure',\n",
              " 'Alice',\n",
              " 'Do',\n",
              " 'TWO',\n",
              " 'Alice',\n",
              " 'COULD',\n",
              " 'Bill',\n",
              " 'Bill',\n",
              " 'No',\n",
              " 'Oh',\n",
              " 'Bill',\n",
              " 'Mind',\n",
              " 'Heads',\n",
              " 'Bill',\n",
              " 'Nay',\n",
              " 'YOU',\n",
              " 'Bill',\n",
              " 'Bill',\n",
              " 'Oh',\n",
              " 'So',\n",
              " 'Bill',\n",
              " 'Alice',\n",
              " 'Shy',\n",
              " 'Bill',\n",
              " 'Bill',\n",
              " 'Bill',\n",
              " 'Bill',\n",
              " 'Rabbit',\n",
              " 'Catch',\n",
              " 'Brandy',\n",
              " 'Don',\n",
              " 'How',\n",
              " 'Bill',\n",
              " 'Alice',\n",
              " 'Well',\n",
              " 'Jack',\n",
              " 'Rabbit',\n",
              " 'Alice',\n",
              " 'Dinah',\n",
              " 'Alice',\n",
              " 'Alice',\n",
              " 'Rabbit',\n",
              " 'A',\n",
              " 'WHAT',\n",
              " 'Alice',\n",
              " 'Alice',\n",
              " 'SOME',\n",
              " 'Lizard',\n",
              " 'Bill',\n",
              " 'Alice',\n",
              " 'Alice',\n",
              " 'Poor',\n",
              " 'Alice',\n",
              " 'Alice',\n",
              " 'Alice',\n",
              " 'Alice',\n",
              " 'Oh',\n",
              " 'Alice',\n",
              " 'CHAPTER',\n",
              " 'V',\n",
              " 'Advice',\n",
              " 'Caterpillar',\n",
              " 'Caterpillar',\n",
              " 'Alice',\n",
              " 'Caterpillar',\n",
              " 'YOU',\n",
              " 'Caterpillar',\n",
              " 'Alice',\n",
              " 'Caterpillar',\n",
              " 'Explain',\n",
              " 'MYSELF',\n",
              " 'Alice',\n",
              " 'Caterpillar',\n",
              " 'Alice',\n",
              " 'Caterpillar',\n",
              " 'Well',\n",
              " 'Alice',\n",
              " 'Caterpillar',\n",
              " 'Well',\n",
              " 'Alice',\n",
              " 'ME',\n",
              " 'Caterpillar',\n",
              " 'YOU',\n",
              " 'Which',\n",
              " 'Alice',\n",
              " 'Caterpillar',\n",
              " 'VERY',\n",
              " 'Caterpillar',\n",
              " 'Alice',\n",
              " 'Caterpillar',\n",
              " 'VERY',\n",
              " 'Come',\n",
              " 'Caterpillar',\n",
              " 'Alice',\n",
              " 'Caterpillar',\n",
              " 'Alice',\n",
              " 'Caterpillar',\n",
              " 'Alice',\n",
              " 'Alice',\n",
              " 'Can',\n",
              " 'WHAT',\n",
              " 'Caterpillar',\n",
              " 'Well',\n",
              " 'HOW',\n",
              " 'DOTH',\n",
              " 'THE',\n",
              " 'LITTLE',\n",
              " 'BUSY',\n",
              " 'BEE',\n",
              " 'Alice',\n",
              " 'Repeat',\n",
              " 'YOU',\n",
              " 'ARE',\n",
              " 'OLD',\n",
              " 'FATHER',\n",
              " 'WILLIAM',\n",
              " 'Caterpillar',\n",
              " 'Alice',\n",
              " 'Father',\n",
              " 'William',\n",
              " 'Father',\n",
              " 'William',\n",
              " 'Pray',\n",
              " 'Allow',\n",
              " 'Pray',\n",
              " 'Has',\n",
              " 'Yet',\n",
              " 'Said',\n",
              " 'Be',\n",
              " 'Caterpillar',\n",
              " 'Alice',\n",
              " 'Caterpillar',\n",
              " 'Caterpillar',\n",
              " 'Oh',\n",
              " 'Alice',\n",
              " 'DON',\n",
              " 'T',\n",
              " 'know',\n",
              " 'Caterpillar',\n",
              " 'Alice',\n",
              " 'Are',\n",
              " 'Caterpillar',\n",
              " 'Well',\n",
              " 'Alice',\n",
              " 'Caterpillar',\n",
              " 'Alice',\n",
              " 'Caterpillar',\n",
              " 'Alice',\n",
              " 'Caterpillar',\n",
              " 'One',\n",
              " 'WHAT',\n",
              " 'Alice',\n",
              " 'Caterpillar',\n",
              " 'Alice',\n",
              " 'Come',\n",
              " 'Alice',\n",
              " 'CAN',\n",
              " 'Alice',\n",
              " 'HAVE',\n",
              " 'Serpent',\n",
              " 'Pigeon',\n",
              " 'Alice',\n",
              " 'Pigeon',\n",
              " 'Alice',\n",
              " 'Pigeon',\n",
              " 'Alice',\n",
              " 'Pigeon',\n",
              " 'Pigeon',\n",
              " 'Alice',\n",
              " 'Pigeon',\n",
              " 'Ugh',\n",
              " 'Serpent',\n",
              " 'Alice',\n",
              " 'Well',\n",
              " 'WHAT',\n",
              " 'Pigeon',\n",
              " 'Alice',\n",
              " 'A',\n",
              " 'Pigeon',\n",
              " 'ONE',\n",
              " 'No',\n",
              " 'Alice',\n",
              " 'Pigeon',\n",
              " 'Pigeon',\n",
              " 'ME',\n",
              " 'Alice',\n",
              " 'YOURS',\n",
              " 'Pigeon',\n",
              " 'Come',\n",
              " 'Whoever',\n",
              " 'Alice',\n",
              " 'THIS',\n",
              " 'CHAPTER',\n",
              " 'VI',\n",
              " 'Pig',\n",
              " 'Pepper',\n",
              " 'Alice',\n",
              " 'Fish',\n",
              " 'Footman',\n",
              " 'Duchess',\n",
              " 'Queen',\n",
              " 'Frog',\n",
              " 'Footman',\n",
              " 'Queen',\n",
              " 'Duchess',\n",
              " 'Alice',\n",
              " 'Footman',\n",
              " 'Alice',\n",
              " 'Footman',\n",
              " 'Please',\n",
              " 'Alice',\n",
              " 'Footman',\n",
              " 'INSIDE',\n",
              " 'Alice',\n",
              " 'How',\n",
              " 'Footman',\n",
              " 'Footman',\n",
              " 'Footman',\n",
              " 'How',\n",
              " 'Alice',\n",
              " 'ARE',\n",
              " 'Footman',\n",
              " 'Alice',\n",
              " 'Footman',\n",
              " 'Alice',\n",
              " 'Anything',\n",
              " 'Footman',\n",
              " 'Oh',\n",
              " 'Alice',\n",
              " 'Duchess',\n",
              " 'Alice',\n",
              " 'Duchess',\n",
              " 'Please',\n",
              " 'Alice',\n",
              " 'Cheshire',\n",
              " 'Duchess',\n",
              " 'Pig',\n",
              " 'Alice',\n",
              " 'Cheshire',\n",
              " 'COULD',\n",
              " 'Duchess',\n",
              " 'Alice',\n",
              " 'Duchess',\n",
              " 'Alice',\n",
              " 'Duchess',\n",
              " 'Duchess',\n",
              " 'Oh',\n",
              " 'PLEASE',\n",
              " 'Alice',\n",
              " 'Oh',\n",
              " 'PRECIOUS',\n",
              " 'Duchess',\n",
              " 'Which',\n",
              " 'NOT',\n",
              " 'Alice',\n",
              " 'Just',\n",
              " 'Talking',\n",
              " 'Duchess',\n",
              " 'Alice',\n",
              " 'Twenty',\n",
              " 'ME',\n",
              " 'Duchess',\n",
              " 'Speak',\n",
              " 'CHORUS',\n",
              " 'Wow',\n",
              " 'Duchess',\n",
              " 'Alice',\n",
              " 'CHORUS',\n",
              " 'Wow',\n",
              " 'Duchess',\n",
              " 'Alice',\n",
              " 'Queen',\n",
              " 'Alice',\n",
              " 'Alice',\n",
              " 'IF',\n",
              " 'Alice',\n",
              " 'Don',\n",
              " 'Alice',\n",
              " 'Alice',\n",
              " 'Alice',\n",
              " 'Alice',\n",
              " 'Alice',\n",
              " 'NO',\n",
              " 'Cheshire',\n",
              " 'Cat',\n",
              " 'Cat',\n",
              " 'Alice',\n",
              " 'VERY',\n",
              " 'Cheshire',\n",
              " 'Puss',\n",
              " 'Come',\n",
              " 'Alice',\n",
              " 'Would',\n",
              " 'Cat',\n",
              " 'Alice',\n",
              " 'Cat',\n",
              " 'Alice',\n",
              " 'Oh',\n",
              " 'Cat',\n",
              " 'Alice',\n",
              " 'Cat',\n",
              " 'Hatter',\n",
              " 'March',\n",
              " 'Hare',\n",
              " 'Visit',\n",
              " 'Alice',\n",
              " 'Oh',\n",
              " 'Cat',\n",
              " 'How',\n",
              " 'Alice',\n",
              " 'Cat',\n",
              " 'Alice',\n",
              " 'Cat',\n",
              " 'Alice',\n",
              " 'Well',\n",
              " 'Cat',\n",
              " 'Therefore',\n",
              " 'Alice',\n",
              " 'Call',\n",
              " 'Cat',\n",
              " 'Do',\n",
              " 'Queen',\n",
              " 'Alice',\n",
              " 'Cat',\n",
              " 'Alice',\n",
              " 'Cat',\n",
              " 'Alice',\n",
              " 'Cat',\n",
              " 'Alice',\n",
              " 'March',\n",
              " 'Hare',\n",
              " 'March',\n",
              " 'Hare',\n",
              " 'May',\n",
              " 'March',\n",
              " 'Cat',\n",
              " 'Did',\n",
              " 'Cat',\n",
              " 'Alice',\n",
              " 'All',\n",
              " 'Cat',\n",
              " 'Alice',\n",
              " 'March',\n",
              " 'Hare',\n",
              " 'Hatter',\n",
              " 'CHAPTER',\n",
              " 'VII',\n",
              " 'A',\n",
              " 'Mad',\n",
              " 'Tea',\n",
              " 'Party',\n",
              " 'March',\n",
              " 'Hare',\n",
              " 'Hatter',\n",
              " 'Dormouse',\n",
              " 'Very',\n",
              " 'Dormouse',\n",
              " 'Alice',\n",
              " 'No',\n",
              " 'No',\n",
              " 'Alice',\n",
              " 'PLENTY',\n",
              " 'Alice',\n",
              " 'March',\n",
              " 'Hare',\n",
              " 'Alice',\n",
              " 'March',\n",
              " 'Hare',\n",
              " 'Alice',\n",
              " 'March',\n",
              " 'Hare',\n",
              " 'YOUR',\n",
              " 'Alice',\n",
              " 'Hatter',\n",
              " 'Alice',\n",
              " 'Alice',\n",
              " 'Hatter',\n",
              " 'SAID',\n",
              " 'Come',\n",
              " 'Alice',\n",
              " 'Do',\n",
              " 'March',\n",
              " 'Hare',\n",
              " 'Exactly',\n",
              " 'Alice',\n",
              " 'March',\n",
              " 'Hare',\n",
              " 'Alice',\n",
              " 'Hatter',\n",
              " 'March',\n",
              " 'Hare',\n",
              " 'Dormouse',\n",
              " 'Hatter',\n",
              " 'Alice',\n",
              " 'Hatter',\n",
              " 'Alice',\n",
              " 'Alice',\n",
              " 'Hatter',\n",
              " 'March',\n",
              " 'Hare',\n",
              " 'BEST',\n",
              " 'March',\n",
              " 'Hare',\n",
              " 'Yes',\n",
              " 'Hatter',\n",
              " 'March',\n",
              " 'Hare',\n",
              " 'BEST',\n",
              " 'Alice',\n",
              " 'Hatter',\n",
              " 'Does',\n",
              " 'YOUR',\n",
              " 'Alice',\n",
              " 'Which',\n",
              " 'MINE',\n",
              " 'Hatter',\n",
              " 'Alice',\n",
              " 'Hatter',\n",
              " 'Dormouse',\n",
              " 'Hatter',\n",
              " 'Dormouse',\n",
              " 'Hatter',\n",
              " 'Alice',\n",
              " 'No',\n",
              " 'Alice',\n",
              " 'Hatter',\n",
              " 'Nor',\n",
              " 'March',\n",
              " 'Hare',\n",
              " 'Alice',\n",
              " 'Time',\n",
              " 'Hatter',\n",
              " 'IT',\n",
              " 'HIM',\n",
              " 'Alice',\n",
              " 'Hatter',\n",
              " 'Time',\n",
              " 'Alice',\n",
              " 'Ah',\n",
              " 'Hatter',\n",
              " 'Time',\n",
              " 'Half',\n",
              " 'March',\n",
              " 'Hare',\n",
              " 'Alice',\n",
              " 'Hatter',\n",
              " 'YOU',\n",
              " 'Alice',\n",
              " 'Hatter',\n",
              " 'March',\n",
              " 'HE',\n",
              " 'March',\n",
              " 'Hare',\n",
              " 'Queen',\n",
              " 'Hearts',\n",
              " 'Twinkle',\n",
              " 'Alice',\n",
              " 'Hatter',\n",
              " 'Twinkle',\n",
              " 'Dormouse',\n",
              " 'Twinkle',\n",
              " 'Well',\n",
              " 'Hatter',\n",
              " 'Queen',\n",
              " 'How',\n",
              " 'Alice',\n",
              " 'Hatter',\n",
              " 'A',\n",
              " 'Alice',\n",
              " 'Hatter',\n",
              " 'Alice',\n",
              " 'Exactly',\n",
              " 'Hatter',\n",
              " 'Alice',\n",
              " 'Suppose',\n",
              " 'March',\n",
              " 'Hare',\n",
              " 'Alice',\n",
              " 'Dormouse',\n",
              " 'Wake',\n",
              " 'Dormouse',\n",
              " 'Dormouse',\n",
              " 'Tell',\n",
              " 'March',\n",
              " 'Hare',\n",
              " 'Yes',\n",
              " 'Alice',\n",
              " 'Hatter',\n",
              " 'Once',\n",
              " 'Dormouse',\n",
              " 'Elsie',\n",
              " 'Lacie',\n",
              " 'Tillie',\n",
              " 'Alice',\n",
              " 'Dormouse',\n",
              " 'Alice',\n",
              " 'Dormouse',\n",
              " 'VERY',\n",
              " 'Alice',\n",
              " 'March',\n",
              " 'Hare',\n",
              " 'Alice',\n",
              " 'Alice',\n",
              " 'LESS',\n",
              " 'Hatter',\n",
              " 'YOUR',\n",
              " 'Alice',\n",
              " 'Who',\n",
              " 'Hatter',\n",
              " 'Alice',\n",
              " 'Dormouse',\n",
              " 'Dormouse',\n",
              " 'Alice',\n",
              " 'Hatter',\n",
              " 'March',\n",
              " 'Hare',\n",
              " 'Sh',\n",
              " 'Dormouse',\n",
              " 'Alice',\n",
              " 'Dormouse',\n",
              " 'Alice',\n",
              " 'Treacle',\n",
              " 'Dormouse',\n",
              " 'Hatter',\n",
              " 'Dormouse',\n",
              " 'March',\n",
              " 'Hare',\n",
              " 'Dormouse',\n",
              " 'Alice',\n",
              " 'March',\n",
              " 'Hare',\n",
              " 'Hatter',\n",
              " 'Alice',\n",
              " 'March',\n",
              " 'Hare',\n",
              " 'Alice',\n",
              " 'Dormouse',\n",
              " 'Hatter',\n",
              " 'IN',\n",
              " 'Alice',\n",
              " 'Dormouse',\n",
              " 'Dormouse',\n",
              " 'Dormouse',\n",
              " 'Dormouse',\n",
              " 'M',\n",
              " 'M',\n",
              " 'Alice',\n",
              " 'March',\n",
              " 'Hare',\n",
              " 'Alice',\n",
              " 'Dormouse',\n",
              " 'Hatter',\n",
              " 'M',\n",
              " 'Alice',\n",
              " 'Hatter',\n",
              " 'Alice',\n",
              " 'Dormouse',\n",
              " 'Dormouse',\n",
              " 'THERE',\n",
              " 'Alice',\n",
              " 'THEN',\n",
              " 'CHAPTER',\n",
              " 'VIII',\n",
              " 'Queen',\n",
              " 'Croquet',\n",
              " 'Ground',\n",
              " 'A',\n",
              " 'Alice',\n",
              " 'Don',\n",
              " 'Five',\n",
              " 'Seven',\n",
              " 'Seven',\n",
              " 'Five',\n",
              " 'Always',\n",
              " 'YOU',\n",
              " 'D',\n",
              " ...]"
            ]
          },
          "metadata": {},
          "execution_count": 29
        }
      ]
    },
    {
      "cell_type": "code",
      "source": [
        "fd_names = FreqDist(name_list)\n",
        "fd_names.N()"
      ],
      "metadata": {
        "colab": {
          "base_uri": "https://localhost:8080/"
        },
        "id": "kQ838aEBbRPT",
        "outputId": "e7c29a8f-1e08-4701-dbbc-2d924c60fb9d"
      },
      "execution_count": 30,
      "outputs": [
        {
          "output_type": "execute_result",
          "data": {
            "text/plain": [
              "1981"
            ]
          },
          "metadata": {},
          "execution_count": 30
        }
      ]
    },
    {
      "cell_type": "code",
      "source": [
        "fd_names['Alice']"
      ],
      "metadata": {
        "colab": {
          "base_uri": "https://localhost:8080/"
        },
        "id": "U9LjEdbSbffk",
        "outputId": "07fc7b53-6343-42a2-d1bd-787b3bd4ce37"
      },
      "execution_count": 32,
      "outputs": [
        {
          "output_type": "execute_result",
          "data": {
            "text/plain": [
              "391"
            ]
          },
          "metadata": {},
          "execution_count": 32
        }
      ]
    },
    {
      "cell_type": "code",
      "source": [
        "fd_names.freq('Alice')"
      ],
      "metadata": {
        "colab": {
          "base_uri": "https://localhost:8080/"
        },
        "id": "hLurFOd4bo4M",
        "outputId": "bf2d8d2d-1c30-4627-eae2-eb6e7af6453f"
      },
      "execution_count": 34,
      "outputs": [
        {
          "output_type": "execute_result",
          "data": {
            "text/plain": [
              "0.19737506309944472"
            ]
          },
          "metadata": {},
          "execution_count": 34
        }
      ]
    },
    {
      "cell_type": "code",
      "source": [
        "fd_names.most_common(5)"
      ],
      "metadata": {
        "colab": {
          "base_uri": "https://localhost:8080/"
        },
        "id": "i-0Q2sxPbt0T",
        "outputId": "15ad8778-ed96-4b61-e0b7-fc4cf397f3dd"
      },
      "execution_count": 35,
      "outputs": [
        {
          "output_type": "execute_result",
          "data": {
            "text/plain": [
              "[('Alice', 391), ('Queen', 73), ('King', 60), ('Turtle', 58), ('Mock', 56)]"
            ]
          },
          "metadata": {},
          "execution_count": 35
        }
      ]
    },
    {
      "cell_type": "code",
      "source": [],
      "metadata": {
        "id": "-kqU2Oolb3Nz"
      },
      "execution_count": null,
      "outputs": []
    }
  ]
}