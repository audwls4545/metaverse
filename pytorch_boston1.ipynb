{
  "nbformat": 4,
  "nbformat_minor": 0,
  "metadata": {
    "colab": {
      "provenance": [],
      "authorship_tag": "ABX9TyN8Zp1AztKkc59YB5B2HRuE",
      "include_colab_link": true
    },
    "kernelspec": {
      "name": "python3",
      "display_name": "Python 3"
    },
    "language_info": {
      "name": "python"
    }
  },
  "cells": [
    {
      "cell_type": "markdown",
      "metadata": {
        "id": "view-in-github",
        "colab_type": "text"
      },
      "source": [
        "<a href=\"https://colab.research.google.com/github/audwls4545/metaverse/blob/main/pytorch_boston1.ipynb\" target=\"_parent\"><img src=\"https://colab.research.google.com/assets/colab-badge.svg\" alt=\"Open In Colab\"/></a>"
      ]
    },
    {
      "cell_type": "code",
      "execution_count": 1,
      "metadata": {
        "colab": {
          "base_uri": "https://localhost:8080/"
        },
        "id": "3yolo_0lvU2y",
        "outputId": "24942547-8c80-4295-ea35-38fd8fc20e9f"
      },
      "outputs": [
        {
          "output_type": "stream",
          "name": "stderr",
          "text": [
            "/usr/local/lib/python3.10/dist-packages/sklearn/datasets/_openml.py:301: UserWarning: Multiple active versions of the dataset matching the name boston exist. Versions may be fundamentally different, returning version 1.\n",
            "  warn(\n",
            "/usr/local/lib/python3.10/dist-packages/sklearn/datasets/_openml.py:968: FutureWarning: The default value of `parser` will change from `'liac-arff'` to `'auto'` in 1.4. You can set `parser='auto'` to silence this warning. Therefore, an `ImportError` will be raised from 1.4 if the dataset is dense and pandas is not installed. Note that the pandas parser may return different data types. See the Notes Section in fetch_openml's API doc for details.\n",
            "  warn(\n"
          ]
        },
        {
          "output_type": "execute_result",
          "data": {
            "text/plain": [
              "dict_keys(['data', 'target', 'frame', 'categories', 'feature_names', 'target_names', 'DESCR', 'details', 'url'])"
            ]
          },
          "metadata": {},
          "execution_count": 1
        }
      ],
      "source": [
        "from sklearn.datasets import fetch_openml\n",
        "\n",
        "dataset = fetch_openml(name = 'boston')\n",
        "\n",
        "dataset.keys()"
      ]
    },
    {
      "cell_type": "code",
      "source": [
        "import pandas as pd\n",
        "\n",
        "df = pd.DataFrame(dataset['data'])\n",
        "df.columns = dataset['feature_names']\n",
        "df['target'] = dataset['target']\n",
        "\n",
        "df.head()"
      ],
      "metadata": {
        "colab": {
          "base_uri": "https://localhost:8080/",
          "height": 206
        },
        "id": "gKWq5ZPWvnPT",
        "outputId": "9766e888-8dd2-4faf-cda1-fd6c16ec96d1"
      },
      "execution_count": 2,
      "outputs": [
        {
          "output_type": "execute_result",
          "data": {
            "text/plain": [
              "      CRIM    ZN  INDUS CHAS    NOX     RM   AGE     DIS RAD    TAX  PTRATIO  \\\n",
              "0  0.00632  18.0   2.31    0  0.538  6.575  65.2  4.0900   1  296.0     15.3   \n",
              "1  0.02731   0.0   7.07    0  0.469  6.421  78.9  4.9671   2  242.0     17.8   \n",
              "2  0.02729   0.0   7.07    0  0.469  7.185  61.1  4.9671   2  242.0     17.8   \n",
              "3  0.03237   0.0   2.18    0  0.458  6.998  45.8  6.0622   3  222.0     18.7   \n",
              "4  0.06905   0.0   2.18    0  0.458  7.147  54.2  6.0622   3  222.0     18.7   \n",
              "\n",
              "        B  LSTAT  target  \n",
              "0  396.90   4.98    24.0  \n",
              "1  396.90   9.14    21.6  \n",
              "2  392.83   4.03    34.7  \n",
              "3  394.63   2.94    33.4  \n",
              "4  396.90   5.33    36.2  "
            ],
            "text/html": [
              "\n",
              "  <div id=\"df-ac9d9319-b1aa-4f25-9cd1-72eb35b8c66c\">\n",
              "    <div class=\"colab-df-container\">\n",
              "      <div>\n",
              "<style scoped>\n",
              "    .dataframe tbody tr th:only-of-type {\n",
              "        vertical-align: middle;\n",
              "    }\n",
              "\n",
              "    .dataframe tbody tr th {\n",
              "        vertical-align: top;\n",
              "    }\n",
              "\n",
              "    .dataframe thead th {\n",
              "        text-align: right;\n",
              "    }\n",
              "</style>\n",
              "<table border=\"1\" class=\"dataframe\">\n",
              "  <thead>\n",
              "    <tr style=\"text-align: right;\">\n",
              "      <th></th>\n",
              "      <th>CRIM</th>\n",
              "      <th>ZN</th>\n",
              "      <th>INDUS</th>\n",
              "      <th>CHAS</th>\n",
              "      <th>NOX</th>\n",
              "      <th>RM</th>\n",
              "      <th>AGE</th>\n",
              "      <th>DIS</th>\n",
              "      <th>RAD</th>\n",
              "      <th>TAX</th>\n",
              "      <th>PTRATIO</th>\n",
              "      <th>B</th>\n",
              "      <th>LSTAT</th>\n",
              "      <th>target</th>\n",
              "    </tr>\n",
              "  </thead>\n",
              "  <tbody>\n",
              "    <tr>\n",
              "      <th>0</th>\n",
              "      <td>0.00632</td>\n",
              "      <td>18.0</td>\n",
              "      <td>2.31</td>\n",
              "      <td>0</td>\n",
              "      <td>0.538</td>\n",
              "      <td>6.575</td>\n",
              "      <td>65.2</td>\n",
              "      <td>4.0900</td>\n",
              "      <td>1</td>\n",
              "      <td>296.0</td>\n",
              "      <td>15.3</td>\n",
              "      <td>396.90</td>\n",
              "      <td>4.98</td>\n",
              "      <td>24.0</td>\n",
              "    </tr>\n",
              "    <tr>\n",
              "      <th>1</th>\n",
              "      <td>0.02731</td>\n",
              "      <td>0.0</td>\n",
              "      <td>7.07</td>\n",
              "      <td>0</td>\n",
              "      <td>0.469</td>\n",
              "      <td>6.421</td>\n",
              "      <td>78.9</td>\n",
              "      <td>4.9671</td>\n",
              "      <td>2</td>\n",
              "      <td>242.0</td>\n",
              "      <td>17.8</td>\n",
              "      <td>396.90</td>\n",
              "      <td>9.14</td>\n",
              "      <td>21.6</td>\n",
              "    </tr>\n",
              "    <tr>\n",
              "      <th>2</th>\n",
              "      <td>0.02729</td>\n",
              "      <td>0.0</td>\n",
              "      <td>7.07</td>\n",
              "      <td>0</td>\n",
              "      <td>0.469</td>\n",
              "      <td>7.185</td>\n",
              "      <td>61.1</td>\n",
              "      <td>4.9671</td>\n",
              "      <td>2</td>\n",
              "      <td>242.0</td>\n",
              "      <td>17.8</td>\n",
              "      <td>392.83</td>\n",
              "      <td>4.03</td>\n",
              "      <td>34.7</td>\n",
              "    </tr>\n",
              "    <tr>\n",
              "      <th>3</th>\n",
              "      <td>0.03237</td>\n",
              "      <td>0.0</td>\n",
              "      <td>2.18</td>\n",
              "      <td>0</td>\n",
              "      <td>0.458</td>\n",
              "      <td>6.998</td>\n",
              "      <td>45.8</td>\n",
              "      <td>6.0622</td>\n",
              "      <td>3</td>\n",
              "      <td>222.0</td>\n",
              "      <td>18.7</td>\n",
              "      <td>394.63</td>\n",
              "      <td>2.94</td>\n",
              "      <td>33.4</td>\n",
              "    </tr>\n",
              "    <tr>\n",
              "      <th>4</th>\n",
              "      <td>0.06905</td>\n",
              "      <td>0.0</td>\n",
              "      <td>2.18</td>\n",
              "      <td>0</td>\n",
              "      <td>0.458</td>\n",
              "      <td>7.147</td>\n",
              "      <td>54.2</td>\n",
              "      <td>6.0622</td>\n",
              "      <td>3</td>\n",
              "      <td>222.0</td>\n",
              "      <td>18.7</td>\n",
              "      <td>396.90</td>\n",
              "      <td>5.33</td>\n",
              "      <td>36.2</td>\n",
              "    </tr>\n",
              "  </tbody>\n",
              "</table>\n",
              "</div>\n",
              "      <button class=\"colab-df-convert\" onclick=\"convertToInteractive('df-ac9d9319-b1aa-4f25-9cd1-72eb35b8c66c')\"\n",
              "              title=\"Convert this dataframe to an interactive table.\"\n",
              "              style=\"display:none;\">\n",
              "        \n",
              "  <svg xmlns=\"http://www.w3.org/2000/svg\" height=\"24px\"viewBox=\"0 0 24 24\"\n",
              "       width=\"24px\">\n",
              "    <path d=\"M0 0h24v24H0V0z\" fill=\"none\"/>\n",
              "    <path d=\"M18.56 5.44l.94 2.06.94-2.06 2.06-.94-2.06-.94-.94-2.06-.94 2.06-2.06.94zm-11 1L8.5 8.5l.94-2.06 2.06-.94-2.06-.94L8.5 2.5l-.94 2.06-2.06.94zm10 10l.94 2.06.94-2.06 2.06-.94-2.06-.94-.94-2.06-.94 2.06-2.06.94z\"/><path d=\"M17.41 7.96l-1.37-1.37c-.4-.4-.92-.59-1.43-.59-.52 0-1.04.2-1.43.59L10.3 9.45l-7.72 7.72c-.78.78-.78 2.05 0 2.83L4 21.41c.39.39.9.59 1.41.59.51 0 1.02-.2 1.41-.59l7.78-7.78 2.81-2.81c.8-.78.8-2.07 0-2.86zM5.41 20L4 18.59l7.72-7.72 1.47 1.35L5.41 20z\"/>\n",
              "  </svg>\n",
              "      </button>\n",
              "      \n",
              "  <style>\n",
              "    .colab-df-container {\n",
              "      display:flex;\n",
              "      flex-wrap:wrap;\n",
              "      gap: 12px;\n",
              "    }\n",
              "\n",
              "    .colab-df-convert {\n",
              "      background-color: #E8F0FE;\n",
              "      border: none;\n",
              "      border-radius: 50%;\n",
              "      cursor: pointer;\n",
              "      display: none;\n",
              "      fill: #1967D2;\n",
              "      height: 32px;\n",
              "      padding: 0 0 0 0;\n",
              "      width: 32px;\n",
              "    }\n",
              "\n",
              "    .colab-df-convert:hover {\n",
              "      background-color: #E2EBFA;\n",
              "      box-shadow: 0px 1px 2px rgba(60, 64, 67, 0.3), 0px 1px 3px 1px rgba(60, 64, 67, 0.15);\n",
              "      fill: #174EA6;\n",
              "    }\n",
              "\n",
              "    [theme=dark] .colab-df-convert {\n",
              "      background-color: #3B4455;\n",
              "      fill: #D2E3FC;\n",
              "    }\n",
              "\n",
              "    [theme=dark] .colab-df-convert:hover {\n",
              "      background-color: #434B5C;\n",
              "      box-shadow: 0px 1px 3px 1px rgba(0, 0, 0, 0.15);\n",
              "      filter: drop-shadow(0px 1px 2px rgba(0, 0, 0, 0.3));\n",
              "      fill: #FFFFFF;\n",
              "    }\n",
              "  </style>\n",
              "\n",
              "      <script>\n",
              "        const buttonEl =\n",
              "          document.querySelector('#df-ac9d9319-b1aa-4f25-9cd1-72eb35b8c66c button.colab-df-convert');\n",
              "        buttonEl.style.display =\n",
              "          google.colab.kernel.accessAllowed ? 'block' : 'none';\n",
              "\n",
              "        async function convertToInteractive(key) {\n",
              "          const element = document.querySelector('#df-ac9d9319-b1aa-4f25-9cd1-72eb35b8c66c');\n",
              "          const dataTable =\n",
              "            await google.colab.kernel.invokeFunction('convertToInteractive',\n",
              "                                                     [key], {});\n",
              "          if (!dataTable) return;\n",
              "\n",
              "          const docLinkHtml = 'Like what you see? Visit the ' +\n",
              "            '<a target=\"_blank\" href=https://colab.research.google.com/notebooks/data_table.ipynb>data table notebook</a>'\n",
              "            + ' to learn more about interactive tables.';\n",
              "          element.innerHTML = '';\n",
              "          dataTable['output_type'] = 'display_data';\n",
              "          await google.colab.output.renderOutput(dataTable, element);\n",
              "          const docLink = document.createElement('div');\n",
              "          docLink.innerHTML = docLinkHtml;\n",
              "          element.appendChild(docLink);\n",
              "        }\n",
              "      </script>\n",
              "    </div>\n",
              "  </div>\n",
              "  "
            ]
          },
          "metadata": {},
          "execution_count": 2
        }
      ]
    },
    {
      "cell_type": "code",
      "source": [
        "df['CHAS'] = df['CHAS'].astype('float')\n",
        "df['RAD'] = df['RAD'].astype('float')"
      ],
      "metadata": {
        "id": "cmZoeEmM0Px0"
      },
      "execution_count": 12,
      "outputs": []
    },
    {
      "cell_type": "code",
      "source": [
        "import torch\n",
        "import torch.nn as nn\n",
        "from torch.optim.adam import Adam"
      ],
      "metadata": {
        "id": "SBNTr4kEwBZL"
      },
      "execution_count": 13,
      "outputs": []
    },
    {
      "cell_type": "code",
      "source": [
        "model = nn.Sequential(\n",
        "    nn.Linear(13, 100), #13입력, 100출력\n",
        "    nn.ReLU(),\n",
        "    nn.Linear(100, 1)\n",
        "\n",
        ")\n",
        "\n",
        "model"
      ],
      "metadata": {
        "colab": {
          "base_uri": "https://localhost:8080/"
        },
        "id": "9eSpzSSTw8yf",
        "outputId": "a5f9978f-26c1-4a16-ae26-3406b83ca07d"
      },
      "execution_count": 14,
      "outputs": [
        {
          "output_type": "execute_result",
          "data": {
            "text/plain": [
              "Sequential(\n",
              "  (0): Linear(in_features=13, out_features=100, bias=True)\n",
              "  (1): ReLU()\n",
              "  (2): Linear(in_features=100, out_features=1, bias=True)\n",
              ")"
            ]
          },
          "metadata": {},
          "execution_count": 14
        }
      ]
    },
    {
      "cell_type": "code",
      "source": [
        "X_train = df.iloc[:,:13].values\n",
        "X_train.shape"
      ],
      "metadata": {
        "colab": {
          "base_uri": "https://localhost:8080/"
        },
        "id": "6jBQY4J2xOm8",
        "outputId": "06d8fbb1-7e8a-4c19-c105-43c0b9f755da"
      },
      "execution_count": 15,
      "outputs": [
        {
          "output_type": "execute_result",
          "data": {
            "text/plain": [
              "(506, 13)"
            ]
          },
          "metadata": {},
          "execution_count": 15
        }
      ]
    },
    {
      "cell_type": "code",
      "source": [
        "y_train = df.iloc[:,-1].values\n",
        "y_train.shape"
      ],
      "metadata": {
        "colab": {
          "base_uri": "https://localhost:8080/"
        },
        "id": "GVc-wZ8Vxd8W",
        "outputId": "b453be79-340f-45a9-f64e-8463fa43aa83"
      },
      "execution_count": 16,
      "outputs": [
        {
          "output_type": "execute_result",
          "data": {
            "text/plain": [
              "(506,)"
            ]
          },
          "metadata": {},
          "execution_count": 16
        }
      ]
    },
    {
      "cell_type": "code",
      "source": [
        "batch_size = 100\n",
        "optim = Adam(model.parameters(), lr = 0.001)\n",
        "epochs = 200\n",
        "\n",
        "for epoch in range(epochs):\n",
        "    for temp in range(len(X_train) // batch_size):\n",
        "        start = temp * batch_size\n",
        "        end = start + batch_size\n",
        "\n",
        "        x = torch.FloatTensor(X_train[start : end])\n",
        "        y = torch.FloatTensor(y_train[start : end])\n",
        "\n",
        "        optim.zero_grad()\n",
        "        pred = model(x)\n",
        "        loss = nn.MSELoss()(pred, y)\n",
        "        loss.backward()\n",
        "        optim.step()\n",
        "\n",
        "    if epoch % 10 == 0:\n",
        "        print(f'{epoch+1} loss:{loss.item()}')"
      ],
      "metadata": {
        "colab": {
          "base_uri": "https://localhost:8080/"
        },
        "id": "tPDo-NGGxs2D",
        "outputId": "7458c53a-7324-4906-afe5-de4fb4d56e39"
      },
      "execution_count": 17,
      "outputs": [
        {
          "output_type": "stream",
          "name": "stderr",
          "text": [
            "/usr/local/lib/python3.10/dist-packages/torch/nn/modules/loss.py:536: UserWarning: Using a target size (torch.Size([100])) that is different to the input size (torch.Size([100, 1])). This will likely lead to incorrect results due to broadcasting. Please ensure they have the same size.\n",
            "  return F.mse_loss(input, target, reduction=self.reduction)\n"
          ]
        },
        {
          "output_type": "stream",
          "name": "stdout",
          "text": [
            "1 loss:71.03168487548828\n",
            "11 loss:86.46977233886719\n",
            "21 loss:43.10759353637695\n",
            "31 loss:38.869815826416016\n",
            "41 loss:38.05921173095703\n",
            "51 loss:37.70018005371094\n",
            "61 loss:37.55073928833008\n",
            "71 loss:37.395694732666016\n",
            "81 loss:37.3018798828125\n",
            "91 loss:37.19560241699219\n",
            "101 loss:37.098838806152344\n",
            "111 loss:37.05624008178711\n",
            "121 loss:37.038570404052734\n",
            "131 loss:37.01359176635742\n",
            "141 loss:37.01557922363281\n",
            "151 loss:37.008270263671875\n",
            "161 loss:36.988216400146484\n",
            "171 loss:36.96589660644531\n",
            "181 loss:36.94986343383789\n",
            "191 loss:36.93323516845703\n"
          ]
        }
      ]
    },
    {
      "cell_type": "code",
      "source": [
        "X_train[0,:13]"
      ],
      "metadata": {
        "colab": {
          "base_uri": "https://localhost:8080/"
        },
        "id": "1PR8bI6_0beb",
        "outputId": "bc30d918-9a8b-4f63-c0d4-69aadb512d2c"
      },
      "execution_count": 18,
      "outputs": [
        {
          "output_type": "execute_result",
          "data": {
            "text/plain": [
              "array([6.320e-03, 1.800e+01, 2.310e+00, 0.000e+00, 5.380e-01, 6.575e+00,\n",
              "       6.520e+01, 4.090e+00, 1.000e+00, 2.960e+02, 1.530e+01, 3.969e+02,\n",
              "       4.980e+00])"
            ]
          },
          "metadata": {},
          "execution_count": 18
        }
      ]
    },
    {
      "cell_type": "code",
      "source": [
        "pred = model(torch.FloatTensor(X_train[0,:13]))\n",
        "pred"
      ],
      "metadata": {
        "colab": {
          "base_uri": "https://localhost:8080/"
        },
        "id": "M7czscgszhcB",
        "outputId": "d87976b6-01e8-499a-dd48-efb12cef7a47"
      },
      "execution_count": 19,
      "outputs": [
        {
          "output_type": "execute_result",
          "data": {
            "text/plain": [
              "tensor([25.3984], grad_fn=<AddBackward0>)"
            ]
          },
          "metadata": {},
          "execution_count": 19
        }
      ]
    },
    {
      "cell_type": "code",
      "source": [
        "y_train[0]"
      ],
      "metadata": {
        "colab": {
          "base_uri": "https://localhost:8080/"
        },
        "id": "H3JBe1mb0d5l",
        "outputId": "5e395e93-baf8-4e69-f1c7-d40135588c35"
      },
      "execution_count": 20,
      "outputs": [
        {
          "output_type": "execute_result",
          "data": {
            "text/plain": [
              "24.0"
            ]
          },
          "metadata": {},
          "execution_count": 20
        }
      ]
    },
    {
      "cell_type": "code",
      "source": [
        "model.state_dict()"
      ],
      "metadata": {
        "colab": {
          "base_uri": "https://localhost:8080/"
        },
        "id": "ikn5a30x0huT",
        "outputId": "bb7307d8-90d4-4b7c-decd-10e8fe816f35"
      },
      "execution_count": 21,
      "outputs": [
        {
          "output_type": "execute_result",
          "data": {
            "text/plain": [
              "OrderedDict([('0.weight',\n",
              "              tensor([[ 0.1412,  0.2062,  0.2333,  ..., -0.0182, -0.1346, -0.2661],\n",
              "                      [-0.2729, -0.2454, -0.2908,  ...,  0.1069,  0.1833,  0.1192],\n",
              "                      [ 0.2831,  0.2252,  0.2838,  ...,  0.1578,  0.1096,  0.2744],\n",
              "                      ...,\n",
              "                      [-0.2033,  0.1679,  0.1938,  ..., -0.1086, -0.1421,  0.2134],\n",
              "                      [ 0.1389, -0.0719, -0.0154,  ..., -0.2546, -0.2011,  0.1315],\n",
              "                      [ 0.1536, -0.0551,  0.2720,  ..., -0.1419, -0.0685,  0.1104]])),\n",
              "             ('0.bias',\n",
              "              tensor([-0.0173, -0.1946,  0.2168, -0.0454, -0.1897,  0.1904, -0.2373, -0.2632,\n",
              "                       0.0664, -0.1678,  0.0920,  0.1388, -0.1767,  0.2509,  0.0518, -0.0115,\n",
              "                       0.0090,  0.0390,  0.1467, -0.0028, -0.1731, -0.1713,  0.2163,  0.1465,\n",
              "                       0.0097, -0.1411, -0.1565, -0.0310, -0.0732,  0.0069, -0.1907,  0.0887,\n",
              "                       0.2378,  0.0332, -0.1062, -0.2500,  0.1724,  0.0746,  0.0865, -0.1910,\n",
              "                      -0.1460, -0.1969,  0.1560, -0.3089, -0.0326, -0.2408,  0.2424, -0.0650,\n",
              "                      -0.0988,  0.0894,  0.0840,  0.0770, -0.3035,  0.2286, -0.2348, -0.0553,\n",
              "                       0.0994,  0.0301, -0.1745, -0.1145, -0.1865, -0.2296, -0.1308, -0.1268,\n",
              "                      -0.1165, -0.1788, -0.1435, -0.0981, -0.1141, -0.1560, -0.0948,  0.0048,\n",
              "                      -0.2741, -0.1979,  0.0098, -0.2751,  0.0344,  0.0375,  0.0401,  0.1260,\n",
              "                       0.2320,  0.1911,  0.1555, -0.2967, -0.1497, -0.0237, -0.1624,  0.2160,\n",
              "                       0.2024, -0.1201,  0.1224, -0.2100,  0.2535,  0.1269,  0.2122,  0.0622,\n",
              "                       0.1810, -0.1402, -0.0582, -0.0792])),\n",
              "             ('2.weight',\n",
              "              tensor([[ 0.0893, -0.0624,  0.1129, -0.0543, -0.0207, -0.0518,  0.0709, -0.0275,\n",
              "                       -0.0491,  0.0093,  0.0904,  0.0160,  0.0533,  0.0096,  0.1048,  0.0777,\n",
              "                       -0.0799,  0.0076, -0.0643,  0.0415,  0.0569,  0.0482, -0.0386,  0.0404,\n",
              "                       -0.0583,  0.0673, -0.0832,  0.0873,  0.0143,  0.0932, -0.0327,  0.0538,\n",
              "                       -0.0809, -0.0109, -0.0273, -0.0464, -0.0344, -0.0343, -0.0310, -0.0333,\n",
              "                        0.0108, -0.0536, -0.0610, -0.0629, -0.0916,  0.0833,  0.0608, -0.0236,\n",
              "                       -0.0330,  0.0523, -0.0390, -0.0705, -0.0161,  0.0206, -0.0625,  0.0749,\n",
              "                        0.0238, -0.0384, -0.0892, -0.0436, -0.0067,  0.0924, -0.0994, -0.0542,\n",
              "                        0.0748, -0.0445, -0.0525,  0.0312,  0.0543, -0.0890, -0.0703, -0.0294,\n",
              "                        0.0458, -0.0757,  0.0887, -0.0967,  0.0494,  0.0506, -0.0683,  0.1224,\n",
              "                        0.0282,  0.0626, -0.0183, -0.0529,  0.0106,  0.0271, -0.0741, -0.0387,\n",
              "                        0.0726, -0.0798, -0.0672, -0.0427,  0.0771, -0.0856,  0.1307,  0.0526,\n",
              "                       -0.1418,  0.0530, -0.0723,  0.0381]])),\n",
              "             ('2.bias', tensor([0.0099]))])"
            ]
          },
          "metadata": {},
          "execution_count": 21
        }
      ]
    },
    {
      "cell_type": "code",
      "source": [
        "torch.save(model.state_dict(), 'model.pth') #저장"
      ],
      "metadata": {
        "id": "_HWcvOT00ytT"
      },
      "execution_count": 22,
      "outputs": []
    },
    {
      "cell_type": "code",
      "source": [
        "model_new = model()\n",
        "model_new.load_state_dict(torch.load('model.pth')) #저장한것 불러오기"
      ],
      "metadata": {
        "id": "sTpffdvT1C4m"
      },
      "execution_count": null,
      "outputs": []
    }
  ]
}