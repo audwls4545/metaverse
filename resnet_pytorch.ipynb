{
  "nbformat": 4,
  "nbformat_minor": 0,
  "metadata": {
    "colab": {
      "provenance": [],
      "gpuType": "T4",
      "authorship_tag": "ABX9TyO7U5+fA4asDyVXZCh5Wau2",
      "include_colab_link": true
    },
    "kernelspec": {
      "name": "python3",
      "display_name": "Python 3"
    },
    "language_info": {
      "name": "python"
    },
    "accelerator": "GPU"
  },
  "cells": [
    {
      "cell_type": "markdown",
      "metadata": {
        "id": "view-in-github",
        "colab_type": "text"
      },
      "source": [
        "<a href=\"https://colab.research.google.com/github/audwls4545/metaverse/blob/main/resnet_pytorch.ipynb\" target=\"_parent\"><img src=\"https://colab.research.google.com/assets/colab-badge.svg\" alt=\"Open In Colab\"/></a>"
      ]
    },
    {
      "cell_type": "code",
      "execution_count": 9,
      "metadata": {
        "id": "7cTiGK-YFV2A"
      },
      "outputs": [],
      "source": [
        "import torch\n",
        "import torch.nn as nn"
      ]
    },
    {
      "cell_type": "code",
      "source": [
        "#input -> 저장 -> 합성곱 3*3 -> 배치정규화 -> ReLU -> 합성곱 3*3 -> 배치정규화 -> skip conection -> ReLU\n",
        "\n",
        "class BasicBlock(nn.Module):\n",
        "    def __init__(self, in_channels, out_channels, kernel_sizes = 3):\n",
        "        super(BasicBlock, self).__init__()\n",
        "\n",
        "        self.c1 = nn.Conv2d(in_channels,out_channels, kernel_size=kernel_sizes,padding=1)\n",
        "        self.c2 = nn.Conv2d(out_channels,out_channels, kernel_size=kernel_sizes,padding=1)\n",
        "\n",
        "        self.downsample = nn.Conv2d(in_channels,out_channels,kernel_size=1)\n",
        "\n",
        "        self.bn1 = nn.BatchNorm2d(num_features = out_channels)\n",
        "        self.bn2 = nn.BatchNorm2d(num_features = out_channels)\n",
        "\n",
        "        self.relu = nn.ReLU()\n",
        "\n",
        "    def forward(self, x):\n",
        "        x_ = x\n",
        "\n",
        "        x = self.c1(x)\n",
        "        x = self.bn1(x)\n",
        "        x = self.relu(x)\n",
        "        x = self.c2(x)\n",
        "        x = self.bn2(x)\n",
        "\n",
        "        #skip connection : 아웃풋으로 나온 채널수를 맞춤\n",
        "        x_ = self.downsample(x_)\n",
        "        x += x_\n",
        "        x = self.relu(x)\n",
        "\n",
        "        return x"
      ],
      "metadata": {
        "id": "5itAJ_rOJ2VV"
      },
      "execution_count": 10,
      "outputs": []
    },
    {
      "cell_type": "code",
      "source": [
        "class ResNet(nn.Module):\n",
        "    def __init__(self, num_classes = 10):\n",
        "        super(ResNet, self).__init__()\n",
        "\n",
        "        self.b1 = BasicBlock(in_channels = 3, out_channels = 64)\n",
        "        self.b2 = BasicBlock(in_channels = 64, out_channels = 128)\n",
        "        self.b3 = BasicBlock(in_channels = 128, out_channels = 256)\n",
        "\n",
        "        self.pool = nn.AvgPool2d(kernel_size = 2, stride = 2)\n",
        "\n",
        "        #분류기\n",
        "        self.fc1 = nn.Linear(in_features = 4096, out_features = 2048)\n",
        "        self.fc2 = nn.Linear(in_features = 2048, out_features = 512)\n",
        "        self.fc3 = nn.Linear(in_features = 512, out_features = num_classes)\n",
        "\n",
        "        self.relu = nn.ReLU()\n",
        "\n",
        "    def forward(self, x):\n",
        "        x = self.b1(x)\n",
        "        x = self.pool(x)\n",
        "\n",
        "        x = self.b2(x)\n",
        "        x = self.pool(x)\n",
        "\n",
        "        x = self.b3(x)\n",
        "        x = self.pool(x)\n",
        "\n",
        "        #평탄화\n",
        "        x = torch.flatten(x, start_dim = 1)\n",
        "\n",
        "        x = self.fc1(x)\n",
        "        x = self.relu(x)\n",
        "        x = self.fc2(x)\n",
        "        x = self.relu(x)\n",
        "        x = self.fc3(x)\n",
        "        x = self.relu(x)\n",
        "\n",
        "        return x"
      ],
      "metadata": {
        "id": "c6RFmTL-RS43"
      },
      "execution_count": 11,
      "outputs": []
    },
    {
      "cell_type": "code",
      "source": [
        "from torch.utils.data.dataloader import DataLoader\n",
        "from torch.optim.adam import Adam\n",
        "from torchvision.datasets.cifar import CIFAR10\n",
        "from torchvision.transforms import Compose\n",
        "from torchvision.transforms import RandomCrop, RandomHorizontalFlip,Normalize\n",
        "import torchvision.transforms as T"
      ],
      "metadata": {
        "id": "cBCs1XReWLVr"
      },
      "execution_count": 12,
      "outputs": []
    },
    {
      "cell_type": "code",
      "source": [
        "transforms = Compose([\n",
        "    RandomCrop((32,32),padding=4),\n",
        "    RandomHorizontalFlip(p=0.5),\n",
        "    T.ToTensor(),\n",
        "    Normalize(mean=(0.4914,0.4822,0.4465),std=(0.247,0.243,0.261))\n",
        "])"
      ],
      "metadata": {
        "id": "wSoL7T4EWMgd"
      },
      "execution_count": 13,
      "outputs": []
    },
    {
      "cell_type": "code",
      "source": [
        "train_data = CIFAR10(root='./',train=True,download=True,transform=transforms)\n",
        "test_data = CIFAR10(root='./',train=False,download=True,transform=transforms)\n",
        "\n",
        "train_loader = DataLoader(train_data, batch_size=32, shuffle=True)\n",
        "test_loader = DataLoader(test_data, batch_size=32, shuffle=False)\n",
        "\n",
        "device = 'cuda' if torch.cuda.is_available() else 'cpu'\n",
        "\n",
        "model = ResNet(10)\n",
        "\n",
        "model.to(device)"
      ],
      "metadata": {
        "colab": {
          "base_uri": "https://localhost:8080/"
        },
        "id": "M4oxZNhFWQWV",
        "outputId": "3df6e311-c2c3-4ee9-d0ac-d1e72bad1836"
      },
      "execution_count": 14,
      "outputs": [
        {
          "output_type": "stream",
          "name": "stdout",
          "text": [
            "Files already downloaded and verified\n",
            "Files already downloaded and verified\n"
          ]
        },
        {
          "output_type": "execute_result",
          "data": {
            "text/plain": [
              "ResNet(\n",
              "  (b1): BasicBlock(\n",
              "    (c1): Conv2d(3, 64, kernel_size=(3, 3), stride=(1, 1), padding=(1, 1))\n",
              "    (c2): Conv2d(64, 64, kernel_size=(3, 3), stride=(1, 1), padding=(1, 1))\n",
              "    (downsample): Conv2d(3, 64, kernel_size=(1, 1), stride=(1, 1))\n",
              "    (bn1): BatchNorm2d(64, eps=1e-05, momentum=0.1, affine=True, track_running_stats=True)\n",
              "    (bn2): BatchNorm2d(64, eps=1e-05, momentum=0.1, affine=True, track_running_stats=True)\n",
              "    (relu): ReLU()\n",
              "  )\n",
              "  (b2): BasicBlock(\n",
              "    (c1): Conv2d(64, 128, kernel_size=(3, 3), stride=(1, 1), padding=(1, 1))\n",
              "    (c2): Conv2d(128, 128, kernel_size=(3, 3), stride=(1, 1), padding=(1, 1))\n",
              "    (downsample): Conv2d(64, 128, kernel_size=(1, 1), stride=(1, 1))\n",
              "    (bn1): BatchNorm2d(128, eps=1e-05, momentum=0.1, affine=True, track_running_stats=True)\n",
              "    (bn2): BatchNorm2d(128, eps=1e-05, momentum=0.1, affine=True, track_running_stats=True)\n",
              "    (relu): ReLU()\n",
              "  )\n",
              "  (b3): BasicBlock(\n",
              "    (c1): Conv2d(128, 256, kernel_size=(3, 3), stride=(1, 1), padding=(1, 1))\n",
              "    (c2): Conv2d(256, 256, kernel_size=(3, 3), stride=(1, 1), padding=(1, 1))\n",
              "    (downsample): Conv2d(128, 256, kernel_size=(1, 1), stride=(1, 1))\n",
              "    (bn1): BatchNorm2d(256, eps=1e-05, momentum=0.1, affine=True, track_running_stats=True)\n",
              "    (bn2): BatchNorm2d(256, eps=1e-05, momentum=0.1, affine=True, track_running_stats=True)\n",
              "    (relu): ReLU()\n",
              "  )\n",
              "  (pool): AvgPool2d(kernel_size=2, stride=2, padding=0)\n",
              "  (fc1): Linear(in_features=4096, out_features=2048, bias=True)\n",
              "  (fc2): Linear(in_features=2048, out_features=512, bias=True)\n",
              "  (fc3): Linear(in_features=512, out_features=10, bias=True)\n",
              "  (relu): ReLU()\n",
              ")"
            ]
          },
          "metadata": {},
          "execution_count": 14
        }
      ]
    },
    {
      "cell_type": "code",
      "source": [
        "# SummaryWriter 인스턴스 생성\n",
        "from torch.utils.tensorboard import SummaryWriter\n",
        "writer = SummaryWriter()"
      ],
      "metadata": {
        "id": "MdHAoaiJWXtm"
      },
      "execution_count": 15,
      "outputs": []
    },
    {
      "cell_type": "code",
      "source": [
        "lr = 1e-3\n",
        "\n",
        "optim = Adam(model.parameters(),lr=lr)\n",
        "\n",
        "for epoch in range(100):\n",
        "    for data,label in train_loader:\n",
        "        optim.zero_grad()\n",
        "\n",
        "        preds = model(data.to(device))\n",
        "\n",
        "        loss = nn.CrossEntropyLoss()(preds,label.to(device))\n",
        "        loss.backward()\n",
        "        optim.step()\n",
        "\n",
        "    print(f'epoch : {epoch+1} loss:{loss.item()}')\n",
        "    writer.add_scalar(\"Loss/train\", loss.item(), epoch+1 )"
      ],
      "metadata": {
        "colab": {
          "base_uri": "https://localhost:8080/"
        },
        "id": "TX0S-bK0YU0i",
        "outputId": "3efe3c3e-ff19-4f2a-c3a6-cde0e5289fbf"
      },
      "execution_count": 16,
      "outputs": [
        {
          "output_type": "stream",
          "name": "stdout",
          "text": [
            "epoch : 1 loss:2.3025853633880615\n",
            "epoch : 2 loss:2.3025853633880615\n",
            "epoch : 3 loss:2.3025853633880615\n",
            "epoch : 4 loss:2.3025853633880615\n",
            "epoch : 5 loss:2.3025853633880615\n",
            "epoch : 6 loss:2.3025853633880615\n",
            "epoch : 7 loss:2.3025853633880615\n",
            "epoch : 8 loss:2.3025853633880615\n",
            "epoch : 9 loss:2.3025853633880615\n",
            "epoch : 10 loss:2.3025853633880615\n",
            "epoch : 11 loss:2.3025853633880615\n",
            "epoch : 12 loss:2.3025853633880615\n",
            "epoch : 13 loss:2.3025853633880615\n",
            "epoch : 14 loss:2.3025853633880615\n",
            "epoch : 15 loss:2.3025853633880615\n",
            "epoch : 16 loss:2.3025853633880615\n",
            "epoch : 17 loss:2.3025853633880615\n",
            "epoch : 18 loss:2.3025853633880615\n",
            "epoch : 19 loss:2.3025853633880615\n",
            "epoch : 20 loss:2.3025853633880615\n",
            "epoch : 21 loss:2.3025853633880615\n",
            "epoch : 22 loss:2.3025853633880615\n",
            "epoch : 23 loss:2.3025853633880615\n",
            "epoch : 24 loss:2.3025853633880615\n",
            "epoch : 25 loss:2.3025853633880615\n",
            "epoch : 26 loss:2.3025853633880615\n",
            "epoch : 27 loss:2.3025853633880615\n",
            "epoch : 28 loss:2.3025853633880615\n",
            "epoch : 29 loss:2.3025853633880615\n",
            "epoch : 30 loss:2.3025853633880615\n",
            "epoch : 31 loss:2.3025853633880615\n",
            "epoch : 32 loss:2.3025853633880615\n",
            "epoch : 33 loss:2.3025853633880615\n",
            "epoch : 34 loss:2.3025853633880615\n",
            "epoch : 35 loss:2.3025853633880615\n",
            "epoch : 36 loss:2.3025853633880615\n",
            "epoch : 37 loss:2.3025853633880615\n",
            "epoch : 38 loss:2.3025853633880615\n",
            "epoch : 39 loss:2.3025853633880615\n",
            "epoch : 40 loss:2.3025853633880615\n",
            "epoch : 41 loss:2.3025853633880615\n",
            "epoch : 42 loss:2.3025853633880615\n",
            "epoch : 43 loss:2.3025853633880615\n",
            "epoch : 44 loss:2.3025853633880615\n",
            "epoch : 45 loss:2.3025853633880615\n",
            "epoch : 46 loss:2.3025853633880615\n",
            "epoch : 47 loss:2.3025853633880615\n",
            "epoch : 48 loss:2.3025853633880615\n",
            "epoch : 49 loss:2.3025853633880615\n",
            "epoch : 50 loss:2.3025853633880615\n",
            "epoch : 51 loss:2.3025853633880615\n",
            "epoch : 52 loss:2.3025853633880615\n",
            "epoch : 53 loss:2.3025853633880615\n",
            "epoch : 54 loss:2.3025853633880615\n",
            "epoch : 55 loss:2.3025853633880615\n",
            "epoch : 56 loss:2.3025853633880615\n",
            "epoch : 57 loss:2.3025853633880615\n",
            "epoch : 58 loss:2.3025853633880615\n",
            "epoch : 59 loss:2.3025853633880615\n",
            "epoch : 60 loss:2.3025853633880615\n",
            "epoch : 61 loss:2.3025853633880615\n",
            "epoch : 62 loss:2.3025853633880615\n",
            "epoch : 63 loss:2.3025853633880615\n",
            "epoch : 64 loss:2.3025853633880615\n",
            "epoch : 65 loss:2.3025853633880615\n",
            "epoch : 66 loss:2.3025853633880615\n",
            "epoch : 67 loss:2.3025853633880615\n",
            "epoch : 68 loss:2.3025853633880615\n",
            "epoch : 69 loss:2.3025853633880615\n",
            "epoch : 70 loss:2.3025853633880615\n",
            "epoch : 71 loss:2.3025853633880615\n",
            "epoch : 72 loss:2.3025853633880615\n",
            "epoch : 73 loss:2.3025853633880615\n",
            "epoch : 74 loss:2.3025853633880615\n",
            "epoch : 75 loss:2.3025853633880615\n",
            "epoch : 76 loss:2.3025853633880615\n",
            "epoch : 77 loss:2.3025853633880615\n",
            "epoch : 78 loss:2.3025853633880615\n",
            "epoch : 79 loss:2.3025853633880615\n",
            "epoch : 80 loss:2.3025853633880615\n",
            "epoch : 81 loss:2.3025853633880615\n",
            "epoch : 82 loss:2.3025853633880615\n",
            "epoch : 83 loss:2.3025853633880615\n",
            "epoch : 84 loss:2.3025853633880615\n",
            "epoch : 85 loss:2.3025853633880615\n",
            "epoch : 86 loss:2.3025853633880615\n",
            "epoch : 87 loss:2.3025853633880615\n",
            "epoch : 88 loss:2.3025853633880615\n",
            "epoch : 89 loss:2.3025853633880615\n",
            "epoch : 90 loss:2.3025853633880615\n",
            "epoch : 91 loss:2.3025853633880615\n",
            "epoch : 92 loss:2.3025853633880615\n",
            "epoch : 93 loss:2.3025853633880615\n",
            "epoch : 94 loss:2.3025853633880615\n",
            "epoch : 95 loss:2.3025853633880615\n",
            "epoch : 96 loss:2.3025853633880615\n",
            "epoch : 97 loss:2.3025853633880615\n",
            "epoch : 98 loss:2.3025853633880615\n",
            "epoch : 99 loss:2.3025853633880615\n",
            "epoch : 100 loss:2.3025853633880615\n"
          ]
        }
      ]
    },
    {
      "cell_type": "code",
      "source": [
        "torch.save(model.state_dict(),'cifar-resnet.pth')"
      ],
      "metadata": {
        "id": "QJPip9xvYfRB"
      },
      "execution_count": 17,
      "outputs": []
    },
    {
      "cell_type": "code",
      "source": [
        "num_corr =  0\n",
        "\n",
        "model.eval()\n",
        "with torch.no_grad():\n",
        "    for data,label in test_loader:\n",
        "        pred = model(data.to(device))\n",
        "        preds = pred.data.max(1)[1]\n",
        "        corr = preds.eq(label.to(device).data).sum().item()\n",
        "        num_corr += corr\n",
        "num_corr/len(test_data)"
      ],
      "metadata": {
        "colab": {
          "base_uri": "https://localhost:8080/"
        },
        "id": "8DRXxxT-Ykmk",
        "outputId": "1e08b7ce-6362-46c8-fd25-637190f9526d"
      },
      "execution_count": 18,
      "outputs": [
        {
          "output_type": "execute_result",
          "data": {
            "text/plain": [
              "0.1"
            ]
          },
          "metadata": {},
          "execution_count": 18
        }
      ]
    },
    {
      "cell_type": "code",
      "source": [],
      "metadata": {
        "id": "dACPbMe8aUGo"
      },
      "execution_count": null,
      "outputs": []
    }
  ]
}