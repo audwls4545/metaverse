{
  "nbformat": 4,
  "nbformat_minor": 0,
  "metadata": {
    "colab": {
      "provenance": [],
      "authorship_tag": "ABX9TyNbl9hTnWGo38UzsJuep1Zb",
      "include_colab_link": true
    },
    "kernelspec": {
      "name": "python3",
      "display_name": "Python 3"
    },
    "language_info": {
      "name": "python"
    }
  },
  "cells": [
    {
      "cell_type": "markdown",
      "metadata": {
        "id": "view-in-github",
        "colab_type": "text"
      },
      "source": [
        "<a href=\"https://colab.research.google.com/github/audwls4545/metaverse/blob/main/%EC%84%A0%ED%98%95%ED%9A%8C%EA%B7%80.ipynb\" target=\"_parent\"><img src=\"https://colab.research.google.com/assets/colab-badge.svg\" alt=\"Open In Colab\"/></a>"
      ]
    },
    {
      "cell_type": "code",
      "execution_count": 1,
      "metadata": {
        "colab": {
          "base_uri": "https://localhost:8080/"
        },
        "id": "_puAaZNQtgv0",
        "outputId": "8171d172-deb6-4f90-82dc-aaf091ddb980"
      },
      "outputs": [
        {
          "output_type": "stream",
          "name": "stderr",
          "text": [
            "/usr/local/lib/python3.10/dist-packages/sklearn/datasets/_openml.py:301: UserWarning: Multiple active versions of the dataset matching the name boston exist. Versions may be fundamentally different, returning version 1.\n",
            "  warn(\n",
            "/usr/local/lib/python3.10/dist-packages/sklearn/datasets/_openml.py:968: FutureWarning: The default value of `parser` will change from `'liac-arff'` to `'auto'` in 1.4. You can set `parser='auto'` to silence this warning. Therefore, an `ImportError` will be raised from 1.4 if the dataset is dense and pandas is not installed. Note that the pandas parser may return different data types. See the Notes Section in fetch_openml's API doc for details.\n",
            "  warn(\n"
          ]
        }
      ],
      "source": [
        "from sklearn.datasets import fetch_openml\n",
        "\n",
        "boston_dataset = fetch_openml(name='boston')"
      ]
    },
    {
      "cell_type": "code",
      "source": [
        "boston_dataset"
      ],
      "metadata": {
        "colab": {
          "base_uri": "https://localhost:8080/"
        },
        "id": "118VIyGJuULl",
        "outputId": "f330322f-ecef-4236-de2e-d5bfc0fe350d"
      },
      "execution_count": 2,
      "outputs": [
        {
          "output_type": "execute_result",
          "data": {
            "text/plain": [
              "{'data':         CRIM    ZN  INDUS CHAS    NOX     RM   AGE     DIS RAD    TAX  \\\n",
              " 0    0.00632  18.0   2.31    0  0.538  6.575  65.2  4.0900   1  296.0   \n",
              " 1    0.02731   0.0   7.07    0  0.469  6.421  78.9  4.9671   2  242.0   \n",
              " 2    0.02729   0.0   7.07    0  0.469  7.185  61.1  4.9671   2  242.0   \n",
              " 3    0.03237   0.0   2.18    0  0.458  6.998  45.8  6.0622   3  222.0   \n",
              " 4    0.06905   0.0   2.18    0  0.458  7.147  54.2  6.0622   3  222.0   \n",
              " ..       ...   ...    ...  ...    ...    ...   ...     ...  ..    ...   \n",
              " 501  0.06263   0.0  11.93    0  0.573  6.593  69.1  2.4786   1  273.0   \n",
              " 502  0.04527   0.0  11.93    0  0.573  6.120  76.7  2.2875   1  273.0   \n",
              " 503  0.06076   0.0  11.93    0  0.573  6.976  91.0  2.1675   1  273.0   \n",
              " 504  0.10959   0.0  11.93    0  0.573  6.794  89.3  2.3889   1  273.0   \n",
              " 505  0.04741   0.0  11.93    0  0.573  6.030  80.8  2.5050   1  273.0   \n",
              " \n",
              "      PTRATIO       B  LSTAT  \n",
              " 0       15.3  396.90   4.98  \n",
              " 1       17.8  396.90   9.14  \n",
              " 2       17.8  392.83   4.03  \n",
              " 3       18.7  394.63   2.94  \n",
              " 4       18.7  396.90   5.33  \n",
              " ..       ...     ...    ...  \n",
              " 501     21.0  391.99   9.67  \n",
              " 502     21.0  396.90   9.08  \n",
              " 503     21.0  396.90   5.64  \n",
              " 504     21.0  393.45   6.48  \n",
              " 505     21.0  396.90   7.88  \n",
              " \n",
              " [506 rows x 13 columns],\n",
              " 'target': 0      24.0\n",
              " 1      21.6\n",
              " 2      34.7\n",
              " 3      33.4\n",
              " 4      36.2\n",
              "        ... \n",
              " 501    22.4\n",
              " 502    20.6\n",
              " 503    23.9\n",
              " 504    22.0\n",
              " 505    11.9\n",
              " Name: MEDV, Length: 506, dtype: float64,\n",
              " 'frame':         CRIM    ZN  INDUS CHAS    NOX     RM   AGE     DIS RAD    TAX  \\\n",
              " 0    0.00632  18.0   2.31    0  0.538  6.575  65.2  4.0900   1  296.0   \n",
              " 1    0.02731   0.0   7.07    0  0.469  6.421  78.9  4.9671   2  242.0   \n",
              " 2    0.02729   0.0   7.07    0  0.469  7.185  61.1  4.9671   2  242.0   \n",
              " 3    0.03237   0.0   2.18    0  0.458  6.998  45.8  6.0622   3  222.0   \n",
              " 4    0.06905   0.0   2.18    0  0.458  7.147  54.2  6.0622   3  222.0   \n",
              " ..       ...   ...    ...  ...    ...    ...   ...     ...  ..    ...   \n",
              " 501  0.06263   0.0  11.93    0  0.573  6.593  69.1  2.4786   1  273.0   \n",
              " 502  0.04527   0.0  11.93    0  0.573  6.120  76.7  2.2875   1  273.0   \n",
              " 503  0.06076   0.0  11.93    0  0.573  6.976  91.0  2.1675   1  273.0   \n",
              " 504  0.10959   0.0  11.93    0  0.573  6.794  89.3  2.3889   1  273.0   \n",
              " 505  0.04741   0.0  11.93    0  0.573  6.030  80.8  2.5050   1  273.0   \n",
              " \n",
              "      PTRATIO       B  LSTAT  MEDV  \n",
              " 0       15.3  396.90   4.98  24.0  \n",
              " 1       17.8  396.90   9.14  21.6  \n",
              " 2       17.8  392.83   4.03  34.7  \n",
              " 3       18.7  394.63   2.94  33.4  \n",
              " 4       18.7  396.90   5.33  36.2  \n",
              " ..       ...     ...    ...   ...  \n",
              " 501     21.0  391.99   9.67  22.4  \n",
              " 502     21.0  396.90   9.08  20.6  \n",
              " 503     21.0  396.90   5.64  23.9  \n",
              " 504     21.0  393.45   6.48  22.0  \n",
              " 505     21.0  396.90   7.88  11.9  \n",
              " \n",
              " [506 rows x 14 columns],\n",
              " 'categories': None,\n",
              " 'feature_names': ['CRIM',\n",
              "  'ZN',\n",
              "  'INDUS',\n",
              "  'CHAS',\n",
              "  'NOX',\n",
              "  'RM',\n",
              "  'AGE',\n",
              "  'DIS',\n",
              "  'RAD',\n",
              "  'TAX',\n",
              "  'PTRATIO',\n",
              "  'B',\n",
              "  'LSTAT'],\n",
              " 'target_names': ['MEDV'],\n",
              " 'DESCR': \"**Author**:   \\n**Source**: Unknown - Date unknown  \\n**Please cite**:   \\n\\nThe Boston house-price data of Harrison, D. and Rubinfeld, D.L. 'Hedonic\\nprices and the demand for clean air', J. Environ. Economics & Management,\\nvol.5, 81-102, 1978.   Used in Belsley, Kuh & Welsch, 'Regression diagnostics\\n...', Wiley, 1980.   N.B. Various transformations are used in the table on\\npages 244-261 of the latter.\\nVariables in order:\\nCRIM     per capita crime rate by town\\nZN       proportion of residential land zoned for lots over 25,000 sq.ft.\\nINDUS    proportion of non-retail business acres per town\\nCHAS     Charles River dummy variable (= 1 if tract bounds river; 0 otherwise)\\nNOX      nitric oxides concentration (parts per 10 million)\\nRM       average number of rooms per dwelling\\nAGE      proportion of owner-occupied units built prior to 1940\\nDIS      weighted distances to five Boston employment centres\\nRAD      index of accessibility to radial highways\\nTAX      full-value property-tax rate per $10,000\\nPTRATIO  pupil-teacher ratio by town\\nB        1000(Bk - 0.63)^2 where Bk is the proportion of blacks by town\\nLSTAT    % lower status of the population\\nMEDV     Median value of owner-occupied homes in $1000's\\n\\n\\nInformation about the dataset\\nCLASSTYPE: numeric\\nCLASSINDEX: last\\n\\nDownloaded from openml.org.\",\n",
              " 'details': {'id': '531',\n",
              "  'name': 'boston',\n",
              "  'version': '1',\n",
              "  'description_version': '1',\n",
              "  'format': 'ARFF',\n",
              "  'creator': ['D. and Rubinfeld', \"D.L. 'Hedonic\"],\n",
              "  'collection_date': '1978',\n",
              "  'upload_date': '2014-09-29T00:08:07',\n",
              "  'language': 'English',\n",
              "  'licence': 'Public',\n",
              "  'url': 'https://api.openml.org/data/v1/download/52643/boston.arff',\n",
              "  'parquet_url': 'http://openml1.win.tue.nl/dataset531/dataset_531.pq',\n",
              "  'file_id': '52643',\n",
              "  'default_target_attribute': 'MEDV',\n",
              "  'tag': ['OpenML-Reg19', 'study_130'],\n",
              "  'visibility': 'public',\n",
              "  'minio_url': 'http://openml1.win.tue.nl/dataset531/dataset_531.pq',\n",
              "  'status': 'active',\n",
              "  'processing_date': '2020-11-20 20:16:37',\n",
              "  'md5_checksum': 'cdd361fb886627eaa80c92f90d0610cc'},\n",
              " 'url': 'https://www.openml.org/d/531'}"
            ]
          },
          "metadata": {},
          "execution_count": 2
        }
      ]
    },
    {
      "cell_type": "code",
      "source": [],
      "metadata": {
        "id": "WmB33LmYua8v"
      },
      "execution_count": null,
      "outputs": []
    }
  ]
}