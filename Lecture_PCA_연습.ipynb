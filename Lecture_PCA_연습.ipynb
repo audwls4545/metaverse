{
  "nbformat": 4,
  "nbformat_minor": 0,
  "metadata": {
    "colab": {
      "provenance": [],
      "include_colab_link": true
    },
    "kernelspec": {
      "name": "python3",
      "display_name": "Python 3"
    },
    "language_info": {
      "name": "python"
    }
  },
  "cells": [
    {
      "cell_type": "markdown",
      "metadata": {
        "id": "view-in-github",
        "colab_type": "text"
      },
      "source": [
        "<a href=\"https://colab.research.google.com/github/audwls4545/metaverse/blob/main/Lecture_PCA_%EC%97%B0%EC%8A%B5.ipynb\" target=\"_parent\"><img src=\"https://colab.research.google.com/assets/colab-badge.svg\" alt=\"Open In Colab\"/></a>"
      ]
    },
    {
      "cell_type": "code",
      "execution_count": 1,
      "metadata": {
        "id": "WyevBICf1k59"
      },
      "outputs": [],
      "source": [
        "import numpy as np\n",
        "import pandas as pd\n",
        "import matplotlib.pyplot as plt\n",
        "from sklearn import datasets"
      ]
    },
    {
      "cell_type": "code",
      "source": [
        "app=np.array([8,10,9,7,6,3,2,4,6,2,8,7])\n",
        "per=np.array([1,7,9,5,4,5,1,2,4,5,6,7])"
      ],
      "metadata": {
        "id": "0bt8vE1B2qJI"
      },
      "execution_count": 2,
      "outputs": []
    },
    {
      "cell_type": "code",
      "source": [
        "data=np.array([app,per])\n",
        "data=data.T\n",
        "data"
      ],
      "metadata": {
        "colab": {
          "base_uri": "https://localhost:8080/"
        },
        "id": "kGHbKjtL5H5o",
        "outputId": "7d378a83-9a8b-420c-d50d-71bff4cab34c"
      },
      "execution_count": 3,
      "outputs": [
        {
          "output_type": "execute_result",
          "data": {
            "text/plain": [
              "array([[ 8,  1],\n",
              "       [10,  7],\n",
              "       [ 9,  9],\n",
              "       [ 7,  5],\n",
              "       [ 6,  4],\n",
              "       [ 3,  5],\n",
              "       [ 2,  1],\n",
              "       [ 4,  2],\n",
              "       [ 6,  4],\n",
              "       [ 2,  5],\n",
              "       [ 8,  6],\n",
              "       [ 7,  7]])"
            ]
          },
          "metadata": {},
          "execution_count": 3
        }
      ]
    },
    {
      "cell_type": "code",
      "source": [
        "from sklearn.preprocessing import StandardScaler\n",
        "ss = StandardScaler()\n",
        "data_scaled=ss.fit_transform(data)\n",
        "data_scaled"
      ],
      "metadata": {
        "colab": {
          "base_uri": "https://localhost:8080/"
        },
        "id": "F8KoTO0oSJSG",
        "outputId": "5ffa223c-3b24-40b7-dd5b-4774552e4061"
      },
      "execution_count": 4,
      "outputs": [
        {
          "output_type": "execute_result",
          "data": {
            "text/plain": [
              "array([[ 0.77459667, -1.55563492],\n",
              "       [ 1.54919334,  0.98994949],\n",
              "       [ 1.161895  ,  1.83847763],\n",
              "       [ 0.38729833,  0.14142136],\n",
              "       [ 0.        , -0.28284271],\n",
              "       [-1.161895  ,  0.14142136],\n",
              "       [-1.54919334, -1.55563492],\n",
              "       [-0.77459667, -1.13137085],\n",
              "       [ 0.        , -0.28284271],\n",
              "       [-1.54919334,  0.14142136],\n",
              "       [ 0.77459667,  0.56568542],\n",
              "       [ 0.38729833,  0.98994949]])"
            ]
          },
          "metadata": {},
          "execution_count": 4
        }
      ]
    },
    {
      "cell_type": "code",
      "source": [
        "cov=np.cov(data_scaled.T)\n",
        "cov"
      ],
      "metadata": {
        "colab": {
          "base_uri": "https://localhost:8080/"
        },
        "id": "MYLZdve8SgAR",
        "outputId": "c68b29ec-4fb8-4dc1-80ad-7d15979a1876"
      },
      "execution_count": 5,
      "outputs": [
        {
          "output_type": "execute_result",
          "data": {
            "text/plain": [
              "array([[1.09090909, 0.56763974],\n",
              "       [0.56763974, 1.09090909]])"
            ]
          },
          "metadata": {},
          "execution_count": 5
        }
      ]
    },
    {
      "cell_type": "code",
      "source": [
        "eig_value, eig_vector=np.linalg.eig(cov) # 큰 값을 사용하니 1번 -> 1.6585 값을 사용\n",
        "eig_value"
      ],
      "metadata": {
        "colab": {
          "base_uri": "https://localhost:8080/"
        },
        "id": "b4iwqvahS5FR",
        "outputId": "f0313b1c-1a87-4589-862f-4226c3348266"
      },
      "execution_count": 6,
      "outputs": [
        {
          "output_type": "execute_result",
          "data": {
            "text/plain": [
              "array([0.52326935, 1.65854883])"
            ]
          },
          "metadata": {},
          "execution_count": 6
        }
      ]
    },
    {
      "cell_type": "code",
      "source": [
        "eig_value[1]/(eig_value[0]+eig_value[1]) #차원 축소(압축)를 했을때 데이터가 76퍼 보존된다."
      ],
      "metadata": {
        "colab": {
          "base_uri": "https://localhost:8080/"
        },
        "id": "qA3K0uvWX_DK",
        "outputId": "549b3165-95d2-49d7-f287-94e12835006a"
      },
      "execution_count": 7,
      "outputs": [
        {
          "output_type": "execute_result",
          "data": {
            "text/plain": [
              "0.7601682148149539"
            ]
          },
          "metadata": {},
          "execution_count": 7
        }
      ]
    },
    {
      "cell_type": "code",
      "source": [
        "eig_value[1]"
      ],
      "metadata": {
        "colab": {
          "base_uri": "https://localhost:8080/"
        },
        "id": "5dsLMqUoVwGC",
        "outputId": "49fa6ba0-dd92-4c1c-9bfe-daac8fa09dbd"
      },
      "execution_count": 8,
      "outputs": [
        {
          "output_type": "execute_result",
          "data": {
            "text/plain": [
              "1.658548832323536"
            ]
          },
          "metadata": {},
          "execution_count": 8
        }
      ]
    },
    {
      "cell_type": "code",
      "source": [
        "eig_vector # 0행 벡터 , 1행 벡터"
      ],
      "metadata": {
        "colab": {
          "base_uri": "https://localhost:8080/"
        },
        "id": "4K3xLMmMS-w0",
        "outputId": "2790b066-4fb1-4565-b0b2-246a3155b6b2"
      },
      "execution_count": 9,
      "outputs": [
        {
          "output_type": "execute_result",
          "data": {
            "text/plain": [
              "array([[-0.70710678, -0.70710678],\n",
              "       [ 0.70710678, -0.70710678]])"
            ]
          },
          "metadata": {},
          "execution_count": 9
        }
      ]
    },
    {
      "cell_type": "code",
      "source": [
        "eig_vector[1] #value 큰 값만 사용하니 벡터도 1행을 사용"
      ],
      "metadata": {
        "colab": {
          "base_uri": "https://localhost:8080/"
        },
        "id": "cFla_OPVTlnA",
        "outputId": "c694960e-1d08-4d58-9b5f-f05ba9413670"
      },
      "execution_count": 11,
      "outputs": [
        {
          "output_type": "execute_result",
          "data": {
            "text/plain": [
              "array([ 0.70710678, -0.70710678])"
            ]
          },
          "metadata": {},
          "execution_count": 11
        }
      ]
    },
    {
      "cell_type": "code",
      "source": [
        "favor=data_scaled.dot(eig_vector[1]) # 벡터의 내적을 구하면 차원이 축소됨\n",
        "favor"
      ],
      "metadata": {
        "colab": {
          "base_uri": "https://localhost:8080/"
        },
        "id": "GSDHmXjhTa4E",
        "outputId": "e8a637c4-42ca-466c-b94a-21fed522b0dc"
      },
      "execution_count": 12,
      "outputs": [
        {
          "output_type": "execute_result",
          "data": {
            "text/plain": [
              "array([ 1.64772256,  0.39544512, -0.47841616,  0.17386128,  0.2       ,\n",
              "       -0.92158384,  0.00455488,  0.25227744,  0.2       , -1.19544512,\n",
              "        0.14772256, -0.42613872])"
            ]
          },
          "metadata": {},
          "execution_count": 12
        }
      ]
    },
    {
      "cell_type": "code",
      "source": [
        "data"
      ],
      "metadata": {
        "colab": {
          "base_uri": "https://localhost:8080/"
        },
        "id": "YtzUo4lZf-vo",
        "outputId": "562ac96c-9542-4e47-c095-b27028a6106c"
      },
      "execution_count": null,
      "outputs": [
        {
          "output_type": "execute_result",
          "data": {
            "text/plain": [
              "array([[ 8,  1],\n",
              "       [10,  7],\n",
              "       [ 9,  9],\n",
              "       [ 7,  5],\n",
              "       [ 6,  4],\n",
              "       [ 3,  5],\n",
              "       [ 2,  1],\n",
              "       [ 4,  2],\n",
              "       [ 6,  4],\n",
              "       [ 2,  5],\n",
              "       [ 8,  6],\n",
              "       [ 7,  7]])"
            ]
          },
          "metadata": {},
          "execution_count": 117
        }
      ]
    },
    {
      "cell_type": "code",
      "source": [
        "John=np.array([3,9])\n",
        "Tom=np.array([5,2])"
      ],
      "metadata": {
        "id": "rtp2b_ZqTq2n"
      },
      "execution_count": null,
      "outputs": []
    },
    {
      "cell_type": "code",
      "source": [
        "John.reshape(-1,1)"
      ],
      "metadata": {
        "colab": {
          "base_uri": "https://localhost:8080/"
        },
        "id": "XbbuaSs3UWle",
        "outputId": "71698868-d4ec-4700-e884-81f8aa507a9a"
      },
      "execution_count": null,
      "outputs": [
        {
          "output_type": "execute_result",
          "data": {
            "text/plain": [
              "array([[3],\n",
              "       [9]])"
            ]
          },
          "metadata": {},
          "execution_count": 13
        }
      ]
    },
    {
      "cell_type": "code",
      "source": [
        "John_scaled=(John-np.mean(data))/np.std(data)\n",
        "John_scaled"
      ],
      "metadata": {
        "colab": {
          "base_uri": "https://localhost:8080/"
        },
        "id": "gw_FnoZbT6dg",
        "outputId": "c694fd17-dca3-4c45-bfb9-998d0f1f5a1a"
      },
      "execution_count": null,
      "outputs": [
        {
          "output_type": "execute_result",
          "data": {
            "text/plain": [
              "array([-0.91132238,  1.43207802])"
            ]
          },
          "metadata": {},
          "execution_count": 14
        }
      ]
    },
    {
      "cell_type": "code",
      "source": [
        "John_favor=John_scaled.dot(eig_vector[1].T)\n",
        "John_favor"
      ],
      "metadata": {
        "colab": {
          "base_uri": "https://localhost:8080/"
        },
        "id": "8YRPgZJZTsxj",
        "outputId": "61096f96-d60d-4a96-e276-3f4fe58d594e"
      },
      "execution_count": null,
      "outputs": [
        {
          "output_type": "execute_result",
          "data": {
            "text/plain": [
              "-1.657034312216982"
            ]
          },
          "metadata": {},
          "execution_count": 15
        }
      ]
    },
    {
      "cell_type": "code",
      "source": [
        "Tom_scaled=(Tom-np.mean(data))/np.std(data)\n",
        "Tom_scaled"
      ],
      "metadata": {
        "colab": {
          "base_uri": "https://localhost:8080/"
        },
        "id": "CmMDIsXXUybQ",
        "outputId": "efd44ea3-4c0f-446d-a0ad-43a2bb025694"
      },
      "execution_count": null,
      "outputs": [
        {
          "output_type": "execute_result",
          "data": {
            "text/plain": [
              "array([-0.13018891, -1.30188911])"
            ]
          },
          "metadata": {},
          "execution_count": 16
        }
      ]
    },
    {
      "cell_type": "code",
      "source": [
        "Tom_favor=Tom_scaled.dot(eig_vector[1].T)\n",
        "Tom_favor"
      ],
      "metadata": {
        "colab": {
          "base_uri": "https://localhost:8080/"
        },
        "id": "IuP899VnU24M",
        "outputId": "a8cf7da0-6b01-45ca-e69a-458ff1b6ad7f"
      },
      "execution_count": null,
      "outputs": [
        {
          "output_type": "execute_result",
          "data": {
            "text/plain": [
              "0.8285171561084912"
            ]
          },
          "metadata": {},
          "execution_count": 17
        }
      ]
    },
    {
      "cell_type": "code",
      "source": [],
      "metadata": {
        "id": "EOiAzb2hbTUH"
      },
      "execution_count": null,
      "outputs": []
    }
  ]
}